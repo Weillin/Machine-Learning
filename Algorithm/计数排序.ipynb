{
 "cells": [
  {
   "cell_type": "code",
   "execution_count": 1,
   "metadata": {},
   "outputs": [
    {
     "name": "stdout",
     "output_type": "stream",
     "text": [
      "[1, 2, 3, 3, 3, 4, 4, 5, 6, 7, 7, 7, 8, 8]\n"
     ]
    }
   ],
   "source": [
    "def count_sort(arr):\n",
    "    min_num = min(arr)\n",
    "    max_num = max(arr)\n",
    "    count_list = [0] * (max_num - min_num + 1)  # 计数列表\n",
    "\n",
    "    for i in arr:\n",
    "        count_list[i - min_num] += 1  # 计数\n",
    "    arr.clear()\n",
    "\n",
    "    for index, i in enumerate(count_list):  # 填回\n",
    "        while i != 0:\n",
    "            arr.append(index + min_num)\n",
    "            i -= 1\n",
    "    return arr\n",
    "\n",
    "\n",
    "arr = [5, 7, 4, 4, 7, 3, 7, 3, 6, 8, 3, 8, 2, 1]\n",
    "print(count_sort(arr))"
   ]
  }
 ],
 "metadata": {
  "kernelspec": {
   "display_name": "Conda-python3",
   "language": "python",
   "name": "conda-python3"
  },
  "language_info": {
   "codemirror_mode": {
    "name": "ipython",
    "version": 3
   },
   "file_extension": ".py",
   "mimetype": "text/x-python",
   "name": "python",
   "nbconvert_exporter": "python",
   "pygments_lexer": "ipython3",
   "version": "3.6.4"
  }
 },
 "nbformat": 4,
 "nbformat_minor": 4
}
