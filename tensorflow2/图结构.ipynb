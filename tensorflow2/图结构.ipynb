{
 "cells": [
  {
   "cell_type": "markdown",
   "metadata": {},
   "source": [
    "# 默认图（不指定图结构）"
   ]
  },
  {
   "cell_type": "code",
   "execution_count": 1,
   "metadata": {},
   "outputs": [
    {
     "name": "stdout",
     "output_type": "stream",
     "text": [
      "tensorflow: 2.4.0\n",
      "张量c1: Tensor(\"c1:0\", shape=(), dtype=int32)\n",
      "张量c2: Tensor(\"Const:0\", shape=(), dtype=int32)\n",
      "张量c1所在的图： <tensorflow.python.framework.ops.Graph object at 0x000001941AFEBF10>\n",
      "张量c2所在的图： <tensorflow.python.framework.ops.Graph object at 0x000001941AFEBF10>\n",
      "g1图： <tensorflow.python.framework.ops.Graph object at 0x000001941AFEBF10>\n"
     ]
    }
   ],
   "source": [
    "import tensorflow as tf\n",
    "\n",
    "def create_graph():\n",
    "    g1 = tf.Graph()\n",
    "    with g1.as_default():\n",
    "        c1 = tf.constant(10, name='c1')\n",
    "        c2 = tf.constant(20)\n",
    "        print('张量c1: {}'.format(c1))\n",
    "        print('张量c2: {}'.format(c2))\n",
    "        print('张量c1所在的图： {}'.format(c1.graph))\n",
    "        print('张量c2所在的图： {}'.format(c2.graph))\n",
    "        print('g1图： {}'.format(g1))\n",
    "        \n",
    "if __name__ == '__main__':\n",
    "    print('tensorflow: {}'.format(tf.__version__))\n",
    "    create_graph()"
   ]
  },
  {
   "cell_type": "markdown",
   "metadata": {},
   "source": [
    "# 新建图"
   ]
  },
  {
   "cell_type": "code",
   "execution_count": 2,
   "metadata": {},
   "outputs": [
    {
     "name": "stdout",
     "output_type": "stream",
     "text": [
      "tensorflow: 2.4.0\n",
      "张量c1: Tensor(\"c1:0\", shape=(), dtype=int32)\n",
      "张量c2: Tensor(\"Const:0\", shape=(), dtype=int32)\n",
      "张量c1所在的图： <tensorflow.python.framework.ops.Graph object at 0x000001941BA6BA00>\n",
      "张量c2所在的图： <tensorflow.python.framework.ops.Graph object at 0x000001941BA6BA00>\n",
      "g1图： <tensorflow.python.framework.ops.Graph object at 0x000001941BA6BA00>\n",
      "张量c1: Tensor(\"c1:0\", shape=(), dtype=int32)\n",
      "张量c2: Tensor(\"c2:0\", shape=(), dtype=int32)\n",
      "张量c1所在的图： <tensorflow.python.framework.ops.Graph object at 0x000001941BA6BCD0>\n",
      "张量c2所在的图： <tensorflow.python.framework.ops.Graph object at 0x000001941BA6BCD0>\n",
      "g2图： <tensorflow.python.framework.ops.Graph object at 0x000001941BA6BCD0>\n"
     ]
    }
   ],
   "source": [
    "import tensorflow as tf\n",
    "\n",
    "def create_graph_1():\n",
    "    g1 = tf.Graph()\n",
    "    with g1.as_default():\n",
    "        c1 = tf.constant(10, name='c1')\n",
    "        c2 = tf.constant(20)\n",
    "        print('张量c1: {}'.format(c1))\n",
    "        print('张量c2: {}'.format(c2))\n",
    "        print('张量c1所在的图： {}'.format(c1.graph))\n",
    "        print('张量c2所在的图： {}'.format(c2.graph))\n",
    "        print('g1图： {}'.format(g1))\n",
    "        \n",
    "def create_graph_2():\n",
    "    g2 = tf.Graph()\n",
    "    with g2.as_default():\n",
    "        c1 = tf.constant(10, name='c1')\n",
    "        c2 = tf.constant(20, name='c2')\n",
    "        print('张量c1: {}'.format(c1))\n",
    "        print('张量c2: {}'.format(c2))\n",
    "        print('张量c1所在的图： {}'.format(c1.graph))\n",
    "        print('张量c2所在的图： {}'.format(c2.graph))\n",
    "        print('g2图： {}'.format(g2))\n",
    "        \n",
    "if __name__ == '__main__':\n",
    "    print('tensorflow: {}'.format(tf.__version__))\n",
    "    create_graph_1()\n",
    "    create_graph_2()"
   ]
  },
  {
   "cell_type": "markdown",
   "metadata": {},
   "source": [
    "# 张量"
   ]
  },
  {
   "cell_type": "code",
   "execution_count": 4,
   "metadata": {},
   "outputs": [
    {
     "name": "stdout",
     "output_type": "stream",
     "text": [
      "tf.Tensor([1 2], shape=(2,), dtype=int32)\n",
      "tf.Tensor([1 3], shape=(2,), dtype=int32)\n"
     ]
    }
   ],
   "source": [
    "import tensorflow as tf\n",
    "\n",
    "c1 = tf.constant([1, 2], name='c1')\n",
    "c2 = tf.constant([1, 3], name='v1')\n",
    "print(c1)\n",
    "print(c2)"
   ]
  },
  {
   "cell_type": "markdown",
   "metadata": {},
   "source": [
    "# 在图中使用张量"
   ]
  },
  {
   "cell_type": "code",
   "execution_count": 6,
   "metadata": {},
   "outputs": [
    {
     "name": "stdout",
     "output_type": "stream",
     "text": [
      "tensorflow: 2.4.0\n",
      "图张量c1： Tensor(\"c1:0\", shape=(2, 1), dtype=int32)\n",
      "图张量v1： <tf.Variable 'v1:0' shape=(2, 1) dtype=int32>\n",
      "图常量张量和矩阵的计算结果：Tensor(\"mat_res_c:0\", shape=(2, 2), dtype=int32)\n",
      "图变量张量和矩阵的计算结果：Tensor(\"mat_res_v:0\", shape=(2, 2), dtype=int32)\n",
      "Session计算张量：[[1 2]\n",
      " [2 4]]\n",
      "图获取张量c1：Tensor(\"c1:0\", shape=(2, 1), dtype=int32)\n",
      "图获取张量v1：Tensor(\"v1:0\", shape=(), dtype=resource)\n",
      "图获取常量张量：Tensor(\"mat_res_c:0\", shape=(2, 2), dtype=int32)\n",
      "图获取变量张量：Tensor(\"mat_res_v:0\", shape=(2, 2), dtype=int32)\n"
     ]
    }
   ],
   "source": [
    "import tensorflow as tf\n",
    "\n",
    "def tensor_in_graph():\n",
    "    g1 = tf.Graph()\n",
    "    with g1.as_default():\n",
    "        c1 = tf.constant([[1], [2]], name='c1')\n",
    "        c2 = tf.constant([[1, 2]], name='c2')\n",
    "        v1 = tf.Variable([[1], [2]], name='v1')\n",
    "        v2 = tf.Variable([[1, 2]], name='v2')\n",
    "        mat_res_c = tf.matmul(c1, c2, name='mat_res_c')\n",
    "        mat_res_v = tf.matmul(v1, v2, name='mat_res_v')\n",
    "        sess = tf.compat.v1.Session()\n",
    "        res = sess.run(mat_res_c)\n",
    "        return g1, c1, v1, mat_res_c, mat_res_v, res\n",
    "    \n",
    "if __name__ == '__main__':\n",
    "    print('tensorflow: {}'.format(tf.__version__))\n",
    "    g1, c1, v1, mat_res_c, mat_res_v, res = tensor_in_graph()\n",
    "    print('图张量c1： {}'.format(c1))\n",
    "    print('图张量v1： {}'.format(v1))\n",
    "    print('图常量张量和矩阵的计算结果：{}'.format(mat_res_c))\n",
    "    print('图变量张量和矩阵的计算结果：{}'.format(mat_res_v))\n",
    "    print('Session计算张量：{}'.format(res))\n",
    "    print('图获取张量c1：{}'.format(g1.get_tensor_by_name('c1:0')))\n",
    "    print('图获取张量v1：{}'.format(g1.get_tensor_by_name('v1:0')))\n",
    "    print('图获取常量张量：{}'.format(g1.get_tensor_by_name('mat_res_c:0')))\n",
    "    print('图获取变量张量：{}'.format(g1.get_tensor_by_name('mat_res_v:0')))"
   ]
  },
  {
   "cell_type": "markdown",
   "metadata": {},
   "source": [
    "# 在Eager execution中使用张量"
   ]
  },
  {
   "cell_type": "code",
   "execution_count": null,
   "metadata": {},
   "outputs": [],
   "source": [
    "import tensorflow as tf\n",
    "\n",
    "def tensor_eager():\n",
    "    c1 = tf.constant([[1], [2]], name='c1')\n",
    "    c2 = tf.constant([[1, 2]], name='c2')\n",
    "    v1 = tf.Variable([[1], [2]], name='v1')\n",
    "    v2 = tf.Variable([[1, 2]], name='v2')\n",
    "    mat_res_c = tf.matmul(c1, c2, name)"
   ]
  }
 ],
 "metadata": {
  "kernelspec": {
   "display_name": "Python 3",
   "language": "python",
   "name": "python3"
  },
  "language_info": {
   "codemirror_mode": {
    "name": "ipython",
    "version": 3
   },
   "file_extension": ".py",
   "mimetype": "text/x-python",
   "name": "python",
   "nbconvert_exporter": "python",
   "pygments_lexer": "ipython3",
   "version": "3.8.5"
  }
 },
 "nbformat": 4,
 "nbformat_minor": 4
}
