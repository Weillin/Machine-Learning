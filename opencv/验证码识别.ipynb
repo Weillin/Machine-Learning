{
 "cells": [
  {
   "cell_type": "code",
   "execution_count": null,
   "id": "0a04cace",
   "metadata": {},
   "outputs": [],
   "source": [
    "## 1. 运行代码之前要先下载一个Tesseract-OCR程序，并将其添加到系统环境变量当中\n",
    "\n",
    "## 2. 导入依赖包\n",
    "import cv2 as cv\n",
    "import numpy as np\n",
    "from PIL import Image\n",
    "import pytesseract as tess\n",
    "\n",
    "\n",
    "## 3. 将图片进行预处理\n",
    "def recognize_text():\n",
    "    gray = cv.cvtColor(src, cv.COLOR_BGR2GRAY)\n",
    "    # ret, binary = cv.threshold(gray,0,255,cv.THRESH_BINARY_INV | cv.THRESH_OTSU)\n",
    "    ret, open_out = cv.threshold(gray,0,255,cv.THRESH_BINARY_INV | cv.THRESH_OTSU)\n",
    "    # kernel = cv.getStructuringElement(cv.MORPH_RECT, (1, 2))\n",
    "    # bin1 = cv.morphologyEx(binary, cv.MORPH_OPEN, kernel)\n",
    "    # kernel = cv.getStructuringElement(cv.MORPH_RECT, (2, 1))\n",
    "    # open_out = cv.morphologyEx(bin1, cv.MORPH_OPEN, kernel)\n",
    "    cv.imshow('binary-image', open_out)\n",
    "\n",
    "    cv.bitwise_not(open_out, open_out)\n",
    "    textImage = Image.fromarray(open_out)\n",
    "    text = tess.image_to_string(textImage)\n",
    "    print('识别结果: ', text)\n",
    "\n",
    "\n",
    "## 4. 读取图片并进行预测\n",
    "src = cv.imread('./test.png')  # blue, green, red\n",
    "cv.namedWindow('input image', cv.WINDOW_AUTOSIZE)\n",
    "cv.imshow('input image', src)\n",
    "recognize_text()\n",
    "cv.waitKey(0)\n",
    "\n",
    "cv.destroyAllWindows()"
   ]
  }
 ],
 "metadata": {
  "kernelspec": {
   "display_name": "Python 3",
   "language": "python",
   "name": "python3"
  },
  "language_info": {
   "codemirror_mode": {
    "name": "ipython",
    "version": 3
   },
   "file_extension": ".py",
   "mimetype": "text/x-python",
   "name": "python",
   "nbconvert_exporter": "python",
   "pygments_lexer": "ipython3",
   "version": "3.8.8"
  }
 },
 "nbformat": 4,
 "nbformat_minor": 5
}
