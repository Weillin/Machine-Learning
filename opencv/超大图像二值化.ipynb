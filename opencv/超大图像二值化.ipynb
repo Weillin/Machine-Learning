{
 "cells": [
  {
   "cell_type": "code",
   "execution_count": 1,
   "id": "aec268d6",
   "metadata": {},
   "outputs": [
    {
     "name": "stdout",
     "output_type": "stream",
     "text": [
      "(478, 640, 3)\n",
      "70.05020981652059 201.96383666992188\n",
      "56.84134368543296 213.09585571289062\n",
      "3.5233920193800876 231.781494140625\n",
      "13.359751346675784 221.94937711148648\n",
      "15.994661158580191 218.35362119932432\n",
      "4.4725945624485774 222.9907446509009\n"
     ]
    }
   ],
   "source": [
    "import cv2 as cv\n",
    "import numpy as np\n",
    "from matplotlib import pyplot as plt\n",
    "\n",
    "\n",
    "def big_image_binary(image):\n",
    "    print(image.shape)\n",
    "    cw = 256\n",
    "    ch = 256\n",
    "    h, w = image.shape[:2]\n",
    "    gray = cv.cvtColor(image, cv.COLOR_BGR2GRAY)\n",
    "    for row in range(0, h, ch):\n",
    "        for col in range(0, w, cw):\n",
    "            roi = gray[row:row+ch, col:col+cw]\n",
    "            print(np.std(roi), np.mean(roi))\n",
    "            dev = np.std(roi)\n",
    "            if dev < 15:\n",
    "                gray[row:row+ch, col:col+cw] = 255\n",
    "            else:\n",
    "                ret,dst=cv.threshold(roi,0,255,cv.THRESH_BINARY | cv.THRESH_OTSU)\n",
    "                gray[row:row+ch, col:col+cw] = dst\n",
    "    cv.imwrite('./result_binary.png', gray)\n",
    "\n",
    "src = cv.imread('../../data/test.jpg')  # blue, green, red\n",
    "# cv.namedWindow('input image', cv.WINDOW_AUTOSIZE)\n",
    "# cv.imshow('input image', src)\n",
    "big_image_binary(src)\n",
    "cv.waitKey(0)\n",
    "\n",
    "cv.destroyAllWindows()"
   ]
  }
 ],
 "metadata": {
  "kernelspec": {
   "display_name": "Python 3",
   "language": "python",
   "name": "python3"
  },
  "language_info": {
   "codemirror_mode": {
    "name": "ipython",
    "version": 3
   },
   "file_extension": ".py",
   "mimetype": "text/x-python",
   "name": "python",
   "nbconvert_exporter": "python",
   "pygments_lexer": "ipython3",
   "version": "3.8.8"
  }
 },
 "nbformat": 4,
 "nbformat_minor": 5
}
