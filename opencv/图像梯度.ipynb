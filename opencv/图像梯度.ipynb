{
 "cells": [
  {
   "cell_type": "code",
   "execution_count": 1,
   "id": "77f207f2",
   "metadata": {},
   "outputs": [],
   "source": [
    "import cv2 as cv\n",
    "import numpy as np\n",
    "from matplotlib import pyplot as plt\n",
    "\n",
    "\n",
    "def lapalian_demo(image):\n",
    "    # dst = cv.Laplacian(image, cv.CV_32F)\n",
    "    # lpls = cv.convertScaleAbs(dst)\n",
    "    kernel = np.array([[1, 1, 1], [1, -8, 1], [1, 1, 1]])\n",
    "    dst = cv.filter2D(image, cv.CV_32F, kernel=kernel)\n",
    "    lpls = cv.convertScaleAbs(dst)\n",
    "    cv.imshow('lapalian_demo', lpls)\n",
    "\n",
    "def sobel_demo(image):\n",
    "    grad_x = cv.Scharr(image, cv.CV_32F, 1, 0)\n",
    "    grad_y = cv.Scharr(image, cv.CV_32F, 0, 1)\n",
    "    gradx = cv.convertScaleAbs(grad_x)\n",
    "    grady = cv.convertScaleAbs(grad_y)\n",
    "    cv.imshow('gradient-x', gradx)\n",
    "    cv.imshow('gradient-y', grady)\n",
    "\n",
    "    gradxy = cv.addWeighted(gradx, 0.5, grady, 0.5, 0)\n",
    "    cv.imshow('gradient', gradxy)\n",
    "\n",
    "\n",
    "src = cv.imread('../../data/test.jpg')  # blue, green, red\n",
    "cv.namedWindow('input image', cv.WINDOW_AUTOSIZE)\n",
    "cv.imshow('input image', src)\n",
    "# sobel_demo(src)\n",
    "lapalian_demo(src)\n",
    "cv.waitKey(0)\n",
    "\n",
    "cv.destroyAllWindows()"
   ]
  }
 ],
 "metadata": {
  "kernelspec": {
   "display_name": "Python 3",
   "language": "python",
   "name": "python3"
  },
  "language_info": {
   "codemirror_mode": {
    "name": "ipython",
    "version": 3
   },
   "file_extension": ".py",
   "mimetype": "text/x-python",
   "name": "python",
   "nbconvert_exporter": "python",
   "pygments_lexer": "ipython3",
   "version": "3.8.8"
  }
 },
 "nbformat": 4,
 "nbformat_minor": 5
}
