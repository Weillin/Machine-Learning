{
 "cells": [
  {
   "cell_type": "code",
   "execution_count": null,
   "id": "4fa2da5c",
   "metadata": {},
   "outputs": [],
   "source": [
    "import cv2 as cv\n",
    "import numpy as np\n",
    "\n",
    "\n",
    "def extrace_object_demo():\n",
    "    capture = cv.VideoCapture('../../data/test.mp4')\n",
    "    while True:\n",
    "        ret, frname = capture.read()\n",
    "        if ret == False:\n",
    "            break\n",
    "        hsv = cv.cvtColor(frname, cv.COLOR_BGR2HSV)\n",
    "        lower_hsv = np.array([0, 0, 0])\n",
    "        upper_hsv = np.array([180, 255, 46])\n",
    "        mask = cv.inRange(hsv, lowerb=lower_hsv, upperb=upper_hsv)\n",
    "        dst = cv.bitwise_and(frname, frname, mask=mask)\n",
    "        cv.imshow('video', frname)\n",
    "        cv.imshow('mask', dst)\n",
    "        c = cv.waitKey(40)\n",
    "        if c == 27:\n",
    "            break\n",
    "\n",
    "\n",
    "def color_space_demo(image):\n",
    "    gray = cv.cvtColor(image, cv.COLOR_BGR2GRAY)\n",
    "    cv.imshow('gray', gray)\n",
    "    hsv = cv.cvtColor(image, cv.COLOR_BGR2HSV)\n",
    "    cv.imshow('hsv', hsv)\n",
    "    yuv = cv.cvtColor(image, cv.COLOR_BGR2YUV)\n",
    "    cv.imshow('yuv', yuv)\n",
    "    Ycrcb = cv.cvtColor(image, cv.COLOR_BGR2YCrCb)\n",
    "    cv.imshow('ycrcb', Ycrcb)\n",
    "\n",
    "\n",
    "src = cv.imread('../../data/test.jpg')  # blue, green, red\n",
    "cv.namedWindow('input image', cv.WINDOW_AUTOSIZE)\n",
    "cv.imshow('input image', src)\n",
    "# color_space_demo(src)\n",
    "extrace_object_demo()\n",
    "# b, g, r = cv.split(src)\n",
    "# cv.imshow('blue', b)\n",
    "# cv.imshow('green', g)\n",
    "# cv.imshow('red', r)\n",
    "# src = cv.merge([b, g, r])\n",
    "# src[:, :, 0] = 0\n",
    "# cv.imshow('changed image', src)\n",
    "\n",
    "cv.waitKey(0)\n",
    "\n",
    "cv.destroyAllWindows()"
   ]
  }
 ],
 "metadata": {
  "kernelspec": {
   "display_name": "Python 3",
   "language": "python",
   "name": "python3"
  },
  "language_info": {
   "codemirror_mode": {
    "name": "ipython",
    "version": 3
   },
   "file_extension": ".py",
   "mimetype": "text/x-python",
   "name": "python",
   "nbconvert_exporter": "python",
   "pygments_lexer": "ipython3",
   "version": "3.8.8"
  }
 },
 "nbformat": 4,
 "nbformat_minor": 5
}
