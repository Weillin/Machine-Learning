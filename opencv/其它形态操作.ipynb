{
 "cells": [
  {
   "cell_type": "code",
   "execution_count": 1,
   "id": "d7ba3026",
   "metadata": {},
   "outputs": [],
   "source": [
    "import cv2 as cv\n",
    "import numpy as np\n",
    "\n",
    "\n",
    "def hat_gray_demo(image):\n",
    "    gray = cv.cvtColor(image, cv.COLOR_BGR2GRAY)\n",
    "    kernel = cv.getStructuringElement(cv.MORPH_RECT, (15, 15))\n",
    "    dst = cv.morphologyEx(gray, cv.MORPH_TOPHAT, kernel)\n",
    "    cimage = np.array(gray.shape, np.uint8)\n",
    "    cimage = 100\n",
    "    dst = cv.add(dst, cimage)\n",
    "    cv.imshow('tophat', dst)\n",
    "\n",
    "def hat_binary_demo(image):\n",
    "    gray = cv.cvtColor(image, cv.COLOR_BGR2GRAY)\n",
    "    ret, binary = cv.threshold(gray, 0, 255, cv.THRESH_BINARY | cv.THRESH_OTSU)\n",
    "    kernel = cv.getStructuringElement(cv.MORPH_RECT, (15, 15))\n",
    "    dst = cv.morphologyEx(binary, cv.MORPH_BLACKHAT, kernel)\n",
    "    cv.imshow('tophat', dst)\n",
    "\n",
    "def gradient_demo(image):\n",
    "    gray = cv.cvtColor(image, cv.COLOR_BGR2GRAY)\n",
    "    ret, binary = cv.threshold(gray, 0, 255, cv.THRESH_BINARY | cv.THRESH_OTSU)\n",
    "    kernel = cv.getStructuringElement(cv.MORPH_RECT, (3, 3))\n",
    "    dst = cv.morphologyEx(binary, cv.MORPH_GRADIENT, kernel)\n",
    "    cv.imshow('tophat', dst)\n",
    "\n",
    "def gradient2_demo(image):\n",
    "    kernel = cv.getStructuringElement(cv.MORPH_RECT, (3, 3))\n",
    "    dm = cv.dilate(image, kernel)\n",
    "    em = cv.erode(image, kernel)\n",
    "    dst1 = cv.subtract(image, em)\n",
    "    dst2 = cv.subtract(dm, image)\n",
    "    cv.imshow('internal', dst1)\n",
    "    cv.imshow('external', dst2)\n",
    "\n",
    "\n",
    "src = cv.imread('../../data/test.jpg')  # blue, green, red\n",
    "cv.namedWindow('input image', cv.WINDOW_AUTOSIZE)\n",
    "cv.imshow('input image', src)\n",
    "gradient2_demo(src)\n",
    "cv.waitKey(0)\n",
    "\n",
    "cv.destroyAllWindows()"
   ]
  }
 ],
 "metadata": {
  "kernelspec": {
   "display_name": "Python 3",
   "language": "python",
   "name": "python3"
  },
  "language_info": {
   "codemirror_mode": {
    "name": "ipython",
    "version": 3
   },
   "file_extension": ".py",
   "mimetype": "text/x-python",
   "name": "python",
   "nbconvert_exporter": "python",
   "pygments_lexer": "ipython3",
   "version": "3.8.8"
  }
 },
 "nbformat": 4,
 "nbformat_minor": 5
}
