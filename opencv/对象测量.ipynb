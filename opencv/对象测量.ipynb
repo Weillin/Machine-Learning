{
 "cells": [
  {
   "cell_type": "code",
   "execution_count": 1,
   "id": "b03895f6",
   "metadata": {},
   "outputs": [
    {
     "name": "stdout",
     "output_type": "stream",
     "text": [
      "threshold value: 134.0\n",
      "rectangle rate: 0.746875\n",
      "<class 'dict'>\n",
      "contour area: {} 304803.0\n",
      "(4, 1, 2)\n"
     ]
    },
    {
     "name": "stderr",
     "output_type": "stream",
     "text": [
      "<ipython-input-1-103625dfa8ef>:23: DeprecationWarning: `np.int` is a deprecated alias for the builtin `int`. To silence this warning, use `int` by itself. Doing this will not modify any behavior and is safe. When replacing `np.int`, you may wish to use e.g. `np.int64` or `np.int32` to specify the precision. If you wish to review your current use, check the release note link for additional information.\n",
      "Deprecated in NumPy 1.20; for more details and guidance: https://numpy.org/devdocs/release/1.20.0-notes.html#deprecations\n",
      "  cv.circle(dst, (np.int(cx), np.int(cy)), 3, (0, 255, 255), -1)\n"
     ]
    }
   ],
   "source": [
    "import cv2 as cv\n",
    "import numpy as np\n",
    "\n",
    "\n",
    "def measure_object(image):\n",
    "    gray = cv.cvtColor(image, cv.COLOR_BGR2GRAY)\n",
    "    ret, binary = cv.threshold(gray, 0, 255, cv.THRESH_BINARY | cv.THRESH_OTSU)\n",
    "    # ret,binary=cv.threshold(gray,0,255,cv.THRESH_BINARY_INV | cv.THRESH_OTSU)\n",
    "    print('threshold value: {}'.format(ret))\n",
    "    cv.imshow('binary image', binary)\n",
    "    dst = cv.cvtColor(binary,cv.COLOR_GRAY2BGR)\n",
    "    contours, hireachy = cv.findContours(binary, cv.RETR_EXTERNAL,\n",
    "                                         cv.CHAIN_APPROX_SIMPLE)\n",
    "    for i, contour in enumerate(contours):\n",
    "        area = cv.contourArea(contour)\n",
    "        x, y, w, h = cv.boundingRect(contour)\n",
    "        rate = min(w, h) / max(w, h)\n",
    "        print('rectangle rate: {}'.format(rate))\n",
    "        mm = cv.moments(contour)\n",
    "        print(type(mm))\n",
    "        cx = mm['m10'] / mm['m00']\n",
    "        cy = mm['m01'] / mm['m00']\n",
    "        cv.circle(dst, (np.int(cx), np.int(cy)), 3, (0, 255, 255), -1)\n",
    "        # cv.rectangle(image, (x,y), (x+w, y+h), (0, 0,255), 2)\n",
    "        print('contour area: {}', area)\n",
    "        appprocCurve = cv.approxPolyDP(contour, 4, True)\n",
    "        print(appprocCurve.shape)\n",
    "        if appprocCurve.shape[0] > 6:\n",
    "            cv.drawContours(dst, contours, i, (0, 255, 0), 2)\n",
    "        if appprocCurve.shape[0] == 4:\n",
    "            cv.drawContours(dst, contours, i, (0, 0, 255), 2)\n",
    "        if appprocCurve.shape[0] == 3:\n",
    "            cv.drawContours(dst, contours, i, (255, 0, 0), 2)\n",
    "    cv.imshow('measure-contours', dst)\n",
    "\n",
    "\n",
    "src = cv.imread('../../data/test.jpg')  # blue, green, red\n",
    "cv.namedWindow('input image', cv.WINDOW_AUTOSIZE)\n",
    "cv.imshow('input image', src)\n",
    "measure_object(src)\n",
    "cv.waitKey(0)\n",
    "\n",
    "cv.destroyAllWindows()"
   ]
  }
 ],
 "metadata": {
  "kernelspec": {
   "display_name": "Python 3",
   "language": "python",
   "name": "python3"
  },
  "language_info": {
   "codemirror_mode": {
    "name": "ipython",
    "version": 3
   },
   "file_extension": ".py",
   "mimetype": "text/x-python",
   "name": "python",
   "nbconvert_exporter": "python",
   "pygments_lexer": "ipython3",
   "version": "3.8.8"
  }
 },
 "nbformat": 4,
 "nbformat_minor": 5
}
