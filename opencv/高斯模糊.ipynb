{
 "cells": [
  {
   "cell_type": "code",
   "execution_count": 1,
   "id": "e732a187",
   "metadata": {},
   "outputs": [
    {
     "name": "stdout",
     "output_type": "stream",
     "text": [
      "time count: 2755.0615000000003\n"
     ]
    }
   ],
   "source": [
    "import cv2 as cv\n",
    "import numpy as np\n",
    "\n",
    "\n",
    "def clamp(pv):\n",
    "    if pv > 255:\n",
    "        return 255\n",
    "    if pv < 0:\n",
    "        return 0\n",
    "    else:\n",
    "        return pv\n",
    "\n",
    "\n",
    "def gaussian_noise(image):\n",
    "    h, w, c = image.shape\n",
    "    for row in range(h):\n",
    "        for col in range(w):\n",
    "            s = np.random.normal(0, 20, 3)\n",
    "            b = image[row, col, 0]  # blue\n",
    "            g = image[row, col, 1]  # green\n",
    "            r = image[row, col, 2]  # red\n",
    "            image[row, col, 0] = clamp(b + s[0])\n",
    "            image[row, col, 1] = clamp(g + s[1])\n",
    "            image[row, col, 2] = clamp(r + s[2])\n",
    "    cv.imshow('noise image', image)\n",
    "\n",
    "\n",
    "src = cv.imread('../../data/test.jpg')  # blue, green, red\n",
    "cv.namedWindow('input image', cv.WINDOW_AUTOSIZE)\n",
    "cv.imshow('input image', src)\n",
    "t1 = cv.getTickCount()\n",
    "gaussian_noise(src)\n",
    "t2 = cv.getTickCount()\n",
    "time = (t2 - t1) / cv.getTickFrequency()\n",
    "print('time count: {}'.format(time * 1000))\n",
    "dst = cv.GaussianBlur(src, (5, 5), 0)\n",
    "cv.imshow('Gaussian Blur', dst)\n",
    "cv.waitKey(0)\n",
    "\n",
    "cv.destroyAllWindows()"
   ]
  }
 ],
 "metadata": {
  "kernelspec": {
   "display_name": "Python 3",
   "language": "python",
   "name": "python3"
  },
  "language_info": {
   "codemirror_mode": {
    "name": "ipython",
    "version": 3
   },
   "file_extension": ".py",
   "mimetype": "text/x-python",
   "name": "python",
   "nbconvert_exporter": "python",
   "pygments_lexer": "ipython3",
   "version": "3.8.8"
  }
 },
 "nbformat": 4,
 "nbformat_minor": 5
}
