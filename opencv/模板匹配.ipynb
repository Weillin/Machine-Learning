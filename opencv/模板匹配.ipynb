{
 "cells": [
  {
   "cell_type": "code",
   "execution_count": null,
   "id": "113a64d9",
   "metadata": {},
   "outputs": [],
   "source": [
    "import cv2 as cv\n",
    "import numpy as np\n",
    "from matplotlib import pyplot as plt\n",
    "\n",
    "\n",
    "def template_demo():\n",
    "    tpl = cv.imread('./9.png')\n",
    "    target = cv.imread('./8.png')\n",
    "    cv.imshow('templete image', tpl)\n",
    "    cv.imshow('target image', target)\n",
    "    methods = [cv.TM_SQDIFF_NORMED, cv.TM_CCORR_NORMED, cv.TM_CCOEFF_NORMED]\n",
    "    th, tw = tpl.shape[:2]\n",
    "    for md in methods:\n",
    "        print(md)\n",
    "        result = cv.matchTemplate(target, tpl, md)\n",
    "        min_val, max_val, min_col, max_col = cv.minMaxLoc(result)\n",
    "        if md == cv.TM_SQDIFF_NORMED:\n",
    "            tl = min_col\n",
    "        else:\n",
    "            tl = max_col\n",
    "        br = (tl[0] + tw, tl[1] + th)\n",
    "        cv.rectangle(target, tl, br, (0, 0, 255), 2)\n",
    "        # cv.imshow('match-' + np.str(md), target)\n",
    "        cv.imshow('result-' + np.str(md), result)\n",
    "\n",
    "\n",
    "src = cv.imread('./0.png')  # blue, green, red\n",
    "# cv.namedWindow('input image', cv.WINDOW_AUTOSIZE)\n",
    "# cv.imshow('input image', src)\n",
    "template_demo()\n",
    "cv.waitKey(0)\n",
    "\n",
    "cv.destroyAllWindows()"
   ]
  }
 ],
 "metadata": {
  "kernelspec": {
   "display_name": "Python 3",
   "language": "python",
   "name": "python3"
  },
  "language_info": {
   "codemirror_mode": {
    "name": "ipython",
    "version": 3
   },
   "file_extension": ".py",
   "mimetype": "text/x-python",
   "name": "python",
   "nbconvert_exporter": "python",
   "pygments_lexer": "ipython3",
   "version": "3.8.8"
  }
 },
 "nbformat": 4,
 "nbformat_minor": 5
}
