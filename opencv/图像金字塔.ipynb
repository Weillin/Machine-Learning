{
 "cells": [
  {
   "cell_type": "code",
   "execution_count": 1,
   "id": "d7696928",
   "metadata": {},
   "outputs": [],
   "source": [
    "import cv2 as cv\n",
    "import numpy as np\n",
    "from matplotlib import pyplot as plt\n",
    "\n",
    "\n",
    "def pyramid_demo(image):\n",
    "    level = 3\n",
    "    temp = image.copy()\n",
    "    pyramid_images = []\n",
    "    for i in range(level):\n",
    "        dst = cv.pyrDown(temp)\n",
    "        pyramid_images.append(dst)\n",
    "        cv.imshow('pyramid_demo_'+str(i), dst)\n",
    "        temp = dst.copy()\n",
    "    return pyramid_images\n",
    "\n",
    "def lapalian_demo(image):\n",
    "    pyramid_images = pyramid_demo(image)\n",
    "    level = len(pyramid_images)\n",
    "    for i in range(level-1, -1, -1):\n",
    "        if (i-1) < 0:\n",
    "            expand = cv.pyrUp(pyramid_images[i], dstsize=image.shape[:2])\n",
    "            lpls = cv.subtract(image, expand)\n",
    "            cv.imshow('lapalian_demo_' + str(i), lpls)\n",
    "        else:\n",
    "            expand=cv.pyrUp(pyramid_images[i],dstsize=pyramid_images[i-1].shape[:2])\n",
    "            lpls = cv.subtract(pyramid_images[i-1], expand)\n",
    "            cv.imshow('lapalian_demo_'+str(i), lpls)\n",
    "\n",
    "src = cv.imread('../../data/test.jpg')  # blue, green, red\n",
    "# cv.namedWindow('input image', cv.WINDOW_AUTOSIZE)\n",
    "cv.imshow('input image', src)\n",
    "pyramid_demo(src)\n",
    "# lapalian_demo(src)\n",
    "cv.waitKey(0)\n",
    "\n",
    "cv.destroyAllWindows()"
   ]
  }
 ],
 "metadata": {
  "kernelspec": {
   "display_name": "Python 3",
   "language": "python",
   "name": "python3"
  },
  "language_info": {
   "codemirror_mode": {
    "name": "ipython",
    "version": 3
   },
   "file_extension": ".py",
   "mimetype": "text/x-python",
   "name": "python",
   "nbconvert_exporter": "python",
   "pygments_lexer": "ipython3",
   "version": "3.8.8"
  }
 },
 "nbformat": 4,
 "nbformat_minor": 5
}
