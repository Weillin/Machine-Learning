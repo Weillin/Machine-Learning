{
 "cells": [
  {
   "cell_type": "code",
   "execution_count": 1,
   "id": "104534b1",
   "metadata": {},
   "outputs": [
    {
     "name": "stdout",
     "output_type": "stream",
     "text": [
      "(640, 640, 3)\n",
      "(250, 350, 3)\n"
     ]
    }
   ],
   "source": [
    "import cv2 as cv\n",
    "import numpy as np\n",
    "\n",
    "\n",
    "def add_demo(m1, m2):\n",
    "    dst = cv.add(m1, m2)\n",
    "    cv.imshow('add_demo', dst)\n",
    "\n",
    "def subtract_demo(m1, m2):\n",
    "    dst = cv.subtract(m1, m2)\n",
    "    cv.imshow('subtract_demo', dst)\n",
    "\n",
    "def divide_demo(m1, m2):\n",
    "    dst = cv.divide(m1, m2)\n",
    "    cv.imshow('divide_demo', dst)\n",
    "\n",
    "def multiply(m1, m2):\n",
    "    dst = cv.multiply(m1, m2)\n",
    "    cv.imshow('multiply_demo', dst)\n",
    "\n",
    "def logic_demo(m1, m2):\n",
    "    dst = cv.bitwise_and(m1, m2)\n",
    "    dst = cv.bitwise_or(m1, m2)\n",
    "    img = cv.imread('0.png')\n",
    "    dst = cv.bitwise_not(img)\n",
    "    cv.imshow('logic_demo', dst)\n",
    "\n",
    "def contrast_brightness_demo(image, c, b):\n",
    "    h, w, ch = image.shape\n",
    "    blank = np.zeros([h,w, ch], image.dtype)\n",
    "    dst = cv.addWeighted(image, c, blank, 1-c, b)\n",
    "    cv.imshow('con_bri_demo', dst)\n",
    "\n",
    "def others(m1, m2):\n",
    "    M1, dev1 = cv.meanStdDev(m1)\n",
    "    M2, dev2 = cv.meanStdDev(m2)\n",
    "    h, w = m1.shape[:2]\n",
    "    print(M1)\n",
    "    print(M2)\n",
    "    print(dev1)\n",
    "    print(dev2)\n",
    "    img = np.zeros([h, w], np.uint8)\n",
    "    m, dev = cv.meanStdDev(img)\n",
    "    print(m)\n",
    "    print(dev)\n",
    "\n",
    "\n",
    "src1 = cv.imread('../../data/1.jpg')  # blue, green, red\n",
    "src2 = cv.imread('../../data/2.jpg')  # blue, green, red\n",
    "print(src1.shape)\n",
    "print(src2.shape)\n",
    "cv.namedWindow('image1', cv.WINDOW_AUTOSIZE)\n",
    "cv.imshow('image1', src1)\n",
    "cv.imshow('image2', src2)\n",
    "src = cv.imread('0.png')\n",
    "cv.imshow('image2', src)\n",
    "contrast_brightness_demo(src, 1.5, 10)  #图像, 对比度, 亮度\n",
    "# add_demo(src1, src2)\n",
    "# subtract_demo(src1, src2)\n",
    "# subtract_demo(src1, src2)\n",
    "# multiply(src1, src2)\n",
    "# others(src1, src2)\n",
    "# logic_demo(src1, src2)\n",
    "cv.waitKey(0)\n",
    "\n",
    "cv.destroyAllWindows()"
   ]
  }
 ],
 "metadata": {
  "kernelspec": {
   "display_name": "Python 3",
   "language": "python",
   "name": "python3"
  },
  "language_info": {
   "codemirror_mode": {
    "name": "ipython",
    "version": 3
   },
   "file_extension": ".py",
   "mimetype": "text/x-python",
   "name": "python",
   "nbconvert_exporter": "python",
   "pygments_lexer": "ipython3",
   "version": "3.8.8"
  }
 },
 "nbformat": 4,
 "nbformat_minor": 5
}
