{
 "cells": [
  {
   "cell_type": "code",
   "execution_count": 1,
   "id": "cd73e22c",
   "metadata": {},
   "outputs": [
    {
     "data": {
      "text/plain": [
       "tensor([[-3.0644, -1.4016,  1.7121, -0.6949],\n",
       "        [ 2.6581,  1.1985, -4.4769,  3.3631],\n",
       "        [-0.7713,  0.9653,  4.8193, -1.6467]])"
      ]
     },
     "execution_count": 1,
     "metadata": {},
     "output_type": "execute_result"
    }
   ],
   "source": [
    "import torch\n",
    "\n",
    "x, w_xh = torch.normal(0, 1, (3, 1)), torch.normal(0, 1, (1, 4))\n",
    "h, w_hh = torch.normal(0, 1, (3, 4)), torch.normal(0, 1, (4, 4))\n",
    "torch.matmul(x, w_xh) + torch.matmul(h, w_hh)"
   ]
  },
  {
   "cell_type": "code",
   "execution_count": 2,
   "id": "ece9ce78",
   "metadata": {},
   "outputs": [
    {
     "data": {
      "text/plain": [
       "tensor([[-3.0644, -1.4016,  1.7121, -0.6949],\n",
       "        [ 2.6581,  1.1985, -4.4769,  3.3631],\n",
       "        [-0.7713,  0.9653,  4.8193, -1.6467]])"
      ]
     },
     "execution_count": 2,
     "metadata": {},
     "output_type": "execute_result"
    }
   ],
   "source": [
    "torch.matmul(torch.cat((x, h), 1), torch.cat((w_xh, w_hh), 0))"
   ]
  },
  {
   "cell_type": "code",
   "execution_count": null,
   "id": "0e9f4757",
   "metadata": {},
   "outputs": [],
   "source": []
  }
 ],
 "metadata": {
  "kernelspec": {
   "display_name": "Python 3",
   "language": "python",
   "name": "python3"
  },
  "language_info": {
   "codemirror_mode": {
    "name": "ipython",
    "version": 3
   },
   "file_extension": ".py",
   "mimetype": "text/x-python",
   "name": "python",
   "nbconvert_exporter": "python",
   "pygments_lexer": "ipython3",
   "version": "3.8.8"
  }
 },
 "nbformat": 4,
 "nbformat_minor": 5
}
