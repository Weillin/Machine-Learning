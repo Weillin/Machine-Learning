{
 "cells": [
  {
   "cell_type": "code",
   "execution_count": 1,
   "id": "05fda110",
   "metadata": {},
   "outputs": [],
   "source": [
    "import torch\n",
    "from torch import nn\n",
    "from torch.nn import functional as F\n",
    "from torch import optim\n",
    "\n",
    "import torchvision\n",
    "from matplotlib import pyplot as plt"
   ]
  },
  {
   "cell_type": "code",
   "execution_count": 2,
   "id": "3b516741",
   "metadata": {},
   "outputs": [],
   "source": [
    "def plot_curve(data):\n",
    "    fig = plt.figure()\n",
    "    plt.plot(range(len(data)), data, color='blue')\n",
    "    plt.legend(['value'], loc='upper right')\n",
    "    plt.xlabel('step')\n",
    "    plt.ylabel('value')\n",
    "    plt.show()"
   ]
  },
  {
   "cell_type": "code",
   "execution_count": 3,
   "id": "1976fb9a",
   "metadata": {},
   "outputs": [],
   "source": [
    "def plot_image(img, label, name):\n",
    "    fig = plt.figure()\n",
    "    for i in range(6):\n",
    "        plt.subplot(2, 3, i + 1)\n",
    "        plt.tight_layout()\n",
    "        plt.imshow(img[i][0] * 0.3081 + 0.1307, cmap='gray', interpolation='none')\n",
    "        plt.title(\"{}: {}\".format(name, label[i].item()))\n",
    "        plt.xticks([])\n",
    "        plt.yticks([])\n",
    "    plt.show()"
   ]
  },
  {
   "cell_type": "code",
   "execution_count": 4,
   "id": "31a03215",
   "metadata": {},
   "outputs": [],
   "source": [
    "def one_hot(label, depth=10):\n",
    "    out = torch.zeros(label.size(0), depth)\n",
    "    idx = torch.LongTensor(label).view(-1, 1)\n",
    "    out.scatter_(dim=1, index=idx, value=1)\n",
    "    return out"
   ]
  },
  {
   "cell_type": "code",
   "execution_count": 5,
   "id": "b79f0789",
   "metadata": {},
   "outputs": [
    {
     "name": "stderr",
     "output_type": "stream",
     "text": [
      "C:\\Anaconda\\lib\\site-packages\\torchvision\\datasets\\mnist.py:498: UserWarning: The given NumPy array is not writeable, and PyTorch does not support non-writeable tensors. This means you can write to the underlying (supposedly non-writeable) NumPy array using the tensor. You may want to copy the array to protect its data or make it writeable before converting it to a tensor. This type of warning will be suppressed for the rest of this program. (Triggered internally at  ..\\torch\\csrc\\utils\\tensor_numpy.cpp:180.)\n",
      "  return torch.from_numpy(parsed.astype(m[2], copy=False)).view(*s)\n"
     ]
    }
   ],
   "source": [
    "batch_size = 512\n",
    "\n",
    "train_loader = torch.utils.data.DataLoader(\n",
    "    torchvision.datasets.MNIST('mnist_data', train=True, download=True,\n",
    "                               transform=torchvision.transforms.Compose([\n",
    "                                   torchvision.transforms.ToTensor(),\n",
    "                                   torchvision.transforms.Normalize(\n",
    "                                       (0.1307,), (0.3081,))\n",
    "                               ])),\n",
    "    batch_size=batch_size, shuffle=True)\n",
    "\n",
    "test_loader = torch.utils.data.DataLoader(\n",
    "    torchvision.datasets.MNIST('mnist_data/', train=False, download=True,\n",
    "                               transform=torchvision.transforms.Compose([\n",
    "                                   torchvision.transforms.ToTensor(),\n",
    "                                   torchvision.transforms.Normalize(\n",
    "                                       (0.1307,), (0.3081,))\n",
    "                               ])),\n",
    "    batch_size=batch_size, shuffle=False)"
   ]
  },
  {
   "cell_type": "code",
   "execution_count": 6,
   "id": "56e3933a",
   "metadata": {},
   "outputs": [
    {
     "name": "stdout",
     "output_type": "stream",
     "text": [
      "torch.Size([512, 1, 28, 28]) torch.Size([512]) tensor(-0.4242) tensor(2.8215)\n"
     ]
    }
   ],
   "source": [
    "x, y = next(iter(train_loader))\n",
    "print(x.shape, y.shape, x.min(), x.max())"
   ]
  },
  {
   "cell_type": "code",
   "execution_count": 7,
   "id": "0491877e",
   "metadata": {},
   "outputs": [
    {
     "data": {
      "image/png": "[encoded data removed]",
      "text/plain": [
       "<Figure size 432x288 with 6 Axes>"
      ]
     },
     "metadata": {},
     "output_type": "display_data"
    }
   ],
   "source": [
    "plot_image(x, y, 'image sample')"
   ]
  },
  {
   "cell_type": "code",
   "execution_count": 8,
   "id": "dc16c44d",
   "metadata": {},
   "outputs": [],
   "source": [
    "class Net(nn.Module):\n",
    "\n",
    "    def __init__(self):\n",
    "        super(Net, self).__init__()\n",
    "\n",
    "        # xw+b\n",
    "        self.fc1 = nn.Linear(28 * 28, 256)\n",
    "        self.fc2 = nn.Linear(256, 64)\n",
    "        self.fc3 = nn.Linear(64, 10)\n",
    "\n",
    "    def forward(self, x):\n",
    "        # x: [b, 1, 28, 28]\n",
    "        # h1 = relu(xw1+b1)\n",
    "        x = F.relu(self.fc1(x))\n",
    "        # h2 = relu(h1w2+b2)\n",
    "        x = F.relu(self.fc2(x))\n",
    "        # h3 = h2w3+b3\n",
    "        x = self.fc3(x)\n",
    "\n",
    "        return x"
   ]
  },
  {
   "cell_type": "code",
   "execution_count": 9,
   "id": "45b64bff",
   "metadata": {},
   "outputs": [],
   "source": [
    "net = Net()"
   ]
  },
  {
   "cell_type": "code",
   "execution_count": 10,
   "id": "4c51138c",
   "metadata": {},
   "outputs": [],
   "source": [
    "optimizer = optim.SGD(net.parameters(), lr=0.01, momentum=0.9)\n",
    "\n",
    "train_loss = []"
   ]
  },
  {
   "cell_type": "code",
   "execution_count": 11,
   "id": "6eacf1e4",
   "metadata": {},
   "outputs": [
    {
     "name": "stdout",
     "output_type": "stream",
     "text": [
      "0 0 0.13228660821914673\n",
      "0 10 0.10104187577962875\n",
      "0 20 0.0834331065416336\n",
      "0 30 0.075982466340065\n",
      "0 40 0.07028079032897949\n",
      "0 50 0.06532739102840424\n",
      "0 60 0.06318818777799606\n",
      "0 70 0.0591609850525856\n",
      "0 80 0.055250197649002075\n",
      "0 90 0.05316408351063728\n",
      "0 100 0.054241906851530075\n",
      "0 110 0.050314925611019135\n",
      "1 0 0.047592367976903915\n",
      "1 10 0.04628021642565727\n",
      "1 20 0.04733939841389656\n",
      "1 30 0.04695974662899971\n",
      "1 40 0.04369156435132027\n",
      "1 50 0.041837889701128006\n",
      "1 60 0.04349067062139511\n",
      "1 70 0.04220571368932724\n",
      "1 80 0.040206413716077805\n",
      "1 90 0.03899034857749939\n",
      "1 100 0.038752391934394836\n",
      "1 110 0.03758590668439865\n",
      "2 0 0.039271511137485504\n",
      "2 10 0.03912351652979851\n",
      "2 20 0.035014670342206955\n",
      "2 30 0.0369352325797081\n",
      "2 40 0.03723308816552162\n",
      "2 50 0.035397086292505264\n",
      "2 60 0.03406180813908577\n",
      "2 70 0.03299037367105484\n",
      "2 80 0.033822618424892426\n",
      "2 90 0.03364294394850731\n",
      "2 100 0.030570685863494873\n",
      "2 110 0.03487028554081917\n"
     ]
    },
    {
     "data": {
      "image/png": "[encoded data removed]",
      "text/plain": [
       "<Figure size 432x288 with 1 Axes>"
      ]
     },
     "metadata": {
      "needs_background": "light"
     },
     "output_type": "display_data"
    }
   ],
   "source": [
    "for epoch in range(3):\n",
    "\n",
    "    for batch_idx, (x, y) in enumerate(train_loader):\n",
    "\n",
    "        # x: [b, 1, 28, 28], y: [512]\n",
    "        # [b, 1, 28, 28] => [b, 784]\n",
    "        x = x.view(x.size(0), 28 * 28)\n",
    "        # => [b, 10]\n",
    "        out = net(x)\n",
    "        # [b, 10]\n",
    "        y_onehot = one_hot(y)\n",
    "        # loss = mse(out, y_onehot)\n",
    "        loss = F.mse_loss(out, y_onehot)\n",
    "\n",
    "        optimizer.zero_grad()\n",
    "        loss.backward()\n",
    "        # w' = w - lr*grad\n",
    "        optimizer.step()\n",
    "\n",
    "        train_loss.append(loss.item())\n",
    "\n",
    "        if batch_idx % 10 == 0:\n",
    "            print(epoch, batch_idx, loss.item())\n",
    "\n",
    "plot_curve(train_loss)"
   ]
  },
  {
   "cell_type": "code",
   "execution_count": 12,
   "id": "70baaeb3",
   "metadata": {},
   "outputs": [
    {
     "name": "stdout",
     "output_type": "stream",
     "text": [
      "test acc: 0.8909\n"
     ]
    }
   ],
   "source": [
    "total_correct = 0\n",
    "for x, y in test_loader:\n",
    "    x = x.view(x.size(0), 28 * 28)\n",
    "    out = net(x)\n",
    "    # out: [b, 10] => pred: [b]\n",
    "    pred = out.argmax(dim=1)\n",
    "    correct = pred.eq(y).sum().float().item()\n",
    "    total_correct += correct\n",
    "\n",
    "total_num = len(test_loader.dataset)\n",
    "acc = total_correct / total_num\n",
    "print('test acc:', acc)"
   ]
  },
  {
   "cell_type": "code",
   "execution_count": 13,
   "id": "7a1c9ad6",
   "metadata": {},
   "outputs": [
    {
     "data": {
      "image/png": "[encoded data removed]",
      "text/plain": [
       "<Figure size 432x288 with 6 Axes>"
      ]
     },
     "metadata": {},
     "output_type": "display_data"
    }
   ],
   "source": [
    "x, y = next(iter(test_loader))\n",
    "out = net(x.view(x.size(0), 28 * 28))\n",
    "pred = out.argmax(dim=1)\n",
    "plot_image(x, pred, 'test')"
   ]
  },
  {
   "cell_type": "code",
   "execution_count": 14,
   "id": "51d82134",
   "metadata": {},
   "outputs": [],
   "source": [
    "import torch\n",
    "from torch import nn\n",
    "from torch.nn import functional as F\n",
    "from torch import optim\n",
    "import torchvision\n",
    "from matplotlib import pyplot as plt\n",
    "# from utils import plot_image, plot_curve, one_hot"
   ]
  },
  {
   "cell_type": "code",
   "execution_count": 15,
   "id": "a5174ffb",
   "metadata": {},
   "outputs": [],
   "source": [
    "batch_size = 512\n",
    "\n",
    "train_loader = torch.utils.data.DataLoader(\n",
    "    torchvision.datasets.MNIST('mnist_data',\n",
    "                               train=True,\n",
    "                               download=True,\n",
    "                               transform=torchvision.transforms.Compose([\n",
    "                                   torchvision.transforms.ToTensor(),\n",
    "                                   torchvision.transforms.Normalize(\n",
    "                                       (0.1307,), (0.3081,)\n",
    "                                   )\n",
    "                               ])),\n",
    "    batch_size=batch_size, shuffle=True\n",
    ")\n",
    "\n",
    "test_loader = torch.utils.data.DataLoader(\n",
    "    torchvision.datasets.MNIST('mnist_data/',\n",
    "                               train=False,\n",
    "                               download=True,\n",
    "                               transform=torchvision.transforms.Compose([\n",
    "                                   torchvision.transforms.ToTensor(),\n",
    "                                   torchvision.transforms.Normalize(\n",
    "                                       (0.1307,), (0.3081,)\n",
    "                                   )\n",
    "                               ])),\n",
    "    batch_size=batch_size, shuffle=False\n",
    ")"
   ]
  },
  {
   "cell_type": "code",
   "execution_count": 16,
   "id": "209e05b8",
   "metadata": {},
   "outputs": [
    {
     "name": "stdout",
     "output_type": "stream",
     "text": [
      "torch.Size([512, 1, 28, 28]) torch.Size([512]) tensor(-0.4242) tensor(2.8215)\n"
     ]
    }
   ],
   "source": [
    "x, y = next(iter(train_loader))\n",
    "print(x.shape, y.shape, x.min(), x.max())"
   ]
  },
  {
   "cell_type": "code",
   "execution_count": 17,
   "id": "80819ba3",
   "metadata": {},
   "outputs": [
    {
     "data": {
      "image/png": "[encoded data removed]",
      "text/plain": [
       "<Figure size 432x288 with 6 Axes>"
      ]
     },
     "metadata": {},
     "output_type": "display_data"
    }
   ],
   "source": [
    "plot_image(x, y, 'image sample')"
   ]
  },
  {
   "cell_type": "code",
   "execution_count": 18,
   "id": "1ac1fdf5",
   "metadata": {},
   "outputs": [],
   "source": [
    "class Net(nn.Module):\n",
    "\n",
    "    def __init__(self):\n",
    "        super(Net, self).__init__()\n",
    "\n",
    "        self.fc1 = nn.Linear(28 * 28, 256)\n",
    "        self.fc2 = nn.Linear(256, 64)\n",
    "        self.fc3 = nn.Linear(64, 10)\n",
    "\n",
    "    def forward(self, x):\n",
    "        x = F.relu(self.fc1(x))\n",
    "        x = F.relu(self.fc2(x))\n",
    "        x = self.fc3(x)\n",
    "\n",
    "        return x"
   ]
  },
  {
   "cell_type": "code",
   "execution_count": 19,
   "id": "186badb5",
   "metadata": {},
   "outputs": [],
   "source": [
    "net = Net()"
   ]
  },
  {
   "cell_type": "code",
   "execution_count": 20,
   "id": "d3b888fd",
   "metadata": {},
   "outputs": [],
   "source": [
    "optimizer = optim.SGD(net.parameters(), lr=0.01, momentum=0.9)\n",
    "\n",
    "train_loss = []"
   ]
  },
  {
   "cell_type": "code",
   "execution_count": 21,
   "id": "feaedf1e",
   "metadata": {},
   "outputs": [
    {
     "name": "stdout",
     "output_type": "stream",
     "text": [
      "0 0 0.10801881551742554\n",
      "0 10 0.09369133412837982\n",
      "0 20 0.08415411412715912\n",
      "0 30 0.07818319648504257\n",
      "0 40 0.07283611595630646\n",
      "0 50 0.06837918609380722\n",
      "0 60 0.06595614552497864\n",
      "0 70 0.06056924909353256\n",
      "0 80 0.058543313294649124\n",
      "0 90 0.056111253798007965\n",
      "0 100 0.052539341151714325\n",
      "0 110 0.05168282985687256\n",
      "1 0 0.049999482929706573\n",
      "1 10 0.04659206047654152\n",
      "1 20 0.046078603714704514\n",
      "1 30 0.04657141491770744\n",
      "1 40 0.04350840672850609\n",
      "1 50 0.043829046189785004\n",
      "1 60 0.041433122009038925\n",
      "1 70 0.03957288712263107\n",
      "1 80 0.042305778712034225\n",
      "1 90 0.03878533095121384\n",
      "1 100 0.03993149846792221\n",
      "1 110 0.03880121558904648\n",
      "2 0 0.03907236084342003\n",
      "2 10 0.0385420136153698\n",
      "2 20 0.03903255984187126\n",
      "2 30 0.03864467144012451\n",
      "2 40 0.03646867349743843\n",
      "2 50 0.03527485206723213\n",
      "2 60 0.03619829937815666\n",
      "2 70 0.0355069562792778\n",
      "2 80 0.03378644213080406\n",
      "2 90 0.03426127880811691\n",
      "2 100 0.03183062747120857\n",
      "2 110 0.03310117498040199\n"
     ]
    }
   ],
   "source": [
    "for epoch in range(3):\n",
    "\n",
    "    for batch_idx, (x, y) in enumerate(train_loader):\n",
    "        x = x.view(x.size(0), 28 * 28)\n",
    "        out = net(x)\n",
    "        y_onehot = one_hot(y)\n",
    "        loss = F.mse_loss(out, y_onehot)\n",
    "\n",
    "        optimizer.zero_grad()\n",
    "        loss.backward()\n",
    "\n",
    "        optimizer.step()\n",
    "\n",
    "        train_loss.append(loss.item())\n",
    "\n",
    "        if batch_idx % 10 == 0:\n",
    "            print(epoch, batch_idx, loss.item())"
   ]
  },
  {
   "cell_type": "code",
   "execution_count": 22,
   "id": "d3b40db2",
   "metadata": {},
   "outputs": [
    {
     "name": "stdout",
     "output_type": "stream",
     "text": [
      "test acc: 0.8897\n"
     ]
    }
   ],
   "source": [
    "total_correct = 0\n",
    "for x, y in test_loader:\n",
    "    x = x.view(x.size(0), 28 * 28)\n",
    "    out = net(x)\n",
    "\n",
    "    pred = out.argmax(dim=1)\n",
    "    correct = pred.eq(y).sum().float().item()\n",
    "    total_correct += correct\n",
    "\n",
    "total_num = len(test_loader.dataset)\n",
    "acc = total_correct / total_num\n",
    "print('test acc:', acc)"
   ]
  },
  {
   "cell_type": "code",
   "execution_count": 23,
   "id": "1a2301f9",
   "metadata": {},
   "outputs": [
    {
     "data": {
      "image/png": "[encoded data removed]",
      "text/plain": [
       "<Figure size 432x288 with 6 Axes>"
      ]
     },
     "metadata": {},
     "output_type": "display_data"
    }
   ],
   "source": [
    "x, y = next(iter(test_loader))\n",
    "out = net(x.view(x.size(0), 28 * 28))\n",
    "pred = out.argmax(dim=1)\n",
    "plot_image(x, pred, 'test')"
   ]
  }
 ],
 "metadata": {
  "kernelspec": {
   "display_name": "Python 3",
   "language": "python",
   "name": "python3"
  },
  "language_info": {
   "codemirror_mode": {
    "name": "ipython",
    "version": 3
   },
   "file_extension": ".py",
   "mimetype": "text/x-python",
   "name": "python",
   "nbconvert_exporter": "python",
   "pygments_lexer": "ipython3",
   "version": "3.8.8"
  }
 },
 "nbformat": 4,
 "nbformat_minor": 5
}
