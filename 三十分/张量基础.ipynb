{
 "cells": [
  {
   "cell_type": "code",
   "execution_count": 1,
   "id": "51bdd142",
   "metadata": {},
   "outputs": [],
   "source": [
    "import torch\n",
    "import numpy as np"
   ]
  },
  {
   "cell_type": "markdown",
   "id": "9bd362bf",
   "metadata": {},
   "source": [
    "(0,1)均匀分布"
   ]
  },
  {
   "cell_type": "code",
   "execution_count": 2,
   "id": "63a8f0dd",
   "metadata": {},
   "outputs": [
    {
     "data": {
      "text/plain": [
       "tensor([[0.7174, 0.1802, 0.6200, 0.7897],\n",
       "        [0.6101, 0.3694, 0.8741, 0.2504],\n",
       "        [0.2915, 0.0733, 0.3073, 0.1684]])"
      ]
     },
     "execution_count": 2,
     "metadata": {},
     "output_type": "execute_result"
    }
   ],
   "source": [
    "x = torch.rand(3, 4)\n",
    "x"
   ]
  },
  {
   "cell_type": "markdown",
   "id": "e0341d10",
   "metadata": {},
   "source": [
    "正态分布"
   ]
  },
  {
   "cell_type": "code",
   "execution_count": 3,
   "id": "bb95b3ae",
   "metadata": {},
   "outputs": [
    {
     "data": {
      "text/plain": [
       "tensor([[ 0.4003,  0.2035,  0.2578, -0.6048,  0.1328, -0.6389],\n",
       "        [ 1.2306, -0.1284,  0.5551,  1.5884, -1.0401,  1.7474]])"
      ]
     },
     "execution_count": 3,
     "metadata": {},
     "output_type": "execute_result"
    }
   ],
   "source": [
    "x = torch.randn(2, 6)\n",
    "x"
   ]
  },
  {
   "cell_type": "markdown",
   "id": "b8ed8f92",
   "metadata": {},
   "source": [
    "全0数组"
   ]
  },
  {
   "cell_type": "code",
   "execution_count": 4,
   "id": "a66c80aa",
   "metadata": {},
   "outputs": [
    {
     "data": {
      "text/plain": [
       "tensor([[0., 0., 0., 0., 0., 0., 0.],\n",
       "        [0., 0., 0., 0., 0., 0., 0.],\n",
       "        [0., 0., 0., 0., 0., 0., 0.],\n",
       "        [0., 0., 0., 0., 0., 0., 0.]])"
      ]
     },
     "execution_count": 4,
     "metadata": {},
     "output_type": "execute_result"
    }
   ],
   "source": [
    "x = torch.zeros(4, 7)\n",
    "x"
   ]
  },
  {
   "cell_type": "markdown",
   "id": "ef26b7a3",
   "metadata": {},
   "source": [
    "全1数组"
   ]
  },
  {
   "cell_type": "code",
   "execution_count": 5,
   "id": "26b652d6",
   "metadata": {},
   "outputs": [
    {
     "data": {
      "text/plain": [
       "tensor([[[1, 1, 1, 1],\n",
       "         [1, 1, 1, 1],\n",
       "         [1, 1, 1, 1]],\n",
       "\n",
       "        [[1, 1, 1, 1],\n",
       "         [1, 1, 1, 1],\n",
       "         [1, 1, 1, 1]]], dtype=torch.int32)"
      ]
     },
     "execution_count": 5,
     "metadata": {},
     "output_type": "execute_result"
    }
   ],
   "source": [
    "x = torch.ones((2, 3, 4), dtype=torch.int32)\n",
    "x"
   ]
  },
  {
   "cell_type": "markdown",
   "id": "9a16cfe3",
   "metadata": {},
   "source": [
    "查看数据维度"
   ]
  },
  {
   "cell_type": "code",
   "execution_count": 6,
   "id": "adeb9f4d",
   "metadata": {},
   "outputs": [
    {
     "data": {
      "text/plain": [
       "torch.Size([2, 3, 4])"
      ]
     },
     "execution_count": 6,
     "metadata": {},
     "output_type": "execute_result"
    }
   ],
   "source": [
    "x.size()"
   ]
  },
  {
   "cell_type": "code",
   "execution_count": 7,
   "id": "78e4d833",
   "metadata": {},
   "outputs": [
    {
     "data": {
      "text/plain": [
       "torch.Size([2, 3, 4])"
      ]
     },
     "execution_count": 7,
     "metadata": {},
     "output_type": "execute_result"
    }
   ],
   "source": [
    "x.shape"
   ]
  },
  {
   "cell_type": "code",
   "execution_count": 8,
   "id": "935871e5",
   "metadata": {},
   "outputs": [
    {
     "data": {
      "text/plain": [
       "3"
      ]
     },
     "execution_count": 8,
     "metadata": {},
     "output_type": "execute_result"
    }
   ],
   "source": [
    "x.size(1)"
   ]
  },
  {
   "cell_type": "markdown",
   "id": "a4f619ad",
   "metadata": {},
   "source": [
    "通过数组创建张量"
   ]
  },
  {
   "cell_type": "code",
   "execution_count": 9,
   "id": "0d118e43",
   "metadata": {},
   "outputs": [
    {
     "data": {
      "text/plain": [
       "tensor([3., 4., 5.], dtype=torch.float64)"
      ]
     },
     "execution_count": 9,
     "metadata": {},
     "output_type": "execute_result"
    }
   ],
   "source": [
    "x = torch.tensor([3, 4, 5], dtype=torch.float64)\n",
    "x"
   ]
  },
  {
   "cell_type": "code",
   "execution_count": 10,
   "id": "0cc8e9c5",
   "metadata": {},
   "outputs": [
    {
     "data": {
      "text/plain": [
       "'torch.DoubleTensor'"
      ]
     },
     "execution_count": 10,
     "metadata": {},
     "output_type": "execute_result"
    }
   ],
   "source": [
    "x.type()"
   ]
  },
  {
   "cell_type": "markdown",
   "id": "0f3d97f1",
   "metadata": {},
   "source": [
    "数据类型转换"
   ]
  },
  {
   "cell_type": "code",
   "execution_count": 11,
   "id": "0be09b47",
   "metadata": {},
   "outputs": [
    {
     "data": {
      "text/plain": [
       "tensor([3, 4, 5], dtype=torch.int32)"
      ]
     },
     "execution_count": 11,
     "metadata": {},
     "output_type": "execute_result"
    }
   ],
   "source": [
    "x.type(torch.int32)"
   ]
  },
  {
   "cell_type": "markdown",
   "id": "da560c31",
   "metadata": {},
   "source": [
    "tensor和ndarray类型转换"
   ]
  },
  {
   "cell_type": "code",
   "execution_count": 12,
   "id": "852193ac",
   "metadata": {},
   "outputs": [
    {
     "data": {
      "text/plain": [
       "array([[-0.32622684, -1.95070757,  0.66991082],\n",
       "       [ 0.12507687, -0.49362209,  0.36349421]])"
      ]
     },
     "execution_count": 12,
     "metadata": {},
     "output_type": "execute_result"
    }
   ],
   "source": [
    "a = np.random.randn(2, 3)\n",
    "a"
   ]
  },
  {
   "cell_type": "markdown",
   "id": "9e0ef04a",
   "metadata": {},
   "source": [
    "从ndarray转变为tensor"
   ]
  },
  {
   "cell_type": "code",
   "execution_count": 13,
   "id": "b7640ecc",
   "metadata": {},
   "outputs": [
    {
     "data": {
      "text/plain": [
       "tensor([[-0.3262, -1.9507,  0.6699],\n",
       "        [ 0.1251, -0.4936,  0.3635]], dtype=torch.float64)"
      ]
     },
     "execution_count": 13,
     "metadata": {},
     "output_type": "execute_result"
    }
   ],
   "source": [
    "x = torch.from_numpy(a)\n",
    "x"
   ]
  },
  {
   "cell_type": "markdown",
   "id": "469d803d",
   "metadata": {},
   "source": [
    "从tensor转变为ndarray"
   ]
  },
  {
   "cell_type": "code",
   "execution_count": 14,
   "id": "65af9424",
   "metadata": {},
   "outputs": [
    {
     "data": {
      "text/plain": [
       "array([[-0.32622684, -1.95070757,  0.66991082],\n",
       "       [ 0.12507687, -0.49362209,  0.36349421]])"
      ]
     },
     "execution_count": 14,
     "metadata": {},
     "output_type": "execute_result"
    }
   ],
   "source": [
    "x.numpy()"
   ]
  },
  {
   "cell_type": "code",
   "execution_count": 15,
   "id": "b683cd7d",
   "metadata": {},
   "outputs": [
    {
     "data": {
      "text/plain": [
       "tensor([[0.4887, 0.5209, 0.4725],\n",
       "        [0.3517, 0.8992, 0.8990]])"
      ]
     },
     "execution_count": 15,
     "metadata": {},
     "output_type": "execute_result"
    }
   ],
   "source": [
    "x2 = torch.rand(2, 3)\n",
    "x2"
   ]
  },
  {
   "cell_type": "markdown",
   "id": "ba332023",
   "metadata": {},
   "source": [
    "向量相加"
   ]
  },
  {
   "cell_type": "code",
   "execution_count": 16,
   "id": "6f0c6126",
   "metadata": {},
   "outputs": [
    {
     "data": {
      "text/plain": [
       "tensor([[ 0.1625, -1.4298,  1.1425],\n",
       "        [ 0.4768,  0.4056,  1.2625]], dtype=torch.float64)"
      ]
     },
     "execution_count": 16,
     "metadata": {},
     "output_type": "execute_result"
    }
   ],
   "source": [
    "x + x2"
   ]
  },
  {
   "cell_type": "markdown",
   "id": "5d68c787",
   "metadata": {},
   "source": [
    "广播"
   ]
  },
  {
   "cell_type": "code",
   "execution_count": 17,
   "id": "e53e3b88",
   "metadata": {},
   "outputs": [
    {
     "data": {
      "text/plain": [
       "tensor([[6.4887, 6.5209, 6.4725],\n",
       "        [6.3517, 6.8992, 6.8990]])"
      ]
     },
     "execution_count": 17,
     "metadata": {},
     "output_type": "execute_result"
    }
   ],
   "source": [
    "x2 + 6"
   ]
  },
  {
   "cell_type": "markdown",
   "id": "347f946a",
   "metadata": {},
   "source": [
    "原来元素没有改变"
   ]
  },
  {
   "cell_type": "code",
   "execution_count": 18,
   "id": "2982343e",
   "metadata": {},
   "outputs": [
    {
     "data": {
      "text/plain": [
       "tensor([[ 0.1625, -1.4298,  1.1425],\n",
       "        [ 0.4768,  0.4056,  1.2625]], dtype=torch.float64)"
      ]
     },
     "execution_count": 18,
     "metadata": {},
     "output_type": "execute_result"
    }
   ],
   "source": [
    "x.add(x2)"
   ]
  },
  {
   "cell_type": "markdown",
   "id": "f98af3a1",
   "metadata": {},
   "source": [
    "原来元素发生改变"
   ]
  },
  {
   "cell_type": "code",
   "execution_count": 19,
   "id": "5b9b9da8",
   "metadata": {},
   "outputs": [
    {
     "data": {
      "text/plain": [
       "torch.Size([2, 3])"
      ]
     },
     "execution_count": 19,
     "metadata": {},
     "output_type": "execute_result"
    }
   ],
   "source": [
    "x.add_(x2)\n",
    "x.shape"
   ]
  },
  {
   "cell_type": "markdown",
   "id": "44330595",
   "metadata": {},
   "source": [
    "改变张量维度"
   ]
  },
  {
   "cell_type": "code",
   "execution_count": 20,
   "id": "150fd80a",
   "metadata": {},
   "outputs": [
    {
     "data": {
      "text/plain": [
       "tensor([[ 0.1625, -1.4298],\n",
       "        [ 1.1425,  0.4768],\n",
       "        [ 0.4056,  1.2625]], dtype=torch.float64)"
      ]
     },
     "execution_count": 20,
     "metadata": {},
     "output_type": "execute_result"
    }
   ],
   "source": [
    "x.view(3, 2)"
   ]
  },
  {
   "cell_type": "code",
   "execution_count": 21,
   "id": "3c3a8e09",
   "metadata": {},
   "outputs": [
    {
     "data": {
      "text/plain": [
       "tensor([[ 0.1625],\n",
       "        [-1.4298],\n",
       "        [ 1.1425],\n",
       "        [ 0.4768],\n",
       "        [ 0.4056],\n",
       "        [ 1.2625]], dtype=torch.float64)"
      ]
     },
     "execution_count": 21,
     "metadata": {},
     "output_type": "execute_result"
    }
   ],
   "source": [
    "x.view(-1, 1)"
   ]
  },
  {
   "cell_type": "markdown",
   "id": "f63d4636",
   "metadata": {},
   "source": [
    "求平均数"
   ]
  },
  {
   "cell_type": "code",
   "execution_count": 22,
   "id": "857fc5ad",
   "metadata": {},
   "outputs": [
    {
     "data": {
      "text/plain": [
       "tensor(0.3367, dtype=torch.float64)"
      ]
     },
     "execution_count": 22,
     "metadata": {},
     "output_type": "execute_result"
    }
   ],
   "source": [
    "x.mean()"
   ]
  },
  {
   "cell_type": "markdown",
   "id": "3b21683a",
   "metadata": {},
   "source": [
    "求和"
   ]
  },
  {
   "cell_type": "code",
   "execution_count": 23,
   "id": "b98d71be",
   "metadata": {},
   "outputs": [
    {
     "data": {
      "text/plain": [
       "tensor(2.0200, dtype=torch.float64)"
      ]
     },
     "execution_count": 23,
     "metadata": {},
     "output_type": "execute_result"
    }
   ],
   "source": [
    "x = x.sum()\n",
    "x"
   ]
  },
  {
   "cell_type": "markdown",
   "id": "4a9fee5c",
   "metadata": {},
   "source": [
    "返回标量"
   ]
  },
  {
   "cell_type": "code",
   "execution_count": 24,
   "id": "15c0d91f",
   "metadata": {},
   "outputs": [
    {
     "data": {
      "text/plain": [
       "2.01996406414785"
      ]
     },
     "execution_count": 24,
     "metadata": {},
     "output_type": "execute_result"
    }
   ],
   "source": [
    "x.item()"
   ]
  },
  {
   "cell_type": "markdown",
   "id": "829b5cdb",
   "metadata": {},
   "source": [
    "张量的自动微分"
   ]
  },
  {
   "cell_type": "code",
   "execution_count": 25,
   "id": "39c3b600",
   "metadata": {},
   "outputs": [
    {
     "data": {
      "text/plain": [
       "tensor([[1., 1.],\n",
       "        [1., 1.]], requires_grad=True)"
      ]
     },
     "execution_count": 25,
     "metadata": {},
     "output_type": "execute_result"
    }
   ],
   "source": [
    "x = torch.ones(2, 2, requires_grad=True)\n",
    "x"
   ]
  },
  {
   "cell_type": "markdown",
   "id": "b60e0078",
   "metadata": {},
   "source": [
    "是否跟踪张量操作"
   ]
  },
  {
   "cell_type": "code",
   "execution_count": 26,
   "id": "0749ec6a",
   "metadata": {},
   "outputs": [
    {
     "data": {
      "text/plain": [
       "True"
      ]
     },
     "execution_count": 26,
     "metadata": {},
     "output_type": "execute_result"
    }
   ],
   "source": [
    "x.requires_grad"
   ]
  },
  {
   "cell_type": "markdown",
   "id": "f5801336",
   "metadata": {},
   "source": [
    "张量的值"
   ]
  },
  {
   "cell_type": "code",
   "execution_count": 27,
   "id": "f75bfa02",
   "metadata": {},
   "outputs": [
    {
     "data": {
      "text/plain": [
       "tensor([[1., 1.],\n",
       "        [1., 1.]])"
      ]
     },
     "execution_count": 27,
     "metadata": {},
     "output_type": "execute_result"
    }
   ],
   "source": [
    "x.data"
   ]
  },
  {
   "cell_type": "markdown",
   "id": "b9af9b22",
   "metadata": {},
   "source": [
    "张量的梯度"
   ]
  },
  {
   "cell_type": "code",
   "execution_count": 28,
   "id": "92fb2b1e",
   "metadata": {},
   "outputs": [],
   "source": [
    "x.grad"
   ]
  },
  {
   "cell_type": "markdown",
   "id": "bac200e3",
   "metadata": {},
   "source": [
    "是由什么操作得到"
   ]
  },
  {
   "cell_type": "code",
   "execution_count": 29,
   "id": "d7689970",
   "metadata": {},
   "outputs": [],
   "source": [
    "x.grad_fn"
   ]
  },
  {
   "cell_type": "code",
   "execution_count": 30,
   "id": "1071b6eb",
   "metadata": {},
   "outputs": [
    {
     "data": {
      "text/plain": [
       "tensor([[3., 3.],\n",
       "        [3., 3.]], grad_fn=<AddBackward0>)"
      ]
     },
     "execution_count": 30,
     "metadata": {},
     "output_type": "execute_result"
    }
   ],
   "source": [
    "y = x + 2\n",
    "y"
   ]
  },
  {
   "cell_type": "code",
   "execution_count": 31,
   "id": "21ed3691",
   "metadata": {},
   "outputs": [
    {
     "data": {
      "text/plain": [
       "tensor([[17., 17.],\n",
       "        [17., 17.]], grad_fn=<AddBackward0>)"
      ]
     },
     "execution_count": 31,
     "metadata": {},
     "output_type": "execute_result"
    }
   ],
   "source": [
    "y.grad_fn\n",
    "z = y * y + 8\n",
    "z"
   ]
  },
  {
   "cell_type": "code",
   "execution_count": 32,
   "id": "573b5bbc",
   "metadata": {},
   "outputs": [
    {
     "data": {
      "text/plain": [
       "tensor(17., grad_fn=<MeanBackward0>)"
      ]
     },
     "execution_count": 32,
     "metadata": {},
     "output_type": "execute_result"
    }
   ],
   "source": [
    "out = z.mean()\n",
    "out"
   ]
  },
  {
   "cell_type": "markdown",
   "id": "af33ec3e",
   "metadata": {},
   "source": [
    "计算张量的微分"
   ]
  },
  {
   "cell_type": "code",
   "execution_count": 33,
   "id": "7c7cba7e",
   "metadata": {},
   "outputs": [
    {
     "data": {
      "text/plain": [
       "tensor([[1.5000, 1.5000],\n",
       "        [1.5000, 1.5000]])"
      ]
     },
     "execution_count": 33,
     "metadata": {},
     "output_type": "execute_result"
    }
   ],
   "source": [
    "out.backward()\n",
    "x.grad"
   ]
  },
  {
   "cell_type": "code",
   "execution_count": 34,
   "id": "21dad043",
   "metadata": {},
   "outputs": [
    {
     "data": {
      "text/plain": [
       "tensor([[1., 1.],\n",
       "        [1., 1.]])"
      ]
     },
     "execution_count": 34,
     "metadata": {},
     "output_type": "execute_result"
    }
   ],
   "source": [
    "x.data"
   ]
  },
  {
   "cell_type": "markdown",
   "id": "63e02af9",
   "metadata": {},
   "source": [
    "不跟踪梯度"
   ]
  },
  {
   "cell_type": "code",
   "execution_count": 35,
   "id": "dd7e1735",
   "metadata": {},
   "outputs": [
    {
     "name": "stdout",
     "output_type": "stream",
     "text": [
      "False\n"
     ]
    }
   ],
   "source": [
    "with torch.no_grad():\n",
    "    print((x**2).requires_grad)"
   ]
  },
  {
   "cell_type": "markdown",
   "id": "2cc4d4df",
   "metadata": {},
   "source": [
    "跟踪梯度"
   ]
  },
  {
   "cell_type": "code",
   "execution_count": 36,
   "id": "2a912e5a",
   "metadata": {},
   "outputs": [
    {
     "data": {
      "text/plain": [
       "True"
      ]
     },
     "execution_count": 36,
     "metadata": {},
     "output_type": "execute_result"
    }
   ],
   "source": [
    "(x**2).requires_grad"
   ]
  },
  {
   "cell_type": "markdown",
   "id": "5b2a245f",
   "metadata": {},
   "source": [
    "不跟踪梯度（等价于with torch.no_grad():）"
   ]
  },
  {
   "cell_type": "code",
   "execution_count": 37,
   "id": "1bd846fc",
   "metadata": {},
   "outputs": [
    {
     "data": {
      "text/plain": [
       "tensor([[1., 1.],\n",
       "        [1., 1.]])"
      ]
     },
     "execution_count": 37,
     "metadata": {},
     "output_type": "execute_result"
    }
   ],
   "source": [
    "y = x.detach()\n",
    "y"
   ]
  },
  {
   "cell_type": "code",
   "execution_count": 38,
   "id": "48f87a20",
   "metadata": {},
   "outputs": [
    {
     "data": {
      "text/plain": [
       "False"
      ]
     },
     "execution_count": 38,
     "metadata": {},
     "output_type": "execute_result"
    }
   ],
   "source": [
    "y.requires_grad"
   ]
  },
  {
   "cell_type": "markdown",
   "id": "4d8a2b4d",
   "metadata": {},
   "source": [
    "如何将张量修改成跟踪梯度"
   ]
  },
  {
   "cell_type": "code",
   "execution_count": 39,
   "id": "3c3418ca",
   "metadata": {},
   "outputs": [
    {
     "data": {
      "text/plain": [
       "False"
      ]
     },
     "execution_count": 39,
     "metadata": {},
     "output_type": "execute_result"
    }
   ],
   "source": [
    "a = torch.tensor([4, 6], dtype=torch.float32)\n",
    "a.requires_grad"
   ]
  },
  {
   "cell_type": "code",
   "execution_count": 40,
   "id": "65b7090a",
   "metadata": {},
   "outputs": [
    {
     "data": {
      "text/plain": [
       "tensor([4., 6.], requires_grad=True)"
      ]
     },
     "execution_count": 40,
     "metadata": {},
     "output_type": "execute_result"
    }
   ],
   "source": [
    "a.requires_grad_(True)\n",
    "a"
   ]
  }
 ],
 "metadata": {
  "kernelspec": {
   "display_name": "Python 3",
   "language": "python",
   "name": "python3"
  },
  "language_info": {
   "codemirror_mode": {
    "name": "ipython",
    "version": 3
   },
   "file_extension": ".py",
   "mimetype": "text/x-python",
   "name": "python",
   "nbconvert_exporter": "python",
   "pygments_lexer": "ipython3",
   "version": "3.8.8"
  }
 },
 "nbformat": 4,
 "nbformat_minor": 5
}
