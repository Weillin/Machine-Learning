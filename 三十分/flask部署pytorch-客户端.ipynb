{
 "cells": [
  {
   "cell_type": "markdown",
   "id": "09cbbc24",
   "metadata": {},
   "source": [
    "## 1. 导入依赖包"
   ]
  },
  {
   "cell_type": "code",
   "execution_count": 1,
   "id": "f1fb4432",
   "metadata": {},
   "outputs": [],
   "source": [
    "import requests\n",
    "import argparse"
   ]
  },
  {
   "cell_type": "markdown",
   "id": "770a3e1b",
   "metadata": {},
   "source": [
    "## 2. 定义请求URL"
   ]
  },
  {
   "cell_type": "markdown",
   "id": "fbde7a1c",
   "metadata": {},
   "source": [
    "这里用本机URL做例子，实际使用中要改成服务器的IP地址"
   ]
  },
  {
   "cell_type": "code",
   "execution_count": 2,
   "id": "6d803d1f",
   "metadata": {},
   "outputs": [],
   "source": [
    "PyTorch_REST_API_URL = 'http://127.0.0.1:5000/predict'"
   ]
  },
  {
   "cell_type": "markdown",
   "id": "57cf780a",
   "metadata": {},
   "source": [
    "## 3. 发送图片，获取返回结果"
   ]
  },
  {
   "cell_type": "markdown",
   "id": "61e08f9d",
   "metadata": {},
   "source": [
    "首先读取一张本地图片，然后发送给服务器"
   ]
  },
  {
   "cell_type": "code",
   "execution_count": 3,
   "id": "cf5f5b6c",
   "metadata": {},
   "outputs": [],
   "source": [
    "def predict_result(image_path):\n",
    "    image = open(image_path, 'rb').read()\n",
    "    payload = {'image': image}\n",
    "\n",
    "    r = requests.post(PyTorch_REST_API_URL, files=payload).json()\n",
    "\n",
    "    if r['success']:\n",
    "        for (i, result) in enumerate(r['predictions']):\n",
    "            print('{}.{}:{:.4f}'.format(i+1,result['label'],result['probability']))\n",
    "    else:\n",
    "        print('Request failed')"
   ]
  },
  {
   "cell_type": "markdown",
   "id": "d3b57637",
   "metadata": {},
   "source": [
    "## 4. 定义主函数"
   ]
  },
  {
   "cell_type": "code",
   "execution_count": 4,
   "id": "626a8869",
   "metadata": {},
   "outputs": [
    {
     "name": "stderr",
     "output_type": "stream",
     "text": [
      "usage: ipykernel_launcher.py [-h] [--file FILE]\n",
      "ipykernel_launcher.py: error: unrecognized arguments: -f C:\\Users\\qwl\\AppData\\Roaming\\jupyter\\runtime\\kernel-ca4ac4c4-8468-435b-a595-df941f602c25.json\n"
     ]
    },
    {
     "ename": "SystemExit",
     "evalue": "2",
     "output_type": "error",
     "traceback": [
      "An exception has occurred, use %tb to see the full traceback.\n",
      "\u001b[1;31mSystemExit\u001b[0m\u001b[1;31m:\u001b[0m 2\n"
     ]
    },
    {
     "name": "stderr",
     "output_type": "stream",
     "text": [
      "C:\\Anaconda\\lib\\site-packages\\IPython\\core\\interactiveshell.py:3445: UserWarning: To exit: use 'exit', 'quit', or Ctrl-D.\n",
      "  warn(\"To exit: use 'exit', 'quit', or Ctrl-D.\", stacklevel=1)\n"
     ]
    }
   ],
   "source": [
    "if __name__ == '__main__':\n",
    "    parser = argparse.ArgumentParser(description='demo')\n",
    "    parser.add_argument('--file', type=str, help='test')  # 获取终端file=后面的字符串\n",
    "    args = parser.parse_args()\n",
    "    predict_result(args.file)"
   ]
  },
  {
   "cell_type": "markdown",
   "id": "ff5f3786",
   "metadata": {},
   "source": [
    "运行本文件，将要测试的图片路径传入"
   ]
  },
  {
   "cell_type": "markdown",
   "id": "af125027",
   "metadata": {},
   "source": [
    "### python 本文件名.py --file=./data/dog.jpg    #路径不加引号"
   ]
  }
 ],
 "metadata": {
  "kernelspec": {
   "display_name": "Python 3",
   "language": "python",
   "name": "python3"
  },
  "language_info": {
   "codemirror_mode": {
    "name": "ipython",
    "version": 3
   },
   "file_extension": ".py",
   "mimetype": "text/x-python",
   "name": "python",
   "nbconvert_exporter": "python",
   "pygments_lexer": "ipython3",
   "version": "3.8.8"
  }
 },
 "nbformat": 4,
 "nbformat_minor": 5
}
