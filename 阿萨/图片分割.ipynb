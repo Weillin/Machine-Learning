{
 "cells": [
  {
   "cell_type": "markdown",
   "id": "40c488a5",
   "metadata": {},
   "source": [
    "## 1. 导入依赖包"
   ]
  },
  {
   "cell_type": "code",
   "execution_count": 1,
   "id": "d9c38690",
   "metadata": {},
   "outputs": [
    {
     "ename": "ModuleNotFoundError",
     "evalue": "No module named 'tensorflow_examples'",
     "output_type": "error",
     "traceback": [
      "\u001b[1;31m---------------------------------------------------------------------------\u001b[0m",
      "\u001b[1;31mModuleNotFoundError\u001b[0m                       Traceback (most recent call last)",
      "\u001b[1;32m<ipython-input-1-7f783bfcbd15>\u001b[0m in \u001b[0;36m<module>\u001b[1;34m\u001b[0m\n\u001b[0;32m      1\u001b[0m \u001b[1;32mimport\u001b[0m \u001b[0mtensorflow\u001b[0m \u001b[1;32mas\u001b[0m \u001b[0mtf\u001b[0m\u001b[1;33m\u001b[0m\u001b[1;33m\u001b[0m\u001b[0m\n\u001b[1;32m----> 2\u001b[1;33m \u001b[1;32mfrom\u001b[0m \u001b[0mtensorflow_examples\u001b[0m\u001b[1;33m.\u001b[0m\u001b[0mmodels\u001b[0m\u001b[1;33m.\u001b[0m\u001b[0mpix2pix\u001b[0m \u001b[1;32mimport\u001b[0m \u001b[0mpix2pix\u001b[0m\u001b[1;33m\u001b[0m\u001b[1;33m\u001b[0m\u001b[0m\n\u001b[0m\u001b[0;32m      3\u001b[0m \u001b[1;32mimport\u001b[0m \u001b[0mtensorflow_datasets\u001b[0m \u001b[1;32mas\u001b[0m \u001b[0mtfds\u001b[0m\u001b[1;33m\u001b[0m\u001b[1;33m\u001b[0m\u001b[0m\n\u001b[0;32m      4\u001b[0m \u001b[1;32mfrom\u001b[0m \u001b[0mIPython\u001b[0m\u001b[1;33m.\u001b[0m\u001b[0mdisplay\u001b[0m \u001b[1;32mimport\u001b[0m \u001b[0mclear_output\u001b[0m\u001b[1;33m\u001b[0m\u001b[1;33m\u001b[0m\u001b[0m\n\u001b[0;32m      5\u001b[0m \u001b[1;32mimport\u001b[0m \u001b[0mmatplotlib\u001b[0m\u001b[1;33m.\u001b[0m\u001b[0mpyplot\u001b[0m \u001b[1;32mas\u001b[0m \u001b[0mplt\u001b[0m\u001b[1;33m\u001b[0m\u001b[1;33m\u001b[0m\u001b[0m\n",
      "\u001b[1;31mModuleNotFoundError\u001b[0m: No module named 'tensorflow_examples'"
     ]
    }
   ],
   "source": [
    "import tensorflow as tf\n",
    "from tensorflow_examples.models.pix2pix import pix2pix\n",
    "import tensorflow_datasets as tfds\n",
    "from IPython.display import clear_output\n",
    "import matplotlib.pyplot as plt\n",
    "\n",
    "tfds.disable_progress_bar()"
   ]
  },
  {
   "cell_type": "markdown",
   "id": "991ba2dc",
   "metadata": {},
   "source": [
    "## 2. 导入数据集"
   ]
  },
  {
   "cell_type": "code",
   "execution_count": null,
   "id": "a0ef590e",
   "metadata": {},
   "outputs": [],
   "source": [
    "dataset, info = tfds.load('oxford_iiit_pet:3.*.*', with_info=True)\n",
    "\n",
    "\n",
    "def normalize(input_image, input_mask):\n",
    "    input_image = tf.cast(input_image, tf.float32) / 255.0  # 归一化\n",
    "    input_mask -= 1  # 标签减1\n",
    "    return input_image, input_mask\n",
    "\n",
    "\n",
    "@tf.function\n",
    "def load_image_train(datapoint):\n",
    "    input_image = tf.image.resize(datapoint['image'], (128, 128))\n",
    "    input_mask = tf.image.resize(datapoint['segmentation_mask'], [128, 128])\n",
    "\n",
    "    if tf.random.uniform(()) > 0.5:\n",
    "        input_image = tf.image.flip_left_right(input_image)  # 图像左右翻转\n",
    "        input_mask = tf.image.flip_left_right(input_mask)  # 轮廓标注左右翻转\n",
    "\n",
    "    input_image, input_mask = normalize(input_image, input_mask)\n",
    "\n",
    "    return input_image, input_mask\n",
    "\n",
    "\n",
    "def load_image_test(datapoint):\n",
    "    input_image = tf.image.resize(datapoint['image'], (128, 128))\n",
    "    input_mask = tf.image.resize(datapoint['segmentation_mask'], (128, 128))\n",
    "    input_image, input_mask = normalize(input_image, input_mask)\n",
    "\n",
    "    return input_image, input_mask"
   ]
  },
  {
   "cell_type": "markdown",
   "id": "05ad2a5d",
   "metadata": {},
   "source": [
    "## 3. 拆分训练集和测试集"
   ]
  },
  {
   "cell_type": "code",
   "execution_count": null,
   "id": "60cfc2d4",
   "metadata": {},
   "outputs": [],
   "source": [
    "train_length = info.splits['train'].num_examples\n",
    "batch_size = 64\n",
    "buffer_size = 1000\n",
    "steps_per_epoch = train_length // batch_size\n",
    "\n",
    "train = dataset['train'].map(load_image_train,\n",
    "                             num_parallel_calls=tf.data.experimental.AUTOTUNE)\n",
    "test = dataset['test'].map(load_image_test)\n",
    "\n",
    "train_dataset = train.cache().shuffle(buffer_size).batch(batch_size).repeat()\n",
    "train_dataset = train_dataset.prefetch(buffer_size=tf.data.experimental.AUTOTUNE)\n",
    "test_dataset = test.batch(batch_size)"
   ]
  },
  {
   "cell_type": "markdown",
   "id": "461847d4",
   "metadata": {},
   "source": [
    "## 4. 查看原始图片和轮廓标注图片"
   ]
  },
  {
   "cell_type": "code",
   "execution_count": null,
   "id": "37dd9990",
   "metadata": {},
   "outputs": [],
   "source": [
    "def display(display_list):\n",
    "    plt.figure(figsize=(15, 15))\n",
    "    title = ['Input Image', 'True Mask', 'Predicted Mask']\n",
    "\n",
    "    for i in range(len(display_list)):\n",
    "        plt.subplot(1, len(display_list), i + 1)\n",
    "        plt.title(title[i])\n",
    "        plt.imshow(tf.keras.preprocessing.image.array_to_img(display_list[i]))\n",
    "        plt.axis('off')\n",
    "    plt.show()\n",
    "\n",
    "\n",
    "for image, mask in train.take(1):\n",
    "    sample_image, sample_mask = image, mask\n",
    "display([sample_image, sample_mask])"
   ]
  },
  {
   "cell_type": "code",
   "execution_count": null,
   "id": "65eae1d9",
   "metadata": {},
   "outputs": [],
   "source": [
    "output_channels = 3"
   ]
  },
  {
   "cell_type": "markdown",
   "id": "018c5002",
   "metadata": {},
   "source": [
    "## 5. 使用预训练的MobileNetV2作为编码器/下采样器"
   ]
  },
  {
   "cell_type": "code",
   "execution_count": null,
   "id": "c262abdb",
   "metadata": {},
   "outputs": [],
   "source": [
    "base_model = tf.keras.applications.MobileNetV2(input_shape=[128, 128, 3],\n",
    "                                               include_top=False)\n",
    "layer_names = [\n",
    "    'block_1_expand_relu',\n",
    "    'block_3_expand_relu',\n",
    "    'block_6_expand_relu',\n",
    "    'block_13_expand_relu',\n",
    "    'block_16_project'\n",
    "]\n",
    "layers = [base_model.get_layer(name).output for name in layer_names]\n",
    "down_stack = tf.keras.Model(inputs=base_model.input, outputs=layers)\n",
    "down_stack.trainable = False"
   ]
  },
  {
   "cell_type": "markdown",
   "id": "8a087be3",
   "metadata": {},
   "source": [
    "## 6. 使用pix2pix作为解码器/上采样器"
   ]
  },
  {
   "cell_type": "code",
   "execution_count": null,
   "id": "b2840295",
   "metadata": {},
   "outputs": [],
   "source": [
    "up_stack = [\n",
    "    pix2pix.upsample(512, 3),\n",
    "    pix2pix.upsample(256, 3),\n",
    "    pix2pix.upsample(128, 3),\n",
    "    pix2pix.upsample(64, 3)\n",
    "]\n",
    "\n",
    "\n",
    "def unet_model(output_channels):\n",
    "    inputs = tf.keras.Input(shape=[128, 128, 3])\n",
    "    x = inputs\n",
    "\n",
    "    skips = down_stack(x)\n",
    "    x = skips[-1]\n",
    "    skips = reversed(skips[:-1])\n",
    "\n",
    "    for up, skip in zip(up_stack, skips):\n",
    "        x = up(x)\n",
    "        concat = tf.keras.layers.Concatenate()\n",
    "        x = concat([x, skip])\n",
    "\n",
    "    last = tf.keras.layers.Conv2DTranspose(output_channels, 3,\n",
    "                                           strides=2, padding='same')\n",
    "    x = last(x)\n",
    "    return tf.keras.Model(inputs=inputs, outputs=x)"
   ]
  },
  {
   "cell_type": "markdown",
   "id": "ea0a21e2",
   "metadata": {},
   "source": [
    "## 7. 建立模型"
   ]
  },
  {
   "cell_type": "code",
   "execution_count": null,
   "id": "1db98543",
   "metadata": {},
   "outputs": [],
   "source": [
    "model = unet_model(output_channels)\n",
    "model.compile(optimizer='adam',\n",
    "              loss=tf.keras.losses.SparseCategoricalCrossentropy(from_logits=True),\n",
    "              metrics=['accuracy'])"
   ]
  },
  {
   "cell_type": "markdown",
   "id": "afb7c180",
   "metadata": {},
   "source": [
    "## 8. 查看模型结构"
   ]
  },
  {
   "cell_type": "code",
   "execution_count": null,
   "id": "270a1fff",
   "metadata": {},
   "outputs": [],
   "source": [
    "tf.keras.utils.plot_model(model, show_shapes=True)"
   ]
  },
  {
   "cell_type": "markdown",
   "id": "6b5db8c1",
   "metadata": {},
   "source": [
    "## 9. 查看训练前模型的预测结果"
   ]
  },
  {
   "cell_type": "code",
   "execution_count": null,
   "id": "913cb4cc",
   "metadata": {},
   "outputs": [],
   "source": [
    "def create_mask(pred_mask):\n",
    "    pred_mask = tf.argmax(pred_mask, axis=-1)\n",
    "    pred_mask = pred_mask[..., tf.newaxis]\n",
    "    return pred_mask[0]\n",
    "\n",
    "\n",
    "def show_predictions(dataset=None, num=1):\n",
    "    if dataset:\n",
    "        for image, mask in dataset.take(num):\n",
    "            pred_mask = model.predict(image)\n",
    "            display([image[0], mask[0], create_mask(pred_mask)])\n",
    "    else:\n",
    "        display([sample_image, sample_mask,\n",
    "                 create_mask(model.predict(sample_image[tf.newaxis, ...]))])\n",
    "\n",
    "\n",
    "show_predictions()"
   ]
  },
  {
   "cell_type": "markdown",
   "id": "bbba0aab",
   "metadata": {},
   "source": [
    "## 10. 回调函数"
   ]
  },
  {
   "cell_type": "code",
   "execution_count": null,
   "id": "c49a943c",
   "metadata": {},
   "outputs": [],
   "source": [
    "class DisplayCallback(tf.keras.callbacks.Callback):\n",
    "    def on_epoch_end(self, epoch, logs=None):\n",
    "        clear_output(wait=True)\n",
    "        show_predictions()\n",
    "        print('Eepoch {}'.format(epoch + 1))\n",
    "\n",
    "\n",
    "epochs = 20\n",
    "val_subsplits = 5\n",
    "validation_steps = info.splits['test'].num_examples // batch_size // val_subsplits"
   ]
  },
  {
   "cell_type": "markdown",
   "id": "ef367da4",
   "metadata": {},
   "source": [
    "## 11. 训练模型"
   ]
  },
  {
   "cell_type": "code",
   "execution_count": null,
   "id": "ba5dd07b",
   "metadata": {},
   "outputs": [],
   "source": [
    "history = model.fit(train_dataset, epochs=epochs,\n",
    "                    steps_per_epoch=steps_per_epoch,\n",
    "                    validation_steps=validation_steps,\n",
    "                    validation_data=test_dataset,\n",
    "                    callbacks=[DisplayCallback()])"
   ]
  },
  {
   "cell_type": "markdown",
   "id": "9618d19b",
   "metadata": {},
   "source": [
    "## 12. 损失可视化"
   ]
  },
  {
   "cell_type": "code",
   "execution_count": null,
   "id": "a4334159",
   "metadata": {},
   "outputs": [],
   "source": [
    "loss = history.history['loss']\n",
    "val_loss = history.history['val_loss']\n",
    "\n",
    "epochs = history.epoch\n",
    "\n",
    "plt.figure()\n",
    "plt.plot(epochs, loss, 'g', label='loss')\n",
    "plt.plot(epochs, val_loss, 'yo', label='val_loss')\n",
    "plt.title('Loss')\n",
    "plt.xlabel('Epoch')\n",
    "plt.ylabel('Loss')\n",
    "plt.ylim([0, 1])\n",
    "plt.legend()\n",
    "plt.show()"
   ]
  },
  {
   "cell_type": "markdown",
   "id": "e0d0ea2e",
   "metadata": {},
   "source": [
    "## 13. 进行预测"
   ]
  },
  {
   "cell_type": "code",
   "execution_count": null,
   "id": "61f2ded4",
   "metadata": {},
   "outputs": [],
   "source": [
    "show_predictions(test_dataset, 3)"
   ]
  }
 ],
 "metadata": {
  "kernelspec": {
   "display_name": "Python 3",
   "language": "python",
   "name": "python3"
  },
  "language_info": {
   "codemirror_mode": {
    "name": "ipython",
    "version": 3
   },
   "file_extension": ".py",
   "mimetype": "text/x-python",
   "name": "python",
   "nbconvert_exporter": "python",
   "pygments_lexer": "ipython3",
   "version": "3.8.8"
  }
 },
 "nbformat": 4,
 "nbformat_minor": 5
}
