{
 "cells": [
  {
   "cell_type": "markdown",
   "id": "502ed490",
   "metadata": {},
   "source": [
    "## 1.导入需要的包"
   ]
  },
  {
   "cell_type": "code",
   "execution_count": 1,
   "id": "8ab5808a",
   "metadata": {},
   "outputs": [],
   "source": [
    "import numpy as np\n",
    "import pandas as pd\n",
    "import seaborn as sns\n",
    "import matplotlib.pyplot as plt\n",
    "from sklearn.ensemble import RandomForestRegressor, GradientBoostingRegressor\n",
    "from sklearn.linear_model import RidgeCV\n",
    "from sklearn.svm import SVR\n",
    "from mlxtend.regressor import StackingCVRegressor\n",
    "from lightgbm import LGBMRegressor\n",
    "from xgboost import XGBRegressor\n",
    "from scipy.stats import skew, norm\n",
    "from scipy.special import boxcox1p\n",
    "from scipy.stats import boxcox_normmax\n",
    "from sklearn.model_selection import KFold, cross_val_score\n",
    "from sklearn.metrics import mean_squared_error\n",
    "from sklearn.pipeline import make_pipeline\n",
    "from sklearn.preprocessing import RobustScaler\n",
    "import warnings\n",
    "%matplotlib inline"
   ]
  },
  {
   "cell_type": "markdown",
   "id": "e01a1c9d",
   "metadata": {},
   "source": [
    "## 2.忽略无用警告"
   ]
  },
  {
   "cell_type": "code",
   "execution_count": 2,
   "id": "5b410059",
   "metadata": {},
   "outputs": [],
   "source": [
    "pd.set_option('display.max_columns', None)\n",
    "warnings.filterwarnings(action='ignore')\n",
    "pd.options.display.max_seq_items = 8000\n",
    "pd.options.display.max_rows = 8000"
   ]
  },
  {
   "cell_type": "markdown",
   "id": "b0c8ba4d",
   "metadata": {},
   "source": [
    "## 3.导入数据集"
   ]
  },
  {
   "cell_type": "code",
   "execution_count": 3,
   "id": "f8dc8b11",
   "metadata": {},
   "outputs": [],
   "source": [
    "train = pd.read_csv('../../data/house_train.csv')\n",
    "test = pd.read_csv('../../data/house_test.csv')"
   ]
  },
  {
   "cell_type": "markdown",
   "id": "9f298b3a",
   "metadata": {},
   "source": [
    "## 4.数据预处理"
   ]
  },
  {
   "cell_type": "markdown",
   "id": "e4906f03",
   "metadata": {},
   "source": [
    "### 4.1查看价格分布情况并打印偏度和峰度"
   ]
  },
  {
   "cell_type": "code",
   "execution_count": 4,
   "id": "6f8a9121",
   "metadata": {},
   "outputs": [
    {
     "data": {
      "image/png": "[encoded data removed]",
      "text/plain": [
       "<Figure size 576x504 with 1 Axes>"
      ]
     },
     "metadata": {},
     "output_type": "display_data"
    }
   ],
   "source": [
    "sns.set_style('white')\n",
    "sns.set_color_codes(palette='deep')\n",
    "f, ax = plt.subplots(figsize=(8, 7))\n",
    "sns.distplot(train['SalePrice'], color='b')\n",
    "ax.xaxis.grid(False)\n",
    "ax.set(ylabel='Frequency')\n",
    "ax.set(xlabel='SelePrice')\n",
    "ax.set(title='SalePricr distribution')\n",
    "sns.despine(trim=True, left=True)\n",
    "plt.show()"
   ]
  },
  {
   "cell_type": "code",
   "execution_count": 5,
   "id": "d8f115dc",
   "metadata": {},
   "outputs": [
    {
     "name": "stdout",
     "output_type": "stream",
     "text": [
      "Skewness: 1.882876\n",
      "Kurtosis: 6.536282\n"
     ]
    }
   ],
   "source": [
    "print('Skewness: %f' % train['SalePrice'].skew())  # 偏度\n",
    "print('Kurtosis: %f' % train['SalePrice'].kurt())  # 峰度"
   ]
  },
  {
   "cell_type": "markdown",
   "id": "69ff0a13",
   "metadata": {},
   "source": [
    "### 4.2找出数值特征"
   ]
  },
  {
   "cell_type": "code",
   "execution_count": 6,
   "id": "b67edb37",
   "metadata": {},
   "outputs": [],
   "source": [
    "numeric_dtypes = ['int16', 'int32', 'int64', 'float16', 'float32', 'float64']\n",
    "numeric = []\n",
    "for i in train.columns:\n",
    "    if train[i].dtype in numeric_dtypes:\n",
    "        if i in ['TotalSF', 'Total_Bathrooms', 'Total_porch_sf', \n",
    "                 'haspool', 'hasgarage', 'hasbsmt', 'hasfireplace']:\n",
    "            pass\n",
    "        else:\n",
    "            numeric.append(i)"
   ]
  },
  {
   "cell_type": "markdown",
   "id": "f61e5ff6",
   "metadata": {},
   "source": [
    "### 4.3显示数据分布,找出异常值"
   ]
  },
  {
   "cell_type": "code",
   "execution_count": 7,
   "id": "26d0f11d",
   "metadata": {},
   "outputs": [
    {
     "ename": "ValueError",
     "evalue": "Number of rows must be a positive integer, not 0",
     "output_type": "error",
     "traceback": [
      "\u001b[1;31m---------------------------------------------------------------------------\u001b[0m",
      "\u001b[1;31mValueError\u001b[0m                                Traceback (most recent call last)",
      "\u001b[1;32m<ipython-input-7-89cc42bd702c>\u001b[0m in \u001b[0;36m<module>\u001b[1;34m\u001b[0m\n\u001b[1;32m----> 1\u001b[1;33m \u001b[0mfig\u001b[0m\u001b[1;33m,\u001b[0m \u001b[0maxs\u001b[0m \u001b[1;33m=\u001b[0m \u001b[0mplt\u001b[0m\u001b[1;33m.\u001b[0m\u001b[0msubplots\u001b[0m\u001b[1;33m(\u001b[0m\u001b[0mncols\u001b[0m\u001b[1;33m=\u001b[0m\u001b[1;36m2\u001b[0m\u001b[1;33m,\u001b[0m \u001b[0mnrows\u001b[0m\u001b[1;33m=\u001b[0m\u001b[1;36m0\u001b[0m\u001b[1;33m,\u001b[0m \u001b[0mfigsize\u001b[0m\u001b[1;33m=\u001b[0m\u001b[1;33m(\u001b[0m\u001b[1;36m12\u001b[0m\u001b[1;33m,\u001b[0m \u001b[1;36m120\u001b[0m\u001b[1;33m)\u001b[0m\u001b[1;33m)\u001b[0m\u001b[1;33m\u001b[0m\u001b[1;33m\u001b[0m\u001b[0m\n\u001b[0m\u001b[0;32m      2\u001b[0m \u001b[0mplt\u001b[0m\u001b[1;33m.\u001b[0m\u001b[0msubplots_adjust\u001b[0m\u001b[1;33m(\u001b[0m\u001b[0mright\u001b[0m\u001b[1;33m=\u001b[0m\u001b[1;36m2\u001b[0m\u001b[1;33m)\u001b[0m\u001b[1;33m\u001b[0m\u001b[1;33m\u001b[0m\u001b[0m\n\u001b[0;32m      3\u001b[0m \u001b[0mplt\u001b[0m\u001b[1;33m.\u001b[0m\u001b[0msubplots_adjust\u001b[0m\u001b[1;33m(\u001b[0m\u001b[0mtop\u001b[0m\u001b[1;33m=\u001b[0m\u001b[1;36m2\u001b[0m\u001b[1;33m)\u001b[0m\u001b[1;33m\u001b[0m\u001b[1;33m\u001b[0m\u001b[0m\n\u001b[0;32m      4\u001b[0m \u001b[0msns\u001b[0m\u001b[1;33m.\u001b[0m\u001b[0mcolor_palette\u001b[0m\u001b[1;33m(\u001b[0m\u001b[1;34m'husl'\u001b[0m\u001b[1;33m,\u001b[0m \u001b[1;36m8\u001b[0m\u001b[1;33m)\u001b[0m\u001b[1;33m\u001b[0m\u001b[1;33m\u001b[0m\u001b[0m\n\u001b[0;32m      5\u001b[0m \u001b[1;32mfor\u001b[0m \u001b[0mi\u001b[0m\u001b[1;33m,\u001b[0m \u001b[0mfeature\u001b[0m \u001b[1;32min\u001b[0m \u001b[0menumerate\u001b[0m\u001b[1;33m(\u001b[0m\u001b[0mlist\u001b[0m\u001b[1;33m(\u001b[0m\u001b[0mtrain\u001b[0m\u001b[1;33m[\u001b[0m\u001b[0mnumeric\u001b[0m\u001b[1;33m]\u001b[0m\u001b[1;33m)\u001b[0m\u001b[1;33m,\u001b[0m \u001b[1;36m1\u001b[0m\u001b[1;33m)\u001b[0m\u001b[1;33m:\u001b[0m\u001b[1;33m\u001b[0m\u001b[1;33m\u001b[0m\u001b[0m\n",
      "\u001b[1;32mC:\\Anaconda\\lib\\site-packages\\matplotlib\\cbook\\deprecation.py\u001b[0m in \u001b[0;36mwrapper\u001b[1;34m(*args, **kwargs)\u001b[0m\n\u001b[0;32m    449\u001b[0m                 \u001b[1;34m\"parameter will become keyword-only %(removal)s.\"\u001b[0m\u001b[1;33m,\u001b[0m\u001b[1;33m\u001b[0m\u001b[1;33m\u001b[0m\u001b[0m\n\u001b[0;32m    450\u001b[0m                 name=name, obj_type=f\"parameter of {func.__name__}()\")\n\u001b[1;32m--> 451\u001b[1;33m         \u001b[1;32mreturn\u001b[0m \u001b[0mfunc\u001b[0m\u001b[1;33m(\u001b[0m\u001b[1;33m*\u001b[0m\u001b[0margs\u001b[0m\u001b[1;33m,\u001b[0m \u001b[1;33m**\u001b[0m\u001b[0mkwargs\u001b[0m\u001b[1;33m)\u001b[0m\u001b[1;33m\u001b[0m\u001b[1;33m\u001b[0m\u001b[0m\n\u001b[0m\u001b[0;32m    452\u001b[0m \u001b[1;33m\u001b[0m\u001b[0m\n\u001b[0;32m    453\u001b[0m     \u001b[1;32mreturn\u001b[0m \u001b[0mwrapper\u001b[0m\u001b[1;33m\u001b[0m\u001b[1;33m\u001b[0m\u001b[0m\n",
      "\u001b[1;32mC:\\Anaconda\\lib\\site-packages\\matplotlib\\pyplot.py\u001b[0m in \u001b[0;36msubplots\u001b[1;34m(nrows, ncols, sharex, sharey, squeeze, subplot_kw, gridspec_kw, **fig_kw)\u001b[0m\n\u001b[0;32m   1286\u001b[0m     \"\"\"\n\u001b[0;32m   1287\u001b[0m     \u001b[0mfig\u001b[0m \u001b[1;33m=\u001b[0m \u001b[0mfigure\u001b[0m\u001b[1;33m(\u001b[0m\u001b[1;33m**\u001b[0m\u001b[0mfig_kw\u001b[0m\u001b[1;33m)\u001b[0m\u001b[1;33m\u001b[0m\u001b[1;33m\u001b[0m\u001b[0m\n\u001b[1;32m-> 1288\u001b[1;33m     axs = fig.subplots(nrows=nrows, ncols=ncols, sharex=sharex, sharey=sharey,\n\u001b[0m\u001b[0;32m   1289\u001b[0m                        \u001b[0msqueeze\u001b[0m\u001b[1;33m=\u001b[0m\u001b[0msqueeze\u001b[0m\u001b[1;33m,\u001b[0m \u001b[0msubplot_kw\u001b[0m\u001b[1;33m=\u001b[0m\u001b[0msubplot_kw\u001b[0m\u001b[1;33m,\u001b[0m\u001b[1;33m\u001b[0m\u001b[1;33m\u001b[0m\u001b[0m\n\u001b[0;32m   1290\u001b[0m                        gridspec_kw=gridspec_kw)\n",
      "\u001b[1;32mC:\\Anaconda\\lib\\site-packages\\matplotlib\\cbook\\deprecation.py\u001b[0m in \u001b[0;36mwrapper\u001b[1;34m(*args, **kwargs)\u001b[0m\n\u001b[0;32m    449\u001b[0m                 \u001b[1;34m\"parameter will become keyword-only %(removal)s.\"\u001b[0m\u001b[1;33m,\u001b[0m\u001b[1;33m\u001b[0m\u001b[1;33m\u001b[0m\u001b[0m\n\u001b[0;32m    450\u001b[0m                 name=name, obj_type=f\"parameter of {func.__name__}()\")\n\u001b[1;32m--> 451\u001b[1;33m         \u001b[1;32mreturn\u001b[0m \u001b[0mfunc\u001b[0m\u001b[1;33m(\u001b[0m\u001b[1;33m*\u001b[0m\u001b[0margs\u001b[0m\u001b[1;33m,\u001b[0m \u001b[1;33m**\u001b[0m\u001b[0mkwargs\u001b[0m\u001b[1;33m)\u001b[0m\u001b[1;33m\u001b[0m\u001b[1;33m\u001b[0m\u001b[0m\n\u001b[0m\u001b[0;32m    452\u001b[0m \u001b[1;33m\u001b[0m\u001b[0m\n\u001b[0;32m    453\u001b[0m     \u001b[1;32mreturn\u001b[0m \u001b[0mwrapper\u001b[0m\u001b[1;33m\u001b[0m\u001b[1;33m\u001b[0m\u001b[0m\n",
      "\u001b[1;32mC:\\Anaconda\\lib\\site-packages\\matplotlib\\figure.py\u001b[0m in \u001b[0;36msubplots\u001b[1;34m(self, nrows, ncols, sharex, sharey, squeeze, subplot_kw, gridspec_kw)\u001b[0m\n\u001b[0;32m   1520\u001b[0m         \u001b[1;32mif\u001b[0m \u001b[0mgridspec_kw\u001b[0m \u001b[1;32mis\u001b[0m \u001b[1;32mNone\u001b[0m\u001b[1;33m:\u001b[0m\u001b[1;33m\u001b[0m\u001b[1;33m\u001b[0m\u001b[0m\n\u001b[0;32m   1521\u001b[0m             \u001b[0mgridspec_kw\u001b[0m \u001b[1;33m=\u001b[0m \u001b[1;33m{\u001b[0m\u001b[1;33m}\u001b[0m\u001b[1;33m\u001b[0m\u001b[1;33m\u001b[0m\u001b[0m\n\u001b[1;32m-> 1522\u001b[1;33m         return (self.add_gridspec(nrows, ncols, figure=self, **gridspec_kw)\n\u001b[0m\u001b[0;32m   1523\u001b[0m                 .subplots(sharex=sharex, sharey=sharey, squeeze=squeeze,\n\u001b[0;32m   1524\u001b[0m                           subplot_kw=subplot_kw))\n",
      "\u001b[1;32mC:\\Anaconda\\lib\\site-packages\\matplotlib\\figure.py\u001b[0m in \u001b[0;36madd_gridspec\u001b[1;34m(self, nrows, ncols, **kwargs)\u001b[0m\n\u001b[0;32m   2802\u001b[0m \u001b[1;33m\u001b[0m\u001b[0m\n\u001b[0;32m   2803\u001b[0m         \u001b[0m_\u001b[0m \u001b[1;33m=\u001b[0m \u001b[0mkwargs\u001b[0m\u001b[1;33m.\u001b[0m\u001b[0mpop\u001b[0m\u001b[1;33m(\u001b[0m\u001b[1;34m'figure'\u001b[0m\u001b[1;33m,\u001b[0m \u001b[1;32mNone\u001b[0m\u001b[1;33m)\u001b[0m  \u001b[1;31m# pop in case user has added this...\u001b[0m\u001b[1;33m\u001b[0m\u001b[1;33m\u001b[0m\u001b[0m\n\u001b[1;32m-> 2804\u001b[1;33m         \u001b[0mgs\u001b[0m \u001b[1;33m=\u001b[0m \u001b[0mGridSpec\u001b[0m\u001b[1;33m(\u001b[0m\u001b[0mnrows\u001b[0m\u001b[1;33m=\u001b[0m\u001b[0mnrows\u001b[0m\u001b[1;33m,\u001b[0m \u001b[0mncols\u001b[0m\u001b[1;33m=\u001b[0m\u001b[0mncols\u001b[0m\u001b[1;33m,\u001b[0m \u001b[0mfigure\u001b[0m\u001b[1;33m=\u001b[0m\u001b[0mself\u001b[0m\u001b[1;33m,\u001b[0m \u001b[1;33m**\u001b[0m\u001b[0mkwargs\u001b[0m\u001b[1;33m)\u001b[0m\u001b[1;33m\u001b[0m\u001b[1;33m\u001b[0m\u001b[0m\n\u001b[0m\u001b[0;32m   2805\u001b[0m         \u001b[0mself\u001b[0m\u001b[1;33m.\u001b[0m\u001b[0m_gridspecs\u001b[0m\u001b[1;33m.\u001b[0m\u001b[0mappend\u001b[0m\u001b[1;33m(\u001b[0m\u001b[0mgs\u001b[0m\u001b[1;33m)\u001b[0m\u001b[1;33m\u001b[0m\u001b[1;33m\u001b[0m\u001b[0m\n\u001b[0;32m   2806\u001b[0m         \u001b[1;32mreturn\u001b[0m \u001b[0mgs\u001b[0m\u001b[1;33m\u001b[0m\u001b[1;33m\u001b[0m\u001b[0m\n",
      "\u001b[1;32mC:\\Anaconda\\lib\\site-packages\\matplotlib\\gridspec.py\u001b[0m in \u001b[0;36m__init__\u001b[1;34m(self, nrows, ncols, figure, left, bottom, right, top, wspace, hspace, width_ratios, height_ratios)\u001b[0m\n\u001b[0;32m    418\u001b[0m         \u001b[0mself\u001b[0m\u001b[1;33m.\u001b[0m\u001b[0mfigure\u001b[0m \u001b[1;33m=\u001b[0m \u001b[0mfigure\u001b[0m\u001b[1;33m\u001b[0m\u001b[1;33m\u001b[0m\u001b[0m\n\u001b[0;32m    419\u001b[0m \u001b[1;33m\u001b[0m\u001b[0m\n\u001b[1;32m--> 420\u001b[1;33m         GridSpecBase.__init__(self, nrows, ncols,\n\u001b[0m\u001b[0;32m    421\u001b[0m                               \u001b[0mwidth_ratios\u001b[0m\u001b[1;33m=\u001b[0m\u001b[0mwidth_ratios\u001b[0m\u001b[1;33m,\u001b[0m\u001b[1;33m\u001b[0m\u001b[1;33m\u001b[0m\u001b[0m\n\u001b[0;32m    422\u001b[0m                               height_ratios=height_ratios)\n",
      "\u001b[1;32mC:\\Anaconda\\lib\\site-packages\\matplotlib\\gridspec.py\u001b[0m in \u001b[0;36m__init__\u001b[1;34m(self, nrows, ncols, height_ratios, width_ratios)\u001b[0m\n\u001b[0;32m     46\u001b[0m         \"\"\"\n\u001b[0;32m     47\u001b[0m         \u001b[1;32mif\u001b[0m \u001b[1;32mnot\u001b[0m \u001b[0misinstance\u001b[0m\u001b[1;33m(\u001b[0m\u001b[0mnrows\u001b[0m\u001b[1;33m,\u001b[0m \u001b[0mIntegral\u001b[0m\u001b[1;33m)\u001b[0m \u001b[1;32mor\u001b[0m \u001b[0mnrows\u001b[0m \u001b[1;33m<=\u001b[0m \u001b[1;36m0\u001b[0m\u001b[1;33m:\u001b[0m\u001b[1;33m\u001b[0m\u001b[1;33m\u001b[0m\u001b[0m\n\u001b[1;32m---> 48\u001b[1;33m             raise ValueError(\n\u001b[0m\u001b[0;32m     49\u001b[0m                 f\"Number of rows must be a positive integer, not {nrows}\")\n\u001b[0;32m     50\u001b[0m         \u001b[1;32mif\u001b[0m \u001b[1;32mnot\u001b[0m \u001b[0misinstance\u001b[0m\u001b[1;33m(\u001b[0m\u001b[0mncols\u001b[0m\u001b[1;33m,\u001b[0m \u001b[0mIntegral\u001b[0m\u001b[1;33m)\u001b[0m \u001b[1;32mor\u001b[0m \u001b[0mncols\u001b[0m \u001b[1;33m<=\u001b[0m \u001b[1;36m0\u001b[0m\u001b[1;33m:\u001b[0m\u001b[1;33m\u001b[0m\u001b[1;33m\u001b[0m\u001b[0m\n",
      "\u001b[1;31mValueError\u001b[0m: Number of rows must be a positive integer, not 0"
     ]
    },
    {
     "data": {
      "text/plain": [
       "<Figure size 864x8640 with 0 Axes>"
      ]
     },
     "metadata": {},
     "output_type": "display_data"
    }
   ],
   "source": [
    "fig, axs = plt.subplots(ncols=2, nrows=0, figsize=(12, 120))\n",
    "plt.subplots_adjust(right=2)\n",
    "plt.subplots_adjust(top=2)\n",
    "sns.color_palette('husl', 8)\n",
    "for i, feature in enumerate(list(train[numeric]), 1):\n",
    "    if (feature == 'MiscVal'):\n",
    "        break\n",
    "    plt.subplot(len(list(numeric)), 3, i)\n",
    "    sns.scatterplot(x=feature, y='SalePrice', hue='SalePrice', \n",
    "                    palette='Blues', data=train)\n",
    "    plt.xlabel('{}'.format(feature), size=15, labelpad=12.5)\n",
    "    plt.ylabel('SalePrice', size=15, labelpad=12.5)\n",
    "    for j in range(2):\n",
    "        plt.tick_params(axis='x', labelsize=12)\n",
    "        plt.tick_params(axis='y', labelsize=12)\n",
    "    plt.legend(loc='best', prop={'size': 10})\n",
    "plt.show()"
   ]
  },
  {
   "cell_type": "markdown",
   "id": "e50453bc",
   "metadata": {},
   "source": [
    "### 4.4查看相关系数"
   ]
  },
  {
   "cell_type": "code",
   "execution_count": null,
   "id": "e34e49f8",
   "metadata": {},
   "outputs": [],
   "source": [
    "corr = train.corr()\n",
    "plt.subplots(figsize=(15, 12))\n",
    "sns.heatmap(corr, vmax=0.9, cmap='Blues', square=True)\n",
    "\n",
    "data = pd.concat([train['SalePrice'], train['OverallQual']], axis=1)\n",
    "f, ax = plt.subplots(figsize=(8, 6))\n",
    "fig = sns.boxplot(x=train['OverallQual'], y='SalePrice', data=data)\n",
    "fig.axis(ymin=0, ymax=800000)\n",
    "\n",
    "data = pd.concat([train['SalePrice'], train['YearBuilt']], axis=1)\n",
    "f, ax = plt.subplots(figsize=(16, 8))\n",
    "fig = sns.boxplot(x=train['YearBuilt'], y='SalePrice', data=data)\n",
    "fig.axis(ymin=0, ymax=800000)\n",
    "plt.xticks(rotation=45)"
   ]
  },
  {
   "cell_type": "markdown",
   "id": "7e2efd47",
   "metadata": {},
   "source": [
    "### 4.5查看特征和价格的关系"
   ]
  },
  {
   "cell_type": "code",
   "execution_count": null,
   "id": "72b0f1a3",
   "metadata": {},
   "outputs": [],
   "source": [
    "data = pd.concat([train['SalePrice'], train['TotalBsmtSF']], axis=1)\n",
    "data.plot.scatter(x='TotalBsmtSF', y='SalePrice', alpha=0.3, ylim=(0, 800000))\n",
    "\n",
    "data = pd.concat([train['SalePrice'], train['LotArea']], axis=1)\n",
    "data.plot.scatter(x='LotArea', y='SalePrice', alpha=0.3, ylim=(0, 800000))\n",
    "\n",
    "data = pd.concat([train['SalePrice'], train['GrLivArea']], axis=1)\n",
    "data.plot.scatter(x='GrLivArea', y='SalePrice', alpha=0.3, ylim=(0, 800000))"
   ]
  },
  {
   "cell_type": "markdown",
   "id": "1c202365",
   "metadata": {},
   "source": [
    "### 4.6删除Id"
   ]
  },
  {
   "cell_type": "code",
   "execution_count": null,
   "id": "7a9a974c",
   "metadata": {},
   "outputs": [],
   "source": [
    "train_id = train['Id']\n",
    "test_id = test['Id']\n",
    "train.drop(['Id'], axis=1, inplace=True)\n",
    "test.drop(['Id'], axis=1, inplace=True)"
   ]
  },
  {
   "cell_type": "markdown",
   "id": "f65aa3a9",
   "metadata": {},
   "source": [
    "### 4.7价格右偏, 用log(1+x)调整"
   ]
  },
  {
   "cell_type": "code",
   "execution_count": null,
   "id": "60888d99",
   "metadata": {},
   "outputs": [],
   "source": [
    "train['SalePrice'] = np.log1p(train['SalePrice'])"
   ]
  },
  {
   "cell_type": "markdown",
   "id": "400cc010",
   "metadata": {},
   "source": [
    "### 4.8查看调整后的分布情况"
   ]
  },
  {
   "cell_type": "code",
   "execution_count": null,
   "id": "3910fa0c",
   "metadata": {},
   "outputs": [],
   "source": [
    "sns.set_style('white')\n",
    "sns.set_color_codes(palette='deep')\n",
    "f, ax = plt.subplots(figsize=(8, 7))\n",
    "sns.distplot(train['SalePrice'], fit=norm, color='b')"
   ]
  },
  {
   "cell_type": "markdown",
   "id": "d621d1d4",
   "metadata": {},
   "source": [
    "### 4.9得到拟合参数"
   ]
  },
  {
   "cell_type": "code",
   "execution_count": null,
   "id": "6d6421d1",
   "metadata": {},
   "outputs": [],
   "source": [
    "(mu, sigma) = norm.fit(train['SalePrice'])\n",
    "print('mu = {:.2f} and sigma = {:.2f}'.format(mu, sigma))"
   ]
  },
  {
   "cell_type": "markdown",
   "id": "9e4de4e8",
   "metadata": {},
   "source": [
    "### 4.10调整前后对比"
   ]
  },
  {
   "cell_type": "code",
   "execution_count": null,
   "id": "94067d84",
   "metadata": {},
   "outputs": [],
   "source": [
    "plt.legend(['Normal dist. ($\\mu=$ {:.2f} and $\\sig\\\n",
    "ma=$ {:.2f} )'.format(mu, sigma)], loc='best')\n",
    "ax.xaxis.grid(False)\n",
    "ax.set(ylabel='Frequency')\n",
    "ax.set(xlabel='SalePrice')\n",
    "ax.set(title='SalePrice distribution')\n",
    "sns.despine(trim=True, left=True)\n",
    "plt.show()"
   ]
  },
  {
   "cell_type": "markdown",
   "id": "813c447f",
   "metadata": {},
   "source": [
    "### 4.11删除异常值"
   ]
  },
  {
   "cell_type": "code",
   "execution_count": null,
   "id": "46ff2179",
   "metadata": {},
   "outputs": [],
   "source": [
    "train.drop(train[(train['OverallQual'] < 5) & \n",
    "                 (train['SalePrice'] > 200000)].index, inplace=True)\n",
    "train.drop(train[(train['GrLivArea'] > 4500) & \n",
    "                 (train['SalePrice'] < 30000)].index, inplace=True)\n",
    "train.reset_index(drop=True, inplace=True)"
   ]
  },
  {
   "cell_type": "markdown",
   "id": "bfc0071f",
   "metadata": {},
   "source": [
    "### 4.12划分训练集和测试集"
   ]
  },
  {
   "cell_type": "code",
   "execution_count": null,
   "id": "28fb1e59",
   "metadata": {},
   "outputs": [],
   "source": [
    "train_labels = train['SalePrice'].reset_index(drop=True)\n",
    "train_features = train.drop(['SalePrice'], axis=1)\n",
    "test_features = test\n",
    "all_features = pd.concat([train_features, test_features]).reset_index(drop=True)"
   ]
  },
  {
   "cell_type": "markdown",
   "id": "d6d9032e",
   "metadata": {},
   "source": [
    "### 4.13确定缺失值的阈值"
   ]
  },
  {
   "cell_type": "code",
   "execution_count": null,
   "id": "0e599b8d",
   "metadata": {},
   "outputs": [],
   "source": [
    "def percent_missing(df):\n",
    "    data = pd.DataFrame(df)\n",
    "    df_cols = list(pd.DataFrame(data))\n",
    "    dict_x = {}\n",
    "    for i in range(0, len(df_cols)):\n",
    "        dict_x.update({df_cols[i]: round(data[df_cols[i]].isnull().mean()*100,2)})\n",
    "    return dict_x"
   ]
  },
  {
   "cell_type": "markdown",
   "id": "7cc5d786",
   "metadata": {},
   "source": [
    "### 4.14缺失数据百分比"
   ]
  },
  {
   "cell_type": "code",
   "execution_count": null,
   "id": "181e1c71",
   "metadata": {},
   "outputs": [],
   "source": [
    "missing = percent_missing(all_features)\n",
    "df_miss = sorted(missing.items(), key=lambda x: x[1], reverse=True)\n",
    "print(df_miss[0:10])"
   ]
  },
  {
   "cell_type": "markdown",
   "id": "9dbb4112",
   "metadata": {},
   "source": [
    "### 4.15缺失数据百分比可视化"
   ]
  },
  {
   "cell_type": "code",
   "execution_count": null,
   "id": "cb7e1944",
   "metadata": {},
   "outputs": [],
   "source": [
    "sns.set_style('white')\n",
    "f, ax = plt.subplots(figsize=(8, 7))\n",
    "sns.set_color_codes(palette='deep')\n",
    "missing = round(train.isnull().mean() * 100, 2)\n",
    "missing = missing[missing > 0]\n",
    "missing.sort_values(inplace=True)\n",
    "missing.plot.bar(color='b')\n",
    "\n",
    "ax.xaxis.grid(False)\n",
    "ax.set(ylabel='Percent of missing values')\n",
    "ax.set(xlabel='Features')\n",
    "ax.set(title='Percent missing data by feature')\n",
    "sns.despine(trim=True, left=True)"
   ]
  },
  {
   "cell_type": "markdown",
   "id": "8f173988",
   "metadata": {},
   "source": [
    "### 4.16转为字符串类型"
   ]
  },
  {
   "cell_type": "code",
   "execution_count": null,
   "id": "9ada2348",
   "metadata": {},
   "outputs": [],
   "source": [
    "all_features['MSSubClass'] = all_features['MSSubClass'].apply(str)\n",
    "all_features['YrSold'] = all_features['YrSold'].astype(str)\n",
    "all_features['MoSold'] = all_features['MoSold'].astype(str)"
   ]
  },
  {
   "cell_type": "markdown",
   "id": "d7bd336a",
   "metadata": {},
   "source": [
    "### 4.17填补缺失值"
   ]
  },
  {
   "cell_type": "code",
   "execution_count": null,
   "id": "4f5d72b0",
   "metadata": {},
   "outputs": [],
   "source": [
    "def handle_missing(features):\n",
    "    features['Functional'] = features['Functional'].fillna('Typ')\n",
    "    features['Electrical'] = features['Electrical'].fillna('SBrkr')\n",
    "    features['KitchenQual'] = features['KitchenQual'].fillna('TA')\n",
    "    features['Exterior1st'] = features['Exterior\\\n",
    "    1st'].fillna(features['Exterior1st'].mode()[0])\n",
    "    features['Exterior2nd'] = features['Exterior2nd'].fillna(features['Exter\\\n",
    "    ior2nd'].mode()[0])\n",
    "    features['SaleType'] = features['SaleType'].fillna(features['Sale\\\n",
    "    Type'].mode()[0])\n",
    "    features['MSZoning'] = features.groupby('MSSubClass')['MSZon\\\n",
    "    ing'].transform(lambda x: x.fillna(x.mode()[0]))\n",
    "\n",
    "    features['PoolQC'] = features['PoolQC'].fillna('None')\n",
    "    for col in ('GarageYrBlt', 'GarageArea', 'GarageCars'):\n",
    "        features[col] = features[col].fillna(0)\n",
    "    for col in ['GarageType', 'GarageFinish', 'GarageQual', 'GarageCond']:\n",
    "        features[col] = features[col].fillna('None')\n",
    "    for col in ('BsmtQual', 'BsmtCond', 'BsmtExposure', \n",
    "                'BsmtFinType1', 'BsmtFinType2'):\n",
    "        features[col] = features[col].fillna('None')\n",
    "    features['LotFrontage'] = features.groupby('Neighb\\\n",
    "    orhood')['LotFrontage'].transform(lambda x: x.fillna(x.median()))\n",
    "\n",
    "    objects = []\n",
    "    for i in features.columns:\n",
    "        if features[i].dtype == object:\n",
    "            objects.append(i)\n",
    "    features.update(features[objects].fillna('None'))\n",
    "\n",
    "    numeric_dtypes = ['int16', 'int32', 'int64', 'float16', 'float32', 'float64']\n",
    "    numeric = []\n",
    "    for i in features.columns:\n",
    "        if features[i].dtype in numeric_dtypes:\n",
    "            numeric.append(i)\n",
    "    features.update(features[numeric].fillna(0))\n",
    "    return features\n",
    "\n",
    "\n",
    "all_features = handle_missing(all_features)"
   ]
  },
  {
   "cell_type": "markdown",
   "id": "c1d9e53a",
   "metadata": {},
   "source": [
    "### 4.18查看是否还有缺失值"
   ]
  },
  {
   "cell_type": "code",
   "execution_count": null,
   "id": "9299cd6f",
   "metadata": {},
   "outputs": [],
   "source": [
    "missing = percent_missing(all_features)\n",
    "df_miss = sorted(missing.items(), key=lambda x: x[1], reverse=True)\n",
    "print(df_miss[0:10])"
   ]
  },
  {
   "cell_type": "markdown",
   "id": "4a58dff8",
   "metadata": {},
   "source": [
    "### 4.19找出所有数值特征"
   ]
  },
  {
   "cell_type": "code",
   "execution_count": null,
   "id": "eb09cd2f",
   "metadata": {},
   "outputs": [],
   "source": [
    "numeric_dtypes = ['int16', 'int32', 'int64', 'float16', 'float32', 'float64']\n",
    "numeric = []\n",
    "for i in all_features.columns:\n",
    "    if all_features[i].dtype in numeric_dtypes:\n",
    "        numeric.append(i)"
   ]
  },
  {
   "cell_type": "markdown",
   "id": "ef9de95a",
   "metadata": {},
   "source": [
    "### 4.20为所有数字特性创建框图"
   ]
  },
  {
   "cell_type": "code",
   "execution_count": null,
   "id": "d054e50d",
   "metadata": {},
   "outputs": [],
   "source": [
    "sns.set_style('white')\n",
    "f, ax = plt.subplots(figsize=(8, 7))\n",
    "ax.set_xscale('log')\n",
    "ax = sns.boxplot(data=all_features[numeric], orient='h', palette='Set1')\n",
    "ax.xaxis.grid(False)\n",
    "ax.set(ylabel='Feature names')\n",
    "ax.set(xlabel='Numeric values')\n",
    "ax.set(title='Numeric Distribution of Features')\n",
    "sns.despine(trim=True, left=True)"
   ]
  },
  {
   "cell_type": "markdown",
   "id": "833e9033",
   "metadata": {},
   "source": [
    "### 4.21找出偏度大于0.5的特征"
   ]
  },
  {
   "cell_type": "code",
   "execution_count": null,
   "id": "4abdf7ef",
   "metadata": {},
   "outputs": [],
   "source": [
    "skew_features = all_features[numeric].apply(lambda x: skew(x)).\\\n",
    "sort_values(ascending=False)\n",
    "high_skew = skew_features[skew_features > 0.5]\n",
    "skew_index = high_skew.index\n",
    "print('Skew > 0.5 :'.format(high_skew.shape[0]))\n",
    "skewness = pd.DataFrame({'Skew': high_skew})\n",
    "skew_features.head(10)"
   ]
  },
  {
   "cell_type": "markdown",
   "id": "ede614be",
   "metadata": {},
   "source": [
    "### 4.22正则化偏移特征"
   ]
  },
  {
   "cell_type": "code",
   "execution_count": null,
   "id": "201eaf11",
   "metadata": {},
   "outputs": [],
   "source": [
    "for i in skew_index:\n",
    "    all_features[i] = boxcox1p(all_features[i], boxcox_normmax(all_features[i] + 1))"
   ]
  },
  {
   "cell_type": "markdown",
   "id": "626633c6",
   "metadata": {},
   "source": [
    "### 4.23查看是否所有偏移特征都处理完毕"
   ]
  },
  {
   "cell_type": "code",
   "execution_count": null,
   "id": "2b217841",
   "metadata": {},
   "outputs": [],
   "source": [
    "sns.set_style('white')\n",
    "f, ax = plt.subplots(figsize=(8, 7))\n",
    "ax.set_xscale('log')\n",
    "ax = sns.boxplot(data=all_features[skew_index], orient='h', palette='Set1')\n",
    "ax.xaxis.grid(False)\n",
    "ax.set(ylabel='Feature names')\n",
    "ax.set(xlabel='Numeric values')\n",
    "ax.set(title='Numeric Distribution of Features')\n",
    "sns.despine(trim=True, left=True)"
   ]
  },
  {
   "cell_type": "markdown",
   "id": "048a08e4",
   "metadata": {},
   "source": [
    "### 4.24创造新特征"
   ]
  },
  {
   "cell_type": "code",
   "execution_count": null,
   "id": "6e11df39",
   "metadata": {},
   "outputs": [],
   "source": [
    "all_features['BsmtFinType1_Unf'] = 1 * (all_features['BsmtFinType1'] == 'Unf')\n",
    "all_features['HasWoodDeck'] = (all_features['WoodDeckSF'] == 0) * 1\n",
    "all_features['HasOpenPorch'] = (all_features['OpenPorchSF'] == 0) * 1\n",
    "all_features['HasEnclosedPorch'] = (all_features['EnclosedPorch'] == 0) * 1\n",
    "all_features['Has3SsnPorch'] = (all_features['3SsnPorch'] == 0) * 1\n",
    "all_features['HasScreenPorch'] = (all_features['ScreenPorch'] == 0) * 1\n",
    "all_features['YearsSinceRemodel'] = all_features['YrSo\\\n",
    "ld'].astype(int) - all_features['YearRemodAdd'].astype(int)\n",
    "all_features['Total_Home_Quality'] = all_features['Overal\\\n",
    "lQual'] + all_features['OverallCond']\n",
    "all_features = all_features.drop(['Utilities', 'Street', 'PoolQC', ], axis=1)\n",
    "all_features['TotalSF'] = all_features['TotalB\\\n",
    "smtSF'] + all_features['1stFlrSF'] + all_features['2ndFlrSF']\n",
    "all_features['YrBltAndRemod'] = all_features['YearBu\\\n",
    "ilt'] + all_features['YearRemodAdd']\n",
    "\n",
    "all_features['Total_sqr_footage'] = (all_features['BsmtFinSF1'] +\n",
    "                                     all_features['BsmtFinSF2'] +\n",
    "                                     all_features['1stFlrSF'] +\n",
    "                                     all_features['2ndFlrSF'])\n",
    "all_features['Total_Bathrooms'] = (all_features['FullBath'] +\n",
    "                                   (0.5 * all_features['HalfBath']) +\n",
    "                                   all_features['BsmtFullBath'] +\n",
    "                                   (0.5 * all_features['BsmtHalfBath']))\n",
    "all_features['Total_porch_sf'] = (all_features['OpenPorchSF'] +\n",
    "                                  all_features['3SsnPorch'] +\n",
    "                                  all_features['EnclosedPorch'] +\n",
    "                                  all_features['ScreenPorch'] +\n",
    "                                  all_features['WoodDeckSF'])\n",
    "\n",
    "all_features['TotalBsmtSF'] = all_features['TotalB\\\n",
    "smtSF'].apply(lambda x: np.exp(6) if x <= 0.0 else x)\n",
    "all_features['2ndFlrSF'] = all_features['2ndF\\\n",
    "lrSF'].apply(lambda x: np.exp(6.5) if x <= 0.0 else x)\n",
    "all_features['GarageArea'] = all_features['Gara\\\n",
    "geArea'].apply(lambda x: np.exp(6) if x <= 0.0 else x)\n",
    "all_features['GarageCars'] = all_features['Garag\\\n",
    "eCars'].apply(lambda x: 0 if x <= 0.0 else x)\n",
    "all_features['LotFrontage'] = all_features['LotFr\\\n",
    "ontage'].apply(lambda x: np.exp(4.2) if x <= 0.0 else x)\n",
    "all_features['MasVnrArea'] = all_features['MasVnr\\\n",
    "Area'].apply(lambda x: np.exp(4) if x <= 0.0 else x)\n",
    "all_features['BsmtFinSF1'] = all_features['BsmtF\\\n",
    "inSF1'].apply(lambda x: np.exp(6.5) if x <= 0.0 else x)\n",
    "\n",
    "all_features['haspool'] = all_features['Poo\\\n",
    "lArea'].apply(lambda x: 1 if x > 0 else 0)\n",
    "all_features['has2ndfloor'] = all_features['2nd\\\n",
    "FlrSF'].apply(lambda x: 1 if x > 0 else 0)\n",
    "all_features['hasgarage'] = all_features['Garage\\\n",
    "Area'].apply(lambda x: 1 if x > 0 else 0)\n",
    "all_features['hasbsmt'] = all_features['TotalBs\\\n",
    "mtSF'].apply(lambda x: 1 if x > 0 else 0)\n",
    "all_features['hasfireplace'] = all_features['Firep\\\n",
    "laces'].apply(lambda x: 1 if x > 0 else 0)"
   ]
  },
  {
   "cell_type": "markdown",
   "id": "19c1d1de",
   "metadata": {},
   "source": [
    "### 4.25用数值特征的对数来创建新特征"
   ]
  },
  {
   "cell_type": "code",
   "execution_count": null,
   "id": "2749e4c2",
   "metadata": {},
   "outputs": [],
   "source": [
    "def logs(res, ls):\n",
    "    m = res.shape[1]\n",
    "    for l in ls:\n",
    "        res = res.assign(newcol=pd.Series(np.log(1.01 + res[l])).values)\n",
    "        res.columns.values[m] = l + '_log'\n",
    "        m += 1\n",
    "    return res\n",
    "\n",
    "\n",
    "log_features = ['LotFrontage', 'LotArea', 'MasVnrArea', 'BsmtFinSF1', \n",
    "                'BsmtFinSF2', 'BsmtUnfSF', 'TotalBsmtSF', '1stFlrSF', \n",
    "                '2ndFlrSF', 'LowQualFinSF', 'GrLivArea', 'BsmtFullBath', \n",
    "                'BsmtHalfBath', 'FullBath', 'HalfBath', 'BedroomAbvGr', \n",
    "                'KitchenAbvGr', 'TotRmsAbvGrd', 'Fireplaces', 'GarageCars', \n",
    "                'GarageArea', 'WoodDeckSF', 'OpenPorchSF', 'EnclosedPorch', \n",
    "                '3SsnPorch', 'ScreenPorch', 'PoolArea', 'MiscVal', \n",
    "                'YearRemodAdd', 'TotalSF']\n",
    "\n",
    "all_features = logs(all_features, log_features)"
   ]
  },
  {
   "cell_type": "markdown",
   "id": "9c604bcc",
   "metadata": {},
   "source": [
    "### 4.26用数值特征的平方来创建新特征"
   ]
  },
  {
   "cell_type": "code",
   "execution_count": null,
   "id": "fd12ed57",
   "metadata": {},
   "outputs": [],
   "source": [
    "def squares(res, ls):\n",
    "    m = res.shape[1]\n",
    "    for l in ls:\n",
    "        res = res.assign(newcol=pd.Series(res[l] * res[l]).values)\n",
    "        res.columns.values[m] = l + '_sq'\n",
    "        m += 1\n",
    "    return res\n",
    "\n",
    "\n",
    "squared_features = ['YearRemodAdd', 'LotFrontage_log', 'TotalBsmtSF_log', \n",
    "                    '1stFlrSF_log', '2ndFlrSF_log', 'GrLivArea_log', \n",
    "                    'GarageCars_log', 'GarageArea_log']\n",
    "all_features = squares(all_features, squared_features)"
   ]
  },
  {
   "cell_type": "markdown",
   "id": "bbcef69d",
   "metadata": {},
   "source": [
    "### 4.27编码分类特征"
   ]
  },
  {
   "cell_type": "code",
   "execution_count": null,
   "id": "be703f5b",
   "metadata": {},
   "outputs": [],
   "source": [
    "all_features = pd.get_dummies(all_features).reset_index(drop=True)"
   ]
  },
  {
   "cell_type": "markdown",
   "id": "9017166b",
   "metadata": {},
   "source": [
    "### 4.28删除重复的列名"
   ]
  },
  {
   "cell_type": "code",
   "execution_count": null,
   "id": "8408bdb3",
   "metadata": {},
   "outputs": [],
   "source": [
    "all_features = all_features.loc[:, ~all_features.columns.duplicated()]"
   ]
  },
  {
   "cell_type": "markdown",
   "id": "257fc38f",
   "metadata": {},
   "source": [
    "### 4.29划分训练集和测试集"
   ]
  },
  {
   "cell_type": "code",
   "execution_count": null,
   "id": "3d683e70",
   "metadata": {},
   "outputs": [],
   "source": [
    "X = all_features.iloc[:len(train_labels), :]\n",
    "X_test = all_features.iloc[len(train_labels):, :]"
   ]
  },
  {
   "cell_type": "markdown",
   "id": "c467e8e4",
   "metadata": {},
   "source": [
    "### 4.30设置交叉验证"
   ]
  },
  {
   "cell_type": "code",
   "execution_count": null,
   "id": "04eba0ec",
   "metadata": {},
   "outputs": [],
   "source": [
    "kf = KFold(n_splits=12, random_state=42, shuffle=True)"
   ]
  },
  {
   "cell_type": "markdown",
   "id": "d96aab41",
   "metadata": {},
   "source": [
    "### 4.31定义误差指标"
   ]
  },
  {
   "cell_type": "code",
   "execution_count": null,
   "id": "e9f63f9f",
   "metadata": {},
   "outputs": [],
   "source": [
    "def rmsle(y, y_pred):\n",
    "    return np.sqrt(mean_squared_error(y, y_pred))\n",
    "\n",
    "\n",
    "def cv_rmse(model, X=X):\n",
    "    rmse = np.sqrt(-cross_val_score(model, X, train_labels,\n",
    "                                    scoring='neg_mean_squared_error', cv=kf))\n",
    "    return (rmse)"
   ]
  },
  {
   "cell_type": "markdown",
   "id": "676e97eb",
   "metadata": {},
   "source": [
    "## 5.搭建模型"
   ]
  },
  {
   "cell_type": "markdown",
   "id": "b3d58d79",
   "metadata": {},
   "source": [
    "### 5.1轻量梯度提升机"
   ]
  },
  {
   "cell_type": "code",
   "execution_count": null,
   "id": "286840ec",
   "metadata": {},
   "outputs": [],
   "source": [
    "lightgbm = LGBMRegressor(objective='regression',\n",
    "                         num_leaves=6,\n",
    "                         learning_rate=0.01,\n",
    "                         n_estimators=7000,\n",
    "                         max_bin=200,\n",
    "                         bagging_fraction=0.8,\n",
    "                         bagging_freq=4,\n",
    "                         bagging_seed=8,\n",
    "                         feature_fraction=0.2,\n",
    "                         feature_fraction_seed=8,\n",
    "                         min_sum_hessian_in_leaf=11,\n",
    "                         verbose=-1,\n",
    "                         random_state=42)"
   ]
  },
  {
   "cell_type": "markdown",
   "id": "d2a5c4fd",
   "metadata": {},
   "source": [
    "### 5.2xgboost"
   ]
  },
  {
   "cell_type": "code",
   "execution_count": null,
   "id": "447fc601",
   "metadata": {},
   "outputs": [],
   "source": [
    "xgboost = XGBRegressor(learning_rate=0.01,\n",
    "                       n_estimators=6000,\n",
    "                       max_depth=4,\n",
    "                       min_child_weight=0,\n",
    "                       gamma=0.6,\n",
    "                       subsample=0.7,\n",
    "                       colsample_bytree=0.7,\n",
    "                       objective='reg:linear',\n",
    "                       nthread=-1,\n",
    "                       scale_pos_weight=1,\n",
    "                       seed=27,\n",
    "                       reg_alpha=0.00006,\n",
    "                       random_state=42)"
   ]
  },
  {
   "cell_type": "markdown",
   "id": "4a0c4a97",
   "metadata": {},
   "source": [
    "### 5.3岭回归"
   ]
  },
  {
   "cell_type": "code",
   "execution_count": null,
   "id": "84a23323",
   "metadata": {},
   "outputs": [],
   "source": [
    "ridge_alphas = [1e-15, 1e-10, 1e-8, 9e-4, 7e-4, 5e-4, 3e-4, 1e-4, 1e-3, 5e-2, \n",
    "                1e-2, 0.1, 0.3, 1, 3, 5, 10, 15, 18, 20, 30, 50, 75, 100]\n",
    "ridge = make_pipeline(RobustScaler(), RidgeCV(alphas=ridge_alphas, cv=kf))"
   ]
  },
  {
   "cell_type": "markdown",
   "id": "d27cad2b",
   "metadata": {},
   "source": [
    "### 5.4支持向量机"
   ]
  },
  {
   "cell_type": "code",
   "execution_count": null,
   "id": "8aba7a9b",
   "metadata": {},
   "outputs": [],
   "source": [
    "svr = make_pipeline(RobustScaler(), SVR(C=20, epsilon=0.008, gamma=0.0003))"
   ]
  },
  {
   "cell_type": "markdown",
   "id": "44c931ad",
   "metadata": {},
   "source": [
    "### 5.5梯度提升树"
   ]
  },
  {
   "cell_type": "code",
   "execution_count": null,
   "id": "b8318191",
   "metadata": {},
   "outputs": [],
   "source": [
    "gbr = GradientBoostingRegressor(n_estimators=6000,\n",
    "                                learning_rate=0.01,\n",
    "                                max_depth=4,\n",
    "                                max_features='sqrt',\n",
    "                                min_samples_leaf=15,\n",
    "                                min_samples_split=10,\n",
    "                                loss='huber',\n",
    "                                random_state=42)"
   ]
  },
  {
   "cell_type": "markdown",
   "id": "0298a3b2",
   "metadata": {},
   "source": [
    "### 5.6随机森林"
   ]
  },
  {
   "cell_type": "code",
   "execution_count": null,
   "id": "61831d11",
   "metadata": {},
   "outputs": [],
   "source": [
    "rf = RandomForestRegressor(n_estimators=1200,\n",
    "                           max_depth=15,\n",
    "                           min_samples_split=5,\n",
    "                           min_samples_leaf=5,\n",
    "                           max_features=None,\n",
    "                           oob_score=True,\n",
    "                           random_state=42)"
   ]
  },
  {
   "cell_type": "markdown",
   "id": "412631f3",
   "metadata": {},
   "source": [
    "### 5.7融合多个模型"
   ]
  },
  {
   "cell_type": "code",
   "execution_count": null,
   "id": "c2f801ae",
   "metadata": {},
   "outputs": [],
   "source": [
    "stack_gen = StackingCVRegressor(regressors=(xgboost, lightgbm, svr, ridge, gbr, rf),\n",
    "                                meta_regressor=xgboost,\n",
    "                                use_features_in_secondary=True)"
   ]
  },
  {
   "cell_type": "markdown",
   "id": "a11a7ba2",
   "metadata": {},
   "source": [
    "## 6.打印各模型的交叉验证分数"
   ]
  },
  {
   "cell_type": "code",
   "execution_count": null,
   "id": "18f40608",
   "metadata": {},
   "outputs": [],
   "source": [
    "scores = {}\n",
    "score = cv_rmse(lightgbm)\n",
    "print('lightgbm: {:.4f} ({:.4f})'.format(score.mean(), score.std()))"
   ]
  },
  {
   "cell_type": "code",
   "execution_count": null,
   "id": "9e0bfe5a",
   "metadata": {},
   "outputs": [],
   "source": [
    "scores['lgb'] = (score.mean(), score.std())\n",
    "score = cv_rmse(xgboost)\n",
    "print('xgboost: {:.4f} ({:.4f})'.format(score.mean(), score.std()))"
   ]
  },
  {
   "cell_type": "code",
   "execution_count": null,
   "id": "ed1879a9",
   "metadata": {},
   "outputs": [],
   "source": [
    "scores['xgb'] = (score.mean(), score.std())\n",
    "score = cv_rmse(svr)\n",
    "print('SVR: {:.4f} ({:.4f})'.format(score.mean(), score.std()))"
   ]
  },
  {
   "cell_type": "code",
   "execution_count": null,
   "id": "c2bfe863",
   "metadata": {},
   "outputs": [],
   "source": [
    "scores['svr'] = (score.mean(), score.std())\n",
    "score = cv_rmse(ridge)\n",
    "print('ridge: {:.4f} ({:.4f})'.format(score.mean(), score.std()))"
   ]
  },
  {
   "cell_type": "code",
   "execution_count": null,
   "id": "c8fb8a15",
   "metadata": {},
   "outputs": [],
   "source": [
    "scores['ridge'] = (score.mean(), score.std())\n",
    "score = cv_rmse(rf)\n",
    "print('rf: {:.4f} ({:.4f})'.format(score.mean(), score.std()))"
   ]
  },
  {
   "cell_type": "code",
   "execution_count": null,
   "id": "9f592681",
   "metadata": {},
   "outputs": [],
   "source": [
    "scores['rf'] = (score.mean(), score.std())\n",
    "score = cv_rmse(gbr)\n",
    "print('gbr: {:.4f} ({:.4f})'.format(score.mean(), score.std()))"
   ]
  },
  {
   "cell_type": "code",
   "execution_count": null,
   "id": "1045173d",
   "metadata": {},
   "outputs": [],
   "source": [
    "scores['gbr'] = (score.mean(), score.std())\n",
    "print('stack_gen')"
   ]
  },
  {
   "cell_type": "code",
   "execution_count": null,
   "id": "e232995f",
   "metadata": {},
   "outputs": [],
   "source": [
    "stack_gen_model = stack_gen.fit(np.array(X), np.array(train_labels))\n",
    "print('lightgbm')"
   ]
  },
  {
   "cell_type": "code",
   "execution_count": null,
   "id": "e13c5d93",
   "metadata": {},
   "outputs": [],
   "source": [
    "lgb_model_full_data = lightgbm.fit(X, train_labels)\n",
    "print('xgboost')"
   ]
  },
  {
   "cell_type": "code",
   "execution_count": null,
   "id": "8fd82eb3",
   "metadata": {},
   "outputs": [],
   "source": [
    "xgb_model_full_data = xgboost.fit(X, train_labels)\n",
    "print('Svr')"
   ]
  },
  {
   "cell_type": "code",
   "execution_count": null,
   "id": "b68fc5d2",
   "metadata": {},
   "outputs": [],
   "source": [
    "svr_model_full_data = svr.fit(X, train_labels)\n",
    "print('Ridge')"
   ]
  },
  {
   "cell_type": "code",
   "execution_count": null,
   "id": "b029df1b",
   "metadata": {},
   "outputs": [],
   "source": [
    "ridge_model_full_data = ridge.fit(X, train_labels)\n",
    "print('RandomForest')"
   ]
  },
  {
   "cell_type": "code",
   "execution_count": null,
   "id": "1b6ca58e",
   "metadata": {},
   "outputs": [],
   "source": [
    "rf_model_full_data = rf.fit(X, train_labels)\n",
    "print('GradientBoosting')"
   ]
  },
  {
   "cell_type": "code",
   "execution_count": null,
   "id": "ade22e33",
   "metadata": {},
   "outputs": [],
   "source": [
    "gbr_model_full_data = gbr.fit(X, train_labels)"
   ]
  },
  {
   "cell_type": "markdown",
   "id": "711bb2cb",
   "metadata": {},
   "source": [
    "### 6.1混合模型"
   ]
  },
  {
   "cell_type": "code",
   "execution_count": null,
   "id": "751dc100",
   "metadata": {},
   "outputs": [],
   "source": [
    "def blended_predictions(X):\n",
    "    return ((0.1 * ridge_model_full_data.predict(X)) +\n",
    "            (0.2 * svr_model_full_data.predict(X)) +\n",
    "            (0.1 * gbr_model_full_data.predict(X)) +\n",
    "            (0.1 * xgb_model_full_data.predict(X)) +\n",
    "            (0.1 * lgb_model_full_data.predict(X)) +\n",
    "            (0.05 * rf_model_full_data.predict(X)) +\n",
    "            (0.35 * stack_gen_model.predict(np.array(X))))"
   ]
  },
  {
   "cell_type": "markdown",
   "id": "518969d4",
   "metadata": {},
   "source": [
    "### 6.2打印混合模型结果"
   ]
  },
  {
   "cell_type": "code",
   "execution_count": null,
   "id": "4241f6c7",
   "metadata": {},
   "outputs": [],
   "source": [
    "blended_score = rmsle(train_labels, blended_predictions(X))\n",
    "scores['blended'] = (blended_score, 0)\n",
    "print('RMSLE score on train data:')\n",
    "print(blended_score)"
   ]
  },
  {
   "cell_type": "markdown",
   "id": "de6de988",
   "metadata": {},
   "source": [
    "### 6.3模型分数可视化"
   ]
  },
  {
   "cell_type": "code",
   "execution_count": null,
   "id": "8ebf92d5",
   "metadata": {},
   "outputs": [],
   "source": [
    "sns.set_style('white')\n",
    "fig = plt.figure(figsize=(24, 12))\n",
    "ax = sns.pointplot(x=list(scores.keys()), \n",
    "                   y=[score for score, _ in scores.values()], \n",
    "                   markers=['o'], \n",
    "                   linestyles=['-'])\n",
    "for i, score in enumerate(scores.values()):\n",
    "    ax.text(i, score[0] + 0.002, '{:.6}'.format(score[0]), \n",
    "            horizontalalignment='left', size='large', \n",
    "            color='black', weight='semibold')\n",
    "plt.ylabel('Score (RMSE)', size=20, labelpad=12.5)\n",
    "plt.xlabel('Model', size=20, labelpad=12.5)\n",
    "plt.tick_params(axis='x', labelsize=13.5)\n",
    "plt.tick_params(axis='y', labelsize=12.5)\n",
    "plt.title('Scores of Models', size=20)\n",
    "plt.show()"
   ]
  },
  {
   "cell_type": "code",
   "execution_count": null,
   "id": "31670e2d",
   "metadata": {},
   "outputs": [],
   "source": [
    "submission = pd.read_csv('../../data/sample_submission.csv')\n",
    "submission.iloc[:, 1] = np.floor(np.expm1(blended_predictions(X_test)))"
   ]
  },
  {
   "cell_type": "markdown",
   "id": "0d720b9c",
   "metadata": {},
   "source": [
    "### 6.4矫正预测"
   ]
  },
  {
   "cell_type": "code",
   "execution_count": null,
   "id": "3662fa93",
   "metadata": {},
   "outputs": [],
   "source": [
    "q1 = submission['SalePrice'].quantile(0.0045)\n",
    "q2 = submission['SalePrice'].quantile(0.99)\n",
    "submission['SalePrice'] = submission['SaleP\\\n",
    "rice'].apply(lambda x: x if x > q1 else x * 0.77)\n",
    "submission['SalePrice'] = submission['Sale\\\n",
    "Price'].apply(lambda x: x if x < q2 else x * 1.1)\n",
    "submission.to_csv('submission_regression1.csv', index=False)"
   ]
  },
  {
   "cell_type": "markdown",
   "id": "dfaf6663",
   "metadata": {},
   "source": [
    "### 6.5规模预测"
   ]
  },
  {
   "cell_type": "code",
   "execution_count": null,
   "id": "853789b3",
   "metadata": {},
   "outputs": [],
   "source": [
    "submission['SalePrice'] *= 1.001619\n",
    "submission.to_csv('submission_regression2.csv', index=False)"
   ]
  }
 ],
 "metadata": {
  "kernelspec": {
   "display_name": "Python 3",
   "language": "python",
   "name": "python3"
  },
  "language_info": {
   "codemirror_mode": {
    "name": "ipython",
    "version": 3
   },
   "file_extension": ".py",
   "mimetype": "text/x-python",
   "name": "python",
   "nbconvert_exporter": "python",
   "pygments_lexer": "ipython3",
   "version": "3.8.8"
  }
 },
 "nbformat": 4,
 "nbformat_minor": 5
}
