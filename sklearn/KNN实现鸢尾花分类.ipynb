{
 "cells": [
  {
   "cell_type": "markdown",
   "id": "9937b6bc",
   "metadata": {},
   "source": [
    "## 1. 导入依赖包"
   ]
  },
  {
   "cell_type": "code",
   "execution_count": 1,
   "id": "8a757a34",
   "metadata": {},
   "outputs": [],
   "source": [
    "from sklearn.datasets import load_iris\n",
    "from sklearn.model_selection import train_test_split\n",
    "from sklearn.preprocessing import StandardScaler\n",
    "from sklearn.neighbors import KNeighborsClassifier"
   ]
  },
  {
   "cell_type": "markdown",
   "id": "441d0921",
   "metadata": {},
   "source": [
    "## 2. 导入数据集"
   ]
  },
  {
   "cell_type": "code",
   "execution_count": 2,
   "id": "97c8be0c",
   "metadata": {},
   "outputs": [],
   "source": [
    "iris = load_iris()"
   ]
  },
  {
   "cell_type": "markdown",
   "id": "2e1a6a12",
   "metadata": {},
   "source": [
    "## 3. 将数据集切分成训练集和测试集"
   ]
  },
  {
   "cell_type": "code",
   "execution_count": 3,
   "id": "eda616d6",
   "metadata": {},
   "outputs": [],
   "source": [
    "x_train, x_test, y_train, y_test = train_test_split(iris.data, iris.target, \n",
    "                                                    random_state=666)"
   ]
  },
  {
   "cell_type": "markdown",
   "id": "9eee9de5",
   "metadata": {},
   "source": [
    "## 4. 对数据进行标准化"
   ]
  },
  {
   "cell_type": "code",
   "execution_count": 4,
   "id": "641c614c",
   "metadata": {},
   "outputs": [],
   "source": [
    "transfer = StandardScaler()\n",
    "x_train = transfer.fit_transform(x_train)\n",
    "x_test = transfer.transform(x_test)"
   ]
  },
  {
   "cell_type": "markdown",
   "id": "1d04e6d0",
   "metadata": {},
   "source": [
    "## 5. 定义模型"
   ]
  },
  {
   "cell_type": "code",
   "execution_count": 5,
   "id": "eb127a5b",
   "metadata": {},
   "outputs": [],
   "source": [
    "estimator = KNeighborsClassifier(n_neighbors=3)"
   ]
  },
  {
   "cell_type": "markdown",
   "id": "c9ac861f",
   "metadata": {},
   "source": [
    "## 6. 训练模型"
   ]
  },
  {
   "cell_type": "code",
   "execution_count": 6,
   "id": "6601285e",
   "metadata": {},
   "outputs": [
    {
     "data": {
      "text/plain": [
       "KNeighborsClassifier(n_neighbors=3)"
      ]
     },
     "execution_count": 6,
     "metadata": {},
     "output_type": "execute_result"
    }
   ],
   "source": [
    "estimator.fit(x_train, y_train)"
   ]
  },
  {
   "cell_type": "markdown",
   "id": "7325516a",
   "metadata": {},
   "source": [
    "## 7. 打印预测结果"
   ]
  },
  {
   "cell_type": "code",
   "execution_count": 7,
   "id": "cf8a57f8",
   "metadata": {},
   "outputs": [
    {
     "name": "stdout",
     "output_type": "stream",
     "text": [
      "[1 2 1 2 0 1 1 2 1 1 1 0 0 0 2 1 0 2 2 2 1 0 2 0 1 1 0 1 2 2 0 0 1 2 1 1 1\n",
      " 2]\n"
     ]
    }
   ],
   "source": [
    "y_predict = estimator.predict(x_test)\n",
    "print(y_predict)"
   ]
  },
  {
   "cell_type": "markdown",
   "id": "1387f81e",
   "metadata": {},
   "source": [
    "## 8. 打印准确率"
   ]
  },
  {
   "cell_type": "code",
   "execution_count": 8,
   "id": "c396ffc6",
   "metadata": {},
   "outputs": [
    {
     "name": "stdout",
     "output_type": "stream",
     "text": [
      "0.9736842105263158\n"
     ]
    }
   ],
   "source": [
    "score = estimator.score(x_test, y_test)\n",
    "print(score)"
   ]
  },
  {
   "cell_type": "markdown",
   "id": "104b7481",
   "metadata": {},
   "source": [
    "## 案例二：添加网格搜索"
   ]
  },
  {
   "cell_type": "code",
   "execution_count": 9,
   "id": "86e8f434",
   "metadata": {},
   "outputs": [],
   "source": [
    "from sklearn.datasets import load_iris\n",
    "from sklearn.model_selection import train_test_split\n",
    "from sklearn.preprocessing import StandardScaler\n",
    "from sklearn.neighbors import KNeighborsClassifier\n",
    "from sklearn.model_selection import GridSearchCV"
   ]
  },
  {
   "cell_type": "code",
   "execution_count": 10,
   "id": "d35d201b",
   "metadata": {},
   "outputs": [],
   "source": [
    "iris = load_iris()\n",
    "x_train,x_test,y_train,y_test = train_test_split(iris.data, iris.target, \n",
    "                                                 random_state=22)\n",
    "transfer = StandardScaler()\n",
    "x_train = transfer.fit_transform(x_train)\n",
    "x_test = transfer.transform(x_test)\n",
    "\n",
    "estimator = KNeighborsClassifier()"
   ]
  },
  {
   "cell_type": "markdown",
   "id": "583496b8",
   "metadata": {},
   "source": [
    "## 设置网格搜索的可选参数"
   ]
  },
  {
   "cell_type": "code",
   "execution_count": 11,
   "id": "2ec6bc68",
   "metadata": {},
   "outputs": [],
   "source": [
    "param_dict = {'n_neighbors': [1,3,5,7,9,11]}"
   ]
  },
  {
   "cell_type": "markdown",
   "id": "e2d0bfd6",
   "metadata": {},
   "source": [
    "## 设置为10折交叉验证"
   ]
  },
  {
   "cell_type": "code",
   "execution_count": 12,
   "id": "b0ddc786",
   "metadata": {},
   "outputs": [],
   "source": [
    "estimator = GridSearchCV(estimator, param_grid=param_dict, cv=10)"
   ]
  },
  {
   "cell_type": "code",
   "execution_count": 13,
   "id": "a9080260",
   "metadata": {},
   "outputs": [
    {
     "data": {
      "text/plain": [
       "GridSearchCV(cv=10, estimator=KNeighborsClassifier(),\n",
       "             param_grid={'n_neighbors': [1, 3, 5, 7, 9, 11]})"
      ]
     },
     "execution_count": 13,
     "metadata": {},
     "output_type": "execute_result"
    }
   ],
   "source": [
    "estimator.fit(x_train, y_train)"
   ]
  },
  {
   "cell_type": "code",
   "execution_count": 14,
   "id": "31df87f2",
   "metadata": {},
   "outputs": [],
   "source": [
    "y_predict = estimator.predict(x_test)"
   ]
  },
  {
   "cell_type": "markdown",
   "id": "b3850f36",
   "metadata": {},
   "source": [
    "## 打印最佳得分"
   ]
  },
  {
   "cell_type": "code",
   "execution_count": 15,
   "id": "94b95f1f",
   "metadata": {},
   "outputs": [
    {
     "name": "stdout",
     "output_type": "stream",
     "text": [
      "0.9736842105263158\n"
     ]
    }
   ],
   "source": [
    "score = estimator.score(x_test, y_test)\n",
    "print(score)"
   ]
  },
  {
   "cell_type": "markdown",
   "id": "9ba3a9ee",
   "metadata": {},
   "source": [
    "## 打印最佳参数、最佳得分、最佳模型、参数列表"
   ]
  },
  {
   "cell_type": "code",
   "execution_count": 16,
   "id": "ebd2a7b7",
   "metadata": {},
   "outputs": [
    {
     "name": "stdout",
     "output_type": "stream",
     "text": [
      "{'n_neighbors': 3}\n"
     ]
    }
   ],
   "source": [
    "print(estimator.best_params_)"
   ]
  },
  {
   "cell_type": "code",
   "execution_count": 17,
   "id": "66689913",
   "metadata": {},
   "outputs": [
    {
     "name": "stdout",
     "output_type": "stream",
     "text": [
      "0.9553030303030303\n"
     ]
    }
   ],
   "source": [
    "print(estimator.best_score_)"
   ]
  },
  {
   "cell_type": "code",
   "execution_count": 18,
   "id": "0800da4e",
   "metadata": {},
   "outputs": [
    {
     "name": "stdout",
     "output_type": "stream",
     "text": [
      "KNeighborsClassifier(n_neighbors=3)\n"
     ]
    }
   ],
   "source": [
    "print(estimator.best_estimator_)"
   ]
  },
  {
   "cell_type": "code",
   "execution_count": 19,
   "id": "9772ea10",
   "metadata": {},
   "outputs": [
    {
     "name": "stdout",
     "output_type": "stream",
     "text": [
      "{'mean_fit_time': array([0.00050037, 0.00040002, 0.        , 0.        , 0.00019963,\n",
      "       0.00049996]), 'std_fit_time': array([0.00050037, 0.00048992, 0.        , 0.        , 0.00039926,\n",
      "       0.00049996]), 'mean_score_time': array([0.00049999, 0.00039997, 0.00089996, 0.001     , 0.0008004 ,\n",
      "       0.00019996]), 'std_score_time': array([4.99990188e-04, 4.89862546e-04, 2.99986307e-04, 3.54434699e-07,\n",
      "       4.00202278e-04, 3.99923357e-04]), 'param_n_neighbors': masked_array(data=[1, 3, 5, 7, 9, 11],\n",
      "             mask=[False, False, False, False, False, False],\n",
      "       fill_value='?',\n",
      "            dtype=object), 'params': [{'n_neighbors': 1}, {'n_neighbors': 3}, {'n_neighbors': 5}, {'n_neighbors': 7}, {'n_neighbors': 9}, {'n_neighbors': 11}], 'split0_test_score': array([0.91666667, 0.91666667, 1.        , 1.        , 0.91666667,\n",
      "       0.91666667]), 'split1_test_score': array([1., 1., 1., 1., 1., 1.]), 'split2_test_score': array([0.90909091, 0.90909091, 0.90909091, 0.90909091, 0.90909091,\n",
      "       0.90909091]), 'split3_test_score': array([0.90909091, 1.        , 0.90909091, 0.90909091, 0.90909091,\n",
      "       1.        ]), 'split4_test_score': array([1., 1., 1., 1., 1., 1.]), 'split5_test_score': array([0.90909091, 0.90909091, 0.90909091, 0.90909091, 0.90909091,\n",
      "       0.90909091]), 'split6_test_score': array([0.90909091, 0.90909091, 0.90909091, 1.        , 1.        ,\n",
      "       1.        ]), 'split7_test_score': array([0.90909091, 0.90909091, 0.81818182, 0.81818182, 0.81818182,\n",
      "       0.81818182]), 'split8_test_score': array([1., 1., 1., 1., 1., 1.]), 'split9_test_score': array([1., 1., 1., 1., 1., 1.]), 'mean_test_score': array([0.94621212, 0.95530303, 0.94545455, 0.95454545, 0.94621212,\n",
      "       0.95530303]), 'std_test_score': array([0.04397204, 0.0447483 , 0.06030227, 0.06098367, 0.05988683,\n",
      "       0.0604591 ]), 'rank_test_score': array([4, 1, 6, 3, 4, 1])}\n"
     ]
    }
   ],
   "source": [
    "print(estimator.cv_results_)"
   ]
  }
 ],
 "metadata": {
  "kernelspec": {
   "display_name": "Python 3",
   "language": "python",
   "name": "python3"
  },
  "language_info": {
   "codemirror_mode": {
    "name": "ipython",
    "version": 3
   },
   "file_extension": ".py",
   "mimetype": "text/x-python",
   "name": "python",
   "nbconvert_exporter": "python",
   "pygments_lexer": "ipython3",
   "version": "3.8.8"
  }
 },
 "nbformat": 4,
 "nbformat_minor": 5
}
