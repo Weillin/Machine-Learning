{
 "cells": [
  {
   "cell_type": "code",
   "execution_count": 18,
   "metadata": {},
   "outputs": [
    {
     "name": "stdout",
     "output_type": "stream",
     "text": [
      "<os._wrap_close object at 0x000001944FDDC0D0>\n",
      "\n",
      "Windows IP 配置\n",
      "\n",
      "\n",
      "以太网适配器 以太网:\n",
      "\n",
      "   媒体状态  . . . . . . . . . . . . : 媒体已断开连接\n",
      "   连接特定的 DNS 后缀 . . . . . . . : \n",
      "\n",
      "无线局域网适配器 本地连接* 1:\n",
      "\n",
      "   连接特定的 DNS 后缀 . . . . . . . : \n",
      "   本地链接 IPv6 地址. . . . . . . . : fe80::a81f:8b3d:64dd:9817%11\n",
      "   IPv4 地址 . . . . . . . . . . . . : 192.168.137.1\n",
      "   子网掩码  . . . . . . . . . . . . : 255.255.255.0\n",
      "   默认网关. . . . . . . . . . . . . : \n",
      "\n",
      "无线局域网适配器 本地连接* 2:\n",
      "\n",
      "   媒体状态  . . . . . . . . . . . . : 媒体已断开连接\n",
      "   连接特定的 DNS 后缀 . . . . . . . : \n",
      "\n",
      "无线局域网适配器 WLAN:\n",
      "\n",
      "   连接特定的 DNS 后缀 . . . . . . . : huawei.com\n",
      "   本地链接 IPv6 地址. . . . . . . . : fe80::cd78:f414:9e7d:ff52%5\n",
      "   IPv4 地址 . . . . . . . . . . . . : 7.249.79.232\n",
      "   子网掩码  . . . . . . . . . . . . : 255.255.255.0\n",
      "   默认网关. . . . . . . . . . . . . : 7.249.79.1\n",
      "\n",
      "以太网适配器 蓝牙网络连接:\n",
      "\n",
      "   媒体状态  . . . . . . . . . . . . : 媒体已断开连接\n",
      "   连接特定的 DNS 后缀 . . . . . . . : \n",
      "\n"
     ]
    }
   ],
   "source": [
    "import os\n",
    "result = os.popen('ipconfig')\n",
    "print(result)\n",
    "context = result.read()\n",
    "print(context)\n",
    "# for line in context.splitlines():\n",
    "#     print(line)\n",
    "# result.close()"
   ]
  },
  {
   "cell_type": "code",
   "execution_count": null,
   "metadata": {},
   "outputs": [],
   "source": []
  }
 ],
 "metadata": {
  "kernelspec": {
   "display_name": "Python 3",
   "language": "python",
   "name": "python3"
  },
  "language_info": {
   "codemirror_mode": {
    "name": "ipython",
    "version": 3
   },
   "file_extension": ".py",
   "mimetype": "text/x-python",
   "name": "python",
   "nbconvert_exporter": "python",
   "pygments_lexer": "ipython3",
   "version": "3.8.5"
  }
 },
 "nbformat": 4,
 "nbformat_minor": 4
}
