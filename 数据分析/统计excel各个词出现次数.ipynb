{
 "cells": [
  {
   "cell_type": "code",
   "execution_count": 1,
   "metadata": {},
   "outputs": [
    {
     "name": "stdout",
     "output_type": "stream",
     "text": [
      "Requirement already satisfied: xlrd==1.2.0 in /home/ma-user/anaconda3/envs/XGBoost-Sklearn/lib/python3.6/site-packages\n",
      "\u001b[33mYou are using pip version 9.0.1, however version 21.2.2 is available.\n",
      "You should consider upgrading via the 'pip install --upgrade pip' command.\u001b[0m\n",
      "Requirement already satisfied: xlwt in /home/ma-user/anaconda3/envs/XGBoost-Sklearn/lib/python3.6/site-packages\n",
      "\u001b[33mYou are using pip version 9.0.1, however version 21.2.2 is available.\n",
      "You should consider upgrading via the 'pip install --upgrade pip' command.\u001b[0m\n",
      "['Sheet2', 'Sheet1', 'Sheet4']\n"
     ]
    }
   ],
   "source": [
    "!pip install xlrd==1.2.0\n",
    "!pip install xlwt\n",
    "import xlrd\n",
    "import xlwt\n",
    "\n",
    "data = xlrd.open_workbook('test.xlsx')\n",
    "sheet = data.sheet_names()\n",
    "print(sheet)"
   ]
  },
  {
   "cell_type": "code",
   "execution_count": 2,
   "metadata": {},
   "outputs": [
    {
     "name": "stdout",
     "output_type": "stream",
     "text": [
      "Sheet1\n",
      "220\n",
      "50\n"
     ]
    }
   ],
   "source": [
    "sheet1 = data.sheet_by_index(1)\n",
    "print(sheet1.name)\n",
    "print(sheet1.nrows)\n",
    "print(sheet1.ncols)"
   ]
  },
  {
   "cell_type": "code",
   "execution_count": 3,
   "metadata": {},
   "outputs": [
    {
     "name": "stdout",
     "output_type": "stream",
     "text": [
      "11000\n"
     ]
    }
   ],
   "source": [
    "s_list = []\n",
    "for i in range(sheet1.nrows):\n",
    "    row = sheet1.row_values(i)\n",
    "    for j in row:\n",
    "        s_list.append(j)\n",
    "print(len(s_list))"
   ]
  },
  {
   "cell_type": "code",
   "execution_count": 4,
   "metadata": {},
   "outputs": [
    {
     "name": "stdout",
     "output_type": "stream",
     "text": [
      "139\n",
      "[0.0, '', '雨中听雨', 'wangshuai150', '勇度', '郭奎勇', 'hw58439113', 'mingtt0988', 'tangdan158', 'RoyalKun', 'sfwu25', 'ying1212', 'hw62056453', 'wyz13694166286', 'xiu1212', '小熊0311', 'yd_236382168', '小强鼓掌', 34242116.0, '毛毛猫', 'jdzx0977', 'fujinyongsuning', 'wangyingzhenjd', 'tan1112', 'Ascend716', 'yd_265445182', 'zhanggky', 'AI学习者', '雨中独撑伞', 'ws1835819793', 'hw71899548', 'jkzx6181', 'notions', 'lipengsuning', '你好-', 'wangyingzhen', '加油O幸福', 'ws15041591187', 'wangshuang188', 'zgx1636964790', 'wolfandy', 'zhengyong134', 'mingsuning', 'td15841525289', '笨笨2020', 'zyw13019809851', 'liuyan151415787', 'mingtintting186', 'suningfujinyong', 'guoky1894159', 'xiexinlian', 'tanshaotang', 'hlb567', '蓝色橡树', 'hw999666', '郑勇', '考过IE励志当攻城狮', 'hw61648557', 'wangxiaoming', '昶谕', 'mingtingting', 'suninglipeng', 'er34', 'ziyuw130', 'YJM5570', 'Hello Digger', '问道', '初学者7000', 'hw66990963', 'Aihack爱智简', '王毛毛', '訾玉伟', 'shao1112', 'yao1212', 'holo.yh', 'yd_235090915', '简单坚持', 'yzq18941596181', '厄尔让我2', 'td13009201335', 'HW-QGS', '郭kuiyong', '蜡笔不辣', '杀神卡卡', '电竞淑芬', 'wangxm158', 'sunyanan', '@Wu', '袁覃', '霜霜', 'gc7500', 'martin_xu', 'yd_264121923', '帕加尼风之子8866', 'zhengguixiang', '胡琦', 'hw80149474', 'wangshuaishuai150', 'fujinyong', 'JeffDing', 'zhangli133', 'anjianjuguo', 'hw170303748', 'ws18841562367', 'nukinsan', 'jinkongtangdan', '山月不知心底事', '湬黍', '黄生', 'yaoyao15', 'jkzxtangdan', 'ziyuwei', 'tanboss323', 'yd_272989355', 'ye07050', 'ly15141570587', '运气男孩', '剑雨', 'DevFeng', '王爽爽', 'lipeng2882', 'guokuiyong', 'yd_285663819', 'yzq13516078375', '烟忆', 'HWCloudAI', 'yvan1010', 'hw68852324', '张辉', 'tang1112', 'mythcsj', 'dandongjkzx', '倪平宇', 'sunyananguomei', 'zhangliguo1333', '王亦臻', '元气满满的少女月', 'tangd158415252', 'yizhangl']\n"
     ]
    }
   ],
   "source": [
    "li_set = list(set(s_list))\n",
    "print(len(li_set))\n",
    "print(li_set)"
   ]
  },
  {
   "cell_type": "code",
   "execution_count": 5,
   "metadata": {},
   "outputs": [
    {
     "name": "stdout",
     "output_type": "stream",
     "text": [
      "[('', 7714), ('zhangli133', 54), ('ws18841562367', 54), ('jinkongtangdan', 54), ('xiexinlian', 53), ('fujinyong', 53), ('ziyuwei', 53), ('tangdan158', 52), ('suningfujinyong', 52), ('lipeng2882', 52), ('sunyananguomei', 52), ('mingsuning', 51), ('guoky1894159', 51), ('王爽爽', 51), ('tangd158415252', 51), ('小强鼓掌', 50), ('zhengyong134', 50), ('郑勇', 50), ('fujinyongsuning', 49), ('zhanggky', 49), ('zyw13019809851', 48), ('郭kuiyong', 48), ('dandongjkzx', 48), ('mingtt0988', 47), ('lipengsuning', 47), ('td15841525289', 47), ('訾玉伟', 47), ('wangxm158', 47), ('sunyanan', 47), ('郭奎勇', 46), ('wangxiaoming', 46), ('jkzxtangdan', 46), ('ws1835819793', 45), ('mingtintting186', 45), ('suninglipeng', 45), ('wyz13694166286', 43), ('wangshuang188', 43), ('ziyuw130', 42), ('yzq18941596181', 42), ('霜霜', 42), ('zhengguixiang', 42), ('zhangliguo1333', 42), ('wangyingzhenjd', 41), ('td13009201335', 41), ('nukinsan', 41), ('ly15141570587', 41), ('毛毛猫', 40), ('jkzx6181', 38), ('hw68852324', 38), ('liuyan151415787', 37), ('wangshuaishuai150', 37), ('ws15041591187', 36), ('yzq13516078375', 36), ('guokuiyong', 35), ('anjianjuguo', 34), ('jdzx0977', 33), ('wangshuai150', 31), ('wangyingzhen', 31), ('zgx1636964790', 31), ('mingtingting', 31), ('王毛毛', 30), ('wolfandy', 27), ('雨中听雨', 25), ('Aihack爱智简', 25), ('问道', 18), ('帕加尼风之子8866', 18), ('yizhangl', 16), ('剑雨', 15), ('34242116.0', 14), ('厄尔让我2', 14), ('ye07050', 14), ('sfwu25', 13), ('hw62056453', 13), ('xiu1212', 13), ('tanshaotang', 13), ('hlb567', 13), ('shao1112', 13), ('tanboss323', 13), ('hw58439113', 12), ('tan1112', 12), ('加油O幸福', 12), ('hw999666', 12), ('考过IE励志当攻城狮', 12), ('er34', 12), ('hw66990963', 12), ('yao1212', 12), ('gc7500', 12), ('hw170303748', 12), ('yaoyao15', 12), ('yvan1010', 12), ('tang1112', 12), ('倪平宇', 12), ('ying1212', 11), ('hw61648557', 11), ('YJM5570', 11), ('hw80149474', 11), ('雨中独撑伞', 10), ('hw71899548', 10), ('你好-', 10), ('昶谕', 10), ('HWCloudAI', 10), ('湬黍', 8), ('holo.yh', 7), ('martin_xu', 7), ('笨笨2020', 6), ('勇度', 5), ('初学者7000', 5), ('蜡笔不辣', 5), ('袁覃', 4), ('王亦臻', 4), ('0.0', 3), ('简单坚持', 3), ('@Wu', 3), ('HW-QGS', 2), ('胡琦', 2), ('张辉', 2), ('RoyalKun', 1), ('小熊0311', 1), ('yd_236382168', 1), ('Ascend716', 1), ('yd_265445182', 1), ('AI学习者', 1), ('notions', 1), ('蓝色橡树', 1), ('Hello Digger', 1), ('yd_235090915', 1), ('杀神卡卡', 1), ('电竞淑芬', 1), ('yd_264121923', 1), ('JeffDing', 1), ('山月不知心底事', 1), ('黄生', 1), ('yd_272989355', 1), ('运气男孩', 1), ('DevFeng', 1), ('yd_285663819', 1), ('烟忆', 1), ('mythcsj', 1), ('元气满满的少女月', 1)]\n"
     ]
    }
   ],
   "source": [
    "d = {}\n",
    "for k in li_set:\n",
    "    key = str(k)\n",
    "    value = int(s_list.count(k))\n",
    "    d[key] = value \n",
    "li = sorted(d.items(), key=lambda item:item[1], reverse=True)\n",
    "print(li)"
   ]
  },
  {
   "cell_type": "code",
   "execution_count": 6,
   "metadata": {},
   "outputs": [
    {
     "name": "stdout",
     "output_type": "stream",
     "text": [
      "('', 7714)\n",
      "('zhangli133', 54)\n",
      "('ws18841562367', 54)\n",
      "('jinkongtangdan', 54)\n",
      "('xiexinlian', 53)\n",
      "('fujinyong', 53)\n",
      "('ziyuwei', 53)\n",
      "('tangdan158', 52)\n",
      "('suningfujinyong', 52)\n",
      "('lipeng2882', 52)\n",
      "('sunyananguomei', 52)\n",
      "('mingsuning', 51)\n",
      "('guoky1894159', 51)\n",
      "('王爽爽', 51)\n",
      "('tangd158415252', 51)\n",
      "('小强鼓掌', 50)\n",
      "('zhengyong134', 50)\n",
      "('郑勇', 50)\n",
      "('fujinyongsuning', 49)\n",
      "('zhanggky', 49)\n",
      "('zyw13019809851', 48)\n",
      "('郭kuiyong', 48)\n",
      "('dandongjkzx', 48)\n",
      "('mingtt0988', 47)\n",
      "('lipengsuning', 47)\n",
      "('td15841525289', 47)\n",
      "('訾玉伟', 47)\n",
      "('wangxm158', 47)\n",
      "('sunyanan', 47)\n",
      "('郭奎勇', 46)\n",
      "('wangxiaoming', 46)\n",
      "('jkzxtangdan', 46)\n",
      "('ws1835819793', 45)\n",
      "('mingtintting186', 45)\n",
      "('suninglipeng', 45)\n",
      "('wyz13694166286', 43)\n",
      "('wangshuang188', 43)\n",
      "('ziyuw130', 42)\n",
      "('yzq18941596181', 42)\n",
      "('霜霜', 42)\n",
      "('zhengguixiang', 42)\n",
      "('zhangliguo1333', 42)\n",
      "('wangyingzhenjd', 41)\n",
      "('td13009201335', 41)\n",
      "('nukinsan', 41)\n",
      "('ly15141570587', 41)\n",
      "('毛毛猫', 40)\n",
      "('jkzx6181', 38)\n",
      "('hw68852324', 38)\n",
      "('liuyan151415787', 37)\n",
      "('wangshuaishuai150', 37)\n",
      "('ws15041591187', 36)\n",
      "('yzq13516078375', 36)\n",
      "('guokuiyong', 35)\n",
      "('anjianjuguo', 34)\n",
      "('jdzx0977', 33)\n",
      "('wangshuai150', 31)\n",
      "('wangyingzhen', 31)\n",
      "('zgx1636964790', 31)\n",
      "('mingtingting', 31)\n",
      "('王毛毛', 30)\n",
      "('wolfandy', 27)\n",
      "('雨中听雨', 25)\n",
      "('Aihack爱智简', 25)\n",
      "('问道', 18)\n",
      "('帕加尼风之子8866', 18)\n",
      "('yizhangl', 16)\n",
      "('剑雨', 15)\n",
      "('34242116.0', 14)\n",
      "('厄尔让我2', 14)\n",
      "('ye07050', 14)\n",
      "('sfwu25', 13)\n",
      "('hw62056453', 13)\n",
      "('xiu1212', 13)\n",
      "('tanshaotang', 13)\n",
      "('hlb567', 13)\n",
      "('shao1112', 13)\n",
      "('tanboss323', 13)\n",
      "('hw58439113', 12)\n",
      "('tan1112', 12)\n",
      "('加油O幸福', 12)\n",
      "('hw999666', 12)\n",
      "('考过IE励志当攻城狮', 12)\n",
      "('er34', 12)\n",
      "('hw66990963', 12)\n",
      "('yao1212', 12)\n",
      "('gc7500', 12)\n",
      "('hw170303748', 12)\n",
      "('yaoyao15', 12)\n",
      "('yvan1010', 12)\n",
      "('tang1112', 12)\n",
      "('倪平宇', 12)\n",
      "('ying1212', 11)\n",
      "('hw61648557', 11)\n",
      "('YJM5570', 11)\n",
      "('hw80149474', 11)\n",
      "('雨中独撑伞', 10)\n",
      "('hw71899548', 10)\n",
      "('你好-', 10)\n",
      "('昶谕', 10)\n",
      "('HWCloudAI', 10)\n",
      "('湬黍', 8)\n",
      "('holo.yh', 7)\n",
      "('martin_xu', 7)\n",
      "('笨笨2020', 6)\n",
      "('勇度', 5)\n",
      "('初学者7000', 5)\n",
      "('蜡笔不辣', 5)\n",
      "('袁覃', 4)\n",
      "('王亦臻', 4)\n",
      "('0.0', 3)\n",
      "('简单坚持', 3)\n",
      "('@Wu', 3)\n",
      "('HW-QGS', 2)\n",
      "('胡琦', 2)\n",
      "('张辉', 2)\n",
      "('RoyalKun', 1)\n",
      "('小熊0311', 1)\n",
      "('yd_236382168', 1)\n",
      "('Ascend716', 1)\n",
      "('yd_265445182', 1)\n",
      "('AI学习者', 1)\n",
      "('notions', 1)\n",
      "('蓝色橡树', 1)\n",
      "('Hello Digger', 1)\n",
      "('yd_235090915', 1)\n",
      "('杀神卡卡', 1)\n",
      "('电竞淑芬', 1)\n",
      "('yd_264121923', 1)\n",
      "('JeffDing', 1)\n",
      "('山月不知心底事', 1)\n",
      "('黄生', 1)\n",
      "('yd_272989355', 1)\n",
      "('运气男孩', 1)\n",
      "('DevFeng', 1)\n",
      "('yd_285663819', 1)\n",
      "('烟忆', 1)\n",
      "('mythcsj', 1)\n",
      "('元气满满的少女月', 1)\n"
     ]
    }
   ],
   "source": [
    "workbook = xlwt.Workbook(encoding = 'utf-8')\n",
    "worksheet = workbook.add_sheet('count')\n",
    "\n",
    "for k in range(len(li)):\n",
    "    print(li[k])\n",
    "    worksheet.write(k+1,0,li[k][0])\n",
    "    worksheet.write(k+1,1,li[k][1])\n",
    "workbook.save('count.xls')"
   ]
  }
 ],
 "metadata": {
  "kernelspec": {
   "display_name": "XGBoost-Sklearn",
   "language": "python",
   "name": "xgboost-sklearn"
  },
  "language_info": {
   "codemirror_mode": {
    "name": "ipython",
    "version": 3
   },
   "file_extension": ".py",
   "mimetype": "text/x-python",
   "name": "python",
   "nbconvert_exporter": "python",
   "pygments_lexer": "ipython3",
   "version": "3.6.2"
  }
 },
 "nbformat": 4,
 "nbformat_minor": 4
}
