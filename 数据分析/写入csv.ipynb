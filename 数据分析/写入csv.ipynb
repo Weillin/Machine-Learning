{
 "cells": [
  {
   "cell_type": "code",
   "execution_count": 1,
   "id": "851b82be",
   "metadata": {},
   "outputs": [],
   "source": [
    "import csv\n",
    "\n",
    "with open('test.csv', 'a+', newline='', encoding='utf_8_sig') as f:\n",
    "    writer = csv.writer(f)\n",
    "    for i in range(100):\n",
    "        row = ['兔子','鸡', '猴', '孩子', '妹子']\n",
    "        writer.writerow(row)"
   ]
  },
  {
   "cell_type": "code",
   "execution_count": 2,
   "id": "22067e9b",
   "metadata": {},
   "outputs": [],
   "source": [
    "import os\n",
    "\n",
    "\n",
    "with open('test.csv', 'w') as f:\n",
    "    f.write('a,b,c\\n')\n",
    "    f.write('4,Pave,127500\\n')\n",
    "    f.write('w,5,106000\\n')\n",
    "    f.write('4,e,178100\\n')\n",
    "    f.write('a,2,140000\\n')"
   ]
  }
 ],
 "metadata": {
  "kernelspec": {
   "display_name": "Python 3",
   "language": "python",
   "name": "python3"
  },
  "language_info": {
   "codemirror_mode": {
    "name": "ipython",
    "version": 3
   },
   "file_extension": ".py",
   "mimetype": "text/x-python",
   "name": "python",
   "nbconvert_exporter": "python",
   "pygments_lexer": "ipython3",
   "version": "3.8.8"
  }
 },
 "nbformat": 4,
 "nbformat_minor": 5
}
