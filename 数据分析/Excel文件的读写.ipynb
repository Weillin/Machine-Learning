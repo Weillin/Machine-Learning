{
 "cells": [
  {
   "cell_type": "markdown",
   "id": "b6d94dda",
   "metadata": {},
   "source": [
    "## 1.导入依赖库"
   ]
  },
  {
   "cell_type": "code",
   "execution_count": 1,
   "id": "f6b83f7c",
   "metadata": {},
   "outputs": [],
   "source": [
    "# !pip install xlrd==1.2.0\n",
    "import xlrd        #读取excel\n",
    "import xlwt        #写入excel"
   ]
  },
  {
   "cell_type": "markdown",
   "id": "4c0e05d0",
   "metadata": {},
   "source": [
    "## 2.读取excel"
   ]
  },
  {
   "cell_type": "code",
   "execution_count": 2,
   "id": "23a0bd6d",
   "metadata": {},
   "outputs": [],
   "source": [
    "data = xlrd.open_workbook(r'../../data/人口.xlsx')"
   ]
  },
  {
   "cell_type": "markdown",
   "id": "e4a9048b",
   "metadata": {},
   "source": [
    "## 3.查看当前excel有哪些sheet"
   ]
  },
  {
   "cell_type": "code",
   "execution_count": 3,
   "id": "7dabe6a1",
   "metadata": {},
   "outputs": [
    {
     "name": "stdout",
     "output_type": "stream",
     "text": [
      "['Sheet1']\n"
     ]
    }
   ],
   "source": [
    "sheet = data.sheet_names() \n",
    "print(sheet)"
   ]
  },
  {
   "cell_type": "markdown",
   "id": "d9d6eb83",
   "metadata": {},
   "source": [
    "## 4.查看第一个sheet的名称"
   ]
  },
  {
   "cell_type": "code",
   "execution_count": 4,
   "id": "27069c16",
   "metadata": {},
   "outputs": [
    {
     "name": "stdout",
     "output_type": "stream",
     "text": [
      "Sheet1\n"
     ]
    }
   ],
   "source": [
    "sheet1 = data.sheet_names()[0]\n",
    "print(sheet1) "
   ]
  },
  {
   "cell_type": "markdown",
   "id": "75e555b3",
   "metadata": {},
   "source": [
    "## 5.选择要操作第几个sheet，打印其名称、总行数、总列数"
   ]
  },
  {
   "cell_type": "code",
   "execution_count": 5,
   "id": "a4d1972e",
   "metadata": {},
   "outputs": [
    {
     "name": "stdout",
     "output_type": "stream",
     "text": [
      "Sheet1\n",
      "7\n",
      "3\n"
     ]
    }
   ],
   "source": [
    "sheet1 = data.sheet_by_index(0)\n",
    "print(sheet1.name)\n",
    "print(sheet1.nrows)\n",
    "print(sheet1.ncols)"
   ]
  },
  {
   "cell_type": "markdown",
   "id": "5e70eece",
   "metadata": {},
   "source": [
    "## 6.选择要操作哪个sheet，打印其名称、总行数、总列数"
   ]
  },
  {
   "cell_type": "code",
   "execution_count": 6,
   "id": "a400d5d9",
   "metadata": {},
   "outputs": [
    {
     "name": "stdout",
     "output_type": "stream",
     "text": [
      "Sheet1\n",
      "7\n",
      "3\n"
     ]
    }
   ],
   "source": [
    "sheet2 = data.sheet_by_name('Sheet1')\n",
    "print(sheet2.name)\n",
    "print(sheet2.nrows)\n",
    "print(sheet2.ncols)"
   ]
  },
  {
   "cell_type": "markdown",
   "id": "7e0d3693",
   "metadata": {},
   "source": [
    "## 7.显示第一行、第一列"
   ]
  },
  {
   "cell_type": "code",
   "execution_count": 7,
   "id": "45ad39dd",
   "metadata": {},
   "outputs": [
    {
     "name": "stdout",
     "output_type": "stream",
     "text": [
      "['城市', '人口（万）', '日期']\n",
      "['城市', '天津市', '上海市', '北京市', '重庆市', '深圳市', '成都市']\n"
     ]
    }
   ],
   "source": [
    "row = sheet2.row_values(0)\n",
    "col = sheet2.col_values(0)\n",
    "print(row)\n",
    "print(col)"
   ]
  },
  {
   "cell_type": "markdown",
   "id": "bd5dd232",
   "metadata": {},
   "source": [
    "## 8.筛选想要的数据存入列表"
   ]
  },
  {
   "cell_type": "code",
   "execution_count": 8,
   "id": "ca2fe647",
   "metadata": {},
   "outputs": [
    {
     "name": "stdout",
     "output_type": "stream",
     "text": [
      "['天津市', '上海市', '北京市', '重庆市', '深圳市', '成都市']\n",
      "6\n"
     ]
    }
   ],
   "source": [
    "li = []\n",
    "for i in col[1:]:\n",
    "#     res = i.replace('\\n', ' ')\n",
    "#     r = res.split(' ')\n",
    "        li.append(i)\n",
    "print(li)\n",
    "print(len(li))"
   ]
  },
  {
   "cell_type": "markdown",
   "id": "bbe62c4e",
   "metadata": {},
   "source": [
    "## 9.打印第二行第一列"
   ]
  },
  {
   "cell_type": "code",
   "execution_count": 9,
   "id": "359ce5b7",
   "metadata": {},
   "outputs": [
    {
     "name": "stdout",
     "output_type": "stream",
     "text": [
      "天津市\n",
      "天津市\n",
      "天津市\n"
     ]
    }
   ],
   "source": [
    "print(sheet1.cell(1,0).value)\n",
    "print(sheet1.cell_value(1,0))\n",
    "print(sheet1.row(1)[0].value)"
   ]
  },
  {
   "cell_type": "markdown",
   "id": "7d3c6c2c",
   "metadata": {},
   "source": [
    "## 10.打印数据类型"
   ]
  },
  {
   "cell_type": "markdown",
   "id": "01d358cb",
   "metadata": {},
   "source": [
    "说明：0:empty, 1:string, 2:number, 3:date, 4:boolean, 5:error"
   ]
  },
  {
   "cell_type": "code",
   "execution_count": 10,
   "id": "c5290590",
   "metadata": {},
   "outputs": [
    {
     "name": "stdout",
     "output_type": "stream",
     "text": [
      "1\n",
      "2\n",
      "3\n"
     ]
    }
   ],
   "source": [
    "print(sheet1.cell(1,0).ctype)\n",
    "print(sheet1.cell(1,1).ctype)\n",
    "print(sheet1.cell(1,2).ctype)"
   ]
  },
  {
   "cell_type": "markdown",
   "id": "c2708b37",
   "metadata": {},
   "source": [
    "## 11.对列表中的数据进行去重"
   ]
  },
  {
   "cell_type": "code",
   "execution_count": 11,
   "id": "3b40e1f4",
   "metadata": {},
   "outputs": [
    {
     "name": "stdout",
     "output_type": "stream",
     "text": [
      "['重庆市', '成都市', '深圳市', '上海市', '天津市', '北京市']\n",
      "6\n"
     ]
    }
   ],
   "source": [
    "li_set = list(set(li))\n",
    "print(li_set)\n",
    "print(len(li_set))"
   ]
  },
  {
   "cell_type": "markdown",
   "id": "81f10247",
   "metadata": {},
   "source": [
    "## 12.统计去重后列表中每个元素出现的次数"
   ]
  },
  {
   "cell_type": "code",
   "execution_count": 12,
   "id": "81e0878d",
   "metadata": {},
   "outputs": [
    {
     "name": "stdout",
     "output_type": "stream",
     "text": [
      "['重庆市', '成都市', '深圳市', '上海市', '天津市', '北京市']\n",
      "[1, 1, 1, 1, 1, 1]\n"
     ]
    }
   ],
   "source": [
    "li_1 = []\n",
    "li_2 = []\n",
    "for j in li_set:\n",
    "    li_1.append(j)\n",
    "    li_2.append(li.count(j))\n",
    "print(li_1)\n",
    "print(li_2)"
   ]
  },
  {
   "cell_type": "markdown",
   "id": "2daa24a9",
   "metadata": {},
   "source": [
    "## 13.将时间数据格式进行转换"
   ]
  },
  {
   "cell_type": "code",
   "execution_count": 13,
   "id": "93b600da",
   "metadata": {},
   "outputs": [
    {
     "name": "stdout",
     "output_type": "stream",
     "text": [
      "2018/05/01\n",
      "2018/02/01\n",
      "2018/04/14\n",
      "2018/02/04\n",
      "2018/03/14\n",
      "2018/02/04\n"
     ]
    }
   ],
   "source": [
    "from datetime import datetime,date\n",
    "\n",
    "li_3 = []\n",
    "for i in range(len(col)):\n",
    "    if sheet1.cell(i,2).ctype == 3 :\n",
    "        num = sheet1.cell(i, 2).value\n",
    "        date_value = xlrd.xldate_as_tuple(sheet1.cell(i, 2).value, data.datemode)\n",
    "        inp = date(*date_value[:3])\n",
    "        out = date(*date_value[:3]).strftime('%Y/%m/%d')\n",
    "        li_3.append(out)\n",
    "        print(out)"
   ]
  },
  {
   "cell_type": "markdown",
   "id": "80fc08d0",
   "metadata": {},
   "source": [
    "## 14.将数据写入excel"
   ]
  },
  {
   "cell_type": "code",
   "execution_count": 14,
   "id": "361ff469",
   "metadata": {},
   "outputs": [],
   "source": [
    "workbook = xlwt.Workbook(encoding = 'utf-8')\n",
    "worksheet = workbook.add_sheet('data')\n",
    "worksheet.write(0,0, label = '城市')\n",
    "worksheet.write(0,1, label = '人口（万）')\n",
    "worksheet.write(0,2, label = '日期')\n",
    "for k in range(len(li_1)):\n",
    "    worksheet.write(k+1,0,li_1[k])\n",
    "    worksheet.write(k+1,1,li_2[k])\n",
    "    worksheet.write(k+1,2,li_3[k])\n",
    "workbook.save('城市人口.xls')"
   ]
  }
 ],
 "metadata": {
  "kernelspec": {
   "display_name": "Python 3",
   "language": "python",
   "name": "python3"
  },
  "language_info": {
   "codemirror_mode": {
    "name": "ipython",
    "version": 3
   },
   "file_extension": ".py",
   "mimetype": "text/x-python",
   "name": "python",
   "nbconvert_exporter": "python",
   "pygments_lexer": "ipython3",
   "version": "3.8.8"
  }
 },
 "nbformat": 4,
 "nbformat_minor": 5
}
