{
 "cells": [
  {
   "cell_type": "markdown",
   "metadata": {},
   "source": [
    "# 读取图片"
   ]
  },
  {
   "cell_type": "code",
   "execution_count": 1,
   "metadata": {},
   "outputs": [
    {
     "name": "stdout",
     "output_type": "stream",
     "text": [
      "img_type: <class 'PIL.JpegImagePlugin.JpegImageFile'>\n",
      "img_size: (2560, 1600)\n",
      "img_shape: (1600, 2560, 3)\n",
      "img_mat: [[[176 200 224]\n",
      "  [176 200 224]\n",
      "  [176 200 224]\n",
      "  ...\n",
      "  [149 178 212]\n",
      "  [149 178 212]\n",
      "  [149 178 212]]\n",
      "\n",
      " [[176 200 224]\n",
      "  [176 200 224]\n",
      "  [176 200 224]\n",
      "  ...\n",
      "  [150 179 213]\n",
      "  [150 179 213]\n",
      "  [150 179 213]]\n",
      "\n",
      " [[176 200 224]\n",
      "  [176 200 224]\n",
      "  [176 200 224]\n",
      "  ...\n",
      "  [151 180 214]\n",
      "  [152 181 215]\n",
      "  [152 181 215]]\n",
      "\n",
      " ...\n",
      "\n",
      " [[ 28  28  30]\n",
      "  [ 32  32  34]\n",
      "  [ 39  39  41]\n",
      "  ...\n",
      "  [ 15  13  14]\n",
      "  [ 11   9  10]\n",
      "  [  9   7   8]]\n",
      "\n",
      " [[ 31  31  33]\n",
      "  [ 32  32  34]\n",
      "  [ 34  34  36]\n",
      "  ...\n",
      "  [ 16  14  15]\n",
      "  [ 15  13  14]\n",
      "  [ 14  12  13]]\n",
      "\n",
      " [[ 35  35  37]\n",
      "  [ 33  33  35]\n",
      "  [ 33  33  35]\n",
      "  ...\n",
      "  [ 13  11  12]\n",
      "  [ 15  13  14]\n",
      "  [ 16  14  15]]]\n"
     ]
    }
   ],
   "source": [
    "from PIL import Image\n",
    "import numpy as np\n",
    "\n",
    "def read_img(img_path):\n",
    "    img = Image.open(img_path)\n",
    "    img_type = type(img)\n",
    "    img_size = img.size\n",
    "    img_mat = np.array(img)\n",
    "    img_shape = img_mat.shape\n",
    "    return img_type, img_size, img_shape, img_mat\n",
    "\n",
    "if __name__ == '__main__':\n",
    "    img_path = 'data/img1.jpg'\n",
    "    img_type, img_size, img_shape, img_mat = read_img(img_path)\n",
    "    print('img_type: {}'.format(img_type))\n",
    "    print('img_size: {}'.format(img_size))\n",
    "    print('img_shape: {}'.format(img_shape))\n",
    "    print('img_mat: {}'.format(img_mat))"
   ]
  },
  {
   "cell_type": "markdown",
   "metadata": {},
   "source": [
    "# 保存图片"
   ]
  },
  {
   "cell_type": "code",
   "execution_count": 2,
   "metadata": {},
   "outputs": [],
   "source": [
    "from PIL import Image\n",
    "import numpy as np\n",
    "\n",
    "def save_img(in_path, out_path):\n",
    "    img = Image.open(in_path)\n",
    "    img.save(out_path, 'png')\n",
    "    \n",
    "if __name__ == '__main__':\n",
    "    in_path = 'data/img1.jpg'\n",
    "    out_path = 'save.png'\n",
    "    save_img(in_path, out_path)"
   ]
  }
 ],
 "metadata": {
  "kernelspec": {
   "display_name": "Python 3",
   "language": "python",
   "name": "python3"
  },
  "language_info": {
   "codemirror_mode": {
    "name": "ipython",
    "version": 3
   },
   "file_extension": ".py",
   "mimetype": "text/x-python",
   "name": "python",
   "nbconvert_exporter": "python",
   "pygments_lexer": "ipython3",
   "version": "3.8.5"
  }
 },
 "nbformat": 4,
 "nbformat_minor": 4
}
