{
 "cells": [
  {
   "cell_type": "markdown",
   "id": "24f69217",
   "metadata": {},
   "source": [
    "### 1.导入依赖包"
   ]
  },
  {
   "cell_type": "code",
   "execution_count": 1,
   "id": "dae13dca",
   "metadata": {},
   "outputs": [],
   "source": [
    "import re\n",
    "import os\n",
    "import time\n",
    "import random\n",
    "import requests\n",
    "from lxml import etree"
   ]
  },
  {
   "cell_type": "markdown",
   "id": "1030be50",
   "metadata": {},
   "source": [
    "### 2.获取网页的url"
   ]
  },
  {
   "cell_type": "code",
   "execution_count": 2,
   "id": "4a312b44",
   "metadata": {},
   "outputs": [],
   "source": [
    "def get_url(url):\n",
    "    # 伪造请求头\n",
    "    headers = {\n",
    "        'user-agent': 'Mozilla/5.0 (Windows NT 10.0; Win64; x64) AppleWebKit/537.36 (KHTML, like Gecko) Chrome/91.0.4472.77 Safari/537.36'\n",
    "    }\n",
    "    # 发送请求\n",
    "    res = requests.get(url, headers=headers)\n",
    "    # 设置休眠时间\n",
    "    time.sleep(random.randint(1, 3))\n",
    "    # 指定编码方式\n",
    "    res.encoding = 'gbk'\n",
    "    # 解析网页\n",
    "    html = etree.HTML(res.text)\n",
    "    # 对url进行去重\n",
    "    url_list = set()\n",
    "    # 提取节点信息\n",
    "    link = html.xpath('//ul/li[@class=\"left-list_li\"]/a/@href')\n",
    "    # 将url添加到url列表\n",
    "    for i in link:\n",
    "        url_list.add(i)\n",
    "    link2 = html.xpath('//dl[@class=\"hot public-box\"]/dd/a/@href')\n",
    "    for j in link2:\n",
    "        url_list.add(j)\n",
    "    link3 = html.xpath('//dl[@class=\"channel public-box\"]/dd/a/@href')\n",
    "    for k in link3:\n",
    "        url_list.add(k)\n",
    "    lk4 = html.xpath('//ul[@class=\"column public-box\"]/li[@class=\"column-li\"]/a/@href')\n",
    "    for l in lk4:\n",
    "        url_list.add(l)\n",
    "    for url in url_list:\n",
    "        get_img(url)"
   ]
  },
  {
   "cell_type": "markdown",
   "id": "ddeadbf4",
   "metadata": {},
   "source": [
    "### 3.获取图片"
   ]
  },
  {
   "cell_type": "code",
   "execution_count": 3,
   "id": "793b8b8c",
   "metadata": {},
   "outputs": [],
   "source": [
    "def get_img(link):\n",
    "    headers = {\n",
    "        'user-agent': 'Mozilla/5.0 (Windows NT 10.0; Win64; x64) AppleWebKit/537.36 (KHTML, like Gecko) Chrome/91.0.4472.77 Safari/537.36'\n",
    "    }\n",
    "    print(link)\n",
    "    res = requests.get(link, headers=headers)\n",
    "    time.sleep(random.randint(1, 3))\n",
    "    res.encoding = 'gbk'\n",
    "    # 从网页提取需要的信息\n",
    "    page = re.findall('>共(.*?)页<', res.text)[0]\n",
    "    res = etree.HTML(res.text)\n",
    "    img_link = res.xpath('//div/a/img/@src')[0]\n",
    "    name = res.xpath('//div[@class=\"content\"]/h5/text()')[0]\n",
    "    # 构造url\n",
    "    base_url = img_link.split('/')\n",
    "    url = base_url[:-1]\n",
    "    url = '/'.join(url)\n",
    "    for i in range(1, int(page) + 1):\n",
    "        img_link = url + '/' + str(i) + '.jpg'\n",
    "        save_img(link, img_link, name, i)"
   ]
  },
  {
   "cell_type": "markdown",
   "id": "9c2771c0",
   "metadata": {},
   "source": [
    "### 4.保存图片"
   ]
  },
  {
   "cell_type": "code",
   "execution_count": 4,
   "id": "dc811e9b",
   "metadata": {},
   "outputs": [],
   "source": [
    "def save_img(link, img_link, name, i):\n",
    "    headers = {\n",
    "        'Referer': link,\n",
    "        'User-Agent': 'Mozilla/5.0 (Windows NT 10.0; Win64; x64) AppleWebKit/537.36 (KHTML, like Gecko) Chrome/91.0.4472.77 Safari/537.36'\n",
    "    }\n",
    "    img = requests.get(img_link, headers=headers)\n",
    "    time.sleep(random.randint(1, 3))\n",
    "    # 如果文件夹不存在则新建\n",
    "    if not os.path.exists('mnsy'):\n",
    "        os.mkdir('mnsy')\n",
    "    # 指定图片保存路径和名称\n",
    "    path = './mnsy/' + name + str(i) + '.jpg'\n",
    "    print(path)\n",
    "    # 如果图片已经保存，则直接跳过该图片\n",
    "    if os.access(path, os.F_OK):\n",
    "        print(\"已经存在\")\n",
    "    else:\n",
    "        try:\n",
    "            with open(path, 'wb') as f:\n",
    "                f.write(img.content)\n",
    "                print('图片存储成功')\n",
    "        except:\n",
    "            print('图片存储失败')"
   ]
  },
  {
   "cell_type": "code",
   "execution_count": 5,
   "id": "3fb9ead2",
   "metadata": {},
   "outputs": [],
   "source": [
    "def main():\n",
    "    # 要爬取的目标网址\n",
    "    url = 'https://www.mm131.net/'\n",
    "    get_url(url)"
   ]
  },
  {
   "cell_type": "code",
   "execution_count": null,
   "id": "53771e5a",
   "metadata": {},
   "outputs": [
    {
     "name": "stdout",
     "output_type": "stream",
     "text": [
      "https://www.mm131.net/xinggan/5737.html\n",
      "./mnsy/情趣女皇秋和柯基抹油爆乳令人上头1.jpg\n",
      "图片存储成功\n",
      "./mnsy/情趣女皇秋和柯基抹油爆乳令人上头2.jpg\n",
      "图片存储成功\n",
      "./mnsy/情趣女皇秋和柯基抹油爆乳令人上头3.jpg\n",
      "图片存储成功\n",
      "./mnsy/情趣女皇秋和柯基抹油爆乳令人上头4.jpg\n",
      "图片存储成功\n",
      "./mnsy/情趣女皇秋和柯基抹油爆乳令人上头5.jpg\n",
      "图片存储成功\n",
      "./mnsy/情趣女皇秋和柯基抹油爆乳令人上头6.jpg\n",
      "图片存储成功\n",
      "./mnsy/情趣女皇秋和柯基抹油爆乳令人上头7.jpg\n",
      "图片存储成功\n",
      "./mnsy/情趣女皇秋和柯基抹油爆乳令人上头8.jpg\n",
      "图片存储成功\n",
      "./mnsy/情趣女皇秋和柯基抹油爆乳令人上头9.jpg\n",
      "图片存储成功\n",
      "./mnsy/情趣女皇秋和柯基抹油爆乳令人上头10.jpg\n",
      "图片存储成功\n"
     ]
    }
   ],
   "source": [
    "if __name__ == '__main__':\n",
    "    main()"
   ]
  }
 ],
 "metadata": {
  "kernelspec": {
   "display_name": "Python 3",
   "language": "python",
   "name": "python3"
  },
  "language_info": {
   "codemirror_mode": {
    "name": "ipython",
    "version": 3
   },
   "file_extension": ".py",
   "mimetype": "text/x-python",
   "name": "python",
   "nbconvert_exporter": "python",
   "pygments_lexer": "ipython3",
   "version": "3.8.8"
  }
 },
 "nbformat": 4,
 "nbformat_minor": 5
}
