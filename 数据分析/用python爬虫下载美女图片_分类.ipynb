{
 "cells": [
  {
   "cell_type": "markdown",
   "id": "35b03cf8",
   "metadata": {},
   "source": [
    "### 1.导入依赖包"
   ]
  },
  {
   "cell_type": "code",
   "execution_count": 1,
   "id": "db01e470",
   "metadata": {},
   "outputs": [],
   "source": [
    "import re\n",
    "import os\n",
    "import time\n",
    "import random\n",
    "import requests\n",
    "from lxml import etree"
   ]
  },
  {
   "cell_type": "markdown",
   "id": "e43dbf0c",
   "metadata": {},
   "source": [
    "### 2.获取url"
   ]
  },
  {
   "cell_type": "code",
   "execution_count": 2,
   "id": "ffef2fc3",
   "metadata": {},
   "outputs": [],
   "source": [
    "def get_url(url):\n",
    "    # 伪造请求头\n",
    "    headers = {\n",
    "        'user-agent': 'Mozilla/5.0 (Windows NT 10.0; Win64; x64) AppleWebKit/537.36 (KHTML, like Gecko) Chrome/91.0.4472.77 Safari/537.36'\n",
    "    }\n",
    "    # 请求网页\n",
    "    res = requests.get(url, headers=headers)\n",
    "    # 设置休眠时间\n",
    "    time.sleep(random.randint(1, 3))\n",
    "    res.encoding = 'gbk'\n",
    "    html = etree.HTML(res.text)\n",
    "    page = html.xpath('//dd[@class=\"page\"]/a/@href')[-1]\n",
    "    page = page.split('.')[0]\n",
    "    page = page.split('_')[-1]\n",
    "    link = html.xpath('//dd[@class=\"page\"]/a/@href')[0]\n",
    "    link = link.split('.')[0]\n",
    "    link = link[:-1]\n",
    "    link_list = [url]\n",
    "    for i in range(2, int(page) + 1):\n",
    "        u = url + link + str(i) + '.html'\n",
    "        link_list.append(u)\n",
    "    for u in link_list:\n",
    "        parse_url(u)"
   ]
  },
  {
   "cell_type": "markdown",
   "id": "5b6c9acb",
   "metadata": {},
   "source": [
    "### 3.解析url"
   ]
  },
  {
   "cell_type": "code",
   "execution_count": 3,
   "id": "efbd225c",
   "metadata": {},
   "outputs": [],
   "source": [
    "def parse_url(u):\n",
    "    headers = {\n",
    "        'user-agent': 'Mozilla/5.0 (Windows NT 10.0; Win64; x64) AppleWebKit/537.36 (KHTML, like Gecko) Chrome/91.0.4472.77 Safari/537.36'\n",
    "    }\n",
    "    res = requests.get(u, headers=headers)\n",
    "    # 设置休眠时间\n",
    "    time.sleep(random.randint(1, 3))\n",
    "    res.encoding = 'gbk'\n",
    "    res = etree.HTML(res.text)\n",
    "    nd = res.xpath('//dl[@class=\"list-left public-box\"]/dd/a[@target=\"_blank\"]/@href')\n",
    "    names = res.xpath('//dl[@class=\"list-left public-box\"]/dd/a[@tar'\n",
    "                      'get=\"_blank\"]/img/@alt')\n",
    "    for name, node in zip(names, nd):\n",
    "        path = 'mnfl/' + name + '1.jpg'\n",
    "        print(path)\n",
    "        if os.access(path, os.F_OK):\n",
    "            print(\"图片已经存在\")\n",
    "            pass\n",
    "        else:\n",
    "            print(node)\n",
    "            get_pic(node)"
   ]
  },
  {
   "cell_type": "markdown",
   "id": "1d21c889",
   "metadata": {},
   "source": [
    "### 4.获取图片"
   ]
  },
  {
   "cell_type": "code",
   "execution_count": 4,
   "id": "db10d3b9",
   "metadata": {},
   "outputs": [],
   "source": [
    "def get_pic(node):\n",
    "    headers = {\n",
    "        'user-agent': 'Mozilla/5.0 (Windows NT 10.0; Win64; x64) AppleWebKit/537.36 (KHTML, like Gecko) Chrome/91.0.4472.77 Safari/537.36'\n",
    "    }\n",
    "    # print(link)\n",
    "    res = requests.get(node, headers=headers)\n",
    "    # 设置休眠时间\n",
    "    time.sleep(random.randint(1, 3))\n",
    "    res.encoding = 'gbk'\n",
    "    page = re.findall('>共(.*?)页<', res.text)[0]\n",
    "    res = etree.HTML(res.text)\n",
    "    img_link = res.xpath('//div/a/img/@src')[0]\n",
    "    name = res.xpath('//div[@class=\"content\"]/h5/text()')[0]\n",
    "    base_url = img_link.split('/')\n",
    "    url = base_url[:-1]\n",
    "    url = '/'.join(url)\n",
    "    for i in range(1, int(page) + 1):\n",
    "        img_link = url + '/' + str(i) + '.jpg'\n",
    "        save_img(node, img_link, name, i)"
   ]
  },
  {
   "cell_type": "markdown",
   "id": "ea170da8",
   "metadata": {},
   "source": [
    "### 5.保存图片"
   ]
  },
  {
   "cell_type": "code",
   "execution_count": 5,
   "id": "c5f86400",
   "metadata": {},
   "outputs": [],
   "source": [
    "def save_img(link, img_link, name, i):\n",
    "    headers = {\n",
    "        'Referer': link,\n",
    "        'User-Agent': 'Mozilla/5.0 (Windows NT 10.0; Win64; x64) AppleWebKit/537.36 (KHTML, like Gecko) Chrome/91.0.4472.77 Safari/537.36'\n",
    "    }\n",
    "    img = requests.get(img_link, headers=headers)\n",
    "    # 设置休眠时间\n",
    "    time.sleep(random.randint(1, 3))\n",
    "    if not os.path.exists('mnfl'):\n",
    "        os.mkdir('mnfl')\n",
    "    path = 'mnfl/' + name + str(i) + '.jpg'\n",
    "    print(path)\n",
    "    if os.access(path, os.F_OK):\n",
    "        print(\"图片已经存在\")\n",
    "    else:\n",
    "        try:\n",
    "            with open(path, 'wb') as f:\n",
    "                f.write(img.content)\n",
    "                print('图片存储成功')\n",
    "        except:\n",
    "            print('图片存储失败')"
   ]
  },
  {
   "cell_type": "code",
   "execution_count": 6,
   "id": "47ffe100",
   "metadata": {},
   "outputs": [],
   "source": [
    "def main():\n",
    "    # 想要哪个分类直接把'qingchun'改为其他类即可\n",
    "    # url = 'https://www.mm131.net/qingchun/'\n",
    "    # get_url(url)\n",
    "    # 如果要爬取所有的类，注释上面两行，运行下面代码\n",
    "    url_list = ['xinggan', 'qingchun', 'xiaohua', 'chemo', 'qipao', 'mingxing']\n",
    "    for i in url_list:\n",
    "        url = 'https://www.mm131.net/' + i + '/'\n",
    "        get_url(url)"
   ]
  },
  {
   "cell_type": "code",
   "execution_count": null,
   "id": "26f3ca88",
   "metadata": {},
   "outputs": [
    {
     "name": "stdout",
     "output_type": "stream",
     "text": [
      "mnfl/模特绯月樱真空激凸香艳诱人1.jpg\n",
      "https://www.mm131.net/xinggan/5745.html\n",
      "mnfl/模特绯月樱真空激凸香艳诱人1.jpg\n",
      "图片存储成功\n",
      "mnfl/模特绯月樱真空激凸香艳诱人2.jpg\n",
      "图片存储成功\n",
      "mnfl/模特绯月樱真空激凸香艳诱人3.jpg\n",
      "图片存储成功\n",
      "mnfl/模特绯月樱真空激凸香艳诱人4.jpg\n",
      "图片存储成功\n",
      "mnfl/模特绯月樱真空激凸香艳诱人5.jpg\n",
      "图片存储成功\n",
      "mnfl/模特绯月樱真空激凸香艳诱人6.jpg\n",
      "图片存储成功\n",
      "mnfl/模特绯月樱真空激凸香艳诱人7.jpg\n",
      "图片存储成功\n",
      "mnfl/模特绯月樱真空激凸香艳诱人8.jpg\n",
      "图片存储成功\n",
      "mnfl/模特绯月樱真空激凸香艳诱人9.jpg\n",
      "图片存储成功\n",
      "mnfl/模特绯月樱真空激凸香艳诱人10.jpg\n",
      "图片存储成功\n"
     ]
    }
   ],
   "source": [
    "if __name__ == '__main__':\n",
    "    main()"
   ]
  }
 ],
 "metadata": {
  "kernelspec": {
   "display_name": "Python 3",
   "language": "python",
   "name": "python3"
  },
  "language_info": {
   "codemirror_mode": {
    "name": "ipython",
    "version": 3
   },
   "file_extension": ".py",
   "mimetype": "text/x-python",
   "name": "python",
   "nbconvert_exporter": "python",
   "pygments_lexer": "ipython3",
   "version": "3.8.8"
  }
 },
 "nbformat": 4,
 "nbformat_minor": 5
}
