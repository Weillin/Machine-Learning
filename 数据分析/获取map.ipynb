{
 "cells": [
  {
   "cell_type": "code",
   "execution_count": 1,
   "id": "3fa64a0d",
   "metadata": {},
   "outputs": [],
   "source": [
    "# -*- coding: utf-8 -*-\n",
    "import requests\n",
    "import random\n",
    "import re\n",
    "import time\n",
    "import os"
   ]
  },
  {
   "cell_type": "code",
   "execution_count": 2,
   "id": "b31d9cad",
   "metadata": {},
   "outputs": [],
   "source": [
    "def get_url():\n",
    "    url_list = []\n",
    "    for root, dirs, files in os.walk(dir_in):\n",
    "        for file_name in files:\n",
    "            if file_name.endswith('.ipynb'):\n",
    "                file_path = os.path.join(root, file_name)\n",
    "                path_list = file_path.split('\\\\')\n",
    "                path = path_list[1] + '/' + path_list[2].split('.')[0] + '.html'\n",
    "                url_list.append(path)\n",
    "    return url_list"
   ]
  },
  {
   "cell_type": "code",
   "execution_count": 3,
   "id": "943b40f5",
   "metadata": {},
   "outputs": [],
   "source": [
    "def get_map():\n",
    "    url_list = get_url()\n",
    "    data = {}\n",
    "    for u in url_list:\n",
    "        print(data)\n",
    "        try:\n",
    "            url = base_url + u\n",
    "            print(url)\n",
    "            headers = {\n",
    "            'user-agent': 'Mozilla/5.0 (Windows NT 10.0; Win64; x64) AppleWebKit/537.36 (KHTML, like Gecko) Chrome/91.0.4472.77 Safari/537.36'\n",
    "            }\n",
    "            res = requests.get(url, headers=headers)\n",
    "            time.sleep(random.randint(1, 5))\n",
    "            res.encoding = 'utf-8'\n",
    "            text = res.text\n",
    "            node = re.findall('href=\"(.*?)\"><span class=\"std std-numref\">(.*?)</span>', text)\n",
    "            node2 = re.findall('class=\"eqno\">(.*?)<a class=\"headerlink\" href=\"#equation-(.*?)\"', text)\n",
    "            for i in node:\n",
    "                key = i[0].split('#')[1]\n",
    "                key1 = key.replace('-', '_', 1)\n",
    "                key2 = key.replace('-', '_')\n",
    "                value = str(i[1])\n",
    "                data[key1] = value\n",
    "                data[key2] = value\n",
    "            for i in node2:\n",
    "                key = i[1]\n",
    "                key1 = key.replace('-', '_', 1)\n",
    "                key2 = key.replace('-', '_')\n",
    "                value = str(i[0])\n",
    "                if value == '()':\n",
    "                    pass\n",
    "                else:\n",
    "                    data[key1] = value\n",
    "                    data[key2] = value\n",
    "        except:\n",
    "            print('没有这个网页')\n",
    "    write_map(data)"
   ]
  },
  {
   "cell_type": "code",
   "execution_count": 4,
   "id": "19213abb",
   "metadata": {},
   "outputs": [],
   "source": [
    "def write_map(data):\n",
    "    with open('map.txt', 'a', encoding='utf8') as f:\n",
    "        s = str(data)\n",
    "        f.writelines(s + '\\n')"
   ]
  },
  {
   "cell_type": "code",
   "execution_count": 5,
   "id": "bd1347aa",
   "metadata": {},
   "outputs": [],
   "source": [
    "if __name__ == '__main__':\n",
    "    base_url = 'https://zh-v2.d2l.ai/'\n",
    "    dir_in = 'pytorch'\n",
    "    get_map()"
   ]
  }
 ],
 "metadata": {
  "kernelspec": {
   "display_name": "Python 3",
   "language": "python",
   "name": "python3"
  },
  "language_info": {
   "codemirror_mode": {
    "name": "ipython",
    "version": 3
   },
   "file_extension": ".py",
   "mimetype": "text/x-python",
   "name": "python",
   "nbconvert_exporter": "python",
   "pygments_lexer": "ipython3",
   "version": "3.8.8"
  }
 },
 "nbformat": 4,
 "nbformat_minor": 5
}
