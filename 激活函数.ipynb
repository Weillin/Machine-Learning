{
 "cells": [
  {
   "cell_type": "code",
   "execution_count": 1,
   "metadata": {},
   "outputs": [],
   "source": [
    "import matplotlib.pyplot as plt\n",
    "import numpy as np\n",
    "import mpl_toolkits.axisartist as axisartist"
   ]
  },
  {
   "cell_type": "code",
   "execution_count": 2,
   "metadata": {},
   "outputs": [
    {
     "name": "stderr",
     "output_type": "stream",
     "text": [
      "<ipython-input-2-ec96d42af37c>:21: MatplotlibDeprecationWarning: Using a string of single character colors as a color sequence is deprecated since 3.2 and will be removed two minor releases later. Use an explicit list instead.\n",
      "  plt.scatter(0, 0, marker='o', color='', edgecolors='r')\n"
     ]
    },
    {
     "data": {
      "image/png": "[encoded data removed]",
      "text/plain": [
       "<Figure size 432x432 with 1 Axes>"
      ]
     },
     "metadata": {
      "needs_background": "light"
     },
     "output_type": "display_data"
    }
   ],
   "source": [
    "def threshold():\n",
    "    fig = plt.figure(figsize=(6, 6))\n",
    "    ax = axisartist.Subplot(fig, 111)\n",
    "    fig.add_axes(ax)\n",
    "    ax.axis[:].set_visible(False)\n",
    "    ax.axis['x'] = ax.new_floating_axis(0, 0)\n",
    "    ax.axis['y'] = ax.new_floating_axis(1, 0)\n",
    "    ax.axis['x'].set_axisline_style('-|>', size=1.0)\n",
    "    ax.axis['y'].set_axisline_style('-|>', size=1.0)\n",
    "    ax.axis['x'].set_axis_direction('top')\n",
    "    ax.axis['y'].set_axis_direction('right')\n",
    "    plt.ylim(-0.2, 1.25)\n",
    "    x_1 = np.arange(0, 10, 0.1)\n",
    "    y_1 = x_1 - x_1 + 1\n",
    "    plt.plot(x_1, y_1, 'r', label=r'threshold=$\\{\\stackrel{1, x>=0}{,0, x<0}$')\n",
    "    plt.legend()\n",
    "    x_2 = np.arange(-5, 0, 0.1)\n",
    "    y_2 = x_2 - x_2\n",
    "    plt.plot(x_2, y_2, 'r', label='threshold')\n",
    "    plt.scatter(0, 1, color='r')\n",
    "    plt.scatter(0, 0, marker='o', color='', edgecolors='r')\n",
    "    plt.savefig('./threshold.png', format='png')\n",
    "    \n",
    "threshold()"
   ]
  },
  {
   "cell_type": "code",
   "execution_count": null,
   "metadata": {},
   "outputs": [],
   "source": []
  }
 ],
 "metadata": {
  "kernelspec": {
   "display_name": "Python 3",
   "language": "python",
   "name": "python3"
  },
  "language_info": {
   "codemirror_mode": {
    "name": "ipython",
    "version": 3
   },
   "file_extension": ".py",
   "mimetype": "text/x-python",
   "name": "python",
   "nbconvert_exporter": "python",
   "pygments_lexer": "ipython3",
   "version": "3.8.5"
  }
 },
 "nbformat": 4,
 "nbformat_minor": 4
}
