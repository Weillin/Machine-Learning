{
 "cells": [
  {
   "cell_type": "code",
   "execution_count": 1,
   "id": "875dc18d",
   "metadata": {},
   "outputs": [
    {
     "name": "stderr",
     "output_type": "stream",
     "text": [
      "<ipython-input-1-d205e26b87dc>:26: DeprecationWarning: `np.int` is a deprecated alias for the builtin `int`. To silence this warning, use `int` by itself. Doing this will not modify any behavior and is safe. When replacing `np.int`, you may wish to use e.g. `np.int64` or `np.int32` to specify the precision. If you wish to review your current use, check the release note link for additional information.\n",
      "Deprecated in NumPy 1.20; for more details and guidance: https://numpy.org/devdocs/release/1.20.0-notes.html#deprecations\n",
      "  index = (b/ bsize)*16*16 + np.int(g/bsize)*16 + np.int(r/bsize)\n",
      "<ipython-input-1-d205e26b87dc>:27: DeprecationWarning: `np.int` is a deprecated alias for the builtin `int`. To silence this warning, use `int` by itself. Doing this will not modify any behavior and is safe. When replacing `np.int`, you may wish to use e.g. `np.int64` or `np.int32` to specify the precision. If you wish to review your current use, check the release note link for additional information.\n",
      "Deprecated in NumPy 1.20; for more details and guidance: https://numpy.org/devdocs/release/1.20.0-notes.html#deprecations\n",
      "  rgbHist[np.int(index), 0] += 1\n"
     ]
    },
    {
     "name": "stdout",
     "output_type": "stream",
     "text": [
      "巴氏距离:1.0, 相关性:-0.0046580689277243275, 卡方:640.0\n"
     ]
    }
   ],
   "source": [
    "import cv2 as cv\n",
    "import numpy as np\n",
    "from matplotlib import pyplot as plt\n",
    "\n",
    "\n",
    "def equalHist_demo(image):\n",
    "    gray = cv.cvtColor(image, cv.COLOR_BGR2GRAY)\n",
    "    dst = cv.equalizeHist(gray)\n",
    "    cv.imshow('equalHist_demo', dst)\n",
    "\n",
    "def clahe_demo(image):\n",
    "    gray = cv.cvtColor(image, cv.COLOR_BGR2GRAY)\n",
    "    clahe = cv.createCLAHE(clipLimit=5.0, tileGridSize=(8, 8))\n",
    "    dst = clahe.apply(gray)\n",
    "    cv.imshow('clahe_demo', dst)\n",
    "\n",
    "def create_rgb_hist(image):\n",
    "    h,w, c = image.shape\n",
    "    rgbHist = np.zeros([16*16*16, 1], np.float32)\n",
    "    bsize = 256 / 16\n",
    "    for row in range(h):\n",
    "        for col in range(w):\n",
    "            b = image[row, col, 0]\n",
    "            g = image[row, col, 1]\n",
    "            r = image[row, col, 2]\n",
    "            index = (b/ bsize)*16*16 + np.int(g/bsize)*16 + np.int(r/bsize)\n",
    "            rgbHist[np.int(index), 0] += 1\n",
    "        return rgbHist\n",
    "\n",
    "def hist_compare(image1, image2):\n",
    "    hist1 = create_rgb_hist(image1)\n",
    "    hist2 = create_rgb_hist(image2)\n",
    "    match1 = cv.compareHist(hist1,hist2, cv.HISTCMP_BHATTACHARYYA)\n",
    "    match2 = cv.compareHist(hist1, hist2, cv.HISTCMP_CORREL)\n",
    "    match3 = cv.compareHist(hist1, hist2, cv.HISTCMP_CHISQR)\n",
    "    print('巴氏距离:{}, 相关性:{}, 卡方:{}'.format(match1, match2, match3))\n",
    "\n",
    "    \n",
    "src = cv.imread('../../data/5.jpg')  # blue, green, red\n",
    "cv.namedWindow('input image', cv.WINDOW_AUTOSIZE)\n",
    "# cv.imshow('input image', src)\n",
    "# equalHist_demo(src)\n",
    "\n",
    "image1 = cv.imread('../../data/1.jpg')\n",
    "image2 = cv.imread('../../data/2.jpg')\n",
    "cv.imshow('image1', image1)\n",
    "cv.imshow('image2', image2)\n",
    "hist_compare(image1, image2)\n",
    "clahe_demo(src)\n",
    "cv.waitKey(0)\n",
    "\n",
    "cv.destroyAllWindows()"
   ]
  }
 ],
 "metadata": {
  "kernelspec": {
   "display_name": "Python 3",
   "language": "python",
   "name": "python3"
  },
  "language_info": {
   "codemirror_mode": {
    "name": "ipython",
    "version": 3
   },
   "file_extension": ".py",
   "mimetype": "text/x-python",
   "name": "python",
   "nbconvert_exporter": "python",
   "pygments_lexer": "ipython3",
   "version": "3.8.8"
  }
 },
 "nbformat": 4,
 "nbformat_minor": 5
}
