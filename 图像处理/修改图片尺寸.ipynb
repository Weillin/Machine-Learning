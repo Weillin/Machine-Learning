{
 "cells": [
  {
   "cell_type": "code",
   "execution_count": 1,
   "id": "15ed3406",
   "metadata": {},
   "outputs": [
    {
     "name": "stdout",
     "output_type": "stream",
     "text": [
      "../../in/Snipaste_2021-11-17_11-51-30.png\n"
     ]
    }
   ],
   "source": [
    "import os\n",
    "from PIL import Image\n",
    "\n",
    "\n",
    "x = 185\n",
    "y = 185\n",
    "path_li = []\n",
    "dir_in = '../../in'\n",
    "out_dir = '../../out'\n",
    "for root, dirs, files in os.walk(dir_in):\n",
    "    for file_name in files:\n",
    "        if file_name.endswith('.png'):\n",
    "            file_path = os.path.join(root, file_name)\n",
    "            path = file_path.replace('//', '/')\n",
    "            path_li.append(path)\n",
    "\n",
    "if not os.path.exists(out_dir):\n",
    "    os.mkdir(out_dir)\n",
    "\n",
    "for path in path_li:\n",
    "    print(path)\n",
    "    old_img = Image.open(path)\n",
    "    img_deal = old_img.resize((x, y), Image.ANTIALIAS)\n",
    "    img_deal = img_deal.convert('RGB')\n",
    "    out_path = out_dir + '/' + path.split('/')[-1]\n",
    "    img_deal.save(out_path)"
   ]
  }
 ],
 "metadata": {
  "kernelspec": {
   "display_name": "Python 3",
   "language": "python",
   "name": "python3"
  },
  "language_info": {
   "codemirror_mode": {
    "name": "ipython",
    "version": 3
   },
   "file_extension": ".py",
   "mimetype": "text/x-python",
   "name": "python",
   "nbconvert_exporter": "python",
   "pygments_lexer": "ipython3",
   "version": "3.8.8"
  }
 },
 "nbformat": 4,
 "nbformat_minor": 5
}
