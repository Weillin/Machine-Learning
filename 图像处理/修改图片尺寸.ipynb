{
 "cells": [
  {
   "cell_type": "code",
   "execution_count": 1,
   "id": "15ed3406",
   "metadata": {},
   "outputs": [
    {
     "name": "stdout",
     "output_type": "stream",
     "text": [
      "./img_dir/0.jpg\n",
      "./img_dir/1.jpg\n",
      "./img_dir/10.jpg\n",
      "./img_dir/11.jpg\n",
      "./img_dir/12.jpg\n",
      "./img_dir/13.jpg\n",
      "./img_dir/14.jpg\n",
      "./img_dir/15.jpg\n",
      "./img_dir/16.jpg\n",
      "./img_dir/17.jpg\n",
      "./img_dir/18.jpg\n",
      "./img_dir/19.jpg\n",
      "./img_dir/2.jpg\n",
      "./img_dir/20.jpg\n",
      "./img_dir/21.jpg\n",
      "./img_dir/22.jpg\n",
      "./img_dir/23.jpg\n",
      "./img_dir/24.jpg\n",
      "./img_dir/25.jpg\n",
      "./img_dir/26.jpg\n",
      "./img_dir/27.jpg\n",
      "./img_dir/28.jpg\n",
      "./img_dir/29.jpg\n",
      "./img_dir/3.jpg\n",
      "./img_dir/30.jpg\n",
      "./img_dir/4.jpg\n",
      "./img_dir/5.jpg\n",
      "./img_dir/6.jpg\n",
      "./img_dir/7.jpg\n",
      "./img_dir/8.jpg\n",
      "./img_dir/9.jpg\n"
     ]
    }
   ],
   "source": [
    "import os\n",
    "from PIL import Image\n",
    "\n",
    "\n",
    "x = 256\n",
    "y = 256\n",
    "path_li = []\n",
    "dir_in = './img_dir'\n",
    "out_dir = './new_dir'\n",
    "for root, dirs, files in os.walk(dir_in):\n",
    "    for file_name in files:\n",
    "        if file_name.endswith('.jpg'):\n",
    "            file_path = os.path.join(root, file_name)\n",
    "            path = file_path.replace('\\\\', '/')\n",
    "            path_li.append(path)\n",
    "\n",
    "if not os.path.exists(out_dir):\n",
    "    os.mkdir(out_dir)\n",
    "\n",
    "for path in path_li:\n",
    "    print(path)\n",
    "    old_img = Image.open(path)\n",
    "    img_deal = old_img.resize((x, y), Image.ANTIALIAS)\n",
    "    img_deal = img_deal.convert('RGB')\n",
    "    out_path = out_dir + '/' + path.split('/')[-1]\n",
    "    img_deal.save(out_path)"
   ]
  }
 ],
 "metadata": {
  "kernelspec": {
   "display_name": "Python 3",
   "language": "python",
   "name": "python3"
  },
  "language_info": {
   "codemirror_mode": {
    "name": "ipython",
    "version": 3
   },
   "file_extension": ".py",
   "mimetype": "text/x-python",
   "name": "python",
   "nbconvert_exporter": "python",
   "pygments_lexer": "ipython3",
   "version": "3.8.8"
  }
 },
 "nbformat": 4,
 "nbformat_minor": 5
}
