{
 "cells": [
  {
   "cell_type": "code",
   "execution_count": 1,
   "id": "689baf31",
   "metadata": {},
   "outputs": [],
   "source": [
    "from PIL import Image\n",
    "\n",
    "\n",
    "def ResizeImage(filein, fileout, width, height, type):\n",
    "    img = Image.open(filein)\n",
    "    out = img.resize((width, height), Image.ANTIALIAS)\n",
    "    out.save(fileout, type)\n",
    "\n",
    "\n",
    "if __name__ == \"__main__\":\n",
    "    filein = r'test.jpg'\n",
    "    fileout = r'testout.png'\n",
    "    width = 640\n",
    "    height = 480\n",
    "    type = 'png'\n",
    "    ResizeImage(filein, fileout, width, height, type)"
   ]
  }
 ],
 "metadata": {
  "kernelspec": {
   "display_name": "Python 3",
   "language": "python",
   "name": "python3"
  },
  "language_info": {
   "codemirror_mode": {
    "name": "ipython",
    "version": 3
   },
   "file_extension": ".py",
   "mimetype": "text/x-python",
   "name": "python",
   "nbconvert_exporter": "python",
   "pygments_lexer": "ipython3",
   "version": "3.8.8"
  }
 },
 "nbformat": 4,
 "nbformat_minor": 5
}
