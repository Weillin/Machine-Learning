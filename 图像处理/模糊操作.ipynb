{
 "cells": [
  {
   "cell_type": "code",
   "execution_count": 1,
   "id": "4172e2b6",
   "metadata": {},
   "outputs": [],
   "source": [
    "import cv2 as cv\n",
    "import numpy as np\n",
    "\n",
    "\n",
    "def blur_demo(image):\n",
    "    dst = cv.blur(image, (5, 5)) #模糊方向(左右, 上下)\n",
    "    cv.imshow('blur_demo', dst)\n",
    "\n",
    "def medinBlur_blur_demo(image):\n",
    "    dst = cv.medianBlur(image, 5)\n",
    "    cv.imshow('medin_blur_demo', dst)\n",
    "\n",
    "def custom_blur_demo(image):\n",
    "    # kernel = np.ones([5,5], np.float32)/25\n",
    "    # kernel = np.array([[1,1,1], [1,1,1], [1,1,1]], np.float32)/9\n",
    "    kernel = np.array([[0,-1,0], [-1,5,-1], [0,-1,0]], np.float32)\n",
    "    dst = cv.filter2D(image, -1, kernel=kernel)\n",
    "    cv.imshow('custom_blur_demo', dst)\n",
    "\n",
    "\n",
    "src = cv.imread('../../data/test.jpg')  # blue, green, red\n",
    "cv.namedWindow('input image', cv.WINDOW_AUTOSIZE)\n",
    "cv.imshow('input image', src)\n",
    "# blur_demo(src)\n",
    "# medinBlur_blur_demo(src)\n",
    "custom_blur_demo(src)\n",
    "cv.waitKey(0)\n",
    "\n",
    "cv.destroyAllWindows()"
   ]
  }
 ],
 "metadata": {
  "kernelspec": {
   "display_name": "Python 3",
   "language": "python",
   "name": "python3"
  },
  "language_info": {
   "codemirror_mode": {
    "name": "ipython",
    "version": 3
   },
   "file_extension": ".py",
   "mimetype": "text/x-python",
   "name": "python",
   "nbconvert_exporter": "python",
   "pygments_lexer": "ipython3",
   "version": "3.8.8"
  }
 },
 "nbformat": 4,
 "nbformat_minor": 5
}
