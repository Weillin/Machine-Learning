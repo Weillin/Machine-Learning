{
 "cells": [
  {
   "cell_type": "markdown",
   "metadata": {},
   "source": [
    "# Model类搭建神经网络"
   ]
  },
  {
   "cell_type": "code",
   "execution_count": 1,
   "metadata": {},
   "outputs": [
    {
     "name": "stdout",
     "output_type": "stream",
     "text": [
      "Model: \"model\"\n",
      "_________________________________________________________________\n",
      "Layer (type)                 Output Shape              Param #   \n",
      "=================================================================\n",
      "inputs (InputLayer)          [(None, 1)]               0         \n",
      "_________________________________________________________________\n",
      "layer1 (Dense)               (None, 10)                20        \n",
      "_________________________________________________________________\n",
      "layer2 (Dense)               (None, 15)                165       \n",
      "_________________________________________________________________\n",
      "outpus (Dense)               (None, 5)                 80        \n",
      "=================================================================\n",
      "Total params: 265\n",
      "Trainable params: 265\n",
      "Non-trainable params: 0\n",
      "_________________________________________________________________\n",
      "('Failed to import pydot. You must `pip install pydot` and install graphviz (https://graphviz.gitlab.io/download/), ', 'for `pydotprint` to work.')\n"
     ]
    }
   ],
   "source": [
    "import tensorflow as tf\n",
    "from tensorflow import keras\n",
    "from tensorflow.keras import layers\n",
    "tf.keras.backend.clear_session()\n",
    "\n",
    "def line_fit_model():\n",
    "    inputs = tf.keras.Input(shape=(1,), name='inputs')\n",
    "    layer1 = layers.Dense(10, activation='relu', name='layer1')(inputs)\n",
    "    layer2 = layers.Dense(15, activation='relu', name='layer2')(layer1)\n",
    "    outputs = layers.Dense(5, activation='softmax', name='outpus')(layer2)\n",
    "    model = tf.keras.Model(inputs=inputs, outputs=outputs)\n",
    "    model.summary()\n",
    "    keras.utils.plot_model(model, 'line-fit-model.png', show_shapes=True)\n",
    "    return model\n",
    "\n",
    "if __name__ == '__main__':\n",
    "    line_fit_model()"
   ]
  },
  {
   "cell_type": "markdown",
   "metadata": {},
   "source": [
    "# 继承Model类搭建神经网络"
   ]
  },
  {
   "cell_type": "code",
   "execution_count": 2,
   "metadata": {},
   "outputs": [
    {
     "name": "stdout",
     "output_type": "stream",
     "text": [
      "Model: \"linefit\"\n",
      "_________________________________________________________________\n",
      "Layer (type)                 Output Shape              Param #   \n",
      "=================================================================\n",
      "layers1 (Dense)              multiple                  20        \n",
      "_________________________________________________________________\n",
      "layers2 (Dense)              multiple                  165       \n",
      "_________________________________________________________________\n",
      "outputs (Dense)              multiple                  80        \n",
      "=================================================================\n",
      "Total params: 265\n",
      "Trainable params: 265\n",
      "Non-trainable params: 0\n",
      "_________________________________________________________________\n"
     ]
    }
   ],
   "source": [
    "import tensorflow as tf\n",
    "from tensorflow import keras\n",
    "from tensorflow.keras import layers\n",
    "tf.keras.backend.clear_session()\n",
    "\n",
    "class Linefit(tf.keras.Model):\n",
    "    \n",
    "    def __init__(self):\n",
    "        super(Linefit, self).__init__()\n",
    "        self.layer1 = layers.Dense(10, activation=tf.nn.relu, name='layers1')\n",
    "        self.layer2 = layers.Dense(15, activation=tf.nn.relu, name='layers2')\n",
    "        self.outputs = layers.Dense(5, activation=tf.nn.softmax, name='outputs')\n",
    "        \n",
    "    def call(self, inputs):\n",
    "        layer1 = self.layer1(inputs)\n",
    "        layer2 = self.layer2(layer1)\n",
    "        return self.outputs(layer2)\n",
    "    \n",
    "if __name__ == '__main__':\n",
    "    inputs = tf.constant([[1]])\n",
    "    model = Linefit()\n",
    "    model(inputs)\n",
    "    model.summary()"
   ]
  },
  {
   "cell_type": "markdown",
   "metadata": {},
   "source": [
    "# Sequential内置序列搭建神经网络"
   ]
  },
  {
   "cell_type": "code",
   "execution_count": 3,
   "metadata": {},
   "outputs": [
    {
     "name": "stdout",
     "output_type": "stream",
     "text": [
      "Model: \"sequential\"\n",
      "_________________________________________________________________\n",
      "Layer (type)                 Output Shape              Param #   \n",
      "=================================================================\n",
      "layer1 (Dense)               (None, 10)                20        \n",
      "_________________________________________________________________\n",
      "layer2 (Dense)               (None, 15)                165       \n",
      "_________________________________________________________________\n",
      "outputs (Dense)              (None, 5)                 80        \n",
      "=================================================================\n",
      "Total params: 265\n",
      "Trainable params: 265\n",
      "Non-trainable params: 0\n",
      "_________________________________________________________________\n",
      "('Failed to import pydot. You must `pip install pydot` and install graphviz (https://graphviz.gitlab.io/download/), ', 'for `pydotprint` to work.')\n"
     ]
    }
   ],
   "source": [
    "import tensorflow as tf\n",
    "from tensorflow import keras\n",
    "from tensorflow.keras import layers\n",
    "tf.keras.backend.clear_session()\n",
    "\n",
    "def line_fit_sequential():\n",
    "    model = tf.keras.Sequential([\n",
    "        layers.Dense(10, activation='relu', input_shape=(1,), name='layer1'),\n",
    "        layers.Dense(15, activation='relu', name='layer2'),\n",
    "        layers.Dense(5, activation='softmax', name='outputs')\n",
    "    ])\n",
    "    model.summary()\n",
    "    keras.utils.plot_model(model, 'line-fit-seq.png', show_shapes=True)\n",
    "    return\n",
    "\n",
    "if __name__ == '__main__':\n",
    "    line_fit_sequential()"
   ]
  },
  {
   "cell_type": "markdown",
   "metadata": {},
   "source": [
    "# Sequential外置搭建神经网络"
   ]
  },
  {
   "cell_type": "code",
   "execution_count": 4,
   "metadata": {},
   "outputs": [
    {
     "name": "stdout",
     "output_type": "stream",
     "text": [
      "Model: \"sequential\"\n",
      "_________________________________________________________________\n",
      "Layer (type)                 Output Shape              Param #   \n",
      "=================================================================\n",
      "layers1 (Dense)              (None, 10)                20        \n",
      "_________________________________________________________________\n",
      "layers2 (Dense)              (None, 15)                165       \n",
      "_________________________________________________________________\n",
      "outputs (Dense)              (None, 5)                 80        \n",
      "=================================================================\n",
      "Total params: 265\n",
      "Trainable params: 265\n",
      "Non-trainable params: 0\n",
      "_________________________________________________________________\n",
      "('Failed to import pydot. You must `pip install pydot` and install graphviz (https://graphviz.gitlab.io/download/), ', 'for `pydotprint` to work.')\n"
     ]
    }
   ],
   "source": [
    "import tensorflow as tf\n",
    "from tensorflow import keras\n",
    "from tensorflow.keras import layers\n",
    "tf.keras.backend.clear_session()\n",
    "\n",
    "def line_fit_sequential_add():\n",
    "    model = tf.keras.Sequential()\n",
    "    model.add(layers.Dense(10, activation=tf.nn.relu, input_shape=(1,), name='layers1'))\n",
    "    model.add(layers.Dense(15, activation=tf.nn.relu, name='layers2'))\n",
    "    model.add(layers.Dense(5, activation=tf.nn.softmax, name='outputs'))\n",
    "    model.summary()\n",
    "    keras.utils.plot_model(model, 'line-fit-sequential-add.png', show_shapes=True)\n",
    "    return model\n",
    "\n",
    "if __name__ == '__main__':\n",
    "    line_fit_sequential_add()"
   ]
  },
  {
   "cell_type": "markdown",
   "metadata": {},
   "source": [
    "# Sequentian序列内置搭建卷积神经网络"
   ]
  },
  {
   "cell_type": "code",
   "execution_count": 5,
   "metadata": {},
   "outputs": [
    {
     "name": "stdout",
     "output_type": "stream",
     "text": [
      "Model: \"sequential\"\n",
      "_________________________________________________________________\n",
      "Layer (type)                 Output Shape              Param #   \n",
      "=================================================================\n",
      "conv-1 (Conv2D)              (None, 26, 26, 32)        896       \n",
      "_________________________________________________________________\n",
      "max-pooling-1 (MaxPooling2D) (None, 13, 13, 32)        0         \n",
      "_________________________________________________________________\n",
      "conv-2 (Conv2D)              (None, 11, 11, 64)        18496     \n",
      "_________________________________________________________________\n",
      "max-pooling-2 (MaxPooling2D) (None, 5, 5, 64)          0         \n",
      "_________________________________________________________________\n",
      "conv-3 (Conv2D)              (None, 3, 3, 64)          36928     \n",
      "_________________________________________________________________\n",
      "flatten (Flatten)            (None, 576)               0         \n",
      "_________________________________________________________________\n",
      "fullc-1 (Dense)              (None, 64)                36928     \n",
      "_________________________________________________________________\n",
      "softmax (Dense)              (None, 10)                650       \n",
      "=================================================================\n",
      "Total params: 93,898\n",
      "Trainable params: 93,898\n",
      "Non-trainable params: 0\n",
      "_________________________________________________________________\n",
      "('Failed to import pydot. You must `pip install pydot` and install graphviz (https://graphviz.gitlab.io/download/), ', 'for `pydotprint` to work.')\n"
     ]
    }
   ],
   "source": [
    "import tensorflow as tf\n",
    "from tensorflow import keras\n",
    "from tensorflow.keras import layers\n",
    "tf.keras.backend.clear_session()\n",
    "\n",
    "def cnn_sequentail():\n",
    "    model = tf.keras.Sequential([\n",
    "        layers.Conv2D(32, (3, 3), activation='relu', input_shape=(28, 28, 3), name='conv-1'),\n",
    "        layers.MaxPooling2D((2, 2), name='max-pooling-1'),\n",
    "        layers.Conv2D(64, (3, 3), activation='relu', name='conv-2'),\n",
    "        layers.MaxPooling2D((2, 2), name='max-pooling-2'),\n",
    "        layers.Conv2D(64, (3, 3), activation='relu', name='conv-3'),\n",
    "        layers.Flatten(),\n",
    "        layers.Dense(64, activation='relu', name='fullc-1'),\n",
    "        layers.Dense(10, activation='softmax', name='softmax')\n",
    "    ])\n",
    "\n",
    "    model.summary()\n",
    "    keras.utils.plot_model(model, 'cnn-sequentail.png', show_shapes=True)\n",
    "    return model\n",
    "\n",
    "if __name__ == '__main__':\n",
    "    cnn_sequentail()"
   ]
  },
  {
   "cell_type": "markdown",
   "metadata": {},
   "source": [
    "# Sequentian序列外置搭建卷积神经网络"
   ]
  },
  {
   "cell_type": "code",
   "execution_count": 6,
   "metadata": {},
   "outputs": [
    {
     "name": "stdout",
     "output_type": "stream",
     "text": [
      "Model: \"sequential\"\n",
      "_________________________________________________________________\n",
      "Layer (type)                 Output Shape              Param #   \n",
      "=================================================================\n",
      "conv-1 (Conv2D)              (None, 26, 26, 32)        896       \n",
      "_________________________________________________________________\n",
      "max-pooling-1 (MaxPooling2D) (None, 13, 13, 32)        0         \n",
      "_________________________________________________________________\n",
      "conv-2 (Conv2D)              (None, 11, 11, 64)        18496     \n",
      "_________________________________________________________________\n",
      "max-pooling-2 (MaxPooling2D) (None, 5, 5, 64)          0         \n",
      "_________________________________________________________________\n",
      "conv-3 (Conv2D)              (None, 3, 3, 64)          36928     \n",
      "_________________________________________________________________\n",
      "flatten (Flatten)            (None, 576)               0         \n",
      "_________________________________________________________________\n",
      "fullc-1 (Dense)              (None, 64)                36928     \n",
      "_________________________________________________________________\n",
      "softmax (Dense)              (None, 10)                650       \n",
      "=================================================================\n",
      "Total params: 93,898\n",
      "Trainable params: 93,898\n",
      "Non-trainable params: 0\n",
      "_________________________________________________________________\n",
      "('Failed to import pydot. You must `pip install pydot` and install graphviz (https://graphviz.gitlab.io/download/), ', 'for `pydotprint` to work.')\n"
     ]
    }
   ],
   "source": [
    "import tensorflow as tf\n",
    "from tensorflow import keras\n",
    "from tensorflow.keras import layers\n",
    "tf.keras.backend.clear_session()\n",
    "\n",
    "def cnn_sequential_add():\n",
    "    model = tf.keras.Sequential()\n",
    "    model.add(layers.Conv2D(32, (3, 3), activation=tf.nn.relu, input_shape=(28, 28, 3), name='conv-1'))\n",
    "    model.add(layers.MaxPooling2D((2, 2), name='max-pooling-1'))\n",
    "    model.add(layers.Conv2D(64, (3, 3), activation=tf.nn.relu, name='conv-2'))\n",
    "    model.add(layers.MaxPooling2D((2, 2), name='max-pooling-2'))\n",
    "    model.add(layers.Conv2D(64, (3, 3), activation=tf.nn.relu, name='conv-3'))\n",
    "    model.add(layers.Flatten())\n",
    "    model.add(layers.Dense(64, activation=tf.nn.relu, name='fullc-1'))\n",
    "    model.add(layers.Dense(10, activation=tf.nn.softmax, name='softmax'))\n",
    "    model.summary()\n",
    "    keras.utils.plot_model(model, 'cnn-sequential-add.png', show_shapes=True)\n",
    "    return model\n",
    "\n",
    "if __name__ == '__main__':\n",
    "    cnn_sequential_add()"
   ]
  }
 ],
 "metadata": {
  "kernelspec": {
   "display_name": "Python 3",
   "language": "python",
   "name": "python3"
  },
  "language_info": {
   "codemirror_mode": {
    "name": "ipython",
    "version": 3
   },
   "file_extension": ".py",
   "mimetype": "text/x-python",
   "name": "python",
   "nbconvert_exporter": "python",
   "pygments_lexer": "ipython3",
   "version": "3.8.5"
  }
 },
 "nbformat": 4,
 "nbformat_minor": 4
}
