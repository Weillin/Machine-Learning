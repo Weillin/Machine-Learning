{
 "cells": [
  {
   "cell_type": "markdown",
   "metadata": {},
   "source": [
    "# TF1矩阵计算"
   ]
  },
  {
   "cell_type": "code",
   "execution_count": 1,
   "metadata": {},
   "outputs": [
    {
     "name": "stdout",
     "output_type": "stream",
     "text": [
      "张量c1: Tensor(\"c1:0\", shape=(2, 3), dtype=int32)\n",
      "张量c1的类型： <class 'tensorflow.python.framework.ops.Tensor'>\n",
      "张量c1的维度： (2, 3)\n",
      "张量计算结果： [[40 51]\n",
      " [58 78]]\n",
      "计算结果的维度： (2, 2)\n"
     ]
    }
   ],
   "source": [
    "import tensorflow as tf\n",
    "\n",
    "def matrix_graph():\n",
    "    g = tf.Graph()\n",
    "    with g.as_default():\n",
    "        c1 = tf.constant([[1, 2, 4], [3, 4, 5]], name='c1')\n",
    "        c2 = tf.constant([[2, 3], [3, 6], [8, 9]], name='c2')\n",
    "        mat_res = tf.matmul(c1, c2, name='mat_res')\n",
    "        sess = tf.compat.v1.Session()\n",
    "        res = sess.run(mat_res)\n",
    "        return c1, c2, res\n",
    "    \n",
    "if __name__ == '__main__':\n",
    "    c1, c2, res = matrix_graph()\n",
    "    print('张量c1: {}'.format(c1))\n",
    "    print('张量c1的类型： {}'.format(type(c1)))\n",
    "    print('张量c1的维度： {}'.format(c1.shape))\n",
    "    print('张量计算结果： {}'.format(res))\n",
    "    print('计算结果的维度： {}'.format(res.shape))"
   ]
  },
  {
   "cell_type": "markdown",
   "metadata": {},
   "source": [
    "# TF2矩阵计算"
   ]
  },
  {
   "cell_type": "code",
   "execution_count": 2,
   "metadata": {},
   "outputs": [
    {
     "name": "stdout",
     "output_type": "stream",
     "text": [
      "张量v1: <tf.Variable 'v1:0' shape=(2, 3) dtype=int32, numpy=\n",
      "array([[1, 2, 4],\n",
      "       [3, 4, 5]])>\n",
      "张量v1的类型： <class 'tensorflow.python.ops.resource_variable_ops.ResourceVariable'>\n",
      "张量v1的维度： (2, 3)\n",
      "张量的计算结果： [[40 51]\n",
      " [58 78]]\n",
      "计算结果的维度： (2, 2)\n"
     ]
    }
   ],
   "source": [
    "import tensorflow as tf\n",
    "\n",
    "def matrix_eager():\n",
    "    v1 = tf.Variable([[1, 2, 4], [3, 4, 5]], name='v1')\n",
    "    v2 = tf.Variable([[2, 3], [3, 6], [8, 9]], name='v2')\n",
    "    mat_res = tf.matmul(v1, v2, name='mat_res')\n",
    "    return v1, v2, res\n",
    "\n",
    "if __name__ == '__main__':\n",
    "    v1, v2, res = matrix_eager()\n",
    "    print('张量v1: {}'.format(v1))\n",
    "    print('张量v1的类型： {}'.format(type(v1)))\n",
    "    print('张量v1的维度： {}'.format(v1.shape))\n",
    "    print('张量的计算结果： {}'.format(res))\n",
    "    print('计算结果的维度： {}'.format(res.shape))"
   ]
  },
  {
   "cell_type": "markdown",
   "metadata": {},
   "source": [
    "# Tensor数据格式"
   ]
  },
  {
   "cell_type": "code",
   "execution_count": 3,
   "metadata": {},
   "outputs": [
    {
     "name": "stdout",
     "output_type": "stream",
     "text": [
      "变量张量v1: <tf.Variable 'v1:0' shape=(2, 3) dtype=int32, numpy=\n",
      "array([[1, 2, 4],\n",
      "       [3, 4, 5]])>\n",
      "变量张量v1: [[1 2 4]\n",
      " [3 4 5]]\n",
      "矩阵的计算结果： [[40 51]\n",
      " [58 78]]\n",
      "计算结果的类型： <class 'numpy.ndarray'>\n",
      "常量张量： 120\n",
      "tf.Tensor(120, shape=(), dtype=int32)\n"
     ]
    }
   ],
   "source": [
    "import tensorflow as tf\n",
    "\n",
    "def data_format():\n",
    "    v1 = tf.Variable([[1, 2, 4], [3, 4, 5]], name='v1')\n",
    "    v2 = tf.Variable([[2, 3], [3, 6], [8, 9]], name='v2')\n",
    "    mat_res = tf.matmul(v1, v2, name='mat_res')\n",
    "    c1 = tf.constant(120, name='c1')\n",
    "    return v1, res, c1\n",
    "\n",
    "if __name__ == '__main__':\n",
    "    v1, res, c1 = data_format()\n",
    "    print('变量张量v1: {}'.format(v1))\n",
    "    print('变量张量v1: {}'.format(v1.numpy()))\n",
    "    print('矩阵的计算结果： {}'.format(res))\n",
    "    print('计算结果的类型： {}'.format(type(res)))\n",
    "    print('常量张量： {}'.format(c1))\n",
    "    print(c1)"
   ]
  }
 ],
 "metadata": {
  "kernelspec": {
   "display_name": "Python 3",
   "language": "python",
   "name": "python3"
  },
  "language_info": {
   "codemirror_mode": {
    "name": "ipython",
    "version": 3
   },
   "file_extension": ".py",
   "mimetype": "text/x-python",
   "name": "python",
   "nbconvert_exporter": "python",
   "pygments_lexer": "ipython3",
   "version": "3.8.5"
  }
 },
 "nbformat": 4,
 "nbformat_minor": 4
}
