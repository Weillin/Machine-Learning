{
 "cells": [
  {
   "cell_type": "code",
   "execution_count": null,
   "id": "e3a2756c",
   "metadata": {},
   "outputs": [],
   "source": [
    "import os\n",
    "\n",
    "in_path = '../in_dir'\n",
    "out_path = '../out_dir'\n",
    "\n",
    "files = os.listdir(in_path)\n",
    "if not os.path.exists(out_path):\n",
    "    os.mkdir(out_path)\n",
    "for name in files:\n",
    "    if name.endswith('.ipynb'):\n",
    "        old_path = os.path.join(in_path, name)\n",
    "        # print(old_path)\n",
    "        n = name.replace(' ', '_')\n",
    "        n = n.replace(',', '_')\n",
    "        n = n.replace('__', '_')\n",
    "        n = n.replace('_&_', '&')\n",
    "        n = n.replace('()', '')\n",
    "        n = n.replace('_-_', '_')\n",
    "        new_path = out_path + '/' + n\n",
    "        print(n)\n",
    "        os.rename(old_path, new_path)"
   ]
  }
 ],
 "metadata": {
  "kernelspec": {
   "display_name": "Python 3",
   "language": "python",
   "name": "python3"
  },
  "language_info": {
   "codemirror_mode": {
    "name": "ipython",
    "version": 3
   },
   "file_extension": ".py",
   "mimetype": "text/x-python",
   "name": "python",
   "nbconvert_exporter": "python",
   "pygments_lexer": "ipython3",
   "version": "3.8.8"
  }
 },
 "nbformat": 4,
 "nbformat_minor": 5
}
