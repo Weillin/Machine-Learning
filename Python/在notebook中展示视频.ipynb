{
 "cells": [
  {
   "cell_type": "markdown",
   "id": "89e8cd51",
   "metadata": {},
   "source": [
    "在notebook中是不能播放视频文件的，如果我们想在notebook中查看一下视频的内容，我们需要把视频中的每一帧图片提取出来，然后一帧一帧地切换，以达到预览视频的效果"
   ]
  },
  {
   "cell_type": "code",
   "execution_count": 1,
   "id": "cec859df",
   "metadata": {},
   "outputs": [],
   "source": [
    "## 1.导入依赖包"
   ]
  },
  {
   "cell_type": "code",
   "execution_count": 2,
   "id": "09aeb1bd",
   "metadata": {},
   "outputs": [],
   "source": [
    "from IPython.display import clear_output, Image, display\n",
    "import time\n",
    "import cv2"
   ]
  },
  {
   "cell_type": "code",
   "execution_count": 3,
   "id": "a92cf237",
   "metadata": {},
   "outputs": [],
   "source": [
    "## 2.读取一个视频文件"
   ]
  },
  {
   "cell_type": "code",
   "execution_count": 4,
   "id": "86e4aaed",
   "metadata": {},
   "outputs": [],
   "source": [
    "cap = cv2.VideoCapture('test.mp4')"
   ]
  },
  {
   "cell_type": "code",
   "execution_count": 5,
   "id": "f0f16c25",
   "metadata": {},
   "outputs": [],
   "source": [
    "## 3.将帧数初始值数值为1"
   ]
  },
  {
   "cell_type": "code",
   "execution_count": 6,
   "id": "9e0539d9",
   "metadata": {},
   "outputs": [],
   "source": [
    "i = 1"
   ]
  },
  {
   "cell_type": "code",
   "execution_count": 7,
   "id": "603c6b94",
   "metadata": {},
   "outputs": [],
   "source": [
    "## 4.顺序播放每一帧图片"
   ]
  },
  {
   "cell_type": "code",
   "execution_count": 8,
   "id": "a2fd5040",
   "metadata": {},
   "outputs": [],
   "source": [
    "while True:\n",
    "    try:\n",
    "        clear_output(wait=True) # 在显示图片之前先把之前的图片清除\n",
    "        ret, frame = cap.read() # 读取一帧图片\n",
    "        if ret:                 #判断视频是否已经读取所有的帧       \n",
    "            if i > 200:         #设置一共要显示多少帧图片\n",
    "                break\n",
    "            cv2.putText(frame, str(i), (5, 15), cv2.FONT_HERSHEY_SIMPLEX, \n",
    "                        0.5, (0, 255, 0), 1)  # 显示当前播放的是第几帧\n",
    "            tmp = cv2.cvtColor(frame, cv2.COLOR_BGR2RGB)       # 转换色彩模式\n",
    "            _,ret = cv2.imencode('.jpg', frame)\n",
    "            img = Image(data=ret)\n",
    "            display(img)                # 显示图片\n",
    "            time.sleep(0.04)            # 设置播放两张图片之间的时间间隔\n",
    "            i += 1\n",
    "        else:\n",
    "            break\n",
    "    except KeyboardInterrupt:\n",
    "        cap.release()\n",
    "cap.release()"
   ]
  }
 ],
 "metadata": {
  "kernelspec": {
   "display_name": "Python 3",
   "language": "python",
   "name": "python3"
  },
  "language_info": {
   "codemirror_mode": {
    "name": "ipython",
    "version": 3
   },
   "file_extension": ".py",
   "mimetype": "text/x-python",
   "name": "python",
   "nbconvert_exporter": "python",
   "pygments_lexer": "ipython3",
   "version": "3.8.8"
  }
 },
 "nbformat": 4,
 "nbformat_minor": 5
}
