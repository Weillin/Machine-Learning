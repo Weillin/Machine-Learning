{
 "cells": [
  {
   "cell_type": "code",
   "execution_count": 1,
   "id": "1a5dfca2",
   "metadata": {},
   "outputs": [
    {
     "name": "stdout",
     "output_type": "stream",
     "text": [
      "['../in_dir/resnet.ipynb', '../in_dir/vgg.ipynb']\n",
      "2\n"
     ]
    }
   ],
   "source": [
    "# -*- coding: utf-8 -*-\n",
    "import os\n",
    "\n",
    "path_li = []\n",
    "dir_in = '../in_dir'\n",
    "for root, dirs, files in os.walk(dir_in):\n",
    "    for file_name in files:\n",
    "        if file_name.endswith('.ipynb'):\n",
    "            file_path = os.path.join(root, file_name)\n",
    "            path = file_path.replace('\\\\', '/')\n",
    "            path_li.append(path)\n",
    "print(path_li)\n",
    "print(len(path_li))\n",
    "\n",
    "out_dir = '../out_dir'\n",
    "if not os.path.exists(out_dir):\n",
    "    os.mkdir(out_dir)\n",
    "\n",
    "for name in path_li:\n",
    "    with open(name, 'r', encoding='UTF-8', errors='ignore') as f:\n",
    "        text = f.read()\n",
    "        s1 = 'abc'\n",
    "        s2 = 'def'\n",
    "        text = text.replace(s1, s2)\n",
    "        \n",
    "    out_path = out_dir + '/' + name.split('/')[-1]\n",
    "    with open(out_path, 'w', encoding='utf-8', errors='ignore') as f:\n",
    "        f.write(text)"
   ]
  }
 ],
 "metadata": {
  "kernelspec": {
   "display_name": "Python 3",
   "language": "python",
   "name": "python3"
  },
  "language_info": {
   "codemirror_mode": {
    "name": "ipython",
    "version": 3
   },
   "file_extension": ".py",
   "mimetype": "text/x-python",
   "name": "python",
   "nbconvert_exporter": "python",
   "pygments_lexer": "ipython3",
   "version": "3.8.8"
  }
 },
 "nbformat": 4,
 "nbformat_minor": 5
}
