{
 "cells": [
  {
   "cell_type": "markdown",
   "id": "94cc7e1d",
   "metadata": {},
   "source": [
    "## 1.遍历双层列表中的元素"
   ]
  },
  {
   "cell_type": "code",
   "execution_count": 1,
   "id": "9e1e8269",
   "metadata": {},
   "outputs": [
    {
     "name": "stdout",
     "output_type": "stream",
     "text": [
      "[1, 2, 3, 4, 5, 6, 7, 8, 9]\n"
     ]
    }
   ],
   "source": [
    "a = [[1,2], [3,4,5], [6,7,8,9]]\n",
    "b = [j for i in a for j in i]\n",
    "print(b)"
   ]
  },
  {
   "cell_type": "markdown",
   "id": "90c8d736",
   "metadata": {},
   "source": [
    "## 2.求列表元素的平方"
   ]
  },
  {
   "cell_type": "code",
   "execution_count": 2,
   "id": "36bde880",
   "metadata": {},
   "outputs": [
    {
     "name": "stdout",
     "output_type": "stream",
     "text": [
      "[1, 4, 9, 16, 25, 36, 49, 64, 81]\n"
     ]
    }
   ],
   "source": [
    "c = [x**2 for x in range(1, 10)]\n",
    "print(c)"
   ]
  },
  {
   "cell_type": "markdown",
   "id": "2b31e53d",
   "metadata": {},
   "source": [
    "## 3.求列表中偶数的平方"
   ]
  },
  {
   "cell_type": "code",
   "execution_count": 3,
   "id": "075cd509",
   "metadata": {},
   "outputs": [
    {
     "name": "stdout",
     "output_type": "stream",
     "text": [
      "[4, 16, 36, 64]\n"
     ]
    }
   ],
   "source": [
    "d = [i**2 for i in range(1, 10) if i%2 == 0]\n",
    "print(d)"
   ]
  },
  {
   "cell_type": "markdown",
   "id": "014447b1",
   "metadata": {},
   "source": [
    "## 4.求双层列表中偶数的平方"
   ]
  },
  {
   "cell_type": "code",
   "execution_count": 4,
   "id": "f4539428",
   "metadata": {},
   "outputs": [
    {
     "name": "stdout",
     "output_type": "stream",
     "text": [
      "[4, 16, 36, 64]\n"
     ]
    }
   ],
   "source": [
    "e = [[1,2,3,4], [5,6,7], [8,9]]\n",
    "f = [j**2 for i in e for j in i if j%2 == 0]\n",
    "print(f)"
   ]
  },
  {
   "cell_type": "markdown",
   "id": "4f20bffe",
   "metadata": {},
   "source": [
    "## 5.求列表长度大于1的偶数的平方"
   ]
  },
  {
   "cell_type": "code",
   "execution_count": 5,
   "id": "456e7675",
   "metadata": {},
   "outputs": [
    {
     "name": "stdout",
     "output_type": "stream",
     "text": [
      "[4, 16, 36]\n"
     ]
    }
   ],
   "source": [
    "g = [[1,2,3], [4,5,6], [8], [9]]\n",
    "h = [j**2 for i in g if len(i)>1 for j in i if j%2 == 0]\n",
    "print(h)"
   ]
  },
  {
   "cell_type": "markdown",
   "id": "6a78731e",
   "metadata": {},
   "source": [
    "## 6.将列表中的字分别填入字符串中"
   ]
  },
  {
   "cell_type": "code",
   "execution_count": 6,
   "id": "7fa8ddaf",
   "metadata": {},
   "outputs": [
    {
     "name": "stdout",
     "output_type": "stream",
     "text": [
      "['1只羊', '2只羊', '3只羊', '4只羊', '5只羊', '6只羊', '7只羊', '8只羊', '9只羊', '10只羊', '11只羊', '12只羊', '13只羊', '14只羊', '15只羊', '16只羊', '17只羊', '18只羊', '19只羊', '20只羊', '21只羊', '22只羊', '23只羊', '24只羊', '25只羊', '26只羊', '27只羊', '28只羊', '29只羊', '30只羊', '31只羊', '32只羊', '33只羊', '34只羊', '35只羊', '36只羊', '37只羊', '38只羊', '39只羊', '40只羊', '41只羊', '42只羊', '43只羊', '44只羊', '45只羊', '46只羊', '47只羊', '48只羊', '49只羊', '50只羊', '51只羊', '52只羊', '53只羊', '54只羊', '55只羊', '56只羊', '57只羊', '58只羊', '59只羊', '60只羊', '61只羊', '62只羊', '63只羊', '64只羊', '65只羊', '66只羊', '67只羊', '68只羊', '69只羊', '70只羊', '71只羊', '72只羊', '73只羊', '74只羊', '75只羊', '76只羊', '77只羊', '78只羊', '79只羊', '80只羊', '81只羊', '82只羊', '83只羊', '84只羊', '85只羊', '86只羊', '87只羊', '88只羊', '89只羊', '90只羊', '91只羊', '92只羊', '93只羊', '94只羊', '95只羊', '96只羊', '97只羊', '98只羊', '99只羊', '100只羊']\n"
     ]
    }
   ],
   "source": [
    "arr = [f'{i}只羊' for i in range(1, 101)]\n",
    "print(arr)"
   ]
  },
  {
   "cell_type": "markdown",
   "id": "e4c8d122",
   "metadata": {},
   "source": [
    "## 7.将字符串变成大写"
   ]
  },
  {
   "cell_type": "code",
   "execution_count": 7,
   "id": "9f9019f9",
   "metadata": {},
   "outputs": [
    {
     "name": "stdout",
     "output_type": "stream",
     "text": [
      "['PYTHON', '深度学习', 'TENSORFOW', 'PYTORCH']\n"
     ]
    }
   ],
   "source": [
    "m = ['python', '深度学习', 'tensorfow', 'pytorch']\n",
    "n = [i.upper() for i in m if len(i) > 3]\n",
    "print(n)"
   ]
  },
  {
   "cell_type": "markdown",
   "id": "0e71c7e3",
   "metadata": {},
   "source": [
    "## 8.打印s个数大于1的字符串"
   ]
  },
  {
   "cell_type": "code",
   "execution_count": 8,
   "id": "52f192e3",
   "metadata": {},
   "outputs": [
    {
     "name": "stdout",
     "output_type": "stream",
     "text": [
      "['sfsdsd', 'sfsgfehg', 'sgsefe', 'sdfsf']\n"
     ]
    }
   ],
   "source": [
    "names = [['sfsdsd', 'yefdgds', 'sfsgfehg'], ['etgwf', 'sgsefe'], ['sdfsf']]\n",
    "l = [j for i in names for j in i if j.count('s') > 1]\n",
    "print(l)"
   ]
  }
 ],
 "metadata": {
  "kernelspec": {
   "display_name": "Python 3",
   "language": "python",
   "name": "python3"
  },
  "language_info": {
   "codemirror_mode": {
    "name": "ipython",
    "version": 3
   },
   "file_extension": ".py",
   "mimetype": "text/x-python",
   "name": "python",
   "nbconvert_exporter": "python",
   "pygments_lexer": "ipython3",
   "version": "3.8.8"
  }
 },
 "nbformat": 4,
 "nbformat_minor": 5
}
