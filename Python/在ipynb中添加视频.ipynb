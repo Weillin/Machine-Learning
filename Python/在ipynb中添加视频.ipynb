{
 "cells": [
  {
   "cell_type": "code",
   "execution_count": null,
   "id": "66a6d66a",
   "metadata": {},
   "outputs": [],
   "source": [
    "li = input()\n",
    "\n",
    "link = li.replace('allowfullscreen=\"true\"', 'allowfullscreen=\"true\" width=\"850\" height=\"480\"')\n",
    "\n",
    "print('import IPython')\n",
    "print(\"IPython.display.HTML('\" + link + \"')\")"
   ]
  }
 ],
 "metadata": {
  "kernelspec": {
   "display_name": "Python 3",
   "language": "python",
   "name": "python3"
  },
  "language_info": {
   "codemirror_mode": {
    "name": "ipython",
    "version": 3
   },
   "file_extension": ".py",
   "mimetype": "text/x-python",
   "name": "python",
   "nbconvert_exporter": "python",
   "pygments_lexer": "ipython3",
   "version": "3.8.8"
  }
 },
 "nbformat": 4,
 "nbformat_minor": 5
}
