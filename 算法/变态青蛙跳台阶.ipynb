{
 "cells": [
  {
   "cell_type": "code",
   "execution_count": 1,
   "id": "4dc788a7",
   "metadata": {},
   "outputs": [
    {
     "name": "stdout",
     "output_type": "stream",
     "text": [
      "633825300114114700748351602688\n"
     ]
    }
   ],
   "source": [
    "class Solution:\n",
    "    def jumpFloorII(self, number):\n",
    "        return pow(2, number-1)\n",
    "\n",
    "\n",
    "if __name__ == '__main__':\n",
    "    s = Solution()\n",
    "    print(s.jumpFloorII(100))"
   ]
  },
  {
   "cell_type": "code",
   "execution_count": 2,
   "id": "50cfd5f6",
   "metadata": {},
   "outputs": [
    {
     "name": "stdout",
     "output_type": "stream",
     "text": [
      "633825300114114700748351602688\n"
     ]
    }
   ],
   "source": [
    "class Solution:\n",
    "    def jumpFloorII(self, number):\n",
    "        # write code here\n",
    "        if number == 1:\n",
    "            return 1\n",
    "        else:\n",
    "            ret = 1\n",
    "            for i in range(number-1):\n",
    "                ret *= 2\n",
    "\n",
    "            return ret\n",
    "\n",
    "\n",
    "if __name__ == '__main__':\n",
    "    s = Solution()\n",
    "    print(s.jumpFloorII(100))"
   ]
  }
 ],
 "metadata": {
  "kernelspec": {
   "display_name": "Python 3",
   "language": "python",
   "name": "python3"
  },
  "language_info": {
   "codemirror_mode": {
    "name": "ipython",
    "version": 3
   },
   "file_extension": ".py",
   "mimetype": "text/x-python",
   "name": "python",
   "nbconvert_exporter": "python",
   "pygments_lexer": "ipython3",
   "version": "3.8.8"
  }
 },
 "nbformat": 4,
 "nbformat_minor": 5
}
