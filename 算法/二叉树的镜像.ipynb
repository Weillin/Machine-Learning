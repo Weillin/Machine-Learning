{
 "cells": [
  {
   "cell_type": "markdown",
   "id": "f328c4dd",
   "metadata": {},
   "source": [
    "## 操作给定的二叉树，将其变换为源二叉树的镜像"
   ]
  },
  {
   "cell_type": "code",
   "execution_count": 1,
   "id": "5990afb1",
   "metadata": {},
   "outputs": [],
   "source": [
    "class Solution:\n",
    "    def Mirror(self, pRoot):\n",
    "        if pRoot == None:\n",
    "            return None\n",
    "\n",
    "        pRoot.left, pRoot.right = pRoot.right, pRoot.left\n",
    "\n",
    "        self.Mirror(pRoot.left)\n",
    "        self.Mirror(pRoot.right)\n",
    "\n",
    "        return pRoot"
   ]
  }
 ],
 "metadata": {
  "kernelspec": {
   "display_name": "Python 3",
   "language": "python",
   "name": "python3"
  },
  "language_info": {
   "codemirror_mode": {
    "name": "ipython",
    "version": 3
   },
   "file_extension": ".py",
   "mimetype": "text/x-python",
   "name": "python",
   "nbconvert_exporter": "python",
   "pygments_lexer": "ipython3",
   "version": "3.8.8"
  }
 },
 "nbformat": 4,
 "nbformat_minor": 5
}
