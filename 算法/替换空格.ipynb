{
 "cells": [
  {
   "cell_type": "markdown",
   "id": "4046f49e",
   "metadata": {},
   "source": [
    "## 请实现一个函数，将一个字符串中的每个空格替换成“%20”。例如，当字符串为We Are Happy.则经过替换之后的字符串为We%20Are%20Happy。"
   ]
  },
  {
   "cell_type": "markdown",
   "id": "8efe7d1c",
   "metadata": {},
   "source": [
    "### replace方法"
   ]
  },
  {
   "cell_type": "code",
   "execution_count": 1,
   "id": "d17319b0",
   "metadata": {},
   "outputs": [
    {
     "name": "stdout",
     "output_type": "stream",
     "text": [
      "We%20Are%20Happy\n"
     ]
    }
   ],
   "source": [
    "class Solution:\n",
    "    def replaceSpace(self, s):\n",
    "        return s.replace(' ', '%20')\n",
    "\n",
    "\n",
    "if __name__ == '__main__':\n",
    "    s = Solution()\n",
    "    print(s.replaceSpace('We Are Happy'))"
   ]
  },
  {
   "cell_type": "markdown",
   "id": "843e8756",
   "metadata": {},
   "source": [
    "### 从左到右遍历字符串，如果是空格则替换成20%，将所有字符串存入列表中"
   ]
  },
  {
   "cell_type": "code",
   "execution_count": 2,
   "id": "b7907c35",
   "metadata": {},
   "outputs": [
    {
     "name": "stdout",
     "output_type": "stream",
     "text": [
      "We%20Are%20Happy\n"
     ]
    }
   ],
   "source": [
    "class Solution:\n",
    "    def replaceSpace(self, s):\n",
    "        str_len = len(s)\n",
    "        l = []\n",
    "        for i in range(str_len):\n",
    "            if s[i] == ' ':\n",
    "                l.append('%20')\n",
    "            else:\n",
    "                l.append(s[i])\n",
    "\n",
    "        return ''.join(l)\n",
    "\n",
    "\n",
    "if __name__ == '__main__':\n",
    "    s = Solution()\n",
    "    print(s.replaceSpace('We Are Happy'))"
   ]
  }
 ],
 "metadata": {
  "kernelspec": {
   "display_name": "Python 3",
   "language": "python",
   "name": "python3"
  },
  "language_info": {
   "codemirror_mode": {
    "name": "ipython",
    "version": 3
   },
   "file_extension": ".py",
   "mimetype": "text/x-python",
   "name": "python",
   "nbconvert_exporter": "python",
   "pygments_lexer": "ipython3",
   "version": "3.8.8"
  }
 },
 "nbformat": 4,
 "nbformat_minor": 5
}
