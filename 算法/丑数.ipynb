{
 "cells": [
  {
   "cell_type": "markdown",
   "id": "4daad9ab",
   "metadata": {},
   "source": [
    "## 把只包含质因子2、3和5的数称作丑数（Ugly Number）。例如6、8都是丑数，但14不是，因为它包含质因子7。 习惯上我们把1当做是第一个丑数。求按从小到大的顺序的第 n个丑数"
   ]
  },
  {
   "cell_type": "code",
   "execution_count": 1,
   "id": "e0120b78",
   "metadata": {},
   "outputs": [
    {
     "name": "stdout",
     "output_type": "stream",
     "text": [
      "1536\n"
     ]
    }
   ],
   "source": [
    "class Solution:\n",
    "    def GetUglyNumber_Solution(self, index):\n",
    "        if index < 1:\n",
    "            return 0\n",
    "        ugly_list = [1]\n",
    "        two_pointer = 0\n",
    "        three_pointer = 0\n",
    "        five_pointer = 0\n",
    "        count = 1\n",
    "        while count != index:\n",
    "            min_value = min(2 * ugly_list[two_pointer], 3 * ugly_list[three_pointer], 5 * ugly_list[five_pointer])\n",
    "            ugly_list.append(min_value)\n",
    "            count += 1\n",
    "            if min_value == 2 * ugly_list[two_pointer]:\n",
    "                two_pointer += 1\n",
    "            if min_value == 3 * ugly_list[three_pointer]:\n",
    "                three_pointer += 1\n",
    "            if min_value == 5 * ugly_list[five_pointer]:\n",
    "                five_pointer += 1\n",
    "        return ugly_list[count - 1]\n",
    "\n",
    "\n",
    "if __name__ == '__main__':\n",
    "    s = Solution()\n",
    "    print(s.GetUglyNumber_Solution(100))"
   ]
  }
 ],
 "metadata": {
  "kernelspec": {
   "display_name": "Python 3",
   "language": "python",
   "name": "python3"
  },
  "language_info": {
   "codemirror_mode": {
    "name": "ipython",
    "version": 3
   },
   "file_extension": ".py",
   "mimetype": "text/x-python",
   "name": "python",
   "nbconvert_exporter": "python",
   "pygments_lexer": "ipython3",
   "version": "3.8.8"
  }
 },
 "nbformat": 4,
 "nbformat_minor": 5
}
