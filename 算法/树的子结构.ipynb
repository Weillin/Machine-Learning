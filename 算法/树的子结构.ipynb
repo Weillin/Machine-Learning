{
 "cells": [
  {
   "cell_type": "markdown",
   "id": "2ce6231f",
   "metadata": {},
   "source": [
    "## 输入两棵二叉树A，B，判断B是不是A的子结构。（ps：我们约定空树不是任意一个树的子结构）"
   ]
  },
  {
   "cell_type": "code",
   "execution_count": 1,
   "id": "f39fa975",
   "metadata": {},
   "outputs": [],
   "source": [
    "class Solution:\n",
    "    def HasSubtree(self, pRoot1, pRoot2):\n",
    "        if pRoot1 == None or pRoot2 == None:\n",
    "            return False\n",
    "\n",
    "        def hasEqual(pRoot1, pRoot2):\n",
    "            if pRoot2 == None:\n",
    "                return True\n",
    "            if pRoot1 == None:\n",
    "                return False\n",
    "\n",
    "            if pRoot1.val == pRoot2.val:\n",
    "                if pRoot2.left == None:\n",
    "                    leftEqual = True\n",
    "                else:\n",
    "                    leftEqual = hasEqual(pRoot1.left, pRoot2.left)\n",
    "                if pRoot2.right == None:\n",
    "                    rightEqual = True\n",
    "                else:\n",
    "                    rightEqual = hasEqual(pRoot1.right, pRoot2.right)\n",
    "                return leftEqual and rightEqual\n",
    "            return False\n",
    "\n",
    "        if pRoot1.val == pRoot2.val:\n",
    "            ret = hasEqual(pRoot1, pRoot2)\n",
    "            if ret:\n",
    "                return True\n",
    "\n",
    "        ret = self.HasSubtree(pRoot1.left, pRoot2)\n",
    "        if ret:\n",
    "            return True\n",
    "\n",
    "        ret = self.HasSubtree(pRoot1.right, pRoot2)\n",
    "        return ret"
   ]
  }
 ],
 "metadata": {
  "kernelspec": {
   "display_name": "Python 3",
   "language": "python",
   "name": "python3"
  },
  "language_info": {
   "codemirror_mode": {
    "name": "ipython",
    "version": 3
   },
   "file_extension": ".py",
   "mimetype": "text/x-python",
   "name": "python",
   "nbconvert_exporter": "python",
   "pygments_lexer": "ipython3",
   "version": "3.8.8"
  }
 },
 "nbformat": 4,
 "nbformat_minor": 5
}
