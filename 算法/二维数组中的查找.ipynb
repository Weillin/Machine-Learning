{
 "cells": [
  {
   "cell_type": "markdown",
   "id": "494b0b25",
   "metadata": {},
   "source": [
    "## 在一个二维数组array中（每个一维数组的长度相同），每一行都按照从左到右递增的顺序排序，每一列都按照从上到下递增的顺序排序。请完成一个函数，输入这样的一个二维数组和一个整数，判断数组中是否含有该整数"
   ]
  },
  {
   "cell_type": "code",
   "execution_count": 1,
   "id": "e2106907",
   "metadata": {},
   "outputs": [
    {
     "name": "stdout",
     "output_type": "stream",
     "text": [
      "True\n"
     ]
    }
   ],
   "source": [
    "class Solution:\n",
    "    def Find(self, target, array):\n",
    "        if array == None or array[0] == None:\n",
    "            return False\n",
    "        rows = len(array)\n",
    "        cols = len(array[0])\n",
    "        i = 0\n",
    "        j = cols - 1\n",
    "\n",
    "        while i >= 0 and i < rows and j >= 0 and j < cols:\n",
    "            value = array[i][j]\n",
    "            if value == target:\n",
    "                return True\n",
    "            elif value > target:\n",
    "                j -= 1\n",
    "            else:\n",
    "                i += 1\n",
    "\n",
    "        return False\n",
    "\n",
    "\n",
    "if __name__ == '__main__':\n",
    "    s = Solution()\n",
    "    target = 7\n",
    "    array = [[1, 2, 8, 9], [2, 4, 9, 12], [4, 7, 10, 13], [6, 8, 11, 15]]\n",
    "    print(s.Find(target, array))"
   ]
  }
 ],
 "metadata": {
  "kernelspec": {
   "display_name": "Python 3",
   "language": "python",
   "name": "python3"
  },
  "language_info": {
   "codemirror_mode": {
    "name": "ipython",
    "version": 3
   },
   "file_extension": ".py",
   "mimetype": "text/x-python",
   "name": "python",
   "nbconvert_exporter": "python",
   "pygments_lexer": "ipython3",
   "version": "3.8.8"
  }
 },
 "nbformat": 4,
 "nbformat_minor": 5
}
