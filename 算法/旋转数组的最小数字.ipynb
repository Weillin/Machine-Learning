{
 "cells": [
  {
   "cell_type": "markdown",
   "id": "70cbf09d",
   "metadata": {},
   "source": [
    "## 有一个长度为 n 的非降序数组，比如[1,2,3,4,5]，将它进行旋转，即把一个数组最开始的若干个元素搬到数组的末尾，变成一个旋转数组，比如变成了[3,4,5,1,2]，或者[4,5,1,2,3]这样的。请问，给定这样一个旋转数组，求数组中的最小值"
   ]
  },
  {
   "cell_type": "markdown",
   "id": "d861bcdf",
   "metadata": {},
   "source": [
    "### 二分查找法"
   ]
  },
  {
   "cell_type": "code",
   "execution_count": 1,
   "id": "d7336780",
   "metadata": {},
   "outputs": [
    {
     "name": "stdout",
     "output_type": "stream",
     "text": [
      "1\n"
     ]
    }
   ],
   "source": [
    "class Solution:\n",
    "    def minNumberInRotateArray(self, rotateArray):\n",
    "        if len(rotateArray) == 0:\n",
    "            return 0\n",
    "        left = 0\n",
    "        right = len(rotateArray) - 1\n",
    "        while left < right:\n",
    "            middle = (left + right) >> 1\n",
    "            if rotateArray[middle] > rotateArray[right]:\n",
    "                left = middle + 1\n",
    "            elif rotateArray[middle] < rotateArray[right]:\n",
    "                right = middle\n",
    "            else:\n",
    "                right -= 1\n",
    "        return rotateArray[left]\n",
    "\n",
    "\n",
    "if __name__ == '__main__':\n",
    "    s = Solution()\n",
    "    rotateArray = [3, 4, 5, 1, 2]\n",
    "    print(s.minNumberInRotateArray(rotateArray))"
   ]
  }
 ],
 "metadata": {
  "kernelspec": {
   "display_name": "Python 3",
   "language": "python",
   "name": "python3"
  },
  "language_info": {
   "codemirror_mode": {
    "name": "ipython",
    "version": 3
   },
   "file_extension": ".py",
   "mimetype": "text/x-python",
   "name": "python",
   "nbconvert_exporter": "python",
   "pygments_lexer": "ipython3",
   "version": "3.8.8"
  }
 },
 "nbformat": 4,
 "nbformat_minor": 5
}
