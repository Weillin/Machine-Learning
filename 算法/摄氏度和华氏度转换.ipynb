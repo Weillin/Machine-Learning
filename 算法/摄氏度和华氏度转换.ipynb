{
 "cells": [
  {
   "cell_type": "code",
   "execution_count": 1,
   "id": "801ba1dd",
   "metadata": {},
   "outputs": [
    {
     "name": "stdout",
     "output_type": "stream",
     "text": [
      "测试,0摄氏度=32.00华氏度\n"
     ]
    }
   ],
   "source": [
    "def c2f(cel):\n",
    "    fah = cel * 1.8+ 32\n",
    "    return fah\n",
    "\n",
    "def f2c(fah):\n",
    "    cel = (fah - 32) / 1.8\n",
    "    return cel\n",
    "\n",
    "def test():\n",
    "    print('测试,0摄氏度=%.2f华氏度' % c2f(0))\n",
    "\n",
    "if __name__ == '__main__':\n",
    "    test()"
   ]
  }
 ],
 "metadata": {
  "kernelspec": {
   "display_name": "Python 3",
   "language": "python",
   "name": "python3"
  },
  "language_info": {
   "codemirror_mode": {
    "name": "ipython",
    "version": 3
   },
   "file_extension": ".py",
   "mimetype": "text/x-python",
   "name": "python",
   "nbconvert_exporter": "python",
   "pygments_lexer": "ipython3",
   "version": "3.8.8"
  }
 },
 "nbformat": 4,
 "nbformat_minor": 5
}
