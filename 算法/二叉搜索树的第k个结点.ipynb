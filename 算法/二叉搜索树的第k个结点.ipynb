{
 "cells": [
  {
   "cell_type": "markdown",
   "id": "b6e96263",
   "metadata": {},
   "source": [
    "## 给定一棵结点数为 n 二叉搜索树，请找出其中的第 k 小的TreeNode结点。\n",
    "\n",
    "## 数据范围： 0≤n<=100，0≤k≤100，树上每个结点的值满足 0≤val≤100\n",
    "## 要求：空间复杂度 O(1)，时间复杂度 O(n)\n",
    "\n",
    "## 注意：不是返回结点的值"
   ]
  },
  {
   "cell_type": "code",
   "execution_count": 1,
   "id": "40f9962a",
   "metadata": {},
   "outputs": [],
   "source": [
    "class Solution:\n",
    "    def KthNode(self, pRoot, k):\n",
    "        ret_list = []\n",
    "\n",
    "        def pre_order(pRoot):\n",
    "            if pRoot == None:\n",
    "                return None\n",
    "            \n",
    "            pre_order(pRoot.left)\n",
    "            ret_list.append(pRoot)\n",
    "            pre_order(pRoot.right)\n",
    "            \n",
    "        pre_order(pRoot)\n",
    "        \n",
    "        if len(ret_list) < k or k < 1:\n",
    "            return None\n",
    "\n",
    "        return ret_list[k-1]"
   ]
  }
 ],
 "metadata": {
  "kernelspec": {
   "display_name": "Python 3",
   "language": "python",
   "name": "python3"
  },
  "language_info": {
   "codemirror_mode": {
    "name": "ipython",
    "version": 3
   },
   "file_extension": ".py",
   "mimetype": "text/x-python",
   "name": "python",
   "nbconvert_exporter": "python",
   "pygments_lexer": "ipython3",
   "version": "3.8.8"
  }
 },
 "nbformat": 4,
 "nbformat_minor": 5
}
