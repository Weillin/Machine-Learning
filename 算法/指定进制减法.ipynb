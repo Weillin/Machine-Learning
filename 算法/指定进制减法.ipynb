{
 "cells": [
  {
   "cell_type": "code",
   "execution_count": 1,
   "id": "c113913d",
   "metadata": {},
   "outputs": [
    {
     "name": "stdout",
     "output_type": "stream",
     "text": [
      "yz1\n"
     ]
    }
   ],
   "source": [
    "def jz(n, hex, hex2):\n",
    "    str_36 = '0123456789abcdefghijklmnopqrstuvwxyz'\n",
    "    dict_36 = {}\n",
    "    for i in range(len(str_36)):\n",
    "        dict_36[str_36[i]] = i\n",
    "    str_b = str_36[:hex2]\n",
    "    r = ''\n",
    "    source_str = str(n).lower()\n",
    "    d = 0\n",
    "    for i in range(len(source_str)):\n",
    "        d += dict_36[source_str[-i - 1]] * (hex ** i)\n",
    "    s = d\n",
    "    while s:\n",
    "        y = s % hex2\n",
    "        s = s // hex2\n",
    "        r = str_b[y] + r\n",
    "        if s and s < hex2:\n",
    "            r = str_b[s] + r\n",
    "            break\n",
    "    return r\n",
    "\n",
    "\n",
    "def main(hex, n1, n2):\n",
    "    if hex < 2 or hex > 36:\n",
    "        print(\"进制在2~36\")\n",
    "    elif hex == 10:\n",
    "        print(int(n1) - int(n2))\n",
    "    else:\n",
    "        n1 = jz(n1, hex, 10)\n",
    "        n2 = jz(n2, hex, 10)\n",
    "        n3 = str(int(n1) - int(n2))\n",
    "        n3 = jz(n3, 10, hex)\n",
    "        print(n3)\n",
    "\n",
    "\n",
    "if __name__ == '__main__':\n",
    "    main(36, 'z34', '43')        #进制, 被减数, 减数"
   ]
  }
 ],
 "metadata": {
  "kernelspec": {
   "display_name": "Python 3",
   "language": "python",
   "name": "python3"
  },
  "language_info": {
   "codemirror_mode": {
    "name": "ipython",
    "version": 3
   },
   "file_extension": ".py",
   "mimetype": "text/x-python",
   "name": "python",
   "nbconvert_exporter": "python",
   "pygments_lexer": "ipython3",
   "version": "3.8.8"
  }
 },
 "nbformat": 4,
 "nbformat_minor": 5
}
