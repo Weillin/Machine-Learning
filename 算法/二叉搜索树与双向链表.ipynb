{
 "cells": [
  {
   "cell_type": "markdown",
   "id": "eb1df6e5",
   "metadata": {},
   "source": [
    "## 输入一棵二叉搜索树，将该二叉搜索树转换成一个排序的双向链表"
   ]
  },
  {
   "cell_type": "code",
   "execution_count": 1,
   "id": "12719d03",
   "metadata": {},
   "outputs": [],
   "source": [
    "class Solution:\n",
    "    def Convert(self, pRootOfTree):\n",
    "        if pRootOfTree == None:\n",
    "            return None\n",
    "\n",
    "        def find_right(node):\n",
    "            while node.right:\n",
    "                node = node.right\n",
    "            return node\n",
    "\n",
    "        left_node = self.Convert(pRootOfTree.left)\n",
    "        right_node = self.Convert(pRootOfTree.right)\n",
    "\n",
    "        ret_node = left_node\n",
    "        if left_node:\n",
    "            left_node = find_right(left_node)\n",
    "        else:\n",
    "            ret_node = pRootOfTree\n",
    "\n",
    "        pRootOfTree.left = left_node\n",
    "        pRootOfTree.right = right_node\n",
    "        if left_node != None:\n",
    "            left_node.right = pRootOfTree\n",
    "        if right_node != None:\n",
    "            right_node.left = pRootOfTree\n",
    "\n",
    "        return ret_node"
   ]
  }
 ],
 "metadata": {
  "kernelspec": {
   "display_name": "Python 3",
   "language": "python",
   "name": "python3"
  },
  "language_info": {
   "codemirror_mode": {
    "name": "ipython",
    "version": 3
   },
   "file_extension": ".py",
   "mimetype": "text/x-python",
   "name": "python",
   "nbconvert_exporter": "python",
   "pygments_lexer": "ipython3",
   "version": "3.8.8"
  }
 },
 "nbformat": 4,
 "nbformat_minor": 5
}
