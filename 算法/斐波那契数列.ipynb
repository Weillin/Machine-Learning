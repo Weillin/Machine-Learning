{
 "cells": [
  {
   "cell_type": "code",
   "execution_count": 1,
   "metadata": {},
   "outputs": [
    {
     "name": "stdout",
     "output_type": "stream",
     "text": [
      "请输入一个整数:93\n",
      "12200160415121876738\n"
     ]
    }
   ],
   "source": [
    "class Solution:\n",
    "    def Fibonacci(self, n):\n",
    "        if n < 0:\n",
    "            return '请输入非零整数!'\n",
    "        if n == 0:\n",
    "            return 0\n",
    "        if n == 1:\n",
    "            return 1\n",
    "        a = 0\n",
    "        b = 1\n",
    "        sut = 0\n",
    "        for i in range(n-1):\n",
    "            sut = a + b\n",
    "            a = b\n",
    "            b = sut\n",
    "        return sut\n",
    "if __name__=='__main__':\n",
    "    s = Solution()\n",
    "    print(s.Fibonacci(int(input('请输入一个整数:'))))"
   ]
  }
 ],
 "metadata": {
  "kernelspec": {
   "display_name": "Python 3",
   "language": "python",
   "name": "python3"
  },
  "language_info": {
   "codemirror_mode": {
    "name": "ipython",
    "version": 3
   },
   "file_extension": ".py",
   "mimetype": "text/x-python",
   "name": "python",
   "nbconvert_exporter": "python",
   "pygments_lexer": "ipython3",
   "version": "3.8.8"
  }
 },
 "nbformat": 4,
 "nbformat_minor": 2
}
