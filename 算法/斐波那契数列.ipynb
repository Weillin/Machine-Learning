{
 "cells": [
  {
   "cell_type": "code",
   "execution_count": 1,
   "id": "f6db0678",
   "metadata": {},
   "outputs": [
    {
     "name": "stdout",
     "output_type": "stream",
     "text": [
      "354224848179261915075\n"
     ]
    }
   ],
   "source": [
    "class Solution:\n",
    "    def Fibonacci(self, n):\n",
    "        if n == 0:\n",
    "            return 0\n",
    "        if n == 1 or n == 2:\n",
    "            return 1\n",
    "        else:\n",
    "            a = 1\n",
    "            b = 1\n",
    "            for i in range(1, n-1):\n",
    "                ret = a + b\n",
    "                a = b\n",
    "                b = ret\n",
    "            return ret\n",
    "\n",
    "\n",
    "if __name__ == '__main__':\n",
    "    s = Solution()\n",
    "    print(s.Fibonacci(100))"
   ]
  }
 ],
 "metadata": {
  "kernelspec": {
   "display_name": "Python 3",
   "language": "python",
   "name": "python3"
  },
  "language_info": {
   "codemirror_mode": {
    "name": "ipython",
    "version": 3
   },
   "file_extension": ".py",
   "mimetype": "text/x-python",
   "name": "python",
   "nbconvert_exporter": "python",
   "pygments_lexer": "ipython3",
   "version": "3.8.8"
  }
 },
 "nbformat": 4,
 "nbformat_minor": 5
}
