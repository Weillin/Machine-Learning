{
 "cells": [
  {
   "cell_type": "markdown",
   "id": "1a219a9e",
   "metadata": {},
   "source": [
    "## 输入一个非负整数n，请你输出斐波那契数列的第n项（第0项为0，第1项为1，从第2项开始每项为前两项的和）"
   ]
  },
  {
   "cell_type": "markdown",
   "id": "e8f4362b",
   "metadata": {},
   "source": [
    "### 使用循环的方式实现"
   ]
  },
  {
   "cell_type": "code",
   "execution_count": 1,
   "id": "f6db0678",
   "metadata": {},
   "outputs": [
    {
     "name": "stdout",
     "output_type": "stream",
     "text": [
      "354224848179261915075\n"
     ]
    }
   ],
   "source": [
    "class Solution:\n",
    "    def Fibonacci(self, n):\n",
    "        if n == 0:\n",
    "            return 0\n",
    "        elif n == 1:\n",
    "            return 1\n",
    "        else:\n",
    "            a = 0\n",
    "            b = 1\n",
    "            for i in range(n-1):\n",
    "                ret = a + b\n",
    "                a = b\n",
    "                b = ret\n",
    "            return ret\n",
    "\n",
    "\n",
    "if __name__ == '__main__':\n",
    "    s = Solution()\n",
    "    print(s.Fibonacci(100))"
   ]
  },
  {
   "cell_type": "markdown",
   "id": "d4309acc",
   "metadata": {},
   "source": [
    "### 使用列表的方式实现"
   ]
  },
  {
   "cell_type": "code",
   "execution_count": 2,
   "id": "de2db3a0",
   "metadata": {},
   "outputs": [
    {
     "name": "stdout",
     "output_type": "stream",
     "text": [
      "354224848179261915075\n"
     ]
    }
   ],
   "source": [
    "class Solution:\n",
    "    def Fibonacci(self, n):\n",
    "        l0 = 0\n",
    "        l1 = 1\n",
    "        l = [l0, l1]\n",
    "        if n == 0:\n",
    "            return l0\n",
    "        elif n == 1:\n",
    "            return l1\n",
    "        else:\n",
    "            for i in range(2, n+1):\n",
    "                l.append(l[i-2] + l[i-1])\n",
    "            return l[-1]\n",
    "\n",
    "\n",
    "if __name__ == '__main__':\n",
    "    s = Solution()\n",
    "    print(s.Fibonacci(100))"
   ]
  }
 ],
 "metadata": {
  "kernelspec": {
   "display_name": "Python 3",
   "language": "python",
   "name": "python3"
  },
  "language_info": {
   "codemirror_mode": {
    "name": "ipython",
    "version": 3
   },
   "file_extension": ".py",
   "mimetype": "text/x-python",
   "name": "python",
   "nbconvert_exporter": "python",
   "pygments_lexer": "ipython3",
   "version": "3.8.8"
  }
 },
 "nbformat": 4,
 "nbformat_minor": 5
}
