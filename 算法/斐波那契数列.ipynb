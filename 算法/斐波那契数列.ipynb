{
 "cells": [
  {
   "cell_type": "markdown",
   "id": "1a219a9e",
   "metadata": {},
   "source": [
    "n=0    f(n)=0\n",
    "\n",
    "n=1    f(n)=1\n",
    "\n",
    "n=2    f(n)=1\n",
    "\n",
    "n>2    f(n)=f(n-1)+f(n-2)"
   ]
  },
  {
   "cell_type": "code",
   "execution_count": 1,
   "id": "f6db0678",
   "metadata": {},
   "outputs": [
    {
     "name": "stdout",
     "output_type": "stream",
     "text": [
      "354224848179261915075\n"
     ]
    }
   ],
   "source": [
    "class Solution:\n",
    "    def Fibonacci(self, n):\n",
    "        if n == 0:\n",
    "            return 0\n",
    "        elif n == 1:\n",
    "            return 1\n",
    "        else:\n",
    "            a = 0\n",
    "            b = 1\n",
    "            for i in range(n-1):\n",
    "                ret = a + b\n",
    "                a = b\n",
    "                b = ret\n",
    "            return ret\n",
    "\n",
    "\n",
    "if __name__ == '__main__':\n",
    "    s = Solution()\n",
    "    print(s.Fibonacci(100))"
   ]
  },
  {
   "cell_type": "code",
   "execution_count": 2,
   "id": "de2db3a0",
   "metadata": {},
   "outputs": [
    {
     "name": "stdout",
     "output_type": "stream",
     "text": [
      "354224848179261915075\n"
     ]
    }
   ],
   "source": [
    "class Solution:\n",
    "    def Fibonacci(self, n):\n",
    "        l0 = 0\n",
    "        l1 = 1\n",
    "        l = [l0, l1]\n",
    "        if n == 0:\n",
    "            return l0\n",
    "        elif n == 1:\n",
    "            return l1\n",
    "        else:\n",
    "            for i in range(2, n+1):\n",
    "                l.append(l[i-2] + l[i-1])\n",
    "            return l[-1]\n",
    "\n",
    "\n",
    "if __name__ == '__main__':\n",
    "    s = Solution()\n",
    "    print(s.Fibonacci(100))"
   ]
  }
 ],
 "metadata": {
  "kernelspec": {
   "display_name": "Python 3",
   "language": "python",
   "name": "python3"
  },
  "language_info": {
   "codemirror_mode": {
    "name": "ipython",
    "version": 3
   },
   "file_extension": ".py",
   "mimetype": "text/x-python",
   "name": "python",
   "nbconvert_exporter": "python",
   "pygments_lexer": "ipython3",
   "version": "3.8.8"
  }
 },
 "nbformat": 4,
 "nbformat_minor": 5
}
