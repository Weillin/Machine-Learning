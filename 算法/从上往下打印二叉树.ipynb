{
 "cells": [
  {
   "cell_type": "markdown",
   "id": "aa4b4d65",
   "metadata": {},
   "source": [
    "## 从上往下打印出二叉树的每个节点，同层节点从左至右打印"
   ]
  },
  {
   "cell_type": "code",
   "execution_count": 1,
   "id": "c18a72a5",
   "metadata": {},
   "outputs": [],
   "source": [
    "class Solution:\n",
    "    def PrintFromTopToBottom(self, root):\n",
    "        if root == None:\n",
    "            return []\n",
    "\n",
    "        support = [root]\n",
    "        ret = []\n",
    "\n",
    "        while support:\n",
    "            tmp = support[0]\n",
    "            ret.append(tmp.val)\n",
    "\n",
    "            if tmp.left:\n",
    "                support.append(tmp.left)\n",
    "            if tmp.right:\n",
    "                support.append(tmp.right)\n",
    "\n",
    "            del support[0]\n",
    "\n",
    "        return ret"
   ]
  }
 ],
 "metadata": {
  "kernelspec": {
   "display_name": "Python 3",
   "language": "python",
   "name": "python3"
  },
  "language_info": {
   "codemirror_mode": {
    "name": "ipython",
    "version": 3
   },
   "file_extension": ".py",
   "mimetype": "text/x-python",
   "name": "python",
   "nbconvert_exporter": "python",
   "pygments_lexer": "ipython3",
   "version": "3.8.8"
  }
 },
 "nbformat": 4,
 "nbformat_minor": 5
}
