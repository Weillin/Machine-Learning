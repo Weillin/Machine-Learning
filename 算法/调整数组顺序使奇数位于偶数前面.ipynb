{
 "cells": [
  {
   "cell_type": "markdown",
   "id": "c7f7b59e",
   "metadata": {},
   "source": [
    "## 输入一个长度为 n 整数数组，实现一个函数来调整该数组中数字的顺序，使得所有的奇数位于数组的前半部分，所有的偶数位于数组的后半部分，并保证奇数和奇数，偶数和偶数之间的相对位置不变"
   ]
  },
  {
   "cell_type": "markdown",
   "id": "34ca8d2f",
   "metadata": {},
   "source": [
    "### 使用列表方法"
   ]
  },
  {
   "cell_type": "code",
   "execution_count": 1,
   "id": "e3378259",
   "metadata": {},
   "outputs": [
    {
     "name": "stdout",
     "output_type": "stream",
     "text": [
      "[5, 7, 2, 4, 6]\n"
     ]
    }
   ],
   "source": [
    "class Solution:\n",
    "    def reOrderArray(self, array):\n",
    "        l1 = []\n",
    "        l2 = []\n",
    "        for i in array:\n",
    "            if i % 2 == 0:\n",
    "                l2.append(i)\n",
    "            else:\n",
    "                l1.append(i)\n",
    "        return l1 + l2\n",
    "\n",
    "\n",
    "if __name__ == '__main__':\n",
    "    s = Solution()\n",
    "    array = [2, 4, 6, 5, 7]\n",
    "    print(s.reOrderArray(array))"
   ]
  }
 ],
 "metadata": {
  "kernelspec": {
   "display_name": "Python 3",
   "language": "python",
   "name": "python3"
  },
  "language_info": {
   "codemirror_mode": {
    "name": "ipython",
    "version": 3
   },
   "file_extension": ".py",
   "mimetype": "text/x-python",
   "name": "python",
   "nbconvert_exporter": "python",
   "pygments_lexer": "ipython3",
   "version": "3.8.8"
  }
 },
 "nbformat": 4,
 "nbformat_minor": 5
}
