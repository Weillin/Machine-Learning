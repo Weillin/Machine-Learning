{
 "cells": [
  {
   "cell_type": "markdown",
   "id": "da30d331",
   "metadata": {},
   "source": [
    "## 输入一个整数数组，判断该数组是不是某二叉搜索树的后序遍历的结果。如果是则返回true,否则返回false。假设输入的数组的任意两个数字都互不相同。（ps：我们约定空树不是二叉搜索树）"
   ]
  },
  {
   "cell_type": "code",
   "execution_count": 1,
   "id": "84986d47",
   "metadata": {},
   "outputs": [],
   "source": [
    "class Solution:\n",
    "    def VerifySquenceOfBST(self, sequence):\n",
    "        if not sequence:\n",
    "            return False\n",
    "\n",
    "        root = [float('inf')]\n",
    "        max_cur = float('inf')\n",
    "        for i in range(len(sequence)-1, -1, -1):\n",
    "            if sequence[i] > max_cur:\n",
    "                return False\n",
    "\n",
    "            while sequence[i] < root[-1]:\n",
    "                max_cur = root[-1]\n",
    "                root.pop()\n",
    "                if not root:\n",
    "                    break\n",
    "\n",
    "            root.append(sequence[i])\n",
    "\n",
    "        return True"
   ]
  }
 ],
 "metadata": {
  "kernelspec": {
   "display_name": "Python 3",
   "language": "python",
   "name": "python3"
  },
  "language_info": {
   "codemirror_mode": {
    "name": "ipython",
    "version": 3
   },
   "file_extension": ".py",
   "mimetype": "text/x-python",
   "name": "python",
   "nbconvert_exporter": "python",
   "pygments_lexer": "ipython3",
   "version": "3.8.8"
  }
 },
 "nbformat": 4,
 "nbformat_minor": 5
}
