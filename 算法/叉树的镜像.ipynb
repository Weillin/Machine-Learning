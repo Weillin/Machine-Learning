{
 "cells": [
  {
   "cell_type": "markdown",
   "id": "aa605f50",
   "metadata": {},
   "source": [
    "## 操作给定的二叉树，将其变换为源二叉树的镜像。\n",
    "## 数据范围：二叉树的节点数 0 \\le n \\le 10000≤n≤1000 ， 二叉树每个节点的值 0\\le val \\le 10000≤val≤1000\n",
    "## 要求： 空间复杂度 O(n)O(n) 。本题也有原地操作，即空间复杂度 O(1)O(1) 的解法，时间复杂度 O(n)O(n)"
   ]
  },
  {
   "cell_type": "code",
   "execution_count": 1,
   "id": "90f8953e",
   "metadata": {},
   "outputs": [],
   "source": [
    "class Solution:\n",
    "    def isSymmetrical(self, pRoot):\n",
    "        def is_mirror(left, right):\n",
    "            if left == None and right == None:\n",
    "                return True\n",
    "            elif left == None or right == None:\n",
    "                return False\n",
    "\n",
    "            if left.val != right.val:\n",
    "                return False\n",
    "\n",
    "            ret1 = is_mirror(left.left, right.right)\n",
    "            ret2 = is_mirror(left.right, right.left)\n",
    "            return ret1 and ret2\n",
    "\n",
    "        if pRoot == None:\n",
    "            return True\n",
    "\n",
    "        return is_mirror(pRoot.left, pRoot.right)"
   ]
  }
 ],
 "metadata": {
  "kernelspec": {
   "display_name": "Python 3",
   "language": "python",
   "name": "python3"
  },
  "language_info": {
   "codemirror_mode": {
    "name": "ipython",
    "version": 3
   },
   "file_extension": ".py",
   "mimetype": "text/x-python",
   "name": "python",
   "nbconvert_exporter": "python",
   "pygments_lexer": "ipython3",
   "version": "3.8.8"
  }
 },
 "nbformat": 4,
 "nbformat_minor": 5
}
