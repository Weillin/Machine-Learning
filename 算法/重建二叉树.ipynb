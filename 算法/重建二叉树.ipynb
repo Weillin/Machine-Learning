{
 "cells": [
  {
   "cell_type": "markdown",
   "id": "64a7b88c",
   "metadata": {},
   "source": [
    "## 给定节点数为 n 二叉树的前序遍历和中序遍历结果，请重建出该二叉树并返回它的头结点。\n",
    "## 例如输入前序遍历序列{1,2,4,7,3,5,6,8}和中序遍历序列{4,7,2,1,5,3,8,6}，则重建出如下图所示"
   ]
  },
  {
   "cell_type": "code",
   "execution_count": 1,
   "id": "f41fcb6a",
   "metadata": {},
   "outputs": [],
   "source": [
    "class TreeNode:\n",
    "    def __init__(self, x):\n",
    "        self.val = x\n",
    "        self.left = None\n",
    "        self.right = None\n",
    "\n",
    "\n",
    "class Solution:\n",
    "    def reConstructBinaryTree(self, pre, vin):\n",
    "        if len(pre) == 0:\n",
    "            return None\n",
    "\n",
    "        root = TreeNode(pre[0])\n",
    "        position = vin.index(pre[0])\n",
    "\n",
    "        root.left = self.reConstructBinaryTree(pre[1: position + 1], vin[:position])\n",
    "        root.right = self.reConstructBinaryTree(pre[position + 1:], vin[position + 1:])\n",
    "\n",
    "        return root"
   ]
  }
 ],
 "metadata": {
  "kernelspec": {
   "display_name": "Python 3",
   "language": "python",
   "name": "python3"
  },
  "language_info": {
   "codemirror_mode": {
    "name": "ipython",
    "version": 3
   },
   "file_extension": ".py",
   "mimetype": "text/x-python",
   "name": "python",
   "nbconvert_exporter": "python",
   "pygments_lexer": "ipython3",
   "version": "3.8.8"
  }
 },
 "nbformat": 4,
 "nbformat_minor": 5
}
