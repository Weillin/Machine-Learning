{
 "cells": [
  {
   "cell_type": "markdown",
   "id": "c71f3ec1",
   "metadata": {},
   "source": [
    "## 写一个函数，求两个整数之和，要求在函数体内不得使用+、-、*、/四则运算符号"
   ]
  },
  {
   "cell_type": "code",
   "execution_count": 1,
   "id": "6ae17ab5",
   "metadata": {},
   "outputs": [],
   "source": [
    "class Solution:\n",
    "    def Add(self, num1, num2):\n",
    "        xor_num = num1 ^ num2\n",
    "        and_num = (num1 & num2) << 1\n",
    "\n",
    "        while and_num != 0:\n",
    "            tmp1 = xor_num ^ and_num\n",
    "            tmp2 = (xor_num & and_num) << 1\n",
    "            tmp1 = tmp1 & 0xffffffff\n",
    "            xor_num = tmp1\n",
    "            and_num = tmp2\n",
    "\n",
    "        return xor_num if xor_num <= 0x7fffffff else ~(xor_num ^ 0xffffffff)"
   ]
  }
 ],
 "metadata": {
  "kernelspec": {
   "display_name": "Python 3",
   "language": "python",
   "name": "python3"
  },
  "language_info": {
   "codemirror_mode": {
    "name": "ipython",
    "version": 3
   },
   "file_extension": ".py",
   "mimetype": "text/x-python",
   "name": "python",
   "nbconvert_exporter": "python",
   "pygments_lexer": "ipython3",
   "version": "3.8.8"
  }
 },
 "nbformat": 4,
 "nbformat_minor": 5
}
