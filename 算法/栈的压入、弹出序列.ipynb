{
 "cells": [
  {
   "cell_type": "markdown",
   "id": "3d4dc3c7",
   "metadata": {},
   "source": [
    "## 输入两个整数序列，第一个序列表示栈的压入顺序，请判断第二个序列是否可能为该栈的弹出顺序。假设压入栈的所有数字均不相等。例如序列1,2,3,4,5是某栈的压入顺序，序列4,5,3,2,1是该压栈序列对应的一个弹出序列，但4,3,5,1,2就不可能是该压栈序列的弹出序列。（注意：这两个序列的长度是相等的）"
   ]
  },
  {
   "cell_type": "code",
   "execution_count": 1,
   "id": "fb936fe9",
   "metadata": {},
   "outputs": [],
   "source": [
    "class Solution:\n",
    "    def IsPopOrder(self, pushV, popV):\n",
    "        if pushV == [] or len(pushV) != len(popV):\n",
    "            return None\n",
    "        stack = []\n",
    "        index = 0\n",
    "        for item in pushV:\n",
    "            stack.append(item)\n",
    "            while stack and stack[-1] == popV[index]:\n",
    "                stack.pop()\n",
    "                index += 1\n",
    "        return True if stack == [] else False"
   ]
  }
 ],
 "metadata": {
  "kernelspec": {
   "display_name": "Python 3",
   "language": "python",
   "name": "python3"
  },
  "language_info": {
   "codemirror_mode": {
    "name": "ipython",
    "version": 3
   },
   "file_extension": ".py",
   "mimetype": "text/x-python",
   "name": "python",
   "nbconvert_exporter": "python",
   "pygments_lexer": "ipython3",
   "version": "3.8.8"
  }
 },
 "nbformat": 4,
 "nbformat_minor": 5
}
