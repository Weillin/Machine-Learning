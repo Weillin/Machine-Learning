{
 "cells": [
  {
   "cell_type": "markdown",
   "id": "59e212ea",
   "metadata": {},
   "source": [
    "## 输入一个长度为n链表，反转链表后，输出新链表的表头"
   ]
  },
  {
   "cell_type": "code",
   "execution_count": 1,
   "id": "99040244",
   "metadata": {},
   "outputs": [],
   "source": [
    "class Solution:\n",
    "    def ReverseList(self, pHead):\n",
    "        if pHead == None:\n",
    "            return None\n",
    "        if pHead.next == None:\n",
    "            return pHead\n",
    "        \n",
    "        left = pHead\n",
    "        mid = pHead.next\n",
    "        right = mid.next\n",
    "        left.next = None\n",
    "        \n",
    "        while right != None:\n",
    "            mid.next = left\n",
    "            left = mid\n",
    "            mid = right\n",
    "            right = right.next\n",
    "            \n",
    "        mid.next = left\n",
    "        return mid"
   ]
  }
 ],
 "metadata": {
  "kernelspec": {
   "display_name": "Python 3",
   "language": "python",
   "name": "python3"
  },
  "language_info": {
   "codemirror_mode": {
    "name": "ipython",
    "version": 3
   },
   "file_extension": ".py",
   "mimetype": "text/x-python",
   "name": "python",
   "nbconvert_exporter": "python",
   "pygments_lexer": "ipython3",
   "version": "3.8.8"
  }
 },
 "nbformat": 4,
 "nbformat_minor": 5
}
