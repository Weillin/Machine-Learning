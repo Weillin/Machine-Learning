{
 "cells": [
  {
   "cell_type": "markdown",
   "id": "b07d96e3",
   "metadata": {},
   "source": [
    "## 有个游戏是这样的:首先,让 n 个小朋友们围成一个大圈。然后,他随机指定一个数 m ,让编号为0的小朋友开始报数。每次喊到 m-1 的那个小朋友要出列唱首歌,然后可以在礼品箱中任意的挑选礼物,并且不再回到圈中,从他的下一个小朋友开始,继续0... m-1报数....这样下去....直到剩下最后一个小朋友,可以不用表演,并且拿到大礼。请你试着想下,哪个小朋友会得到这份大礼呢？(注：小朋友的编号是从0到 n-1)"
   ]
  },
  {
   "cell_type": "code",
   "execution_count": 1,
   "id": "abc8c17f",
   "metadata": {},
   "outputs": [
    {
     "name": "stdout",
     "output_type": "stream",
     "text": [
      "25\n"
     ]
    }
   ],
   "source": [
    "class Solution:\n",
    "    def LastRemaining_Solution(self, n, m):\n",
    "        if n < 1 or m < 1:\n",
    "            return -1\n",
    "        if n == 1:\n",
    "            return 1\n",
    "\n",
    "        value = 0\n",
    "        for i in range(2, n+1):\n",
    "            current_value = (value + m) % i\n",
    "            value = current_value\n",
    "\n",
    "        return value\n",
    "    \n",
    "    \n",
    "if __name__ == '__main__':\n",
    "    s = Solution()\n",
    "    print(s.LastRemaining_Solution(100, 10))"
   ]
  }
 ],
 "metadata": {
  "kernelspec": {
   "display_name": "Python 3",
   "language": "python",
   "name": "python3"
  },
  "language_info": {
   "codemirror_mode": {
    "name": "ipython",
    "version": 3
   },
   "file_extension": ".py",
   "mimetype": "text/x-python",
   "name": "python",
   "nbconvert_exporter": "python",
   "pygments_lexer": "ipython3",
   "version": "3.8.8"
  }
 },
 "nbformat": 4,
 "nbformat_minor": 5
}
