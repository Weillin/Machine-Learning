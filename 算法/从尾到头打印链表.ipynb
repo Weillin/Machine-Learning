{
 "cells": [
  {
   "cell_type": "markdown",
   "id": "2745d614",
   "metadata": {},
   "source": [
    "## 输入一个链表的头节点，按链表从尾到头的顺序返回每个节点的值（用数组返回）"
   ]
  },
  {
   "cell_type": "code",
   "execution_count": 1,
   "id": "fad1e28f",
   "metadata": {},
   "outputs": [],
   "source": [
    "class Solution:\n",
    "    def printListFromTailToHead(self, listNode):\n",
    "        ret = []\n",
    "        tmp = listNode\n",
    "        while tmp:\n",
    "            ret.insert(0, tmp.val)\n",
    "            tmp = tmp.next\n",
    "        return ret"
   ]
  }
 ],
 "metadata": {
  "kernelspec": {
   "display_name": "Python 3",
   "language": "python",
   "name": "python3"
  },
  "language_info": {
   "codemirror_mode": {
    "name": "ipython",
    "version": 3
   },
   "file_extension": ".py",
   "mimetype": "text/x-python",
   "name": "python",
   "nbconvert_exporter": "python",
   "pygments_lexer": "ipython3",
   "version": "3.8.8"
  }
 },
 "nbformat": 4,
 "nbformat_minor": 5
}
