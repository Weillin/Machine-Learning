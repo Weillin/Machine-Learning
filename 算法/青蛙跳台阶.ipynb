{
 "cells": [
  {
   "cell_type": "markdown",
   "id": "46cf8bd8",
   "metadata": {},
   "source": [
    "## 一只青蛙一次可以跳上1级台阶，也可以跳上2级。求该青蛙跳上一个 n 级的台阶总共有多少种跳法（先后次序不同算不同的结果）"
   ]
  },
  {
   "cell_type": "markdown",
   "id": "e0af72d4",
   "metadata": {},
   "source": [
    "### 使用循环方法"
   ]
  },
  {
   "cell_type": "code",
   "execution_count": 1,
   "id": "b0f819c4",
   "metadata": {},
   "outputs": [
    {
     "name": "stdout",
     "output_type": "stream",
     "text": [
      "573147844013817084101\n"
     ]
    }
   ],
   "source": [
    "class Solution:\n",
    "    def jumpFloor(self, number):\n",
    "        if number == 1:\n",
    "            return 1\n",
    "        elif number == 2:\n",
    "            return 2\n",
    "        else:\n",
    "            a = 1\n",
    "            b = 2\n",
    "            for i in range(number-2):\n",
    "                ret = a + b\n",
    "                a = b\n",
    "                b = ret\n",
    "            return ret\n",
    "\n",
    "\n",
    "if __name__ == '__main__':\n",
    "    s = Solution()\n",
    "    print(s.jumpFloor(100))"
   ]
  },
  {
   "cell_type": "markdown",
   "id": "730795e7",
   "metadata": {},
   "source": [
    "### 使用列表方法"
   ]
  },
  {
   "cell_type": "code",
   "execution_count": 2,
   "id": "6f710c8c",
   "metadata": {},
   "outputs": [
    {
     "name": "stdout",
     "output_type": "stream",
     "text": [
      "573147844013817084101\n"
     ]
    }
   ],
   "source": [
    "class Solution:\n",
    "    def jumpFloor(self, number):\n",
    "        l0 = 1\n",
    "        l1 = 2\n",
    "        l = [l0, l1]\n",
    "        if number == 1:\n",
    "            return l0\n",
    "        elif number == 2:\n",
    "            return l1\n",
    "        else:\n",
    "            for i in range(3, number+1):\n",
    "                l.append(l[i-3] + l[i-2])\n",
    "            return l[-1]\n",
    "\n",
    "\n",
    "if __name__ == '__main__':\n",
    "    s = Solution()\n",
    "    print(s.jumpFloor(100))"
   ]
  }
 ],
 "metadata": {
  "kernelspec": {
   "display_name": "Python 3",
   "language": "python",
   "name": "python3"
  },
  "language_info": {
   "codemirror_mode": {
    "name": "ipython",
    "version": 3
   },
   "file_extension": ".py",
   "mimetype": "text/x-python",
   "name": "python",
   "nbconvert_exporter": "python",
   "pygments_lexer": "ipython3",
   "version": "3.8.8"
  }
 },
 "nbformat": 4,
 "nbformat_minor": 5
}
