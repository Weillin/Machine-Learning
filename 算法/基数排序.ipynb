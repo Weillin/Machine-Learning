{
 "cells": [
  {
   "cell_type": "code",
   "execution_count": 1,
   "metadata": {},
   "outputs": [
    {
     "name": "stdout",
     "output_type": "stream",
     "text": [
      "[0, 4, 7, 34, 35, 745, 3547, 7346, 489796]\n"
     ]
    }
   ],
   "source": [
    "def radix_sort(arr):\n",
    "    max_num = len(str(max(arr)))\n",
    "    i = 0\n",
    "    while i < max_num:\n",
    "        bucker = [[] for _ in range(10)]\n",
    "        for x in arr:\n",
    "            bucker[int(x / (10 ** i) % 10)].append(x)\n",
    "        arr.clear()\n",
    "        for x in bucker:\n",
    "            for y in x:\n",
    "                arr.append(y)\n",
    "        i += 1\n",
    "    return arr\n",
    "\n",
    "\n",
    "arr = [489796, 7, 4, 745, 34, 7346, 35, 3547, 0]\n",
    "print(radix_sort(arr))"
   ]
  }
 ],
 "metadata": {
  "kernelspec": {
   "display_name": "Conda-python3",
   "language": "python",
   "name": "conda-python3"
  },
  "language_info": {
   "codemirror_mode": {
    "name": "ipython",
    "version": 3
   },
   "file_extension": ".py",
   "mimetype": "text/x-python",
   "name": "python",
   "nbconvert_exporter": "python",
   "pygments_lexer": "ipython3",
   "version": "3.6.4"
  }
 },
 "nbformat": 4,
 "nbformat_minor": 4
}
