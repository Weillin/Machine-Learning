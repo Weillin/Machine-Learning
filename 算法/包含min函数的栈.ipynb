{
 "cells": [
  {
   "cell_type": "markdown",
   "id": "10556033",
   "metadata": {},
   "source": [
    "## 定义栈的数据结构，请在该类型中实现一个能够得到栈中所含最小元素的min函数，并且调用 min函数、push函数 及 pop函数 的时间复杂度都是 O(1)\n",
    "\n",
    "### push(value):将value压入栈中\n",
    "### pop():弹出栈顶元素\n",
    "### top():获取栈顶元素\n",
    "### min():获取栈中最小元素"
   ]
  },
  {
   "cell_type": "code",
   "execution_count": 1,
   "id": "1945f30b",
   "metadata": {},
   "outputs": [],
   "source": [
    "class Solution:\n",
    "    def __init__(self):\n",
    "        self.stack = []\n",
    "        self.min_value = []\n",
    "\n",
    "    def push(self, node):\n",
    "        self.stack.append(node)\n",
    "        if self.min_value:\n",
    "            if self.min_value[-1] > node:\n",
    "                self.min_value.append(node)\n",
    "            else:\n",
    "                self.min_value.append(self.min_value[-1])\n",
    "        else:\n",
    "            self.min_value.append(node)\n",
    "\n",
    "    def pop(self):\n",
    "        if self.stack == []:\n",
    "            return None\n",
    "        self.min_value.pop()\n",
    "        return self.stack.pop()\n",
    "\n",
    "    def top(self):\n",
    "        if self.stack == []:\n",
    "            return None\n",
    "        return self.stack[-1]\n",
    "\n",
    "    def min(self):\n",
    "        if self.min_value == []:\n",
    "            return None\n",
    "        return self.min_value[-1]"
   ]
  }
 ],
 "metadata": {
  "kernelspec": {
   "display_name": "Python 3",
   "language": "python",
   "name": "python3"
  },
  "language_info": {
   "codemirror_mode": {
    "name": "ipython",
    "version": 3
   },
   "file_extension": ".py",
   "mimetype": "text/x-python",
   "name": "python",
   "nbconvert_exporter": "python",
   "pygments_lexer": "ipython3",
   "version": "3.8.8"
  }
 },
 "nbformat": 4,
 "nbformat_minor": 5
}
