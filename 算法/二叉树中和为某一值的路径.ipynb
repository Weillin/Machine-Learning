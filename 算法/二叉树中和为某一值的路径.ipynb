{
 "cells": [
  {
   "cell_type": "markdown",
   "id": "d274f259",
   "metadata": {},
   "source": [
    "## 输入一颗二叉树的根节点root和一个整数expectNumber，找出二叉树中结点值的和为expectNumber的所有路径。路径定义为从树的根结点开始往下一直到叶结点所经过的结点形成一条路径"
   ]
  },
  {
   "cell_type": "code",
   "execution_count": 1,
   "id": "9c872e2c",
   "metadata": {},
   "outputs": [],
   "source": [
    "import copy\n",
    "\n",
    "\n",
    "class Solution:\n",
    "    def FindPath(self, root, expectNumber):\n",
    "        if root == None:\n",
    "            return []\n",
    "\n",
    "        ret = []\n",
    "        support_array_list = [[root.val]]\n",
    "        support = [root]\n",
    "        while support:\n",
    "            tmp_node = support[0]\n",
    "            tmp_array_list = support_array_list[0]\n",
    "            if tmp_node.left == None and tmp_node.right == None:\n",
    "                if sum(tmp_array_list) == expectNumber:\n",
    "                    ret.insert(0, tmp_array_list)\n",
    "\n",
    "            if tmp_node.left:\n",
    "                support.append(tmp_node.left)\n",
    "                new_tmp_array_list = copy.copy(tmp_array_list)\n",
    "                new_tmp_array_list.append(tmp_node.left.val)\n",
    "                support_array_list.append(new_tmp_array_list)\n",
    "\n",
    "            if tmp_node.right:\n",
    "                support.append(tmp_node.right)\n",
    "                new_tmp_array_list = copy.copy(tmp_array_list)\n",
    "                new_tmp_array_list.append(tmp_node.right.val)\n",
    "                support_array_list.append(new_tmp_array_list)\n",
    "\n",
    "            del support_array_list[0]\n",
    "            del support[0]\n",
    "\n",
    "        return ret"
   ]
  }
 ],
 "metadata": {
  "kernelspec": {
   "display_name": "Python 3",
   "language": "python",
   "name": "python3"
  },
  "language_info": {
   "codemirror_mode": {
    "name": "ipython",
    "version": 3
   },
   "file_extension": ".py",
   "mimetype": "text/x-python",
   "name": "python",
   "nbconvert_exporter": "python",
   "pygments_lexer": "ipython3",
   "version": "3.8.8"
  }
 },
 "nbformat": 4,
 "nbformat_minor": 5
}
