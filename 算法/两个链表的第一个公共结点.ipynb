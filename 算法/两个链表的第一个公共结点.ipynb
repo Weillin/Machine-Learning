{
 "cells": [
  {
   "cell_type": "markdown",
   "id": "c04d9ced",
   "metadata": {},
   "source": [
    "## 输入两个无环的单向链表，找出它们的第一个公共结点，如果没有公共节点则返回空。（注意因为传入数据是链表，所以错误测试数据的提示是用其他方式显示的，保证传入数据是正确的）"
   ]
  },
  {
   "cell_type": "code",
   "execution_count": 1,
   "id": "45f941ff",
   "metadata": {},
   "outputs": [],
   "source": [
    "class Solution:\n",
    "    def FindFirstCommonNode(self, pHead1, pHead2):\n",
    "        pointer1, pointer2 = pHead1, pHead2\n",
    "        while pointer1 != pointer2:\n",
    "            pointer1 = pointer1.next if pointer1 else pHead2\n",
    "            pointer2 = pointer2.next if pointer2 else pHead1\n",
    "        return pointer1"
   ]
  }
 ],
 "metadata": {
  "kernelspec": {
   "display_name": "Python 3",
   "language": "python",
   "name": "python3"
  },
  "language_info": {
   "codemirror_mode": {
    "name": "ipython",
    "version": 3
   },
   "file_extension": ".py",
   "mimetype": "text/x-python",
   "name": "python",
   "nbconvert_exporter": "python",
   "pygments_lexer": "ipython3",
   "version": "3.8.8"
  }
 },
 "nbformat": 4,
 "nbformat_minor": 5
}
