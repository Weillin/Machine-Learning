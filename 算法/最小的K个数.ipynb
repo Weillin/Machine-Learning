{
 "cells": [
  {
   "cell_type": "markdown",
   "id": "931fc09a",
   "metadata": {},
   "source": [
    "## 给定一个长度为 n 的可能有重复值的数组，找出其中不去重的最小的 k 个数。例如数组元素是4,5,1,6,2,7,3,8这8个数字，则最小的4个数字是1,2,3,4(任意顺序皆可)。\n",
    "## 数据范围：0\\le k,n \\le 100000≤k,n≤10000，数组中每个数的大小0 \\le val \\le 10000≤val≤1000\n",
    "## 要求：空间复杂度 O(n)O(n) ，时间复杂度 O(nlogn)O(nlogn)"
   ]
  },
  {
   "cell_type": "code",
   "execution_count": 1,
   "id": "f6ab38e0",
   "metadata": {},
   "outputs": [],
   "source": [
    "class Solution:\n",
    "    def GetLeastNumbers_Solution(self, tinput, k):\n",
    "        if not tinput:\n",
    "            return []\n",
    "        return self.partition(0, len(tinput)-1, tinput, k)\n",
    "\n",
    "    def partition(self, start, end, tinput, k):\n",
    "        if start > end:\n",
    "            return tinput[:k]\n",
    "\n",
    "        left, right = start, end\n",
    "        pivot = tinput[(start + end) >> 1]\n",
    "\n",
    "        while left <= right:\n",
    "            while left <= right and tinput[left] < pivot:\n",
    "                left += 1\n",
    "            while left <= right and tinput[right] > pivot:\n",
    "                right -= 1\n",
    "\n",
    "            if left <= right:\n",
    "                tinput[left], tinput[right] = tinput[right], tinput[left]\n",
    "                left += 1\n",
    "                right -= 1\n",
    "\n",
    "        if k <= right:\n",
    "            self.partition(start, right, tinput, k)\n",
    "        if k >= left:\n",
    "            self.partition(left, end, tinput, k)\n",
    "\n",
    "        return tinput[:k]"
   ]
  }
 ],
 "metadata": {
  "kernelspec": {
   "display_name": "Python 3",
   "language": "python",
   "name": "python3"
  },
  "language_info": {
   "codemirror_mode": {
    "name": "ipython",
    "version": 3
   },
   "file_extension": ".py",
   "mimetype": "text/x-python",
   "name": "python",
   "nbconvert_exporter": "python",
   "pygments_lexer": "ipython3",
   "version": "3.8.8"
  }
 },
 "nbformat": 4,
 "nbformat_minor": 5
}
