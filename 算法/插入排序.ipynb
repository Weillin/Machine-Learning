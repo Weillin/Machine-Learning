{
 "cells": [
  {
   "cell_type": "code",
   "execution_count": 1,
   "metadata": {},
   "outputs": [
    {
     "name": "stdout",
     "output_type": "stream",
     "text": [
      "[0, 3, 3, 3, 3, 4, 5, 6, 6, 7, 9]\n"
     ]
    }
   ],
   "source": [
    "def insertion_sort(arr):\n",
    "    n = len(arr)\n",
    "    for i in range(1, n):\n",
    "        current = arr[i]\n",
    "        j = i - 1\n",
    "        while j >= 0 and arr[j] > current:\n",
    "            arr[j + 1] = arr[j]\n",
    "            j -= 1\n",
    "        arr[j + 1] = current\n",
    "    return arr\n",
    "\n",
    "\n",
    "arr = [9, 4, 6, 3, 3, 6, 7, 3, 5, 3, 0]\n",
    "print(insertion_sort(arr))"
   ]
  }
 ],
 "metadata": {
  "kernelspec": {
   "display_name": "Conda-python3",
   "language": "python",
   "name": "conda-python3"
  },
  "language_info": {
   "codemirror_mode": {
    "name": "ipython",
    "version": 3
   },
   "file_extension": ".py",
   "mimetype": "text/x-python",
   "name": "python",
   "nbconvert_exporter": "python",
   "pygments_lexer": "ipython3",
   "version": "3.6.4"
  }
 },
 "nbformat": 4,
 "nbformat_minor": 4
}
