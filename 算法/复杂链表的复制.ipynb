{
 "cells": [
  {
   "cell_type": "markdown",
   "id": "6b3e7b0c",
   "metadata": {},
   "source": [
    "## 输入一个复杂链表（每个节点中有节点值，以及两个指针，一个指向下一个节点，另一个特殊指针random指向一个随机节点），请对此链表进行深拷贝，并返回拷贝后的头结点。\n",
    "## （注意，输出结果中请不要返回参数中的节点引用，否则判题程序会直接返回空）。\n",
    "## 下图是一个含有5个结点的复杂链表。图中实线箭头表示next指针，虚线箭头表示random指针。为简单起见，指向null的指针没有画出"
   ]
  },
  {
   "cell_type": "code",
   "execution_count": 1,
   "id": "693db980",
   "metadata": {},
   "outputs": [
    {
     "name": "stdout",
     "output_type": "stream",
     "text": [
      "1\n",
      "2\n",
      "3\n",
      "4\n",
      "5\n"
     ]
    }
   ],
   "source": [
    "class RandomListNode:\n",
    "    def __init__(self, x):\n",
    "        self.label = x\n",
    "        self.next = None\n",
    "        self.random = None\n",
    "\n",
    "\n",
    "class Solution:\n",
    "    def Clone(self, pHead):\n",
    "        if pHead == None:\n",
    "            return None\n",
    "\n",
    "        tmp = pHead\n",
    "        while tmp:\n",
    "            node = RandomListNode(tmp.label)\n",
    "            node.next = tmp.next\n",
    "            tmp.next = node\n",
    "            tmp = node.next\n",
    "\n",
    "        tmp = pHead\n",
    "        while tmp:\n",
    "            if tmp.random:\n",
    "                tmp.next.random = tmp.random.next\n",
    "            tmp = tmp.next.next\n",
    "\n",
    "        tmp = pHead\n",
    "        new_head = pHead.next\n",
    "        new_tmp = pHead.next\n",
    "\n",
    "        while tmp:\n",
    "            tmp.next = tmp.next.next\n",
    "            if new_tmp.next:\n",
    "                new_tmp.next = new_tmp.next.next\n",
    "                new_tmp = new_tmp.next\n",
    "            tmp = tmp.next\n",
    "\n",
    "        return new_head\n",
    "\n",
    "\n",
    "if __name__ == '__main__':\n",
    "    n1 = RandomListNode(1)\n",
    "    n2 = RandomListNode(2)\n",
    "    n3 = RandomListNode(3)\n",
    "    n4 = RandomListNode(4)\n",
    "    n5 = RandomListNode(5)\n",
    "\n",
    "    n1.next = n2\n",
    "    n2.next = n3\n",
    "    n3.next = n4\n",
    "    n4.next = n5\n",
    "\n",
    "    s = Solution()\n",
    "    new_head = s.Clone(n1)\n",
    "    tmp = new_head\n",
    "    while tmp:\n",
    "        print(tmp.label)\n",
    "        tmp = tmp.next"
   ]
  }
 ],
 "metadata": {
  "kernelspec": {
   "display_name": "Python 3",
   "language": "python",
   "name": "python3"
  },
  "language_info": {
   "codemirror_mode": {
    "name": "ipython",
    "version": 3
   },
   "file_extension": ".py",
   "mimetype": "text/x-python",
   "name": "python",
   "nbconvert_exporter": "python",
   "pygments_lexer": "ipython3",
   "version": "3.8.8"
  }
 },
 "nbformat": 4,
 "nbformat_minor": 5
}
