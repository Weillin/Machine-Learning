{
 "cells": [
  {
   "cell_type": "markdown",
   "id": "4b96fb2c",
   "metadata": {},
   "source": [
    "## 输入一个整数 n ，输出该数32位二进制表示中1的个数。其中负数用补码表示"
   ]
  },
  {
   "cell_type": "code",
   "execution_count": 1,
   "id": "bce2b67b",
   "metadata": {},
   "outputs": [],
   "source": [
    "class Solution:\n",
    "    def NumberOf1(self, n):\n",
    "        n = n & 0xffffffff         #使用 n & 0xffffffff 得到一个数的补码\n",
    "        count = 0\n",
    "        for s in str(bin(n)):\n",
    "            if s == '1':\n",
    "                count += 1\n",
    "\n",
    "        return count"
   ]
  },
  {
   "cell_type": "code",
   "execution_count": 2,
   "id": "94c70c11",
   "metadata": {},
   "outputs": [],
   "source": [
    "class Solution:\n",
    "    def NumberOf1(self, n):\n",
    "        count = 0\n",
    "        for i in range(32):\n",
    "            mask = 1 << i\n",
    "            if n & mask != 0:\n",
    "                count += 1\n",
    "\n",
    "        return count"
   ]
  }
 ],
 "metadata": {
  "kernelspec": {
   "display_name": "Python 3",
   "language": "python",
   "name": "python3"
  },
  "language_info": {
   "codemirror_mode": {
    "name": "ipython",
    "version": 3
   },
   "file_extension": ".py",
   "mimetype": "text/x-python",
   "name": "python",
   "nbconvert_exporter": "python",
   "pygments_lexer": "ipython3",
   "version": "3.8.8"
  }
 },
 "nbformat": 4,
 "nbformat_minor": 5
}
