{
 "cells": [
  {
   "cell_type": "markdown",
   "id": "68d78914",
   "metadata": {},
   "source": [
    "## 输入一个长度为 n 的链表，设链表中的元素的值为 ai ，输出一个链表，该输出链表包含原链表中从倒数第 k 个结点至尾节点的全部节点。\n",
    "## 如果该链表长度小于k，请返回一个长度为 0 的链表"
   ]
  },
  {
   "cell_type": "code",
   "execution_count": 1,
   "id": "b3d4cdfa",
   "metadata": {},
   "outputs": [],
   "source": [
    "class Solution:\n",
    "    def FindKthToTail(self, pHead, k):\n",
    "        front = pHead\n",
    "        after = pHead\n",
    "        for i in range(k):\n",
    "            if front == None:\n",
    "                return None\n",
    "            front = front.next\n",
    "\n",
    "        while front != None:\n",
    "            front = front.next\n",
    "            after = after.next\n",
    "        return after"
   ]
  }
 ],
 "metadata": {
  "kernelspec": {
   "display_name": "Python 3",
   "language": "python",
   "name": "python3"
  },
  "language_info": {
   "codemirror_mode": {
    "name": "ipython",
    "version": 3
   },
   "file_extension": ".py",
   "mimetype": "text/x-python",
   "name": "python",
   "nbconvert_exporter": "python",
   "pygments_lexer": "ipython3",
   "version": "3.8.8"
  }
 },
 "nbformat": 4,
 "nbformat_minor": 5
}
