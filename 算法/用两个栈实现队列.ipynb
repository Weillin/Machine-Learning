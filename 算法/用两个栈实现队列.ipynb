{
 "cells": [
  {
   "cell_type": "markdown",
   "id": "f43c8c5f",
   "metadata": {},
   "source": [
    "## 用两个栈来实现一个队列，完成 n 次在队列尾部插入整数(push)和在队列头部删除整数(pop)的功能。 队列中的元素为int类型。保证操作合法，即保证pop操作时队列内已有元素"
   ]
  },
  {
   "cell_type": "code",
   "execution_count": 1,
   "id": "ac56dfc7",
   "metadata": {},
   "outputs": [],
   "source": [
    "class Solution:\n",
    "    def __init__(self):\n",
    "        self.stack1 = []\n",
    "        self.stack2 = []\n",
    "\n",
    "    def push(self, node):\n",
    "        self.stack1.append(node)\n",
    "\n",
    "    def pop(self):\n",
    "        if self.stack2 == []:\n",
    "            while self.stack1:\n",
    "                self.stack2.append(self.stack1.pop())\n",
    "\n",
    "        if self.stack2 != []:\n",
    "            return self.stack2.pop()\n",
    "        else:\n",
    "            return None"
   ]
  }
 ],
 "metadata": {
  "kernelspec": {
   "display_name": "Python 3",
   "language": "python",
   "name": "python3"
  },
  "language_info": {
   "codemirror_mode": {
    "name": "ipython",
    "version": 3
   },
   "file_extension": ".py",
   "mimetype": "text/x-python",
   "name": "python",
   "nbconvert_exporter": "python",
   "pygments_lexer": "ipython3",
   "version": "3.8.8"
  }
 },
 "nbformat": 4,
 "nbformat_minor": 5
}
