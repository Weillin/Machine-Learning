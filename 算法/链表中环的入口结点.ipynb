{
 "cells": [
  {
   "cell_type": "markdown",
   "id": "82495b52",
   "metadata": {},
   "source": [
    "## 给一个长度为n链表，若其中包含环，请找出该链表的环的入口结点，否则，返回null"
   ]
  },
  {
   "cell_type": "code",
   "execution_count": 1,
   "id": "f281bfa1",
   "metadata": {},
   "outputs": [],
   "source": [
    "class Solution:\n",
    "    def EntryNodeOfLoop(self, pHead):\n",
    "        if pHead == None:\n",
    "            return None\n",
    "\n",
    "        fast_pointer = pHead\n",
    "        slow_pointer = pHead\n",
    "\n",
    "        while fast_pointer and fast_pointer.next:\n",
    "            fast_pointer = fast_pointer.next.next\n",
    "            slow_pointer = slow_pointer.next\n",
    "            if fast_pointer == slow_pointer:\n",
    "                break\n",
    "\n",
    "        if fast_pointer == None or fast_pointer.next == None:\n",
    "            return None\n",
    "\n",
    "        fast_pointer = pHead\n",
    "        while fast_pointer != slow_pointer:\n",
    "            fast_pointer = fast_pointer.next\n",
    "            slow_pointer = slow_pointer.next\n",
    "\n",
    "        return fast_pointer"
   ]
  }
 ],
 "metadata": {
  "kernelspec": {
   "display_name": "Python 3",
   "language": "python",
   "name": "python3"
  },
  "language_info": {
   "codemirror_mode": {
    "name": "ipython",
    "version": 3
   },
   "file_extension": ".py",
   "mimetype": "text/x-python",
   "name": "python",
   "nbconvert_exporter": "python",
   "pygments_lexer": "ipython3",
   "version": "3.8.8"
  }
 },
 "nbformat": 4,
 "nbformat_minor": 5
}
