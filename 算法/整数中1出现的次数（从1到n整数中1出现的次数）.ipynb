{
 "cells": [
  {
   "cell_type": "markdown",
   "id": "d44aecc6",
   "metadata": {},
   "source": [
    "## 输入一个整数 n ，求1～n这n个整数的十进制表示中1出现的次数\n",
    "\n",
    "## 例如，1~13中包含1的数字有1、10、11、12、13因此共出现6次"
   ]
  },
  {
   "cell_type": "code",
   "execution_count": 1,
   "id": "410cfff0",
   "metadata": {},
   "outputs": [
    {
     "name": "stdout",
     "output_type": "stream",
     "text": [
      "200000000000000000001\n"
     ]
    }
   ],
   "source": [
    "class Solution:\n",
    "    def NumberOf1Between1AndN_Solution(self, n):\n",
    "        ones, m = 0, 1\n",
    "        if not n:\n",
    "            return 0\n",
    "        while m <= n:\n",
    "            ones += (n // m + 8) // 10 * m + (n // m % 10 == 1) * (n % m + 1)\n",
    "            m *= 10\n",
    "        return ones\n",
    "\n",
    "\n",
    "if __name__ == '__main__':\n",
    "    s = Solution()\n",
    "    print(s.NumberOf1Between1AndN_Solution(100000000000000000000))"
   ]
  }
 ],
 "metadata": {
  "kernelspec": {
   "display_name": "Python 3",
   "language": "python",
   "name": "python3"
  },
  "language_info": {
   "codemirror_mode": {
    "name": "ipython",
    "version": 3
   },
   "file_extension": ".py",
   "mimetype": "text/x-python",
   "name": "python",
   "nbconvert_exporter": "python",
   "pygments_lexer": "ipython3",
   "version": "3.8.8"
  }
 },
 "nbformat": 4,
 "nbformat_minor": 5
}
