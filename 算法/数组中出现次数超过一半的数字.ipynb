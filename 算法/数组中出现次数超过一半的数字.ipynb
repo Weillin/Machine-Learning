{
 "cells": [
  {
   "cell_type": "markdown",
   "id": "e25843d0",
   "metadata": {},
   "source": [
    "## 给一个长度为 n 的数组，数组中有一个数字出现的次数超过数组长度的一半，请找出这个数字。例如输入一个长度为9的数组[1,2,3,2,2,2,5,4,2]。由于数字2在数组中出现了5次，超过数组长度的一半，因此输出2"
   ]
  },
  {
   "cell_type": "code",
   "execution_count": 1,
   "id": "e33bd30d",
   "metadata": {},
   "outputs": [
    {
     "name": "stdout",
     "output_type": "stream",
     "text": [
      "2\n"
     ]
    }
   ],
   "source": [
    "class Solution:\n",
    "    def MoreThanHalfNum_Solution(self, numbers):\n",
    "        ret = None\n",
    "        count = 0\n",
    "        for num in numbers:\n",
    "            if ret == None:\n",
    "                ret = num\n",
    "                count = 1\n",
    "            else:\n",
    "                if num == ret:\n",
    "                    count += 1\n",
    "                else:\n",
    "                    count -= 1\n",
    "                    if count == 0:\n",
    "                        ret = None\n",
    "        return ret\n",
    "\n",
    "\n",
    "if __name__ == '__main__':\n",
    "    s = Solution()\n",
    "    numbers = [1, 2, 3, 2, 2, 2, 5, 4, 2]\n",
    "    print(s.MoreThanHalfNum_Solution(numbers))"
   ]
  },
  {
   "cell_type": "code",
   "execution_count": 2,
   "id": "7a293971",
   "metadata": {},
   "outputs": [
    {
     "name": "stdout",
     "output_type": "stream",
     "text": [
      "2\n"
     ]
    }
   ],
   "source": [
    "class Solution:\n",
    "    def MoreThanHalfNum_Solution(self, numbers):\n",
    "        num_list = []\n",
    "        for num in numbers:\n",
    "            if num_list == []:\n",
    "                num_list.append(num)\n",
    "            else:\n",
    "                if num != num_list[-1]:\n",
    "                    num_list.pop()\n",
    "                else:\n",
    "                    num_list.append(num)\n",
    "\n",
    "        return num_list[-1]\n",
    "\n",
    "\n",
    "if __name__ == '__main__':\n",
    "    s = Solution()\n",
    "    numbers = [1, 2, 3, 2, 2, 2, 5, 4, 2]\n",
    "    print(s.MoreThanHalfNum_Solution(numbers))"
   ]
  },
  {
   "cell_type": "code",
   "execution_count": 3,
   "id": "95593a86",
   "metadata": {},
   "outputs": [
    {
     "name": "stdout",
     "output_type": "stream",
     "text": [
      "2\n"
     ]
    }
   ],
   "source": [
    "class Solution:\n",
    "    def MoreThanHalfNum_Solution(self, numbers):\n",
    "        counts = {}\n",
    "        num_len = len(numbers)\n",
    "\n",
    "        for num in numbers:\n",
    "            if num in counts:\n",
    "                counts[num] += 1\n",
    "            else:\n",
    "                counts[num] = 1\n",
    "\n",
    "            if counts[num] > (num_len >> 1):\n",
    "                return num\n",
    "\n",
    "        return 0\n",
    "\n",
    "\n",
    "if __name__ == '__main__':\n",
    "    s = Solution()\n",
    "    numbers = [1, 2, 3, 2, 2, 2, 5, 4, 2]\n",
    "    print(s.MoreThanHalfNum_Solution(numbers))"
   ]
  }
 ],
 "metadata": {
  "kernelspec": {
   "display_name": "Python 3",
   "language": "python",
   "name": "python3"
  },
  "language_info": {
   "codemirror_mode": {
    "name": "ipython",
    "version": 3
   },
   "file_extension": ".py",
   "mimetype": "text/x-python",
   "name": "python",
   "nbconvert_exporter": "python",
   "pygments_lexer": "ipython3",
   "version": "3.8.8"
  }
 },
 "nbformat": 4,
 "nbformat_minor": 5
}
