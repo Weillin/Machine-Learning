{
 "cells": [
  {
   "cell_type": "markdown",
   "id": "89c57f10",
   "metadata": {},
   "source": [
    "## 给定一个节点数为 n 二叉树，要求从上到下按层打印二叉树的 val 值，同一层结点从左至右输出。每一层输出一行"
   ]
  },
  {
   "cell_type": "code",
   "execution_count": 1,
   "id": "9e85ba43",
   "metadata": {},
   "outputs": [],
   "source": [
    "class Solution:\n",
    "    def Print(self, pRoot):\n",
    "        # write code here\n",
    "        if pRoot == None:\n",
    "            return []\n",
    "        queue1 = [pRoot]\n",
    "        queue2 = []\n",
    "        ret = []\n",
    "        while queue1 or queue2:\n",
    "            if queue1:\n",
    "                tmp_ret = []\n",
    "                while queue1:\n",
    "                    tmp_node = queue1[0]\n",
    "                    tmp_ret.append(tmp_node.val)\n",
    "                    del queue1[0]\n",
    "                    if tmp_node.left:\n",
    "                        queue2.append(tmp_node.left)\n",
    "                    if tmp_node.right:\n",
    "                        queue2.append(tmp_node.right)\n",
    "                ret.append(tmp_ret)\n",
    "            if queue2:\n",
    "                tmp_ret = []\n",
    "                while queue2:\n",
    "                    tmp_node = queue2[0]\n",
    "                    tmp_ret.append(tmp_node.val)\n",
    "                    del queue2[0]\n",
    "                    if tmp_node.left:\n",
    "                        queue1.append(tmp_node.left)\n",
    "                    if tmp_node.right:\n",
    "                        queue1.append(tmp_node.right)\n",
    "                ret.append(tmp_ret)\n",
    "        return ret"
   ]
  }
 ],
 "metadata": {
  "kernelspec": {
   "display_name": "Python 3",
   "language": "python",
   "name": "python3"
  },
  "language_info": {
   "codemirror_mode": {
    "name": "ipython",
    "version": 3
   },
   "file_extension": ".py",
   "mimetype": "text/x-python",
   "name": "python",
   "nbconvert_exporter": "python",
   "pygments_lexer": "ipython3",
   "version": "3.8.8"
  }
 },
 "nbformat": 4,
 "nbformat_minor": 5
}
