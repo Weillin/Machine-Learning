{
 "cells": [
  {
   "cell_type": "markdown",
   "id": "b5a5f883",
   "metadata": {},
   "source": [
    "## 一个整型数组里除了两个数字只出现一次，其他的数字都出现了两次。请写程序找出这两个只出现一次的数字"
   ]
  },
  {
   "cell_type": "code",
   "execution_count": 1,
   "id": "acb9c1c5",
   "metadata": {},
   "outputs": [
    {
     "name": "stdout",
     "output_type": "stream",
     "text": [
      "[1, 9]\n"
     ]
    }
   ],
   "source": [
    "class Solution:\n",
    "    def FindNumsAppearOnce(self, array):\n",
    "        array = sorted(array)\n",
    "        ret = []\n",
    "        for i in range(len(array) - 1):\n",
    "            if array[i] != array[i - 1] and array[i] != array[i + 1]:\n",
    "                ret.append(array[i])\n",
    "            if len(ret) == 2:\n",
    "                break\n",
    "\n",
    "        if array[-1] != array[-2]:\n",
    "            ret.append(array[-1])\n",
    "\n",
    "        return sorted(ret)\n",
    "\n",
    "\n",
    "if __name__ == '__main__':\n",
    "    s = Solution()\n",
    "    array = [1, 2, 3, 3, 2, 9]\n",
    "    print(s.FindNumsAppearOnce(array))"
   ]
  },
  {
   "cell_type": "code",
   "execution_count": 2,
   "id": "d3ca56aa",
   "metadata": {},
   "outputs": [
    {
     "name": "stdout",
     "output_type": "stream",
     "text": [
      "[1, 9]\n"
     ]
    }
   ],
   "source": [
    "class Solution:\n",
    "    def FindNumsAppearOnce(self, array):\n",
    "        if not array:\n",
    "            return None\n",
    "        tmp = 0\n",
    "        for i in array:\n",
    "            tmp ^= i\n",
    "        flag = 0\n",
    "        while not ((tmp >> flag) & 1):\n",
    "            flag += 1\n",
    "        num1, num2 = 0, 0\n",
    "        for i in array:\n",
    "            if (i >> flag) & 1:\n",
    "                num1 ^= i\n",
    "            else:\n",
    "                num2 ^= i\n",
    "        res = [num1, num2] if num1 <= num2 else [num2, num1]\n",
    "\n",
    "        return res\n",
    "\n",
    "\n",
    "if __name__ == '__main__':\n",
    "    s = Solution()\n",
    "    array = [1, 2, 3, 3, 2, 9]\n",
    "    print(s.FindNumsAppearOnce(array))"
   ]
  }
 ],
 "metadata": {
  "kernelspec": {
   "display_name": "Python 3",
   "language": "python",
   "name": "python3"
  },
  "language_info": {
   "codemirror_mode": {
    "name": "ipython",
    "version": 3
   },
   "file_extension": ".py",
   "mimetype": "text/x-python",
   "name": "python",
   "nbconvert_exporter": "python",
   "pygments_lexer": "ipython3",
   "version": "3.8.8"
  }
 },
 "nbformat": 4,
 "nbformat_minor": 5
}
