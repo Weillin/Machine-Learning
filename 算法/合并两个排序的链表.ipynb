{
 "cells": [
  {
   "cell_type": "markdown",
   "id": "e5344097",
   "metadata": {},
   "source": [
    "## 输入两个递增的链表，单个链表的长度为n，合并这两个链表并使新链表中的节点仍然是递增排序的"
   ]
  },
  {
   "cell_type": "code",
   "execution_count": 1,
   "id": "6d548f6c",
   "metadata": {},
   "outputs": [],
   "source": [
    "class Solution:\n",
    "    def Merge(self, pHead1, pHead2):\n",
    "        if pHead1 == None:\n",
    "            return pHead2\n",
    "        if pHead2 == None:\n",
    "            return pHead1\n",
    "\n",
    "        new_head = pHead1 if pHead1.val < pHead2.val else pHead2\n",
    "        p1 = pHead1\n",
    "        p2 = pHead2\n",
    "        curr = new_head\n",
    "\n",
    "        if new_head == pHead1:\n",
    "            p1 = pHead1.next\n",
    "        else:\n",
    "            p2 = pHead2.next\n",
    "\n",
    "        while p1 and p2:\n",
    "            if p1.val < p2.val:\n",
    "                curr.next = p1\n",
    "                curr = p1\n",
    "                p1 = p1.next\n",
    "            else:\n",
    "                curr.next = p2\n",
    "                curr = p2\n",
    "                p2 = p2.next\n",
    "\n",
    "        if p1 == None:\n",
    "            curr.next = p2\n",
    "        else:\n",
    "            curr.next = p1\n",
    "\n",
    "        return new_head"
   ]
  }
 ],
 "metadata": {
  "kernelspec": {
   "display_name": "Python 3",
   "language": "python",
   "name": "python3"
  },
  "language_info": {
   "codemirror_mode": {
    "name": "ipython",
    "version": 3
   },
   "file_extension": ".py",
   "mimetype": "text/x-python",
   "name": "python",
   "nbconvert_exporter": "python",
   "pygments_lexer": "ipython3",
   "version": "3.8.8"
  }
 },
 "nbformat": 4,
 "nbformat_minor": 5
}
