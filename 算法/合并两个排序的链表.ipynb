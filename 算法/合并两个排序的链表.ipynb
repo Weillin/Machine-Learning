{
 "cells": [
  {
   "cell_type": "markdown",
   "id": "e5344097",
   "metadata": {},
   "source": [
    "## 输入两个递增的链表，单个链表的长度为n，合并这两个链表并使新链表中的节点仍然是递增排序的"
   ]
  },
  {
   "cell_type": "code",
   "execution_count": 1,
   "id": "6d548f6c",
   "metadata": {},
   "outputs": [],
   "source": [
    "class Solution:\n",
    "    def Merge(self, pHead1, pHead2):\n",
    "        if pHead1 == None:\n",
    "            return pHead2\n",
    "        if pHead2 == None:\n",
    "            return pHead1\n",
    "\n",
    "        new_head = pHead1 if pHead1.val < pHead2.val else pHead2\n",
    "        pointer1 = pHead1\n",
    "        pointer2 = pHead2\n",
    "        previous_pointer = new_head\n",
    "\n",
    "        if new_head == pointer1:\n",
    "            pointer1 = pointer1.next\n",
    "        else:\n",
    "            pointer2 = pointer2.next\n",
    "\n",
    "        while pointer1 and pointer2:\n",
    "            if pointer1.val < pointer2.val:\n",
    "                previous_pointer.next = pointer1\n",
    "                previous_pointer = pointer1\n",
    "                pointer1 = pointer1.next\n",
    "            else:\n",
    "                previous_pointer.next = pointer2\n",
    "                previous_pointer = pointer2\n",
    "                pointer2 = pointer2.next\n",
    "\n",
    "        if pointer1 == None:\n",
    "            previous_pointer.next = pointer2\n",
    "        else:\n",
    "            previous_pointer.next = pointer1\n",
    "\n",
    "        return new_head"
   ]
  }
 ],
 "metadata": {
  "kernelspec": {
   "display_name": "Python 3",
   "language": "python",
   "name": "python3"
  },
  "language_info": {
   "codemirror_mode": {
    "name": "ipython",
    "version": 3
   },
   "file_extension": ".py",
   "mimetype": "text/x-python",
   "name": "python",
   "nbconvert_exporter": "python",
   "pygments_lexer": "ipython3",
   "version": "3.8.8"
  }
 },
 "nbformat": 4,
 "nbformat_minor": 5
}
