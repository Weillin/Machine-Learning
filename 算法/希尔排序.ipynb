{
 "cells": [
  {
   "cell_type": "code",
   "execution_count": 1,
   "metadata": {},
   "outputs": [
    {
     "name": "stdout",
     "output_type": "stream",
     "text": [
      "[0, 3, 3, 4, 4, 5, 6, 6, 8, 8, 8, 9]\n"
     ]
    }
   ],
   "source": [
    "def shell_sort(arr):\n",
    "    n = len(arr)\n",
    "    gap = n // 2\n",
    "    while gap > 0:\n",
    "        for i in range(gap, n):\n",
    "            current = arr[i]\n",
    "            j = i - gap\n",
    "            while j >= 0 and current < arr[j]:\n",
    "                arr[j + gap] = arr[j]\n",
    "                j -= gap\n",
    "            arr[j + gap] = current\n",
    "        gap //= 2\n",
    "    return arr\n",
    "\n",
    "\n",
    "arr = [9, 3, 6, 8, 4, 8, 4, 5, 6, 8, 3, 0]\n",
    "print(shell_sort(arr))"
   ]
  }
 ],
 "metadata": {
  "kernelspec": {
   "display_name": "Conda-python3",
   "language": "python",
   "name": "conda-python3"
  },
  "language_info": {
   "codemirror_mode": {
    "name": "ipython",
    "version": 3
   },
   "file_extension": ".py",
   "mimetype": "text/x-python",
   "name": "python",
   "nbconvert_exporter": "python",
   "pygments_lexer": "ipython3",
   "version": "3.6.4"
  }
 },
 "nbformat": 4,
 "nbformat_minor": 4
}
