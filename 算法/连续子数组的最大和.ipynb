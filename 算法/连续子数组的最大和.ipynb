{
 "cells": [
  {
   "cell_type": "markdown",
   "id": "5bef50e0",
   "metadata": {},
   "source": [
    "## 输入一个长度为n的整型数组a，数组中的一个或连续多个整数组成一个子数组。求所有子数组的和的最大值。要求时间复杂度为 O(n)"
   ]
  },
  {
   "cell_type": "code",
   "execution_count": 1,
   "id": "796ab20f",
   "metadata": {},
   "outputs": [],
   "source": [
    "class Solution:\n",
    "    def FindGreatestSumOfSubArray(self, array):\n",
    "        max_num = None\n",
    "        tmp_num = 0\n",
    "\n",
    "        for i in array:\n",
    "            if max_num == None:\n",
    "                max_num = i\n",
    "            if tmp_num + i < i:\n",
    "                tmp_num = i\n",
    "            else:\n",
    "                tmp_num += i\n",
    "\n",
    "            if max_num < tmp_num:\n",
    "                max_num = tmp_num\n",
    "\n",
    "        return max_num"
   ]
  }
 ],
 "metadata": {
  "kernelspec": {
   "display_name": "Python 3",
   "language": "python",
   "name": "python3"
  },
  "language_info": {
   "codemirror_mode": {
    "name": "ipython",
    "version": 3
   },
   "file_extension": ".py",
   "mimetype": "text/x-python",
   "name": "python",
   "nbconvert_exporter": "python",
   "pygments_lexer": "ipython3",
   "version": "3.8.8"
  }
 },
 "nbformat": 4,
 "nbformat_minor": 5
}
