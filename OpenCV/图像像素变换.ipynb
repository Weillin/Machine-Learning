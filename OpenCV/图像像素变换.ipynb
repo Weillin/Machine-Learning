{
 "cells": [
  {
   "cell_type": "code",
   "execution_count": 1,
   "id": "357fbc41",
   "metadata": {},
   "outputs": [
    {
     "name": "stdout",
     "output_type": "stream",
     "text": [
      "[[12222.388 12222.388 12222.388]\n",
      " [12222.388 12222.388 12222.388]\n",
      " [12222.388 12222.388 12222.388]]\n",
      "[[12222.388 12222.388 12222.388 12222.388 12222.388 12222.388 12222.388\n",
      "  12222.388 12222.388]]\n",
      "[[9 9 9]\n",
      " [9 9 9]\n",
      " [9 9 9]]\n",
      "time:9.5046 ms\n"
     ]
    }
   ],
   "source": [
    "import cv2 as cv\n",
    "import numpy as np\n",
    "\n",
    "\n",
    "def access_pixels(image):\n",
    "    print(image.shape)\n",
    "    height = image.shape[0]\n",
    "    width = image.shape[1]\n",
    "    channels = image.shape[2]\n",
    "    print('width:{}, height:{}, channels:{}'.format(width, height, channels))\n",
    "    for row in range(height):\n",
    "        for col in range(width):\n",
    "            for c in range(channels):\n",
    "                pv = image[row, col, c]\n",
    "                image[row, col, c] = 255 - pv\n",
    "    cv.imshow('pixels_demo', image)\n",
    "\n",
    "def inverse(imge):\n",
    "    dst = cv.bitwise_not(imge)   #像素取反\n",
    "    cv.imshow('inverse demo', dst)\n",
    "\n",
    "def create_image():\n",
    "    '''\n",
    "    img = np.zeros([400, 400, 3], np.uint8)\n",
    "    img[:, :, 0] = np.ones([400, 400])*255\n",
    "    cv.imshow('new_image', img)\n",
    "\n",
    "    img = np.ones([400, 400, 1], np.uint8)\n",
    "    img = img*0\n",
    "    cv.imshow('new image', img)\n",
    "    cv.imwrite('myimg.png', img)\n",
    "    '''\n",
    "    m1 = np.ones([3,3], np.float32)\n",
    "    m1.fill(12222.388)\n",
    "    print(m1)\n",
    "\n",
    "    m2 = m1.reshape([1, 9])\n",
    "    print(m2)\n",
    "\n",
    "    m3 = np.array([[2,3,4],[4,5,6],[7,8,9]], np.int32)\n",
    "    m3.fill(9)\n",
    "    print(m3)\n",
    "\n",
    "\n",
    "\n",
    "src = cv.imread('../../data/test.jpg')     #blue, green, red\n",
    "cv.namedWindow('input image', cv.WINDOW_AUTOSIZE)\n",
    "cv.imshow('input image', src)\n",
    "t1 = cv.getTickCount()\n",
    "# access_pixels(src)\n",
    "create_image()\n",
    "# inverse(src)\n",
    "t2 = cv.getTickCount()\n",
    "time = (t2-t1)/cv.getTickFrequency()\n",
    "print('time:{} ms'.format(time*1000))\n",
    "cv.waitKey(0)\n",
    "\n",
    "cv.destroyAllWindows()"
   ]
  }
 ],
 "metadata": {
  "kernelspec": {
   "display_name": "Python 3",
   "language": "python",
   "name": "python3"
  },
  "language_info": {
   "codemirror_mode": {
    "name": "ipython",
    "version": 3
   },
   "file_extension": ".py",
   "mimetype": "text/x-python",
   "name": "python",
   "nbconvert_exporter": "python",
   "pygments_lexer": "ipython3",
   "version": "3.8.8"
  }
 },
 "nbformat": 4,
 "nbformat_minor": 5
}
