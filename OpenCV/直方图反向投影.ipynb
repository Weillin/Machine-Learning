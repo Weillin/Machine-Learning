{
 "cells": [
  {
   "cell_type": "code",
   "execution_count": 1,
   "id": "de0bd2b0",
   "metadata": {},
   "outputs": [],
   "source": [
    "import cv2 as cv\n",
    "import numpy as np\n",
    "from matplotlib import pyplot as plt\n",
    "\n",
    "\n",
    "def back_projection_demo():\n",
    "    sample = cv.imread('../../data/6.jpg')\n",
    "    target = cv.imread('../../data/7.jpg')\n",
    "    roi_hsv = cv.cvtColor(sample, cv.COLOR_BGR2HSV)\n",
    "    target_hsv = cv.cvtColor(target, cv.COLOR_BGR2HSV)\n",
    "\n",
    "    cv.imshow('sample', sample)\n",
    "    cv.imshow('target', target)\n",
    "\n",
    "    roiHist = cv.calcHist([roi_hsv], [0, 1], None, [32, 32], [0, 180, 0,256])\n",
    "    cv.normalize(roiHist, roiHist, 0, 255, cv.NORM_MINMAX)\n",
    "    dst = cv.calcBackProject([target_hsv], [0, 1], roiHist, [0,180,0,256], 1)\n",
    "    cv.imshow('backProjectionDemo', dst)\n",
    "\n",
    "def hist2d_demo(image):\n",
    "    hsv = cv.cvtColor(image, cv.COLOR_BGR2HSV)\n",
    "    hist = cv.calcHist([image], [0, 1], None, [32, 32], [0, 180, 0, 256])\n",
    "    # cv.imshow('hist2d', hist)\n",
    "    plt.imshow(hist, interpolation='nearest')\n",
    "    plt.title('2D Histogram')\n",
    "    plt.show()\n",
    "\n",
    "\n",
    "src = cv.imread('../../data/0.png')  # blue, green, red\n",
    "cv.namedWindow('input image', cv.WINDOW_AUTOSIZE)\n",
    "# cv.imshow('input image', src)\n",
    "# hist2d_demo(src)\n",
    "back_projection_demo()\n",
    "cv.waitKey(0)\n",
    "\n",
    "cv.destroyAllWindows()"
   ]
  }
 ],
 "metadata": {
  "kernelspec": {
   "display_name": "Python 3",
   "language": "python",
   "name": "python3"
  },
  "language_info": {
   "codemirror_mode": {
    "name": "ipython",
    "version": 3
   },
   "file_extension": ".py",
   "mimetype": "text/x-python",
   "name": "python",
   "nbconvert_exporter": "python",
   "pygments_lexer": "ipython3",
   "version": "3.8.8"
  }
 },
 "nbformat": 4,
 "nbformat_minor": 5
}
