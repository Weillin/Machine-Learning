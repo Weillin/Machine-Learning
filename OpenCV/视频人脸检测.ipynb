{
 "cells": [
  {
   "cell_type": "code",
   "execution_count": null,
   "id": "960dae7d",
   "metadata": {},
   "outputs": [],
   "source": [
    "import cv2 as cv\n",
    "import numpy as np\n",
    "\n",
    "\n",
    "def face_detect_demo(image):\n",
    "    gray = cv.cvtColor(image, cv.COLOR_BGR2GRAY)\n",
    "    face_detector = cv.CascadeClassifier('./lbpcascade_frontalcatface.xml')\n",
    "    faces = face_detector.detectMultiScale(gray, 1.1, 3)\n",
    "    for x, y, w, h in faces:\n",
    "        cv.rectangle(image, (x, y), (x+w, y+h), (0,0,255), 2)\n",
    "    cv.imshow('result', image)\n",
    "\n",
    "\n",
    "# src = cv.imread('./3.jpg')  # blue, green, red\n",
    "capture = cv.VideoCapture(0)\n",
    "# cv.namedWindow('input image', cv.WINDOW_AUTOSIZE)\n",
    "cv.namedWindow('result', cv.WINDOW_AUTOSIZE)\n",
    "while True:\n",
    "    ret, frame = capture.read()\n",
    "    frame = cv.flip(frame, 1)\n",
    "    face_detect_demo(frame)\n",
    "    c = cv.waitKey(10)\n",
    "    if c == 27:\n",
    "        break\n",
    "\n",
    "# cv.imshow('input image', src)\n",
    "cv.waitKey(0)\n",
    "\n",
    "cv.destroyAllWindows()"
   ]
  }
 ],
 "metadata": {
  "kernelspec": {
   "display_name": "Python 3",
   "language": "python",
   "name": "python3"
  },
  "language_info": {
   "codemirror_mode": {
    "name": "ipython",
    "version": 3
   },
   "file_extension": ".py",
   "mimetype": "text/x-python",
   "name": "python",
   "nbconvert_exporter": "python",
   "pygments_lexer": "ipython3",
   "version": "3.8.8"
  }
 },
 "nbformat": 4,
 "nbformat_minor": 5
}
