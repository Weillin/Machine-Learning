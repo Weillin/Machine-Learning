{
 "cells": [
  {
   "cell_type": "code",
   "execution_count": 1,
   "id": "4790b5b2",
   "metadata": {},
   "outputs": [
    {
     "name": "stdout",
     "output_type": "stream",
     "text": [
      "(478, 640, 3)\n"
     ]
    }
   ],
   "source": [
    "import cv2 as cv\n",
    "import numpy as np\n",
    "\n",
    "\n",
    "def erode_demo(image):\n",
    "    print(image.shape)\n",
    "    gray = cv.cvtColor(image, cv.COLOR_BGR2GRAY)\n",
    "    ret, binary = cv.threshold(gray,0,255, cv.THRESH_BINARY_INV | cv.THRESH_OTSU)\n",
    "    cv.imshow('binary', binary)\n",
    "    kernel = cv.getStructuringElement(cv.MORPH_RECT, (5, 5))\n",
    "    dst = cv.erode(binary, kernel)\n",
    "    cv.imshow('erode_demo', dst)\n",
    "\n",
    "def dilate_demo(image):\n",
    "    print(image.shape)\n",
    "    gray = cv.cvtColor(image, cv.COLOR_BGR2GRAY)\n",
    "    ret, binary = cv.threshold(gray,0,255, cv.THRESH_BINARY_INV | cv.THRESH_OTSU)\n",
    "    cv.imshow('binary', binary)\n",
    "    kernel = cv.getStructuringElement(cv.MORPH_RECT, (5, 5))\n",
    "    dst = cv.dilate(binary, kernel)\n",
    "    cv.imshow('dilate_demo', dst)\n",
    "\n",
    "src = cv.imread('../../data/test.jpg')  # blue, green, red\n",
    "cv.namedWindow('input image', cv.WINDOW_AUTOSIZE)\n",
    "cv.imshow('input image', src)\n",
    "# erode_demo(src)\n",
    "dilate_demo(src)\n",
    "cv.waitKey(0)\n",
    "\n",
    "cv.destroyAllWindows()"
   ]
  }
 ],
 "metadata": {
  "kernelspec": {
   "display_name": "Python 3",
   "language": "python",
   "name": "python3"
  },
  "language_info": {
   "codemirror_mode": {
    "name": "ipython",
    "version": 3
   },
   "file_extension": ".py",
   "mimetype": "text/x-python",
   "name": "python",
   "nbconvert_exporter": "python",
   "pygments_lexer": "ipython3",
   "version": "3.8.8"
  }
 },
 "nbformat": 4,
 "nbformat_minor": 5
}
