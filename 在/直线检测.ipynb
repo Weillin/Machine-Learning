{
 "cells": [
  {
   "cell_type": "code",
   "execution_count": 1,
   "id": "da44f245",
   "metadata": {},
   "outputs": [
    {
     "name": "stdout",
     "output_type": "stream",
     "text": [
      "<class 'numpy.ndarray'>\n"
     ]
    }
   ],
   "source": [
    "import cv2 as cv\n",
    "import numpy as np\n",
    "\n",
    "\n",
    "def line_detection(image):\n",
    "    gray = cv.cvtColor(image, cv.COLOR_BGR2GRAY)\n",
    "    edges = cv.Canny(gray, 50, 150, apertureSize=3)\n",
    "    lines = cv.HoughLines(edges, 1, np.pi / 180, 200)\n",
    "    for line in lines:\n",
    "        print(type(lines))\n",
    "        rho, theta = line[0]\n",
    "        a = np.cos(theta)\n",
    "        b = np.sin(theta)\n",
    "        x0 = a * rho\n",
    "        y0 = a * rho\n",
    "        x1 = int(x0 + 1000 * (-b))\n",
    "        y1 = int(y0 + 1000 * (a))\n",
    "        x2 = int(x0 - 1000 * (-b))\n",
    "        y2 = int(y0 - 1000 * (a))\n",
    "        cv.line(image, (x1, y1), (x2, y2), (0, 0, 255), 2)\n",
    "    cv.imshow('image-lines', image)\n",
    "\n",
    "def line_detect_possible_demo(image):\n",
    "    gray = cv.cvtColor(image, cv.COLOR_BGR2GRAY)\n",
    "    edges = cv.Canny(gray, 50, 150, apertureSize=3)\n",
    "    lines = cv.HoughLinesP(edges,1,np.pi/180,100,minLineLength=50,maxLineGap=10)\n",
    "    for line in lines:\n",
    "        print(type(line))\n",
    "        x1, y1, x2, y2 = line[0]\n",
    "        cv.line(image, (x1, y1), (x2, y2), (0, 0, 255), 2)\n",
    "    cv.imshow('line_detect_possible_demo', image)\n",
    "\n",
    "\n",
    "src = cv.imread('../../data/test.jpg')  # blue, green, red\n",
    "cv.namedWindow('input image', cv.WINDOW_AUTOSIZE)\n",
    "cv.imshow('input image', src)\n",
    "# line_detection(src)\n",
    "line_detect_possible_demo(src)\n",
    "cv.waitKey(0)\n",
    "\n",
    "cv.destroyAllWindows()"
   ]
  }
 ],
 "metadata": {
  "kernelspec": {
   "display_name": "Python 3",
   "language": "python",
   "name": "python3"
  },
  "language_info": {
   "codemirror_mode": {
    "name": "ipython",
    "version": 3
   },
   "file_extension": ".py",
   "mimetype": "text/x-python",
   "name": "python",
   "nbconvert_exporter": "python",
   "pygments_lexer": "ipython3",
   "version": "3.8.8"
  }
 },
 "nbformat": 4,
 "nbformat_minor": 5
}
