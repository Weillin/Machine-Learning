{
 "cells": [
  {
   "cell_type": "code",
   "execution_count": 1,
   "id": "3d002861",
   "metadata": {},
   "outputs": [],
   "source": [
    "import cv2 as cv\n",
    "import numpy as np\n",
    "\n",
    "\n",
    "def bi_demo(image):\n",
    "    dst = cv.bilateralFilter(image, 0, 100, 15)\n",
    "    cv.imshow('bi_demo', dst)\n",
    "\n",
    "def shift_demo(image):\n",
    "    dst = cv.pyrMeanShiftFiltering(image, 10, 50)\n",
    "    cv.imshow('shift_demo', dst)\n",
    "\n",
    "\n",
    "src = cv.imread('../../data/test.jpg')  # blue, green, red\n",
    "cv.namedWindow('input image', cv.WINDOW_AUTOSIZE)\n",
    "cv.imshow('input image', src)\n",
    "# bi_demo(src)\n",
    "shift_demo(src)\n",
    "cv.waitKey(0)\n",
    "\n",
    "cv.destroyAllWindows()"
   ]
  }
 ],
 "metadata": {
  "kernelspec": {
   "display_name": "Python 3",
   "language": "python",
   "name": "python3"
  },
  "language_info": {
   "codemirror_mode": {
    "name": "ipython",
    "version": 3
   },
   "file_extension": ".py",
   "mimetype": "text/x-python",
   "name": "python",
   "nbconvert_exporter": "python",
   "pygments_lexer": "ipython3",
   "version": "3.8.8"
  }
 },
 "nbformat": 4,
 "nbformat_minor": 5
}
