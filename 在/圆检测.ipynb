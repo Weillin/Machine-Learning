{
 "cells": [
  {
   "cell_type": "code",
   "execution_count": 1,
   "id": "c674d24b",
   "metadata": {},
   "outputs": [],
   "source": [
    "import cv2 as cv\n",
    "import numpy as np\n",
    "\n",
    "\n",
    "def detect_circles_demo(image):\n",
    "    dst = cv.pyrMeanShiftFiltering(image, 10, 100)\n",
    "    cimage = cv.cvtColor(dst, cv.COLOR_BGR2GRAY)\n",
    "    circles = cv.HoughCircles(cimage, cv.HOUGH_GRADIENT, 1, 20, param1=50, \n",
    "                              param2=30, minRadius=0, maxRadius=0)\n",
    "    circles = np.uint16(np.around(circles))\n",
    "    for i in circles[0, :]:\n",
    "        cv.circle(image, (i[0], i[1]), i[2], (0, 0, 255), 2)\n",
    "        cv.circle(image, (i[0], i[1]), 2, (255, 0, 0), 2)\n",
    "    cv.imshow('circles', image)\n",
    "\n",
    "\n",
    "src = cv.imread('../../data/12.png')  # blue, green, red\n",
    "cv.namedWindow('input image', cv.WINDOW_AUTOSIZE)\n",
    "cv.imshow('input image', src)\n",
    "detect_circles_demo(src)\n",
    "cv.waitKey(0)\n",
    "\n",
    "cv.destroyAllWindows()"
   ]
  }
 ],
 "metadata": {
  "kernelspec": {
   "display_name": "Python 3",
   "language": "python",
   "name": "python3"
  },
  "language_info": {
   "codemirror_mode": {
    "name": "ipython",
    "version": 3
   },
   "file_extension": ".py",
   "mimetype": "text/x-python",
   "name": "python",
   "nbconvert_exporter": "python",
   "pygments_lexer": "ipython3",
   "version": "3.8.8"
  }
 },
 "nbformat": 4,
 "nbformat_minor": 5
}
