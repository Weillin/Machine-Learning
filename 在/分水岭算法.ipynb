{
 "cells": [
  {
   "cell_type": "code",
   "execution_count": 1,
   "id": "1846fff6",
   "metadata": {},
   "outputs": [
    {
     "name": "stdout",
     "output_type": "stream",
     "text": [
      "(478, 640, 3)\n",
      "3\n"
     ]
    }
   ],
   "source": [
    "import cv2 as cv\n",
    "import numpy as np\n",
    "\n",
    "\n",
    "def watershed_demo(src):\n",
    "    print(src.shape)\n",
    "    blurred = cv.pyrMeanShiftFiltering(src, 10, 100)\n",
    "    gray = cv.cvtColor(blurred, cv.COLOR_BGR2GRAY)\n",
    "    ret, binary = cv.threshold(gray, 0, 255, cv.THRESH_BINARY | cv.THRESH_OTSU)\n",
    "    cv.imshow('binary-image', binary)\n",
    "\n",
    "    kernel = cv.getStructuringElement(cv.MORPH_RECT, (3, 3))\n",
    "    mb = cv.morphologyEx(binary, cv.MORPH_OPEN, kernel, iterations=2)\n",
    "    sure_bg = cv.dilate(mb, kernel, iterations=3)\n",
    "    cv.imshow('mor-opt', sure_bg)\n",
    "\n",
    "    dist = cv.distanceTransform(mb, cv.DIST_L2, 3)\n",
    "    dist_output = cv.normalize(dist, 0, 1.0, cv.NORM_MINMAX)\n",
    "    cv.imshow('distance-t', dist_output * 50)\n",
    "\n",
    "    ret, surface = cv.threshold(dist, dist.max() * 0.6, 255, cv.THRESH_BINARY)\n",
    "    cv.imshow('surface-bin', surface)\n",
    "\n",
    "    surface_fg = np.uint8(surface)\n",
    "    unknown = cv.subtract(sure_bg, surface_fg)\n",
    "    ret, markers = cv.connectedComponents(surface_fg)\n",
    "    print(ret)\n",
    "\n",
    "    markers = markers + 1\n",
    "    markers[unknown == 255] = 0\n",
    "    markers = cv.watershed(src, markers=markers)\n",
    "    src[markers == -1] = [0, 0, 255]\n",
    "    cv.imshow('result', src)\n",
    "\n",
    "\n",
    "src = cv.imread('../../data/test.jpg')  # blue, green, red\n",
    "cv.namedWindow('input image', cv.WINDOW_AUTOSIZE)\n",
    "cv.imshow('input image', src)\n",
    "watershed_demo(src)\n",
    "cv.waitKey(0)\n",
    "\n",
    "cv.destroyAllWindows()"
   ]
  }
 ],
 "metadata": {
  "kernelspec": {
   "display_name": "Python 3",
   "language": "python",
   "name": "python3"
  },
  "language_info": {
   "codemirror_mode": {
    "name": "ipython",
    "version": 3
   },
   "file_extension": ".py",
   "mimetype": "text/x-python",
   "name": "python",
   "nbconvert_exporter": "python",
   "pygments_lexer": "ipython3",
   "version": "3.8.8"
  }
 },
 "nbformat": 4,
 "nbformat_minor": 5
}
