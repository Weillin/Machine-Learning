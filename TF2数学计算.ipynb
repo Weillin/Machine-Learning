{
 "cells": [
  {
   "cell_type": "markdown",
   "metadata": {},
   "source": [
    "# 取最大值"
   ]
  },
  {
   "cell_type": "code",
   "execution_count": 1,
   "metadata": {},
   "outputs": [
    {
     "name": "stdout",
     "output_type": "stream",
     "text": [
      "默认列索引：[0 1 0]\n",
      "列最大索引：[0 1 0]\n",
      "行最大索引：[2 1]\n"
     ]
    }
   ],
   "source": [
    "import tensorflow as tf\n",
    "\n",
    "def argmax(inputs, axis):\n",
    "    return tf.math.argmax(inputs, axis=axis)\n",
    "\n",
    "if __name__ == '__main__':\n",
    "    c1 = tf.constant([[10, 20, 30], [5, 30, 20]])\n",
    "    argmax_default = argmax(c1, None)\n",
    "    argmax_col = argmax(c1, 0)\n",
    "    argmax_row = argmax(c1, 1)\n",
    "    print('默认列索引：{}'.format(argmax_default))\n",
    "    print('列最大索引：{}'.format(argmax_col))\n",
    "    print('行最大索引：{}'.format(argmax_row))"
   ]
  },
  {
   "cell_type": "markdown",
   "metadata": {},
   "source": [
    "# 混淆矩阵"
   ]
  },
  {
   "cell_type": "code",
   "execution_count": 2,
   "metadata": {},
   "outputs": [
    {
     "name": "stdout",
     "output_type": "stream",
     "text": [
      "混淆矩阵：[[0 0 0 0 0]\n",
      " [0 0 0 0 0]\n",
      " [0 0 1 0 0]\n",
      " [0 0 0 1 0]\n",
      " [0 0 0 0 1]]\n"
     ]
    }
   ],
   "source": [
    "import tensorflow as tf\n",
    "\n",
    "def confusion_matrix(labels, predictions):\n",
    "    return tf.math.confusion_matrix(labels, predictions)\n",
    "\n",
    "if __name__ == '__main__':\n",
    "    labels = tf.convert_to_tensor([4, 2, 3])\n",
    "    predictions = tf.convert_to_tensor([4, 2, 3])\n",
    "    confusion_mat = confusion_matrix(labels, predictions)\n",
    "    print('混淆矩阵：{}'.format(confusion_mat))"
   ]
  },
  {
   "cell_type": "markdown",
   "metadata": {},
   "source": [
    "# 指数计算"
   ]
  },
  {
   "cell_type": "code",
   "execution_count": 3,
   "metadata": {},
   "outputs": [
    {
     "name": "stdout",
     "output_type": "stream",
     "text": [
      "幂计算：[[ 1 27]\n",
      " [ 8 16]]\n"
     ]
    }
   ],
   "source": [
    "import tensorflow as tf\n",
    "\n",
    "def pow_cal(x, y):\n",
    "    return tf.math.pow(x, y)\n",
    "\n",
    "if __name__ == '__main__':\n",
    "    x = tf.constant([[1, 3], [2, 4]])\n",
    "    y = tf.constant([[2, 3], [3, 2]])\n",
    "    pow_res = pow_cal(x, y)\n",
    "    print('幂计算：{}'.format(pow_res))"
   ]
  },
  {
   "cell_type": "markdown",
   "metadata": {},
   "source": [
    "# 均值计算"
   ]
  },
  {
   "cell_type": "code",
   "execution_count": 4,
   "metadata": {},
   "outputs": [
    {
     "name": "stdout",
     "output_type": "stream",
     "text": [
      "默认均值：20\n",
      "列均值：[10 25 25]\n",
      "行均值：[21 18]\n"
     ]
    }
   ],
   "source": [
    "import tensorflow as tf\n",
    "\n",
    "def mean_cal(inputs, axis):\n",
    "    return tf.math.reduce_mean(inputs, axis=axis)\n",
    "\n",
    "if __name__ == '__main__':\n",
    "    c1 = tf.constant([[15, 20, 30], [5, 30, 20]])\n",
    "    mean_default = mean_cal(c1, None)\n",
    "    mean_col = mean_cal(c1, 0)\n",
    "    mean_row = mean_cal(c1, 1)\n",
    "    print('默认均值：{}'.format(mean_default))\n",
    "    print('列均值：{}'.format(mean_col))\n",
    "    print('行均值：{}'.format(mean_row))"
   ]
  },
  {
   "cell_type": "markdown",
   "metadata": {},
   "source": [
    "# 求和计算"
   ]
  },
  {
   "cell_type": "code",
   "execution_count": 5,
   "metadata": {},
   "outputs": [
    {
     "name": "stdout",
     "output_type": "stream",
     "text": [
      "默认和：120\n",
      "列和：[20 50 50]\n",
      "行和：[65 55]\n"
     ]
    }
   ],
   "source": [
    "import tensorflow as tf\n",
    "\n",
    "def sum_cal(inputs, axis):\n",
    "    return tf.math.reduce_sum(inputs, axis=axis)\n",
    "\n",
    "if __name__ == '__main__':\n",
    "    c1 = tf.constant([[15, 20, 30], [5, 30, 20]])\n",
    "    sum_default = sum_cal(c1, None)\n",
    "    sum_col = sum_cal(c1, 0)\n",
    "    sum_row = sum_cal(c1, 1)\n",
    "    print('默认和：{}'.format(sum_default))\n",
    "    print('列和：{}'.format(sum_col))\n",
    "    print('行和：{}'.format(sum_row))"
   ]
  },
  {
   "cell_type": "markdown",
   "metadata": {},
   "source": [
    "# 加法计算"
   ]
  },
  {
   "cell_type": "code",
   "execution_count": 6,
   "metadata": {},
   "outputs": [
    {
     "name": "stdout",
     "output_type": "stream",
     "text": [
      "数据和：[5 8]\n"
     ]
    }
   ],
   "source": [
    "import tensorflow as tf\n",
    "\n",
    "def add_cal(inputs):\n",
    "    return tf.math.add_n(inputs)\n",
    "\n",
    "if __name__ == '__main__':\n",
    "    inputs1 = tf.constant([1, 3])\n",
    "    inputs2 = tf.constant([4, 5])\n",
    "    add_res = add_cal([inputs1, inputs2])\n",
    "    print('数据和：{}'.format(add_res))"
   ]
  }
 ],
 "metadata": {
  "kernelspec": {
   "display_name": "Python 3",
   "language": "python",
   "name": "python3"
  },
  "language_info": {
   "codemirror_mode": {
    "name": "ipython",
    "version": 3
   },
   "file_extension": ".py",
   "mimetype": "text/x-python",
   "name": "python",
   "nbconvert_exporter": "python",
   "pygments_lexer": "ipython3",
   "version": "3.8.5"
  }
 },
 "nbformat": 4,
 "nbformat_minor": 4
}
