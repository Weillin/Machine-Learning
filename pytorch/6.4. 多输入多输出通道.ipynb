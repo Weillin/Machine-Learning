{
 "cells": [
  {
   "cell_type": "code",
   "execution_count": 1,
   "id": "8bb201a7",
   "metadata": {},
   "outputs": [],
   "source": [
    "import torch\n",
    "\n",
    "def corr2d_multi_in(x, k):\n",
    "    return sum(corr2d(x, k) for x, k in zip(x, k))"
   ]
  },
  {
   "cell_type": "code",
   "execution_count": 2,
   "id": "70a52c27",
   "metadata": {},
   "outputs": [],
   "source": [
    "def corr2d(X, K):\n",
    "    h, w = K.shape\n",
    "    Y = torch.zeros((X.shape[0] - h + 1, X.shape[1] - w + 1))\n",
    "    for i in range(Y.shape[0]):\n",
    "        for j in range(Y.shape[1]):\n",
    "            Y[i, j] = reduce_sum((X[i:i + h, j:j + w] * K))\n",
    "    return Y\n",
    "\n",
    "reduce_sum = lambda x, *args, **kwargs: x.sum(*args, **kwargs)"
   ]
  },
  {
   "cell_type": "code",
   "execution_count": 3,
   "id": "a99aae99",
   "metadata": {},
   "outputs": [
    {
     "data": {
      "text/plain": [
       "tensor([[ 56.,  72.],\n",
       "        [104., 120.]])"
      ]
     },
     "execution_count": 3,
     "metadata": {},
     "output_type": "execute_result"
    }
   ],
   "source": [
    "x = torch.tensor([[[0.0, 1.0, 2.0], [3.0, 4.0, 5.0], [6.0, 7.0, 8.0]],\n",
    "                  [[1.0, 2.0, 3.0], [4.0, 5.0, 6.0], [7.0, 8.0, 9.0]]])\n",
    "k = torch.tensor([[[0.0, 1.0], [2.0, 3.0]], [[1.0, 2.0], [3.0, 4.0]]])\n",
    "\n",
    "corr2d_multi_in(x, k)"
   ]
  },
  {
   "cell_type": "code",
   "execution_count": 4,
   "id": "c20de3b2",
   "metadata": {},
   "outputs": [],
   "source": [
    "def corr2d_multi_in_out(x, k):\n",
    "    return torch.stack([corr2d_multi_in(x, k) for k in k], 0)"
   ]
  },
  {
   "cell_type": "code",
   "execution_count": 5,
   "id": "fe4ce7ce",
   "metadata": {},
   "outputs": [
    {
     "data": {
      "text/plain": [
       "torch.Size([3, 2, 2, 2])"
      ]
     },
     "execution_count": 5,
     "metadata": {},
     "output_type": "execute_result"
    }
   ],
   "source": [
    "k = torch.stack((k, k + 1, k + 2), 0)\n",
    "k.shape"
   ]
  },
  {
   "cell_type": "code",
   "execution_count": 6,
   "id": "1782eb6d",
   "metadata": {},
   "outputs": [
    {
     "data": {
      "text/plain": [
       "tensor([[[ 56.,  72.],\n",
       "         [104., 120.]],\n",
       "\n",
       "        [[ 76., 100.],\n",
       "         [148., 172.]],\n",
       "\n",
       "        [[ 96., 128.],\n",
       "         [192., 224.]]])"
      ]
     },
     "execution_count": 6,
     "metadata": {},
     "output_type": "execute_result"
    }
   ],
   "source": [
    "corr2d_multi_in_out(x, k)"
   ]
  },
  {
   "cell_type": "code",
   "execution_count": 7,
   "id": "b4a44cd0",
   "metadata": {},
   "outputs": [],
   "source": [
    "def corr2d_multi_in_out_1x1(x, k):\n",
    "    c_i, h, w = x.shape\n",
    "    c_o = k.shape[0]\n",
    "    x = x.reshape((c_i, h * w))\n",
    "    k = k.reshape((c_o, c_i))\n",
    "    y = torch.matmul(k, x)\n",
    "    return y.reshape((c_o, h, w))"
   ]
  },
  {
   "cell_type": "code",
   "execution_count": 8,
   "id": "29356a77",
   "metadata": {},
   "outputs": [],
   "source": [
    "x = torch.normal(0, 1, (3, 3, 3))\n",
    "k = torch.normal(0, 1, (2, 3, 1, 1))\n",
    "\n",
    "y1 = corr2d_multi_in_out_1x1(x, k)\n",
    "y2 = corr2d_multi_in_out(x, k)\n",
    "assert float(torch.abs(y1 - y2).sum()) < 1e-6"
   ]
  },
  {
   "cell_type": "code",
   "execution_count": null,
   "id": "ea410bd3",
   "metadata": {},
   "outputs": [],
   "source": []
  }
 ],
 "metadata": {
  "kernelspec": {
   "display_name": "Python 3",
   "language": "python",
   "name": "python3"
  },
  "language_info": {
   "codemirror_mode": {
    "name": "ipython",
    "version": 3
   },
   "file_extension": ".py",
   "mimetype": "text/x-python",
   "name": "python",
   "nbconvert_exporter": "python",
   "pygments_lexer": "ipython3",
   "version": "3.8.8"
  }
 },
 "nbformat": 4,
 "nbformat_minor": 5
}
