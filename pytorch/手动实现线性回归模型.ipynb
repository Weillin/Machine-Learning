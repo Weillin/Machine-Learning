{
 "cells": [
  {
   "cell_type": "markdown",
   "id": "923700fc",
   "metadata": {},
   "source": [
    "## 1. 导入依赖包"
   ]
  },
  {
   "cell_type": "code",
   "execution_count": 1,
   "id": "04743997",
   "metadata": {},
   "outputs": [],
   "source": [
    "import torch\n",
    "from torch import nn\n",
    "import pandas as pd\n",
    "import numpy as np\n",
    "import matplotlib.pyplot as plt\n",
    "import os\n",
    "%matplotlib inline\n",
    "os.environ['KMP_DUPLICATE_LIB_OK'] = 'TRUE'"
   ]
  },
  {
   "cell_type": "markdown",
   "id": "99792575",
   "metadata": {},
   "source": [
    "## 2. 加载数据并预处理"
   ]
  },
  {
   "cell_type": "code",
   "execution_count": 2,
   "id": "32f8bdd5",
   "metadata": {},
   "outputs": [],
   "source": [
    "data = pd.read_csv('../../data/Income.csv')\n",
    "X = torch.from_numpy(data.Education.values.reshape(-1, 1).astype(np.float32))\n",
    "Y = torch.from_numpy(data.Income.values.reshape(-1, 1).astype(np.float32))"
   ]
  },
  {
   "cell_type": "markdown",
   "id": "23c79542",
   "metadata": {},
   "source": [
    "## 3. 初始化权重和偏置"
   ]
  },
  {
   "cell_type": "code",
   "execution_count": 3,
   "id": "17e88ffd",
   "metadata": {},
   "outputs": [],
   "source": [
    "w = torch.randn(1, requires_grad=True)\n",
    "b = torch.zeros(1, requires_grad=True)"
   ]
  },
  {
   "cell_type": "markdown",
   "id": "bcd73345",
   "metadata": {},
   "source": [
    "## 4. 定义学习率"
   ]
  },
  {
   "cell_type": "code",
   "execution_count": 4,
   "id": "f512c684",
   "metadata": {},
   "outputs": [],
   "source": [
    "learning_rate = 0.001"
   ]
  },
  {
   "cell_type": "markdown",
   "id": "7b8f58f7",
   "metadata": {},
   "source": [
    "## 5. 反向传播更新参数"
   ]
  },
  {
   "cell_type": "code",
   "execution_count": 5,
   "id": "24c7b5f3",
   "metadata": {},
   "outputs": [],
   "source": [
    "for epoch in range(1000):\n",
    "    for x, y in zip(X, Y):\n",
    "        y_pred = torch.matmul(x, w) + b\n",
    "        loss = (y - y_pred).pow(2).mean()\n",
    "        if not w.grad is None:\n",
    "            w.grad.data.zero_()\n",
    "        if not b.grad is None:\n",
    "            b.grad.data.zero_()\n",
    "        loss.backward()\n",
    "        with torch.no_grad():\n",
    "            w.data -= w.grad.data * learning_rate\n",
    "            b.data -= b.grad.data * learning_rate"
   ]
  },
  {
   "cell_type": "markdown",
   "id": "54c3aae7",
   "metadata": {},
   "source": [
    "## 6.绘制原始数据和预测数据"
   ]
  },
  {
   "cell_type": "code",
   "execution_count": 6,
   "id": "5fbbf06b",
   "metadata": {},
   "outputs": [
    {
     "data": {
      "text/plain": [
       "[<matplotlib.lines.Line2D at 0x1dfc845fa60>]"
      ]
     },
     "execution_count": 6,
     "metadata": {},
     "output_type": "execute_result"
    },
    {
     "data": {
      "image/png": "[encoded data removed]",
      "text/plain": [
       "<Figure size 432x288 with 1 Axes>"
      ]
     },
     "metadata": {
      "needs_background": "light"
     },
     "output_type": "display_data"
    }
   ],
   "source": [
    "plt.scatter(data.Education, data.Income)\n",
    "plt.plot(X.numpy(), (X*w + b).data.numpy(), c='r')"
   ]
  }
 ],
 "metadata": {
  "kernelspec": {
   "display_name": "Python 3",
   "language": "python",
   "name": "python3"
  },
  "language_info": {
   "codemirror_mode": {
    "name": "ipython",
    "version": 3
   },
   "file_extension": ".py",
   "mimetype": "text/x-python",
   "name": "python",
   "nbconvert_exporter": "python",
   "pygments_lexer": "ipython3",
   "version": "3.8.8"
  }
 },
 "nbformat": 4,
 "nbformat_minor": 5
}
