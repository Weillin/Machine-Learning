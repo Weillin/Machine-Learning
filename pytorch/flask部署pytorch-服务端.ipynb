{
 "cells": [
  {
   "cell_type": "markdown",
   "id": "0bd5ac9e",
   "metadata": {},
   "source": [
    "## 1.导入依赖包"
   ]
  },
  {
   "cell_type": "code",
   "execution_count": 1,
   "id": "842dd991",
   "metadata": {},
   "outputs": [],
   "source": [
    "import io\n",
    "import flask\n",
    "import torch\n",
    "import torch.nn.functional as F\n",
    "from PIL import Image\n",
    "from torchvision import transforms as T\n",
    "from torchvision.models import resnet50"
   ]
  },
  {
   "cell_type": "markdown",
   "id": "023c1151",
   "metadata": {},
   "source": [
    "## 2.初始化一个flask"
   ]
  },
  {
   "cell_type": "code",
   "execution_count": 2,
   "id": "5c50cb0a",
   "metadata": {},
   "outputs": [],
   "source": [
    "app = flask.Flask(__name__)\n",
    "model = None\n",
    "use_gpu = False  # 是否使用GPU训练模型\n",
    "\n",
    "with open('../../data/class_map.txt', 'r') as f:\n",
    "    label_map = eval(f.read())  # 转化成字典"
   ]
  },
  {
   "cell_type": "markdown",
   "id": "e2450804",
   "metadata": {},
   "source": [
    "## 3.加载模型"
   ]
  },
  {
   "cell_type": "code",
   "execution_count": 3,
   "id": "b85e0dcb",
   "metadata": {},
   "outputs": [],
   "source": [
    "def load_model():\n",
    "    global model\n",
    "    model = resnet50(pretrained=True)\n",
    "    model.eval()  # 不启用 BatchNormalization 和 Dropout\n",
    "    if use_gpu:\n",
    "        model.cuda()  # 将模型加载到GPU上"
   ]
  },
  {
   "cell_type": "markdown",
   "id": "f5625763",
   "metadata": {},
   "source": [
    "## 4.处理接收到的图片"
   ]
  },
  {
   "cell_type": "code",
   "execution_count": 4,
   "id": "19f56272",
   "metadata": {},
   "outputs": [],
   "source": [
    "def prepare_image(image, target_size):\n",
    "    if image.mode != 'RGB':\n",
    "        image = image.convert('RGB')  # 使用'RGB'模式读取图片\n",
    "\n",
    "    image = T.Resize(target_size)(image)\n",
    "    image = T.ToTensor()(image)\n",
    "\n",
    "    image = T.Normalize([0.485, 0.456, 0.406], [0.229, 0.224, 0.225])(image)\n",
    "\n",
    "    image = image[None]\n",
    "    if use_gpu:\n",
    "        image = image.cuda()\n",
    "    return torch.autograd.Variable(image, volatile=True)  # 自动微分变量"
   ]
  },
  {
   "cell_type": "markdown",
   "id": "35f5e1f4",
   "metadata": {},
   "source": [
    "## 5.定义路由"
   ]
  },
  {
   "cell_type": "code",
   "execution_count": 5,
   "id": "6fc635c6",
   "metadata": {},
   "outputs": [],
   "source": [
    "@app.route('/predict', methods=['POST'])\n",
    "def predict():\n",
    "    data = {'success': False}\n",
    "\n",
    "    if flask.request.method == 'POST':\n",
    "        if flask.request.files.get('image'):\n",
    "            image = flask.request.files['image'].read()\n",
    "            # 将字节对象转为Byte字节流数据\n",
    "            image = Image.open(io.BytesIO(image))\n",
    "            image = prepare_image(image, target_size=(224, 224))\n",
    "            preds = F.softmax(model(image), dim=1)\n",
    "            # 返回Tensor中的前k个元素以及元素对应的索引值\n",
    "            results = torch.topk(preds.cpu().data, k=3, dim=1)\n",
    "            # 把tensor转换成numpy的格式\n",
    "            results = (results[0].cpu().numpy(), results[1].cpu().numpy())\n",
    "\n",
    "            data['predictions'] = list()\n",
    "\n",
    "            for prob, label in zip(results[0][0], results[1][0]):\n",
    "                label_name = label_map[label]\n",
    "                r = {'label': label_name, 'probability': float(prob)}\n",
    "                data['predictions'].append(r)\n",
    "\n",
    "            data['success'] = True\n",
    "\n",
    "    return flask.jsonify(data)  # 将字典转成json字符串"
   ]
  },
  {
   "cell_type": "markdown",
   "id": "4b499133",
   "metadata": {},
   "source": [
    "## 6.主函数"
   ]
  },
  {
   "cell_type": "code",
   "execution_count": null,
   "id": "84c361dc",
   "metadata": {},
   "outputs": [
    {
     "name": "stdout",
     "output_type": "stream",
     "text": [
      " * Serving Flask app \"__main__\" (lazy loading)\n",
      " * Environment: production\n",
      "\u001b[31m   WARNING: This is a development server. Do not use it in a production deployment.\u001b[0m\n",
      "\u001b[2m   Use a production WSGI server instead.\u001b[0m\n",
      " * Debug mode: off\n"
     ]
    },
    {
     "name": "stderr",
     "output_type": "stream",
     "text": [
      " * Running on http://127.0.0.1:5000/ (Press CTRL+C to quit)\n"
     ]
    }
   ],
   "source": [
    "if __name__ == '__main__':\n",
    "    load_model()\n",
    "    app.run()"
   ]
  }
 ],
 "metadata": {
  "kernelspec": {
   "display_name": "Python 3",
   "language": "python",
   "name": "python3"
  },
  "language_info": {
   "codemirror_mode": {
    "name": "ipython",
    "version": 3
   },
   "file_extension": ".py",
   "mimetype": "text/x-python",
   "name": "python",
   "nbconvert_exporter": "python",
   "pygments_lexer": "ipython3",
   "version": "3.8.8"
  }
 },
 "nbformat": 4,
 "nbformat_minor": 5
}
