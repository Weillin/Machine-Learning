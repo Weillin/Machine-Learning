{
 "cells": [
  {
   "cell_type": "markdown",
   "id": "ac81fead",
   "metadata": {},
   "source": [
    "## 1.导入依赖包"
   ]
  },
  {
   "cell_type": "code",
   "execution_count": 1,
   "id": "739afff3",
   "metadata": {},
   "outputs": [],
   "source": [
    "from tensorflow import keras\n",
    "import tensorflow as tf\n",
    "import numpy as np\n",
    "import pandas as pd\n",
    "import os\n",
    "import matplotlib.pyplot as plt\n",
    "from sklearn.model_selection import train_test_split\n",
    "from tensorflow.keras.layers import Conv2D, BatchNormalization, Activation, Dense, MaxPool2D, GlobalAveragePooling2D\n",
    "from tensorflow.keras import Model"
   ]
  },
  {
   "cell_type": "markdown",
   "id": "9342b762",
   "metadata": {},
   "source": [
    "## 2.导入数据集"
   ]
  },
  {
   "cell_type": "code",
   "execution_count": 2,
   "id": "038729d7",
   "metadata": {},
   "outputs": [
    {
     "name": "stdout",
     "output_type": "stream",
     "text": [
      "(42000, 785) (28000, 784)\n"
     ]
    }
   ],
   "source": [
    "train = pd.read_csv('../../data/fashion_train.csv')\n",
    "test = pd.read_csv('../../data/fashion_test.csv')\n",
    "print(train.shape, test.shape)"
   ]
  },
  {
   "cell_type": "markdown",
   "id": "2c48f646",
   "metadata": {},
   "source": [
    "## 3.数据预处理"
   ]
  },
  {
   "cell_type": "code",
   "execution_count": 3,
   "id": "8ae2a72b",
   "metadata": {},
   "outputs": [
    {
     "name": "stdout",
     "output_type": "stream",
     "text": [
      "(33600, 784) (33600, 10)\n",
      "(33600, 28, 28, 1) (33600, 10)\n"
     ]
    }
   ],
   "source": [
    "input_shape = (28, 28, 1)\n",
    "x = np.array(train.iloc[:, 1:])\n",
    "y = keras.utils.to_categorical(np.array(train.iloc[:, 0]))\n",
    "x_train, x_val, y_train, y_val = train_test_split(x, y, test_size=0.2)\n",
    "print(x_train.shape, y_train.shape)\n",
    "\n",
    "x_test = np.array(test.iloc[:, 0:])\n",
    "x_train = x_train.reshape(x_train.shape[0], 28, 28, 1)\n",
    "x_val = x_val.reshape(x_val.shape[0], 28, 28, 1)\n",
    "x_test = x_test.reshape(x_test.shape[0], 28, 28, 1)\n",
    "print(x_train.shape, y_train.shape)\n",
    "\n",
    "x_train = x_train.astype('float32')\n",
    "x_val = x_val.astype('float32')\n",
    "x_test = x_test.astype('float32')\n",
    "x_train /= 255\n",
    "x_val /= 255\n",
    "x_test /= 255\n",
    "\n",
    "batch_size = 64\n",
    "classes = 10\n",
    "epochs = 5"
   ]
  },
  {
   "cell_type": "markdown",
   "id": "e084a753",
   "metadata": {},
   "source": [
    "## 4.建立模型"
   ]
  },
  {
   "cell_type": "code",
   "execution_count": 4,
   "id": "81428357",
   "metadata": {},
   "outputs": [],
   "source": [
    "class ConvBNRelu(Model):\n",
    "    def __init__(self, ch, kernelsz=3, strides=1, padding='same'):\n",
    "        super(ConvBNRelu, self).__init__()\n",
    "        self.model = tf.keras.models.Sequential([\n",
    "            Conv2D(ch, kernelsz, strides=strides, padding=padding),\n",
    "            BatchNormalization(),\n",
    "            Activation('relu')\n",
    "        ])\n",
    "\n",
    "    def call(self, x):\n",
    "        x = self.model(x,\n",
    "                       training=False)\n",
    "        return x\n",
    "\n",
    "\n",
    "class InceptionBlk(Model):\n",
    "    def __init__(self, ch, strides=1):\n",
    "        super(InceptionBlk, self).__init__()\n",
    "        self.ch = ch\n",
    "        self.strides = strides\n",
    "        self.c1 = ConvBNRelu(ch, kernelsz=1, strides=strides)\n",
    "        self.c2_1 = ConvBNRelu(ch, kernelsz=1, strides=strides)\n",
    "        self.c2_2 = ConvBNRelu(ch, kernelsz=3, strides=1)\n",
    "        self.c3_1 = ConvBNRelu(ch, kernelsz=1, strides=strides)\n",
    "        self.c3_2 = ConvBNRelu(ch, kernelsz=5, strides=1)\n",
    "        self.p4_1 = MaxPool2D(3, strides=1, padding='same')\n",
    "        self.c4_2 = ConvBNRelu(ch, kernelsz=1, strides=strides)\n",
    "\n",
    "    def call(self, x):\n",
    "        x1 = self.c1(x)\n",
    "        x2_1 = self.c2_1(x)\n",
    "        x2_2 = self.c2_2(x2_1)\n",
    "        x3_1 = self.c3_1(x)\n",
    "        x3_2 = self.c3_2(x3_1)\n",
    "        x4_1 = self.p4_1(x)\n",
    "        x4_2 = self.c4_2(x4_1)\n",
    "        x = tf.concat([x1, x2_2, x3_2, x4_2], axis=3)\n",
    "        return x\n",
    "\n",
    "\n",
    "num_blocks = 2\n",
    "num_classes = 10\n",
    "in_channels = 16\n",
    "out_channels = 16\n",
    "blocks = tf.keras.models.Sequential()\n",
    "for block_id in range(num_blocks):\n",
    "    for layer_id in range(2):\n",
    "        if layer_id == 0:\n",
    "            block = InceptionBlk(out_channels, strides=2)\n",
    "        else:\n",
    "            block = InceptionBlk(out_channels, strides=1)\n",
    "        blocks.add(block)\n",
    "    out_channels *= 2\n",
    "\n",
    "model = keras.models.Sequential([\n",
    "    ConvBNRelu(16),\n",
    "    blocks,\n",
    "    GlobalAveragePooling2D(),\n",
    "    Dense(num_classes, activation='softmax')\n",
    "])"
   ]
  },
  {
   "cell_type": "markdown",
   "id": "05786d6f",
   "metadata": {},
   "source": [
    "## 5.定义优化器、损失函数和评价指标"
   ]
  },
  {
   "cell_type": "code",
   "execution_count": 5,
   "id": "30920de7",
   "metadata": {},
   "outputs": [],
   "source": [
    "model.compile(optimizer='adam',\n",
    "              loss='categorical_crossentropy',\n",
    "              metrics=['accuracy'])"
   ]
  },
  {
   "cell_type": "markdown",
   "id": "8c1ed9c4",
   "metadata": {},
   "source": [
    "## 6.断点续训"
   ]
  },
  {
   "cell_type": "code",
   "execution_count": 6,
   "id": "343f5cd5",
   "metadata": {},
   "outputs": [],
   "source": [
    "save_path = './checkpoint/inception.ckpt'\n",
    "if os.path.exists(save_path + '.index'):\n",
    "    print('model loading')\n",
    "    model.load_weights(save_path)\n",
    "cp_callback = keras.callbacks.ModelCheckpoint(filepath=save_path,\n",
    "                                              save_weights_only=True,\n",
    "                                              save_best_only=True)\n",
    "callback = tf.keras.callbacks.EarlyStopping(monitor='loss', patience=3)"
   ]
  },
  {
   "cell_type": "markdown",
   "id": "70c7776b",
   "metadata": {},
   "source": [
    "## 7.训练模型"
   ]
  },
  {
   "cell_type": "code",
   "execution_count": 7,
   "id": "1902330a",
   "metadata": {},
   "outputs": [
    {
     "name": "stdout",
     "output_type": "stream",
     "text": [
      "Epoch 1/5\n",
      "525/525 [==============================] - 61s 78ms/step - loss: 0.8508 - accuracy: 0.6782 - val_loss: 0.5774 - val_accuracy: 0.7915\n",
      "Epoch 2/5\n",
      "525/525 [==============================] - 37s 71ms/step - loss: 0.5295 - accuracy: 0.8051 - val_loss: 0.5047 - val_accuracy: 0.8154\n",
      "Epoch 3/5\n",
      "525/525 [==============================] - 37s 71ms/step - loss: 0.4348 - accuracy: 0.8391 - val_loss: 0.4162 - val_accuracy: 0.8469\n",
      "Epoch 4/5\n",
      "525/525 [==============================] - 20s 38ms/step - loss: 0.3854 - accuracy: 0.8598 - val_loss: 0.3695 - val_accuracy: 0.8607\n",
      "Epoch 5/5\n",
      "525/525 [==============================] - 11s 20ms/step - loss: 0.3384 - accuracy: 0.8762 - val_loss: 0.3652 - val_accuracy: 0.8633\n"
     ]
    }
   ],
   "source": [
    "history = model.fit(x_train, y_train,\n",
    "                    batch_size=batch_size,\n",
    "                    epochs=epochs,\n",
    "                    verbose=1,\n",
    "                    validation_data=(x_val, y_val),\n",
    "                    callbacks=[cp_callback, callback])"
   ]
  },
  {
   "cell_type": "markdown",
   "id": "11e589d7",
   "metadata": {},
   "source": [
    "## 8.预测结果"
   ]
  },
  {
   "cell_type": "code",
   "execution_count": 8,
   "id": "3a4137e2",
   "metadata": {},
   "outputs": [],
   "source": [
    "result = model.predict(x_test)\n",
    "pred = tf.argmax(result, axis=1)\n",
    "df = pd.DataFrame(pred, columns=['label'])\n",
    "df.to_csv(path_or_buf='Submission.csv', index_label='image_id')"
   ]
  },
  {
   "cell_type": "markdown",
   "id": "ef7a89fc",
   "metadata": {},
   "source": [
    "## 9.损失和准确率可视化"
   ]
  },
  {
   "cell_type": "code",
   "execution_count": 9,
   "id": "e29581e5",
   "metadata": {},
   "outputs": [
    {
     "name": "stdout",
     "output_type": "stream",
     "text": [
      "dict_keys(['loss', 'accuracy', 'val_loss', 'val_accuracy'])\n"
     ]
    }
   ],
   "source": [
    "print(history.history.keys())"
   ]
  },
  {
   "cell_type": "code",
   "execution_count": 10,
   "id": "1bec09b4",
   "metadata": {},
   "outputs": [
    {
     "data": {
      "image/png": "[encoded data removed]",
      "text/plain": [
       "<Figure size 432x288 with 1 Axes>"
      ]
     },
     "metadata": {
      "needs_background": "light"
     },
     "output_type": "display_data"
    }
   ],
   "source": [
    "plt.plot(history.epoch, history.history.get('loss'), label='loss')\n",
    "plt.plot(history.epoch, history.history.get('val_loss'), label='val_loss')\n",
    "plt.legend()\n",
    "plt.show()"
   ]
  },
  {
   "cell_type": "code",
   "execution_count": 11,
   "id": "2449ba3b",
   "metadata": {},
   "outputs": [
    {
     "data": {
      "image/png": "[encoded data removed]",
      "text/plain": [
       "<Figure size 432x288 with 1 Axes>"
      ]
     },
     "metadata": {
      "needs_background": "light"
     },
     "output_type": "display_data"
    }
   ],
   "source": [
    "plt.plot(history.epoch, history.history.get('accuracy'), label='acc')\n",
    "plt.plot(history.epoch, history.history.get('val_accuracy'), label='val_acc')\n",
    "plt.legend()\n",
    "plt.show()"
   ]
  }
 ],
 "metadata": {
  "kernelspec": {
   "display_name": "Python 3",
   "language": "python",
   "name": "python3"
  },
  "language_info": {
   "codemirror_mode": {
    "name": "ipython",
    "version": 3
   },
   "file_extension": ".py",
   "mimetype": "text/x-python",
   "name": "python",
   "nbconvert_exporter": "python",
   "pygments_lexer": "ipython3",
   "version": "3.8.8"
  }
 },
 "nbformat": 4,
 "nbformat_minor": 5
}
