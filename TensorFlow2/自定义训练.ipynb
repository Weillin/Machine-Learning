{
 "cells": [
  {
   "cell_type": "code",
   "execution_count": 1,
   "id": "cd2d34de",
   "metadata": {},
   "outputs": [],
   "source": [
    "import tensorflow as tf\n",
    "from tensorflow import keras\n",
    "from tensorflow.keras import layers\n",
    "import numpy as np"
   ]
  },
  {
   "cell_type": "code",
   "execution_count": 2,
   "id": "084bf4d0",
   "metadata": {},
   "outputs": [
    {
     "name": "stdout",
     "output_type": "stream",
     "text": [
      "tf.Tensor([[4]], shape=(1, 1), dtype=int32)\n",
      "[[4]]\n"
     ]
    }
   ],
   "source": [
    "x = [[2,]]\n",
    "m = tf.matmul(x, x)\n",
    "print(m)\n",
    "print(m.numpy())"
   ]
  },
  {
   "cell_type": "code",
   "execution_count": 3,
   "id": "6f349113",
   "metadata": {},
   "outputs": [
    {
     "name": "stdout",
     "output_type": "stream",
     "text": [
      "tf.Tensor(\n",
      "[[1 2]\n",
      " [3 4]], shape=(2, 2), dtype=int32)\n",
      "[[1 2]\n",
      " [3 4]]\n"
     ]
    }
   ],
   "source": [
    "a = tf.constant([[1,2],\n",
    "                 [3,4]])\n",
    "print(a)\n",
    "print(a.numpy())"
   ]
  },
  {
   "cell_type": "code",
   "execution_count": 4,
   "id": "64f671a5",
   "metadata": {},
   "outputs": [
    {
     "name": "stdout",
     "output_type": "stream",
     "text": [
      "tf.Tensor(\n",
      "[[2 3]\n",
      " [4 5]], shape=(2, 2), dtype=int32)\n"
     ]
    }
   ],
   "source": [
    "b = tf.add(a, 1)\n",
    "print(b)"
   ]
  },
  {
   "cell_type": "code",
   "execution_count": 5,
   "id": "1077e0fc",
   "metadata": {},
   "outputs": [
    {
     "name": "stdout",
     "output_type": "stream",
     "text": [
      "tf.Tensor(\n",
      "[[3 5]\n",
      " [7 9]], shape=(2, 2), dtype=int32)\n",
      "[[3 5]\n",
      " [7 9]]\n"
     ]
    }
   ],
   "source": [
    "d = np.array([[5,6],\n",
    "             [7,8]])\n",
    "print(a+b)\n",
    "print((a+b).numpy())"
   ]
  },
  {
   "cell_type": "code",
   "execution_count": 6,
   "id": "c7f34704",
   "metadata": {},
   "outputs": [
    {
     "name": "stdout",
     "output_type": "stream",
     "text": [
      "tf.Tensor(\n",
      "[[ 2  6]\n",
      " [12 20]], shape=(2, 2), dtype=int32)\n"
     ]
    }
   ],
   "source": [
    "c = tf.multiply(a, b)\n",
    "print(c)"
   ]
  },
  {
   "cell_type": "code",
   "execution_count": 7,
   "id": "d2a893dc",
   "metadata": {},
   "outputs": [
    {
     "name": "stdout",
     "output_type": "stream",
     "text": [
      "tf.Tensor(10, shape=(), dtype=int32)\n"
     ]
    }
   ],
   "source": [
    "num = tf.convert_to_tensor(10)\n",
    "print(num)"
   ]
  },
  {
   "cell_type": "code",
   "execution_count": 8,
   "id": "a8a4ca77",
   "metadata": {},
   "outputs": [
    {
     "name": "stdout",
     "output_type": "stream",
     "text": [
      "even\n",
      "odd\n",
      "even\n",
      "odd\n",
      "even\n",
      "odd\n",
      "even\n",
      "odd\n",
      "even\n",
      "odd\n",
      "tf.Tensor(1.0, shape=(), dtype=float32)\n",
      "1.0\n"
     ]
    }
   ],
   "source": [
    "for i in range(num.numpy()):\n",
    "    i = tf.constant(i)\n",
    "    if int(i % 2) == 0:\n",
    "        print('even')\n",
    "    else:\n",
    "        print('odd')\n",
    "\n",
    "v = tf.Variable(0.0)\n",
    "print(v+1)\n",
    "print((v+1).numpy())"
   ]
  },
  {
   "cell_type": "code",
   "execution_count": 9,
   "id": "82ec2352",
   "metadata": {},
   "outputs": [
    {
     "name": "stdout",
     "output_type": "stream",
     "text": [
      "<tf.Variable 'Variable:0' shape=() dtype=float32, numpy=5.0>\n"
     ]
    }
   ],
   "source": [
    "v.assign(5)\n",
    "print(v)"
   ]
  },
  {
   "cell_type": "code",
   "execution_count": 10,
   "id": "e89d6f8e",
   "metadata": {},
   "outputs": [
    {
     "name": "stdout",
     "output_type": "stream",
     "text": [
      "<tf.Variable 'Variable:0' shape=() dtype=float32, numpy=6.0>\n",
      "tf.Tensor(6.0, shape=(), dtype=float32)\n"
     ]
    }
   ],
   "source": [
    "v.assign_add(1)\n",
    "print(v)\n",
    "\n",
    "print(v.read_value())"
   ]
  },
  {
   "cell_type": "code",
   "execution_count": 11,
   "id": "2056e740",
   "metadata": {},
   "outputs": [
    {
     "name": "stdout",
     "output_type": "stream",
     "text": [
      "tf.Tensor([[2.]], shape=(1, 1), dtype=float32)\n"
     ]
    }
   ],
   "source": [
    "w = tf.Variable([[1.0]])\n",
    "with tf.GradientTape() as t:\n",
    "    loss = w * w\n",
    "\n",
    "grad = t.gradient(loss, w)\n",
    "print(grad)"
   ]
  },
  {
   "cell_type": "code",
   "execution_count": 12,
   "id": "eb2892be",
   "metadata": {},
   "outputs": [
    {
     "name": "stdout",
     "output_type": "stream",
     "text": [
      "tf.Tensor(6.0, shape=(), dtype=float32)\n"
     ]
    }
   ],
   "source": [
    "w = tf.constant(3.0)\n",
    "with tf.GradientTape() as t:\n",
    "    t.watch(w)\n",
    "    loss = w * w\n",
    "\n",
    "grad = t.gradient(loss, w)\n",
    "print(grad)"
   ]
  },
  {
   "cell_type": "code",
   "execution_count": 13,
   "id": "e389c576",
   "metadata": {},
   "outputs": [
    {
     "name": "stdout",
     "output_type": "stream",
     "text": [
      "tf.Tensor(6.0, shape=(), dtype=float32)\n"
     ]
    }
   ],
   "source": [
    "w = tf.constant(3.0)\n",
    "with tf.GradientTape(persistent=True) as t:\n",
    "    t.watch(w)\n",
    "    y = w * w\n",
    "    z = y * y\n",
    "dy_dw = t.gradient(y, w)\n",
    "print(dy_dw)"
   ]
  },
  {
   "cell_type": "code",
   "execution_count": 14,
   "id": "4c98ee6a",
   "metadata": {},
   "outputs": [
    {
     "name": "stdout",
     "output_type": "stream",
     "text": [
      "tf.Tensor(108.0, shape=(), dtype=float32)\n"
     ]
    }
   ],
   "source": [
    "dz_dw = t.gradient(z, w)\n",
    "print(dz_dw)"
   ]
  },
  {
   "cell_type": "code",
   "execution_count": 15,
   "id": "074822c5",
   "metadata": {},
   "outputs": [
    {
     "name": "stdout",
     "output_type": "stream",
     "text": [
      "(60000, 28, 28)\n",
      "(60000, 28, 28, 1)\n"
     ]
    }
   ],
   "source": [
    "(train_images, train_labels), (test_images, test_labels) = tf.keras.datasets.mnist.load_data()\n",
    "print(train_images.shape)\n",
    "train_images = tf.expand_dims(train_images, -1)\n",
    "test_images = tf.expand_dims(test_images, -1)\n",
    "print(train_images.shape)"
   ]
  },
  {
   "cell_type": "code",
   "execution_count": 16,
   "id": "904fe602",
   "metadata": {},
   "outputs": [
    {
     "name": "stdout",
     "output_type": "stream",
     "text": [
      "<TensorSliceDataset shapes: ((28, 28, 1), ()), types: (tf.float32, tf.int64)>\n"
     ]
    }
   ],
   "source": [
    "train_images = tf.cast(train_images / 255, tf.float32)\n",
    "test_images = tf.cast(test_images / 255, tf.float32)\n",
    "\n",
    "train_labels = tf.cast(train_labels, tf.int64)\n",
    "test_labels = tf.cast(test_labels, tf.int64)\n",
    "\n",
    "dataset = tf.data.Dataset.from_tensor_slices((train_images, train_labels))\n",
    "test_dataset = tf.data.Dataset.from_tensor_slices((test_images, test_labels))\n",
    "print(dataset)"
   ]
  },
  {
   "cell_type": "code",
   "execution_count": 17,
   "id": "c9393bf9",
   "metadata": {},
   "outputs": [
    {
     "name": "stdout",
     "output_type": "stream",
     "text": [
      "<BatchDataset shapes: ((None, 28, 28, 1), (None,)), types: (tf.float32, tf.int64)>\n"
     ]
    }
   ],
   "source": [
    "dataset = dataset.shuffle(10000).batch(32)\n",
    "test_dataset = test_dataset.batch(32)\n",
    "print(dataset)"
   ]
  },
  {
   "cell_type": "code",
   "execution_count": 18,
   "id": "18b49b53",
   "metadata": {},
   "outputs": [],
   "source": [
    "model = tf.keras.Sequential([\n",
    "    tf.keras.layers.Conv2D(16, [3, 3], activation='relu', input_shape=(None, None, 1)),\n",
    "    tf.keras.layers.Conv2D(32, [3,3], activation='relu'),\n",
    "    tf.keras.layers.GlobalMaxPooling2D(),\n",
    "    tf.keras.layers.Dense(10)\n",
    "])"
   ]
  },
  {
   "cell_type": "code",
   "execution_count": 19,
   "id": "46726af0",
   "metadata": {},
   "outputs": [
    {
     "name": "stdout",
     "output_type": "stream",
     "text": [
      "(32, 28, 28, 1)\n",
      "(32,)\n"
     ]
    }
   ],
   "source": [
    "optimizer = tf.keras.optimizers.Adam()\n",
    "loss_func = tf.keras.losses.SparseCategoricalCrossentropy(from_logits=True)\n",
    "features, labels = next(iter(dataset))\n",
    "print(features.shape)\n",
    "print(labels.shape)"
   ]
  },
  {
   "cell_type": "code",
   "execution_count": 20,
   "id": "1ad5a107",
   "metadata": {},
   "outputs": [
    {
     "name": "stdout",
     "output_type": "stream",
     "text": [
      "(32, 10)\n"
     ]
    }
   ],
   "source": [
    "predictions = model(features)\n",
    "print(predictions.shape)"
   ]
  },
  {
   "cell_type": "code",
   "execution_count": 21,
   "id": "d7c12c1e",
   "metadata": {},
   "outputs": [
    {
     "name": "stdout",
     "output_type": "stream",
     "text": [
      "tf.Tensor([5 5 5 5 5 5 5 5 5 5 5 5 5 5 5 5 5 5 5 5 5 5 5 5 5 5 5 5 5 5 5 5], shape=(32,), dtype=int64)\n",
      "tf.Tensor([4 9 0 7 0 4 0 5 3 7 2 6 9 9 4 5 8 7 7 8 2 3 0 0 1 8 6 8 7 5 0 0], shape=(32,), dtype=int64)\n"
     ]
    }
   ],
   "source": [
    "print(tf.argmax(predictions, axis=1))\n",
    "print(labels)"
   ]
  },
  {
   "cell_type": "code",
   "execution_count": 22,
   "id": "bf94549a",
   "metadata": {},
   "outputs": [],
   "source": [
    "def loss(model, x, y):\n",
    "    y_ = model(x)\n",
    "    return loss_func(y, y_)\n",
    "\n",
    "train_loss = tf.keras.metrics.Mean('train_loss')\n",
    "train_accuracy = tf.keras.metrics.SparseCategoricalAccuracy('train_accuracy')\n",
    "\n",
    "test_loss = tf.keras.metrics.Mean('test_loss')\n",
    "test_accuracy = tf.keras.metrics.SparseCategoricalAccuracy('test_accuracy')"
   ]
  },
  {
   "cell_type": "code",
   "execution_count": 23,
   "id": "5c98d4ab",
   "metadata": {},
   "outputs": [],
   "source": [
    "def train_step(model, images, labels):\n",
    "    with tf.GradientTape() as t:\n",
    "        pred = model(images)\n",
    "        loss_step = loss_func(labels, pred)\n",
    "        # loss_step = loss(model, images, labels)\n",
    "    grads = t.gradient(loss_step, model.trainable_variables)\n",
    "    optimizer.apply_gradients(zip(grads, model.trainable_variables))\n",
    "    train_loss(loss_step)\n",
    "    train_accuracy(labels, pred)"
   ]
  },
  {
   "cell_type": "code",
   "execution_count": 24,
   "id": "455d85ce",
   "metadata": {},
   "outputs": [],
   "source": [
    "def test_step(model, images, labels):\n",
    "    pred = model(images)\n",
    "    loss_step = loss_func(labels, pred)\n",
    "    test_loss(loss_step)\n",
    "    test_accuracy(labels, pred)"
   ]
  },
  {
   "cell_type": "code",
   "execution_count": 25,
   "id": "b2f47412",
   "metadata": {},
   "outputs": [
    {
     "name": "stdout",
     "output_type": "stream",
     "text": [
      "Epoch 0 loss is 0.8108764290809631, accuracy is 0.7491499781608582\n",
      "Epoch 0 loss is 0.3923456072807312, accuracy is 0.8737000226974487\n"
     ]
    }
   ],
   "source": [
    "def train():\n",
    "    for epoch in range(1):\n",
    "        for (batch, (images, labels)) in enumerate(dataset):\n",
    "            train_step(model, images, labels)\n",
    "        print('Epoch {} loss is {}, accuracy is {}'.format(epoch,train_loss.result(), train_accuracy.result()))\n",
    "\n",
    "        for (batch, (images, labels)) in enumerate(test_dataset):\n",
    "            test_step(model, images, labels)\n",
    "        print('Epoch {} loss is {}, accuracy is {}'.format(epoch, test_loss.result(), test_accuracy.result()))\n",
    "\n",
    "        train_loss.reset_states()\n",
    "        train_accuracy.reset_states()\n",
    "\n",
    "        test_loss.reset_states()\n",
    "        test_accuracy.reset_states()\n",
    "\n",
    "train()"
   ]
  },
  {
   "cell_type": "code",
   "execution_count": 26,
   "id": "c5ab0faa",
   "metadata": {},
   "outputs": [
    {
     "name": "stdout",
     "output_type": "stream",
     "text": [
      "tf.Tensor(10.0, shape=(), dtype=float32)\n",
      "tf.Tensor(15.0, shape=(), dtype=float32)\n"
     ]
    }
   ],
   "source": [
    "m = tf.keras.metrics.Mean('acc')\n",
    "print(m(10))\n",
    "print(m(20))"
   ]
  },
  {
   "cell_type": "code",
   "execution_count": 27,
   "id": "8ccc29bd",
   "metadata": {},
   "outputs": [
    {
     "name": "stdout",
     "output_type": "stream",
     "text": [
      "15.0\n",
      "tf.Tensor(25.0, shape=(), dtype=float32)\n",
      "tf.Tensor(25.0, shape=(), dtype=float32)\n"
     ]
    }
   ],
   "source": [
    "print(m.result().numpy())\n",
    "print(m([30, 40]))\n",
    "print(m.result())"
   ]
  },
  {
   "cell_type": "code",
   "execution_count": 28,
   "id": "5f6b9d97",
   "metadata": {},
   "outputs": [
    {
     "name": "stdout",
     "output_type": "stream",
     "text": [
      "tf.Tensor(1.0, shape=(), dtype=float32)\n",
      "tf.Tensor(1.5, shape=(), dtype=float32)\n"
     ]
    }
   ],
   "source": [
    "m.reset_states()\n",
    "print(m(1))\n",
    "print(m(2))"
   ]
  },
  {
   "cell_type": "code",
   "execution_count": 29,
   "id": "84b05aa6",
   "metadata": {},
   "outputs": [
    {
     "name": "stdout",
     "output_type": "stream",
     "text": [
      "1.5\n"
     ]
    }
   ],
   "source": [
    "print(m.result().numpy())"
   ]
  },
  {
   "cell_type": "code",
   "execution_count": 30,
   "id": "6751a359",
   "metadata": {},
   "outputs": [
    {
     "name": "stdout",
     "output_type": "stream",
     "text": [
      "tf.Tensor(0.9375, shape=(), dtype=float32)\n"
     ]
    }
   ],
   "source": [
    "a = tf.keras.metrics.SparseCategoricalAccuracy('acc')\n",
    "print(a(labels, model(features)))"
   ]
  },
  {
   "cell_type": "code",
   "execution_count": 31,
   "id": "73263ff9",
   "metadata": {},
   "outputs": [],
   "source": [
    "import tensorflow as tf\n",
    "import datetime\n",
    "import os"
   ]
  },
  {
   "cell_type": "code",
   "execution_count": 32,
   "id": "0213012b",
   "metadata": {},
   "outputs": [
    {
     "name": "stdout",
     "output_type": "stream",
     "text": [
      "(60000, 28, 28)\n"
     ]
    }
   ],
   "source": [
    "(train_images, train_labels), (test_images, test_labels) = tf.keras.datasets.mnist.load_data()\n",
    "print(train_images.shape)"
   ]
  },
  {
   "cell_type": "code",
   "execution_count": 33,
   "id": "b64adb6d",
   "metadata": {},
   "outputs": [
    {
     "name": "stdout",
     "output_type": "stream",
     "text": [
      "(60000, 28, 28, 1)\n"
     ]
    }
   ],
   "source": [
    "train_images = tf.expand_dims(train_images, -1)\n",
    "test_images = tf.expand_dims(test_images, -1)\n",
    "print(train_images.shape)"
   ]
  },
  {
   "cell_type": "code",
   "execution_count": 34,
   "id": "24c6fddc",
   "metadata": {},
   "outputs": [
    {
     "name": "stdout",
     "output_type": "stream",
     "text": [
      "<TensorSliceDataset shapes: ((28, 28, 1), ()), types: (tf.float32, tf.int64)>\n"
     ]
    }
   ],
   "source": [
    "train_images = tf.cast(train_images / 255, tf.float32)\n",
    "test_images = tf.cast(test_images / 255, tf.float32)\n",
    "\n",
    "train_labels = tf.cast(train_labels, tf.int64)\n",
    "test_labels = tf.cast(test_labels, tf.int64)\n",
    "\n",
    "dataset = tf.data.Dataset.from_tensor_slices((train_images, train_labels))\n",
    "test_dataset = tf.data.Dataset.from_tensor_slices((test_images, test_labels))\n",
    "print(dataset)"
   ]
  },
  {
   "cell_type": "code",
   "execution_count": 35,
   "id": "4b6a714b",
   "metadata": {},
   "outputs": [
    {
     "name": "stdout",
     "output_type": "stream",
     "text": [
      "<BatchDataset shapes: ((None, 28, 28, 1), (None,)), types: (tf.float32, tf.int64)>\n"
     ]
    }
   ],
   "source": [
    "dataset = dataset.repeat().shuffle(60000).batch(128)\n",
    "test_dataset = test_dataset.repeat().batch(128)\n",
    "print(dataset)"
   ]
  },
  {
   "cell_type": "code",
   "execution_count": 36,
   "id": "895d3774",
   "metadata": {},
   "outputs": [],
   "source": [
    "model = tf.keras.Sequential([\n",
    "    tf.keras.layers.Conv2D(16, [3,3], activation='relu', input_shape=(None, None, 1)),\n",
    "    tf.keras.layers.Conv2D(32, [3,3], activation='relu'),\n",
    "    tf.keras.layers.GlobalMaxPooling2D(),\n",
    "    tf.keras.layers.Dense(10, activation='softmax')\n",
    "])"
   ]
  },
  {
   "cell_type": "code",
   "execution_count": 37,
   "id": "086080b4",
   "metadata": {},
   "outputs": [],
   "source": [
    "model.compile(optimizer='adam',\n",
    "              loss='sparse_categorical_crossentropy',\n",
    "              metrics=['accuracy'])"
   ]
  },
  {
   "cell_type": "code",
   "execution_count": 38,
   "id": "0af3d861",
   "metadata": {},
   "outputs": [],
   "source": [
    "log_dir = os.path.join('logs', datetime.datetime.now().strftime('%Y%m%d-%H%M%S'))\n",
    "tensorboard_callback = tf.keras.callbacks.TensorBoard(log_dir, histogram_freq=1)\n",
    "\n",
    "file_writer = tf.summary.create_file_writer(log_dir + '/lr')\n",
    "file_writer.set_as_default()"
   ]
  },
  {
   "cell_type": "code",
   "execution_count": 39,
   "id": "e0f7193c",
   "metadata": {},
   "outputs": [],
   "source": [
    "def lr_sche(epoch):\n",
    "    learning_rate = 0.02\n",
    "    if epoch > 5:\n",
    "        learning_rate = 0.02\n",
    "    if epoch > 10:\n",
    "        learning_rate = 0.01\n",
    "    if epoch > 20:\n",
    "        learning_rate = 0.005\n",
    "    tf.summary.scalar('learning_rete', data=learning_rate, step=epoch)\n",
    "    return learning_rate"
   ]
  },
  {
   "cell_type": "code",
   "execution_count": 40,
   "id": "2ced24b2",
   "metadata": {},
   "outputs": [],
   "source": [
    "lr_callback = tf.keras.callbacks.LearningRateScheduler(lr_sche)"
   ]
  },
  {
   "cell_type": "code",
   "execution_count": 41,
   "id": "20f0de6e",
   "metadata": {},
   "outputs": [
    {
     "name": "stdout",
     "output_type": "stream",
     "text": [
      "Epoch 1/7\n",
      "468/468 [==============================] - 3s 5ms/step - loss: 0.6147 - accuracy: 0.7909 - val_loss: 0.2798 - val_accuracy: 0.9117\n",
      "Epoch 2/7\n",
      "468/468 [==============================] - 2s 5ms/step - loss: 0.2897 - accuracy: 0.9072 - val_loss: 0.2714 - val_accuracy: 0.9146\n",
      "Epoch 3/7\n",
      "468/468 [==============================] - 2s 5ms/step - loss: 0.2586 - accuracy: 0.9176 - val_loss: 0.2397 - val_accuracy: 0.9255\n",
      "Epoch 4/7\n",
      "468/468 [==============================] - 2s 5ms/step - loss: 0.2483 - accuracy: 0.9222 - val_loss: 0.2550 - val_accuracy: 0.9224\n",
      "Epoch 5/7\n",
      "468/468 [==============================] - 2s 5ms/step - loss: 0.2349 - accuracy: 0.9259 - val_loss: 0.2191 - val_accuracy: 0.9317\n",
      "Epoch 6/7\n",
      "468/468 [==============================] - 2s 5ms/step - loss: 0.2388 - accuracy: 0.9243 - val_loss: 0.2081 - val_accuracy: 0.9326\n",
      "Epoch 7/7\n",
      "468/468 [==============================] - 2s 5ms/step - loss: 0.2264 - accuracy: 0.9288 - val_loss: 0.2194 - val_accuracy: 0.9311\n"
     ]
    },
    {
     "data": {
      "text/plain": [
       "<tensorflow.python.keras.callbacks.History at 0x217847feb20>"
      ]
     },
     "execution_count": 41,
     "metadata": {},
     "output_type": "execute_result"
    }
   ],
   "source": [
    "model.fit(dataset,\n",
    "          epochs=7,\n",
    "          steps_per_epoch=60000//128,\n",
    "          validation_data=test_dataset,\n",
    "          validation_steps=10000//128,\n",
    "          callbacks=[tensorboard_callback, lr_callback]\n",
    "          )"
   ]
  },
  {
   "cell_type": "code",
   "execution_count": 42,
   "id": "bcb5d5e7",
   "metadata": {},
   "outputs": [],
   "source": [
    "# %load_ext tensorboard\n",
    "# %matplotlib inlinee\n",
    "# %tensorboard --logdir logs"
   ]
  }
 ],
 "metadata": {
  "kernelspec": {
   "display_name": "Python 3",
   "language": "python",
   "name": "python3"
  },
  "language_info": {
   "codemirror_mode": {
    "name": "ipython",
    "version": 3
   },
   "file_extension": ".py",
   "mimetype": "text/x-python",
   "name": "python",
   "nbconvert_exporter": "python",
   "pygments_lexer": "ipython3",
   "version": "3.8.8"
  }
 },
 "nbformat": 4,
 "nbformat_minor": 5
}
