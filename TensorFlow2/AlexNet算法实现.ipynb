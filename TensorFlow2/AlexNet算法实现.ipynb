{
 "cells": [
  {
   "cell_type": "markdown",
   "id": "1df4c57a",
   "metadata": {},
   "source": [
    "## 1.导入依赖包"
   ]
  },
  {
   "cell_type": "code",
   "execution_count": 1,
   "id": "eaa21911",
   "metadata": {},
   "outputs": [],
   "source": [
    "from tensorflow import keras\n",
    "import tensorflow as tf\n",
    "import numpy as np\n",
    "import pandas as pd\n",
    "import os\n",
    "import matplotlib.pyplot as plt\n",
    "from sklearn.model_selection import train_test_split\n",
    "from tensorflow.keras.layers import Conv2D, BatchNormalization, Activation, Dense, Flatten, Dropout, MaxPool2D"
   ]
  },
  {
   "cell_type": "markdown",
   "id": "ecce5063",
   "metadata": {},
   "source": [
    "## 2.导入数据集"
   ]
  },
  {
   "cell_type": "code",
   "execution_count": 2,
   "id": "6268e783",
   "metadata": {},
   "outputs": [
    {
     "name": "stdout",
     "output_type": "stream",
     "text": [
      "(42000, 785) (28000, 784)\n"
     ]
    }
   ],
   "source": [
    "train = pd.read_csv('../../data/fashion_train.csv')\n",
    "test = pd.read_csv('../../data/fashion_test.csv')\n",
    "print(train.shape, test.shape)"
   ]
  },
  {
   "cell_type": "markdown",
   "id": "5ec59d34",
   "metadata": {},
   "source": [
    "## 3.数据预处理"
   ]
  },
  {
   "cell_type": "markdown",
   "id": "fd6f6455",
   "metadata": {},
   "source": [
    "### 3.1读取训练集和验证集"
   ]
  },
  {
   "cell_type": "code",
   "execution_count": 3,
   "id": "46eca381",
   "metadata": {},
   "outputs": [
    {
     "name": "stdout",
     "output_type": "stream",
     "text": [
      "(33600, 784) (33600, 10)\n"
     ]
    }
   ],
   "source": [
    "input_shape = (28, 28, 1)\n",
    "x = np.array(train.iloc[:, 1:])\n",
    "y = keras.utils.to_categorical(np.array(train.iloc[:, 0]))\n",
    "x_train, x_val, y_train, y_val = train_test_split(x, y, test_size=0.2)\n",
    "print(x_train.shape, y_train.shape)"
   ]
  },
  {
   "cell_type": "markdown",
   "id": "639d72bf",
   "metadata": {},
   "source": [
    "### 3.2修改数据维度"
   ]
  },
  {
   "cell_type": "code",
   "execution_count": 4,
   "id": "26cebaf9",
   "metadata": {},
   "outputs": [
    {
     "name": "stdout",
     "output_type": "stream",
     "text": [
      "(33600, 28, 28, 1) (33600, 10)\n"
     ]
    }
   ],
   "source": [
    "x_test = np.array(test.iloc[:, 0:])\n",
    "x_train = x_train.reshape(x_train.shape[0], 28, 28, 1)\n",
    "x_val = x_val.reshape(x_val.shape[0], 28, 28, 1)\n",
    "x_test = x_test.reshape(x_test.shape[0], 28, 28, 1)\n",
    "print(x_train.shape, y_train.shape)"
   ]
  },
  {
   "cell_type": "markdown",
   "id": "d8ac3159",
   "metadata": {},
   "source": [
    "### 3.3数据归一化"
   ]
  },
  {
   "cell_type": "code",
   "execution_count": 5,
   "id": "dc8f3d7d",
   "metadata": {},
   "outputs": [],
   "source": [
    "x_train = x_train.astype('float32')\n",
    "x_val = x_val.astype('float32')\n",
    "x_test = x_test.astype('float32')\n",
    "x_train /= 255\n",
    "x_val /= 255\n",
    "x_test /= 255\n",
    "\n",
    "batch_size = 64\n",
    "classes = 10\n",
    "epochs = 5"
   ]
  },
  {
   "cell_type": "markdown",
   "id": "70de4dd2",
   "metadata": {},
   "source": [
    "## 4.建立模型"
   ]
  },
  {
   "cell_type": "code",
   "execution_count": 6,
   "id": "4bcc8304",
   "metadata": {},
   "outputs": [],
   "source": [
    "model = keras.models.Sequential([\n",
    "    Conv2D(filters=96, kernel_size=(3, 3)),\n",
    "    BatchNormalization(),\n",
    "    Activation('relu'),\n",
    "    MaxPool2D(pool_size=(3, 3), strides=2),\n",
    "\n",
    "    Conv2D(filters=256, kernel_size=(3, 3)),\n",
    "    BatchNormalization(),\n",
    "    Activation('relu'),\n",
    "    MaxPool2D(pool_size=(3, 3), strides=2),\n",
    "\n",
    "    Conv2D(filters=384, kernel_size=(3, 3), padding='same', activation='relu'),\n",
    "    Conv2D(filters=384, kernel_size=(3, 3), padding='same', activation='relu'),\n",
    "    Conv2D(filters=256, kernel_size=(3, 3), padding='same', activation='relu'),\n",
    "    MaxPool2D(pool_size=(3, 3), strides=2),\n",
    "\n",
    "    Flatten(),\n",
    "    Dense(2048, activation='relu'),\n",
    "    Dropout(0.5),\n",
    "    Dense(2048, activation='relu'),\n",
    "    Dropout(0.5),\n",
    "    Dense(classes, activation='softmax')\n",
    "])"
   ]
  },
  {
   "cell_type": "markdown",
   "id": "cbfb978b",
   "metadata": {},
   "source": [
    "## 5.定义优化器、损失函数和评价指标"
   ]
  },
  {
   "cell_type": "code",
   "execution_count": 7,
   "id": "a34dcecc",
   "metadata": {},
   "outputs": [],
   "source": [
    "model.compile(optimizer='adam',\n",
    "              loss='categorical_crossentropy',\n",
    "              metrics=['accuracy'])"
   ]
  },
  {
   "cell_type": "markdown",
   "id": "c7882189",
   "metadata": {},
   "source": [
    "## 6.设置断点续训"
   ]
  },
  {
   "cell_type": "code",
   "execution_count": 8,
   "id": "b8674f5d",
   "metadata": {},
   "outputs": [],
   "source": [
    "save_path = './checkpoint/AlexNet.ckpt'\n",
    "if os.path.exists(save_path + '.index'):\n",
    "    print('model loading')\n",
    "    model.load_weights(save_path)\n",
    "cp_callback = keras.callbacks.ModelCheckpoint(filepath=save_path,\n",
    "                                              save_weights_only=True,\n",
    "                                              save_best_only=True)"
   ]
  },
  {
   "cell_type": "markdown",
   "id": "5b2993db",
   "metadata": {},
   "source": [
    "## 7.训练模型"
   ]
  },
  {
   "cell_type": "code",
   "execution_count": 9,
   "id": "f81800d9",
   "metadata": {},
   "outputs": [
    {
     "name": "stdout",
     "output_type": "stream",
     "text": [
      "Epoch 1/5\n",
      "525/525 [==============================] - 48s 58ms/step - loss: 0.6670 - accuracy: 0.7571 - val_loss: 0.6419 - val_accuracy: 0.7550\n",
      "Epoch 2/5\n",
      "525/525 [==============================] - 27s 51ms/step - loss: 0.4281 - accuracy: 0.8433 - val_loss: 0.4213 - val_accuracy: 0.8433\n",
      "Epoch 3/5\n",
      "525/525 [==============================] - 27s 51ms/step - loss: 0.3797 - accuracy: 0.8654 - val_loss: 0.3565 - val_accuracy: 0.8752\n",
      "Epoch 4/5\n",
      "525/525 [==============================] - 25s 49ms/step - loss: 0.3441 - accuracy: 0.8757 - val_loss: 0.3579 - val_accuracy: 0.8733\n",
      "Epoch 5/5\n",
      "525/525 [==============================] - 26s 50ms/step - loss: 0.3132 - accuracy: 0.8873 - val_loss: 0.3558 - val_accuracy: 0.8671\n"
     ]
    }
   ],
   "source": [
    "history = model.fit(x_train, y_train,\n",
    "                    batch_size=batch_size,\n",
    "                    epochs=epochs,\n",
    "                    verbose=1,\n",
    "                    validation_data=(x_val, y_val),\n",
    "                    callbacks=[cp_callback])"
   ]
  },
  {
   "cell_type": "markdown",
   "id": "7853a9ed",
   "metadata": {},
   "source": [
    "## 8.将预测结果写入csv文件"
   ]
  },
  {
   "cell_type": "code",
   "execution_count": 10,
   "id": "e7059a0d",
   "metadata": {},
   "outputs": [],
   "source": [
    "result = model.predict(x_test)\n",
    "pred = tf.argmax(result, axis=1)\n",
    "df = pd.DataFrame(pred, columns=['label'])\n",
    "df.to_csv(path_or_buf='Submission.csv', index_label='image_id')"
   ]
  },
  {
   "cell_type": "markdown",
   "id": "43520b32",
   "metadata": {},
   "source": [
    "## 9.模型损失和准确率可视化"
   ]
  },
  {
   "cell_type": "code",
   "execution_count": 11,
   "id": "77acae8a",
   "metadata": {},
   "outputs": [
    {
     "name": "stdout",
     "output_type": "stream",
     "text": [
      "dict_keys(['loss', 'accuracy', 'val_loss', 'val_accuracy'])\n"
     ]
    }
   ],
   "source": [
    "print(history.history.keys())"
   ]
  },
  {
   "cell_type": "code",
   "execution_count": 12,
   "id": "770bf5e8",
   "metadata": {},
   "outputs": [
    {
     "data": {
      "image/png": "[encoded data removed]",
      "text/plain": [
       "<Figure size 432x288 with 1 Axes>"
      ]
     },
     "metadata": {
      "needs_background": "light"
     },
     "output_type": "display_data"
    },
    {
     "data": {
      "image/png": "[encoded data removed]",
      "text/plain": [
       "<Figure size 432x288 with 1 Axes>"
      ]
     },
     "metadata": {
      "needs_background": "light"
     },
     "output_type": "display_data"
    }
   ],
   "source": [
    "plt.plot(history.epoch, history.history.get('loss'), label='loss')\n",
    "plt.plot(history.epoch, history.history.get('val_loss'), label='val_loss')\n",
    "plt.legend()\n",
    "plt.show()\n",
    "\n",
    "plt.plot(history.epoch, history.history.get('accuracy'), label='acc')\n",
    "plt.plot(history.epoch, history.history.get('val_accuracy'), label='val_acc')\n",
    "plt.legend()\n",
    "plt.show()"
   ]
  }
 ],
 "metadata": {
  "kernelspec": {
   "display_name": "Python 3",
   "language": "python",
   "name": "python3"
  },
  "language_info": {
   "codemirror_mode": {
    "name": "ipython",
    "version": 3
   },
   "file_extension": ".py",
   "mimetype": "text/x-python",
   "name": "python",
   "nbconvert_exporter": "python",
   "pygments_lexer": "ipython3",
   "version": "3.8.8"
  }
 },
 "nbformat": 4,
 "nbformat_minor": 5
}
