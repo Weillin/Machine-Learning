{
 "cells": [
  {
   "cell_type": "markdown",
   "id": "b8cb8a50",
   "metadata": {},
   "source": [
    "# 示例一："
   ]
  },
  {
   "cell_type": "markdown",
   "id": "c5a525cf",
   "metadata": {},
   "source": [
    "## 1.导入依赖包"
   ]
  },
  {
   "cell_type": "code",
   "execution_count": 1,
   "id": "e517b4f3",
   "metadata": {},
   "outputs": [],
   "source": [
    "import tensorflow as tf\n",
    "import numpy as np\n",
    "import matplotlib.pyplot as plt\n",
    "from tensorflow.keras.layers import Conv2D, MaxPool2D, Flatten, Dense"
   ]
  },
  {
   "cell_type": "markdown",
   "id": "05123b67",
   "metadata": {},
   "source": [
    "## 2.加载数据集并改变图片维度"
   ]
  },
  {
   "cell_type": "code",
   "execution_count": 2,
   "id": "4c02a5c3",
   "metadata": {},
   "outputs": [],
   "source": [
    "(train_x, train_y), (test_x, test_y) = tf.keras.datasets.fashion_mnist.load_data()\n",
    "train_x = np.expand_dims(train_x, -1)\n",
    "test_x = np.expand_dims(test_x, -1)"
   ]
  },
  {
   "cell_type": "markdown",
   "id": "8e9233db",
   "metadata": {},
   "source": [
    "## 3.搭建模型"
   ]
  },
  {
   "cell_type": "code",
   "execution_count": 3,
   "id": "1bcde770",
   "metadata": {},
   "outputs": [],
   "source": [
    "model = tf.keras.Sequential()\n",
    "model.add(Conv2D(24, kernel_size=5, padding='same', activation='relu',\n",
    "                 input_shape=(28, 28, 1)))\n",
    "model.add(MaxPool2D())\n",
    "\n",
    "model.add(Conv2D(48, kernel_size=5, padding='same', activation='relu'))\n",
    "model.add(MaxPool2D())\n",
    "\n",
    "model.add(Conv2D(48, kernel_size=5, padding='same', activation='relu'))\n",
    "model.add(MaxPool2D())\n",
    "\n",
    "model.add(Conv2D(48, kernel_size=5, padding='same', activation='relu'))\n",
    "model.add(MaxPool2D())\n",
    "\n",
    "model.add(Conv2D(64, kernel_size=5, padding='same', activation='relu'))\n",
    "model.add(MaxPool2D(padding='same'))\n",
    "\n",
    "model.add(Conv2D(64, kernel_size=5, padding='same', activation='relu'))\n",
    "model.add(MaxPool2D(padding='same'))\n",
    "\n",
    "model.add(Conv2D(64, kernel_size=5, padding='same', activation='relu'))\n",
    "model.add(MaxPool2D(padding='same'))\n",
    "\n",
    "model.add(Flatten())\n",
    "model.add(Dense(256, activation='relu'))\n",
    "model.add(Dense(10, activation='softmax'))"
   ]
  },
  {
   "cell_type": "markdown",
   "id": "547fd1fa",
   "metadata": {},
   "source": [
    "## 4.定义优化器、损失函数和评价指标"
   ]
  },
  {
   "cell_type": "code",
   "execution_count": 4,
   "id": "29ffa22f",
   "metadata": {},
   "outputs": [],
   "source": [
    "model.compile(optimizer='adam',\n",
    "              loss='sparse_categorical_crossentropy',\n",
    "              metrics=['acc'])"
   ]
  },
  {
   "cell_type": "markdown",
   "id": "e92ec540",
   "metadata": {},
   "source": [
    "## 5.训练模型"
   ]
  },
  {
   "cell_type": "code",
   "execution_count": 5,
   "id": "cb4144cf",
   "metadata": {},
   "outputs": [
    {
     "name": "stdout",
     "output_type": "stream",
     "text": [
      "Epoch 1/5\n",
      "1875/1875 [==============================] - 29s 11ms/step - loss: 0.5456 - acc: 0.7950 - val_loss: 0.4809 - val_acc: 0.8344\n",
      "Epoch 2/5\n",
      "1875/1875 [==============================] - 11s 6ms/step - loss: 0.3313 - acc: 0.8799 - val_loss: 0.3169 - val_acc: 0.8863\n",
      "Epoch 3/5\n",
      "1875/1875 [==============================] - 12s 6ms/step - loss: 0.2847 - acc: 0.8981 - val_loss: 0.3305 - val_acc: 0.8935\n",
      "Epoch 4/5\n",
      "1875/1875 [==============================] - 10s 5ms/step - loss: 0.2598 - acc: 0.9074 - val_loss: 0.3085 - val_acc: 0.8951\n",
      "Epoch 5/5\n",
      "1875/1875 [==============================] - 10s 5ms/step - loss: 0.2426 - acc: 0.9134 - val_loss: 0.2921 - val_acc: 0.8980\n",
      "dict_keys(['loss', 'acc', 'val_loss', 'val_acc'])\n"
     ]
    }
   ],
   "source": [
    "history = model.fit(train_x, train_y, epochs=5, validation_data=(test_x, test_y))\n",
    "print(history.history.keys())"
   ]
  },
  {
   "cell_type": "markdown",
   "id": "c4f7d8d6",
   "metadata": {},
   "source": [
    "## 6.绘制准确率变化情况"
   ]
  },
  {
   "cell_type": "code",
   "execution_count": 6,
   "id": "bce99444",
   "metadata": {},
   "outputs": [
    {
     "data": {
      "image/png": "[encoded data removed]",
      "text/plain": [
       "<Figure size 432x288 with 1 Axes>"
      ]
     },
     "metadata": {
      "needs_background": "light"
     },
     "output_type": "display_data"
    }
   ],
   "source": [
    "plt.plot(history.epoch, history.history.get('acc'), label='acc')\n",
    "plt.plot(history.epoch, history.history.get('val_acc'), label='val_acc')\n",
    "plt.legend()\n",
    "plt.show()"
   ]
  },
  {
   "cell_type": "markdown",
   "id": "f81b6c44",
   "metadata": {},
   "source": [
    "## 7.绘制模型损失变化情况"
   ]
  },
  {
   "cell_type": "code",
   "execution_count": 7,
   "id": "6e12b8e0",
   "metadata": {},
   "outputs": [
    {
     "data": {
      "image/png": "[encoded data removed]",
      "text/plain": [
       "<Figure size 432x288 with 1 Axes>"
      ]
     },
     "metadata": {
      "needs_background": "light"
     },
     "output_type": "display_data"
    }
   ],
   "source": [
    "plt.plot(history.epoch, history.history.get('loss'), label='loss')\n",
    "plt.plot(history.epoch, history.history.get('val_loss'), label='val_loss')\n",
    "plt.legend()\n",
    "plt.show()"
   ]
  },
  {
   "cell_type": "markdown",
   "id": "078b1752",
   "metadata": {},
   "source": [
    "# 示例二：增加数据增广"
   ]
  },
  {
   "cell_type": "markdown",
   "id": "e4df8fbf",
   "metadata": {},
   "source": [
    "## 1.导入依赖包"
   ]
  },
  {
   "cell_type": "code",
   "execution_count": 8,
   "id": "444995ad",
   "metadata": {},
   "outputs": [],
   "source": [
    "import tensorflow as tf\n",
    "from tensorflow import keras\n",
    "import numpy as np\n",
    "import matplotlib.pyplot as plt\n",
    "from tensorflow.keras.preprocessing.image import ImageDataGenerator\n",
    "from tensorflow.keras.layers import Conv2D, Flatten, Dense, BatchNormalization, Dropout"
   ]
  },
  {
   "cell_type": "markdown",
   "id": "05d12ab0",
   "metadata": {},
   "source": [
    "## 2.加载数据集并改变图片维度"
   ]
  },
  {
   "cell_type": "code",
   "execution_count": 9,
   "id": "55f4772d",
   "metadata": {},
   "outputs": [],
   "source": [
    "(train_x, train_y), (test_x, test_y) = tf.keras.datasets.fashion_mnist.load_data()\n",
    "train_x = np.expand_dims(train_x, -1)\n",
    "test_x = np.expand_dims(test_x, -1)"
   ]
  },
  {
   "cell_type": "markdown",
   "id": "92757405",
   "metadata": {},
   "source": [
    "## 3.数据增广"
   ]
  },
  {
   "cell_type": "code",
   "execution_count": 10,
   "id": "c1d73ad4",
   "metadata": {},
   "outputs": [],
   "source": [
    "datagen = ImageDataGenerator(\n",
    "    rotation_range=10,\n",
    "    zoom_range=0.10,\n",
    "    width_shift_range=0.1,\n",
    "    height_shift_range=0.1)"
   ]
  },
  {
   "cell_type": "markdown",
   "id": "b6da022d",
   "metadata": {},
   "source": [
    "## 4.定义模型"
   ]
  },
  {
   "cell_type": "code",
   "execution_count": 11,
   "id": "df5249c3",
   "metadata": {},
   "outputs": [],
   "source": [
    "model = tf.keras.Sequential()\n",
    "\n",
    "model.add(Conv2D(32, kernel_size=3, activation='relu', input_shape=(28, 28, 1)))\n",
    "model.add(BatchNormalization())\n",
    "model.add(Conv2D(32, kernel_size=3, activation='relu'))\n",
    "model.add(BatchNormalization())\n",
    "model.add(Conv2D(32, kernel_size=5, strides=2, padding='same', activation='relu'))\n",
    "model.add(BatchNormalization())\n",
    "model.add(Dropout(0.4))\n",
    "\n",
    "model.add(Conv2D(64, kernel_size=3, activation='relu'))\n",
    "model.add(BatchNormalization())\n",
    "model.add(Conv2D(64, kernel_size=3, activation='relu'))\n",
    "model.add(BatchNormalization())\n",
    "model.add(Conv2D(64, kernel_size=5, strides=2, padding='same', activation='relu'))\n",
    "model.add(BatchNormalization())\n",
    "model.add(Dropout(0.4))\n",
    "\n",
    "model.add(Conv2D(128, kernel_size=4, activation='relu'))\n",
    "model.add(BatchNormalization())\n",
    "model.add(Flatten())\n",
    "model.add(Dropout(0.4))\n",
    "model.add(Dense(10, activation='softmax'))"
   ]
  },
  {
   "cell_type": "markdown",
   "id": "677f0664",
   "metadata": {},
   "source": [
    "## 5.定义优化器、损失函数和评价指标"
   ]
  },
  {
   "cell_type": "code",
   "execution_count": 12,
   "id": "b27c47b0",
   "metadata": {},
   "outputs": [],
   "source": [
    "model.compile(optimizer='adam',\n",
    "              loss='sparse_categorical_crossentropy',\n",
    "              metrics=['acc'])"
   ]
  },
  {
   "cell_type": "markdown",
   "id": "c0b5ddac",
   "metadata": {},
   "source": [
    "## 6.将图片进行数据增广"
   ]
  },
  {
   "cell_type": "code",
   "execution_count": 13,
   "id": "ae71ce57",
   "metadata": {},
   "outputs": [],
   "source": [
    "datagen.fit(train_x)"
   ]
  },
  {
   "cell_type": "markdown",
   "id": "dd656abd",
   "metadata": {},
   "source": [
    "## 7.训练模型"
   ]
  },
  {
   "cell_type": "code",
   "execution_count": 14,
   "id": "44b92dc4",
   "metadata": {},
   "outputs": [
    {
     "name": "stdout",
     "output_type": "stream",
     "text": [
      "Epoch 1/5\n",
      "1875/1875 [==============================] - 14s 7ms/step - loss: 0.7394 - acc: 0.7268 - val_loss: 0.4579 - val_acc: 0.8278\n",
      "Epoch 2/5\n",
      "1875/1875 [==============================] - 17s 9ms/step - loss: 0.5184 - acc: 0.8094 - val_loss: 0.3697 - val_acc: 0.8664\n",
      "Epoch 3/5\n",
      "1875/1875 [==============================] - 46s 25ms/step - loss: 0.4559 - acc: 0.8327 - val_loss: 0.3382 - val_acc: 0.8733\n",
      "Epoch 4/5\n",
      "1875/1875 [==============================] - 48s 25ms/step - loss: 0.4156 - acc: 0.8490 - val_loss: 0.3356 - val_acc: 0.8741\n",
      "Epoch 5/5\n",
      "1875/1875 [==============================] - 48s 25ms/step - loss: 0.3845 - acc: 0.8610 - val_loss: 0.2887 - val_acc: 0.8933\n",
      "dict_keys(['loss', 'acc', 'val_loss', 'val_acc'])\n"
     ]
    }
   ],
   "source": [
    "history = model.fit(datagen.flow(train_x, train_y, batch_size=32),\n",
    "                    epochs=5, validation_data=(test_x, test_y))\n",
    "print(history.history.keys())"
   ]
  },
  {
   "cell_type": "markdown",
   "id": "2cb53efa",
   "metadata": {},
   "source": [
    "## 8.绘制准确率变化情况"
   ]
  },
  {
   "cell_type": "code",
   "execution_count": 15,
   "id": "af5628b4",
   "metadata": {},
   "outputs": [
    {
     "data": {
      "image/png": "[encoded data removed]",
      "text/plain": [
       "<Figure size 432x288 with 1 Axes>"
      ]
     },
     "metadata": {
      "needs_background": "light"
     },
     "output_type": "display_data"
    }
   ],
   "source": [
    "plt.plot(history.epoch, history.history.get('acc'), label='acc')\n",
    "plt.plot(history.epoch, history.history.get('val_acc'), label='val_acc')\n",
    "plt.legend()\n",
    "plt.show()"
   ]
  },
  {
   "cell_type": "markdown",
   "id": "7731b742",
   "metadata": {},
   "source": [
    "## 9.绘制模型损失变化情况"
   ]
  },
  {
   "cell_type": "code",
   "execution_count": 16,
   "id": "c7400b2c",
   "metadata": {},
   "outputs": [
    {
     "data": {
      "image/png": "[encoded data removed]",
      "text/plain": [
       "<Figure size 432x288 with 1 Axes>"
      ]
     },
     "metadata": {
      "needs_background": "light"
     },
     "output_type": "display_data"
    }
   ],
   "source": [
    "plt.plot(history.epoch, history.history.get('loss'), label='loss')\n",
    "plt.plot(history.epoch, history.history.get('val_loss'), label='val_loss')\n",
    "plt.legend()\n",
    "plt.show()"
   ]
  }
 ],
 "metadata": {
  "kernelspec": {
   "display_name": "Python 3",
   "language": "python",
   "name": "python3"
  },
  "language_info": {
   "codemirror_mode": {
    "name": "ipython",
    "version": 3
   },
   "file_extension": ".py",
   "mimetype": "text/x-python",
   "name": "python",
   "nbconvert_exporter": "python",
   "pygments_lexer": "ipython3",
   "version": "3.8.8"
  }
 },
 "nbformat": 4,
 "nbformat_minor": 5
}
