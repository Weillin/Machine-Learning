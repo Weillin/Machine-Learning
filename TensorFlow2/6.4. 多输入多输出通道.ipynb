{
 "cells": [
  {
   "cell_type": "code",
   "execution_count": 1,
   "id": "1a83996e",
   "metadata": {},
   "outputs": [],
   "source": [
    "import tensorflow as tf\n",
    "\n",
    "\n",
    "def corr2d_multi_in(x, k):\n",
    "    return tf.reduce_sum([corr2d(x, k) for x, k in zip(x, k)], axis=0)\n",
    "\n",
    "def corr2d(X, K):\n",
    "    h, w = K.shape\n",
    "    Y = tf.Variable(tf.zeros((X.shape[0] - h + 1, X.shape[1] - w + 1)))\n",
    "    for i in range(Y.shape[0]):\n",
    "        for j in range(Y.shape[1]):\n",
    "            Y[i, j].assign(tf.reduce_sum(X[i:i + h, j:j + w] * K))\n",
    "    return Y\n",
    "\n",
    "x = tf.constant([[[0.0, 1.0, 2.0], [3.0, 4.0, 5.0], [6.0, 7.0, 8.0]],\n",
    "                 [[1.0, 2.0, 3.0], [4.0, 5.0, 6.0], [7.0, 8.0, 9.0]]])\n",
    "k = tf.constant([[[0.0, 1.0], [2.0, 3.0]], [[1.0, 2.0], [3.0, 4.0]]])\n",
    "\n",
    "corr2d_multi_in(x, k)\n",
    "\n",
    "def corr2d_multi_in_out(x, k):\n",
    "    return tf.stack([corr2d_multi_in(x, k) for k in k], 0)\n",
    "\n",
    "k = tf.stack((k, k + 1, k + 2), 0)\n",
    "k.shape\n",
    "\n",
    "corr2d_multi_in_out(x, k)\n",
    "\n",
    "def corr2d_multi_in_out_1x1(x, k):\n",
    "    c_i, h, w = x.shape\n",
    "    c_o = k.shape[0]\n",
    "    x = tf.reshape(x, (c_i, h * w))\n",
    "    k = tf.reshape(k, (c_o, c_i))\n",
    "    y = tf.matmul(k, x)\n",
    "    return tf.reshape(y, (c_o, h, w))\n",
    "\n",
    "x = tf.random.normal((3, 3, 3), 0, 1)\n",
    "k = tf.random.normal((2, 3, 1, 1), 0, 1)\n",
    "\n",
    "y1 = corr2d_multi_in_out_1x1(x, k)\n",
    "y2 = corr2d_multi_in_out(x, k)\n",
    "\n",
    "assert float(tf.reduce_sum(tf.abs(y1 - y2))) < 1e-2"
   ]
  }
 ],
 "metadata": {
  "kernelspec": {
   "display_name": "Python 3",
   "language": "python",
   "name": "python3"
  },
  "language_info": {
   "codemirror_mode": {
    "name": "ipython",
    "version": 3
   },
   "file_extension": ".py",
   "mimetype": "text/x-python",
   "name": "python",
   "nbconvert_exporter": "python",
   "pygments_lexer": "ipython3",
   "version": "3.8.8"
  }
 },
 "nbformat": 4,
 "nbformat_minor": 5
}
