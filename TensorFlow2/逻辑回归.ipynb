{
 "cells": [
  {
   "cell_type": "code",
   "execution_count": 1,
   "id": "80d991b2",
   "metadata": {},
   "outputs": [],
   "source": [
    "import tensorflow as tf\n",
    "import pandas as pd\n",
    "import numpy as np\n",
    "import matplotlib.pyplot as plt"
   ]
  },
  {
   "cell_type": "code",
   "execution_count": 2,
   "id": "5e8f70ef",
   "metadata": {},
   "outputs": [
    {
     "name": "stdout",
     "output_type": "stream",
     "text": [
      "   0      1      2   3   4   5   6     7   8   9   10  11  12   13     14  15\n",
      "0   0  30.83  0.000   0   0   9   0  1.25   0   0   1   1   0  202    0.0  -1\n",
      "1   1  58.67  4.460   0   0   8   1  3.04   0   0   6   1   0   43  560.0  -1\n",
      "2   1  24.50  0.500   0   0   8   1  1.50   0   1   0   1   0  280  824.0  -1\n",
      "3   0  27.83  1.540   0   0   9   0  3.75   0   0   5   0   0  100    3.0  -1\n",
      "4   0  20.17  5.625   0   0   9   0  1.71   0   1   0   1   2  120    0.0  -1\n"
     ]
    }
   ],
   "source": [
    "data = pd.read_csv('../../data/credit-a.csv', header=None)\n",
    "print(data.head())"
   ]
  },
  {
   "cell_type": "code",
   "execution_count": 3,
   "id": "0759b6a3",
   "metadata": {},
   "outputs": [
    {
     "name": "stdout",
     "output_type": "stream",
     "text": [
      " 1    357\n",
      "-1    296\n",
      "Name: 15, dtype: int64\n"
     ]
    }
   ],
   "source": [
    "a = data.iloc[:, -1].value_counts()\n",
    "print(a)"
   ]
  },
  {
   "cell_type": "code",
   "execution_count": 4,
   "id": "450cd1df",
   "metadata": {},
   "outputs": [],
   "source": [
    "x = data.iloc[:, :-1]\n",
    "y = data.iloc[:, -1].replace(-1, 0)\n",
    "\n",
    "model = tf.keras.Sequential()\n",
    "model.add(tf.keras.layers.Dense(4, input_shape=(15,), activation='relu'))\n",
    "model.add(tf.keras.layers.Dense(4, activation='relu'))\n",
    "model.add(tf.keras.layers.Dense(1, activation='sigmoid'))"
   ]
  },
  {
   "cell_type": "code",
   "execution_count": 5,
   "id": "98ee4844",
   "metadata": {},
   "outputs": [
    {
     "name": "stdout",
     "output_type": "stream",
     "text": [
      "Model: \"sequential\"\n",
      "_________________________________________________________________\n",
      "Layer (type)                 Output Shape              Param #   \n",
      "=================================================================\n",
      "dense (Dense)                (None, 4)                 64        \n",
      "_________________________________________________________________\n",
      "dense_1 (Dense)              (None, 4)                 20        \n",
      "_________________________________________________________________\n",
      "dense_2 (Dense)              (None, 1)                 5         \n",
      "=================================================================\n",
      "Total params: 89\n",
      "Trainable params: 89\n",
      "Non-trainable params: 0\n",
      "_________________________________________________________________\n",
      "None\n"
     ]
    }
   ],
   "source": [
    "print(model.summary())"
   ]
  },
  {
   "cell_type": "code",
   "execution_count": 6,
   "id": "19542bba",
   "metadata": {},
   "outputs": [],
   "source": [
    "model.compile(optimizer='adam',\n",
    "              loss='binary_crossentropy',\n",
    "              metrics=['acc']\n",
    "              )"
   ]
  },
  {
   "cell_type": "code",
   "execution_count": 7,
   "id": "c59996f1",
   "metadata": {},
   "outputs": [
    {
     "name": "stdout",
     "output_type": "stream",
     "text": [
      "Epoch 1/100\n",
      "21/21 [==============================] - 1s 3ms/step - loss: 39.7192 - acc: 0.4533\n",
      "Epoch 2/100\n",
      "21/21 [==============================] - 0s 3ms/step - loss: 28.2348 - acc: 0.4533\n",
      "Epoch 3/100\n",
      "21/21 [==============================] - 0s 3ms/step - loss: 21.4124 - acc: 0.6156\n",
      "Epoch 4/100\n",
      "21/21 [==============================] - 0s 3ms/step - loss: 18.2752 - acc: 0.6508\n",
      "Epoch 5/100\n",
      "21/21 [==============================] - 0s 3ms/step - loss: 15.9135 - acc: 0.6570\n",
      "Epoch 6/100\n",
      "21/21 [==============================] - 0s 3ms/step - loss: 13.6258 - acc: 0.6662\n",
      "Epoch 7/100\n",
      "21/21 [==============================] - 0s 3ms/step - loss: 11.6241 - acc: 0.6784\n",
      "Epoch 8/100\n",
      "21/21 [==============================] - 0s 3ms/step - loss: 9.8070 - acc: 0.6845\n",
      "Epoch 9/100\n",
      "21/21 [==============================] - 0s 3ms/step - loss: 8.0852 - acc: 0.6815\n",
      "Epoch 10/100\n",
      "21/21 [==============================] - 0s 3ms/step - loss: 6.5128 - acc: 0.6753\n",
      "Epoch 11/100\n",
      "21/21 [==============================] - 0s 3ms/step - loss: 5.0408 - acc: 0.6646\n",
      "Epoch 12/100\n",
      "21/21 [==============================] - 0s 3ms/step - loss: 3.7213 - acc: 0.6631\n",
      "Epoch 13/100\n",
      "21/21 [==============================] - 0s 3ms/step - loss: 2.6132 - acc: 0.6478\n",
      "Epoch 14/100\n",
      "21/21 [==============================] - 0s 3ms/step - loss: 2.4067 - acc: 0.6233\n",
      "Epoch 15/100\n",
      "21/21 [==============================] - 0s 3ms/step - loss: 2.2420 - acc: 0.6110\n",
      "Epoch 16/100\n",
      "21/21 [==============================] - 0s 3ms/step - loss: 2.1484 - acc: 0.6049\n",
      "Epoch 17/100\n",
      "21/21 [==============================] - 0s 3ms/step - loss: 2.0774 - acc: 0.6172\n",
      "Epoch 18/100\n",
      "21/21 [==============================] - 0s 3ms/step - loss: 2.1124 - acc: 0.6095\n",
      "Epoch 19/100\n",
      "21/21 [==============================] - 0s 3ms/step - loss: 2.0089 - acc: 0.6217\n",
      "Epoch 20/100\n",
      "21/21 [==============================] - 0s 3ms/step - loss: 1.8797 - acc: 0.5911\n",
      "Epoch 21/100\n",
      "21/21 [==============================] - 0s 3ms/step - loss: 1.7924 - acc: 0.6172\n",
      "Epoch 22/100\n",
      "21/21 [==============================] - 0s 3ms/step - loss: 1.7331 - acc: 0.6095\n",
      "Epoch 23/100\n",
      "21/21 [==============================] - 0s 3ms/step - loss: 1.6813 - acc: 0.6018\n",
      "Epoch 24/100\n",
      "21/21 [==============================] - 0s 3ms/step - loss: 1.6181 - acc: 0.5896\n",
      "Epoch 25/100\n",
      "21/21 [==============================] - 0s 3ms/step - loss: 1.5754 - acc: 0.5865\n",
      "Epoch 26/100\n",
      "21/21 [==============================] - 0s 3ms/step - loss: 1.5131 - acc: 0.6126\n",
      "Epoch 27/100\n",
      "21/21 [==============================] - 0s 3ms/step - loss: 1.5063 - acc: 0.6080\n",
      "Epoch 28/100\n",
      "21/21 [==============================] - 0s 3ms/step - loss: 1.4027 - acc: 0.6095\n",
      "Epoch 29/100\n",
      "21/21 [==============================] - 0s 3ms/step - loss: 1.3493 - acc: 0.6003\n",
      "Epoch 30/100\n",
      "21/21 [==============================] - 0s 3ms/step - loss: 1.3113 - acc: 0.6064\n",
      "Epoch 31/100\n",
      "21/21 [==============================] - 0s 3ms/step - loss: 1.2581 - acc: 0.6018\n",
      "Epoch 32/100\n",
      "21/21 [==============================] - 0s 3ms/step - loss: 1.2201 - acc: 0.6126\n",
      "Epoch 33/100\n",
      "21/21 [==============================] - 0s 3ms/step - loss: 1.2017 - acc: 0.6217\n",
      "Epoch 34/100\n",
      "21/21 [==============================] - 0s 3ms/step - loss: 1.1360 - acc: 0.6172\n",
      "Epoch 35/100\n",
      "21/21 [==============================] - 0s 3ms/step - loss: 0.9714 - acc: 0.5773\n",
      "Epoch 36/100\n",
      "21/21 [==============================] - 0s 3ms/step - loss: 0.9817 - acc: 0.6202\n",
      "Epoch 37/100\n",
      "21/21 [==============================] - 0s 3ms/step - loss: 0.8153 - acc: 0.6003\n",
      "Epoch 38/100\n",
      "21/21 [==============================] - 0s 3ms/step - loss: 0.8049 - acc: 0.6570\n",
      "Epoch 39/100\n",
      "21/21 [==============================] - 0s 3ms/step - loss: 0.7094 - acc: 0.6447\n",
      "Epoch 40/100\n",
      "21/21 [==============================] - 0s 3ms/step - loss: 0.8272 - acc: 0.6738\n",
      "Epoch 41/100\n",
      "21/21 [==============================] - 0s 3ms/step - loss: 0.7177 - acc: 0.6646\n",
      "Epoch 42/100\n",
      "21/21 [==============================] - 0s 3ms/step - loss: 0.7088 - acc: 0.6784\n",
      "Epoch 43/100\n",
      "21/21 [==============================] - 0s 3ms/step - loss: 0.6403 - acc: 0.6876\n",
      "Epoch 44/100\n",
      "21/21 [==============================] - 0s 3ms/step - loss: 0.6544 - acc: 0.6953\n",
      "Epoch 45/100\n",
      "21/21 [==============================] - 0s 3ms/step - loss: 0.6335 - acc: 0.6968\n",
      "Epoch 46/100\n",
      "21/21 [==============================] - 0s 3ms/step - loss: 0.9253 - acc: 0.6799\n",
      "Epoch 47/100\n",
      "21/21 [==============================] - 0s 3ms/step - loss: 0.8709 - acc: 0.6585\n",
      "Epoch 48/100\n",
      "21/21 [==============================] - 0s 3ms/step - loss: 0.6479 - acc: 0.6907\n",
      "Epoch 49/100\n",
      "21/21 [==============================] - 0s 3ms/step - loss: 0.6104 - acc: 0.7014\n",
      "Epoch 50/100\n",
      "21/21 [==============================] - 0s 3ms/step - loss: 1.4442 - acc: 0.6753\n",
      "Epoch 51/100\n",
      "21/21 [==============================] - 0s 3ms/step - loss: 1.4890 - acc: 0.6861\n",
      "Epoch 52/100\n",
      "21/21 [==============================] - 0s 3ms/step - loss: 0.8307 - acc: 0.6708\n",
      "Epoch 53/100\n",
      "21/21 [==============================] - 0s 3ms/step - loss: 0.7094 - acc: 0.6585\n",
      "Epoch 54/100\n",
      "21/21 [==============================] - 0s 3ms/step - loss: 0.6303 - acc: 0.6662\n",
      "Epoch 55/100\n",
      "21/21 [==============================] - 0s 3ms/step - loss: 0.6100 - acc: 0.6723\n",
      "Epoch 56/100\n",
      "21/21 [==============================] - 0s 3ms/step - loss: 0.6134 - acc: 0.6953\n",
      "Epoch 57/100\n",
      "21/21 [==============================] - 0s 3ms/step - loss: 0.6470 - acc: 0.6861\n",
      "Epoch 58/100\n",
      "21/21 [==============================] - 0s 3ms/step - loss: 0.8531 - acc: 0.6815\n",
      "Epoch 59/100\n",
      "21/21 [==============================] - 0s 3ms/step - loss: 0.6703 - acc: 0.6815\n",
      "Epoch 60/100\n",
      "21/21 [==============================] - 0s 3ms/step - loss: 0.6273 - acc: 0.6907\n",
      "Epoch 61/100\n",
      "21/21 [==============================] - 0s 3ms/step - loss: 0.5820 - acc: 0.6983\n",
      "Epoch 62/100\n",
      "21/21 [==============================] - 0s 3ms/step - loss: 0.5733 - acc: 0.7090\n",
      "Epoch 63/100\n",
      "21/21 [==============================] - 0s 3ms/step - loss: 0.5808 - acc: 0.7044\n",
      "Epoch 64/100\n",
      "21/21 [==============================] - 0s 3ms/step - loss: 0.6690 - acc: 0.6998\n",
      "Epoch 65/100\n",
      "21/21 [==============================] - 0s 3ms/step - loss: 0.6061 - acc: 0.6907\n",
      "Epoch 66/100\n",
      "21/21 [==============================] - 0s 3ms/step - loss: 0.5805 - acc: 0.7136\n",
      "Epoch 67/100\n",
      "21/21 [==============================] - 0s 3ms/step - loss: 0.8162 - acc: 0.7014\n",
      "Epoch 68/100\n",
      "21/21 [==============================] - 0s 3ms/step - loss: 0.8219 - acc: 0.6769\n",
      "Epoch 69/100\n",
      "21/21 [==============================] - 0s 3ms/step - loss: 0.6341 - acc: 0.7060\n",
      "Epoch 70/100\n",
      "21/21 [==============================] - 0s 3ms/step - loss: 1.5703 - acc: 0.6769\n",
      "Epoch 71/100\n",
      "21/21 [==============================] - 0s 3ms/step - loss: 1.4280 - acc: 0.6861\n",
      "Epoch 72/100\n",
      "21/21 [==============================] - 0s 3ms/step - loss: 0.9250 - acc: 0.6447\n",
      "Epoch 73/100\n",
      "21/21 [==============================] - 0s 3ms/step - loss: 0.7675 - acc: 0.5697\n",
      "Epoch 74/100\n",
      "21/21 [==============================] - 0s 3ms/step - loss: 0.6991 - acc: 0.5666\n",
      "Epoch 75/100\n",
      "21/21 [==============================] - 0s 3ms/step - loss: 0.6544 - acc: 0.5819\n",
      "Epoch 76/100\n",
      "21/21 [==============================] - 0s 3ms/step - loss: 0.6573 - acc: 0.5911\n",
      "Epoch 77/100\n",
      "21/21 [==============================] - 0s 3ms/step - loss: 0.6387 - acc: 0.5881\n",
      "Epoch 78/100\n",
      "21/21 [==============================] - 0s 3ms/step - loss: 0.6315 - acc: 0.5957\n",
      "Epoch 79/100\n",
      "21/21 [==============================] - 0s 3ms/step - loss: 0.6315 - acc: 0.6003\n",
      "Epoch 80/100\n",
      "21/21 [==============================] - 0s 3ms/step - loss: 0.6232 - acc: 0.6018\n",
      "Epoch 81/100\n",
      "21/21 [==============================] - 0s 3ms/step - loss: 0.6335 - acc: 0.5926\n",
      "Epoch 82/100\n",
      "21/21 [==============================] - 0s 3ms/step - loss: 0.6278 - acc: 0.6003\n",
      "Epoch 83/100\n",
      "21/21 [==============================] - 0s 3ms/step - loss: 0.6232 - acc: 0.5972\n",
      "Epoch 84/100\n",
      "21/21 [==============================] - 0s 3ms/step - loss: 0.6301 - acc: 0.5804\n",
      "Epoch 85/100\n",
      "21/21 [==============================] - 0s 3ms/step - loss: 0.6320 - acc: 0.6003\n",
      "Epoch 86/100\n",
      "21/21 [==============================] - 0s 3ms/step - loss: 0.6131 - acc: 0.5957\n",
      "Epoch 87/100\n"
     ]
    },
    {
     "name": "stdout",
     "output_type": "stream",
     "text": [
      "21/21 [==============================] - 0s 3ms/step - loss: 0.6085 - acc: 0.6003\n",
      "Epoch 88/100\n",
      "21/21 [==============================] - 0s 3ms/step - loss: 0.6056 - acc: 0.6034\n",
      "Epoch 89/100\n",
      "21/21 [==============================] - 0s 3ms/step - loss: 0.6051 - acc: 0.6018\n",
      "Epoch 90/100\n",
      "21/21 [==============================] - 0s 3ms/step - loss: 0.6094 - acc: 0.6018\n",
      "Epoch 91/100\n",
      "21/21 [==============================] - 0s 3ms/step - loss: 0.6034 - acc: 0.6110\n",
      "Epoch 92/100\n",
      "21/21 [==============================] - 0s 3ms/step - loss: 0.6014 - acc: 0.6080\n",
      "Epoch 93/100\n",
      "21/21 [==============================] - 0s 3ms/step - loss: 0.5982 - acc: 0.6080\n",
      "Epoch 94/100\n",
      "21/21 [==============================] - 0s 3ms/step - loss: 0.6030 - acc: 0.6080\n",
      "Epoch 95/100\n",
      "21/21 [==============================] - 0s 3ms/step - loss: 0.5962 - acc: 0.6064\n",
      "Epoch 96/100\n",
      "21/21 [==============================] - 0s 3ms/step - loss: 0.5993 - acc: 0.6738\n",
      "Epoch 97/100\n",
      "21/21 [==============================] - 0s 3ms/step - loss: 0.5984 - acc: 0.7320\n",
      "Epoch 98/100\n",
      "21/21 [==============================] - 0s 3ms/step - loss: 0.6103 - acc: 0.7274\n",
      "Epoch 99/100\n",
      "21/21 [==============================] - 0s 3ms/step - loss: 0.5977 - acc: 0.7351\n",
      "Epoch 100/100\n",
      "21/21 [==============================] - 0s 3ms/step - loss: 0.5955 - acc: 0.7305\n"
     ]
    }
   ],
   "source": [
    "history = model.fit(x, y, epochs=100)"
   ]
  },
  {
   "cell_type": "code",
   "execution_count": 8,
   "id": "9d0df3c2",
   "metadata": {},
   "outputs": [
    {
     "name": "stdout",
     "output_type": "stream",
     "text": [
      "dict_keys(['loss', 'acc'])\n"
     ]
    }
   ],
   "source": [
    "print(history.history.keys())"
   ]
  },
  {
   "cell_type": "code",
   "execution_count": 9,
   "id": "c3ef6b01",
   "metadata": {},
   "outputs": [
    {
     "data": {
      "image/png": "[encoded data removed]",
      "text/plain": [
       "<Figure size 432x288 with 1 Axes>"
      ]
     },
     "metadata": {
      "needs_background": "light"
     },
     "output_type": "display_data"
    }
   ],
   "source": [
    "plt.plot(history.epoch, history.history.get('loss'))\n",
    "plt.show()"
   ]
  },
  {
   "cell_type": "code",
   "execution_count": 10,
   "id": "0eed62d8",
   "metadata": {},
   "outputs": [
    {
     "data": {
      "image/png": "[encoded data removed]",
      "text/plain": [
       "<Figure size 432x288 with 1 Axes>"
      ]
     },
     "metadata": {
      "needs_background": "light"
     },
     "output_type": "display_data"
    }
   ],
   "source": [
    "plt.plot(history.epoch, history.history.get('acc'))\n",
    "plt.show()"
   ]
  }
 ],
 "metadata": {
  "kernelspec": {
   "display_name": "Python 3",
   "language": "python",
   "name": "python3"
  },
  "language_info": {
   "codemirror_mode": {
    "name": "ipython",
    "version": 3
   },
   "file_extension": ".py",
   "mimetype": "text/x-python",
   "name": "python",
   "nbconvert_exporter": "python",
   "pygments_lexer": "ipython3",
   "version": "3.8.8"
  }
 },
 "nbformat": 4,
 "nbformat_minor": 5
}
