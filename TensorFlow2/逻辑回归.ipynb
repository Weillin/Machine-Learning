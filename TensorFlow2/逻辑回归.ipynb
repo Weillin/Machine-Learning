{
 "cells": [
  {
   "cell_type": "code",
   "execution_count": 1,
   "id": "80d991b2",
   "metadata": {},
   "outputs": [],
   "source": [
    "import tensorflow as tf\n",
    "import pandas as pd\n",
    "import numpy as np\n",
    "import matplotlib.pyplot as plt\n",
    "%matplotlib inline"
   ]
  },
  {
   "cell_type": "code",
   "execution_count": 2,
   "id": "5e8f70ef",
   "metadata": {},
   "outputs": [
    {
     "name": "stdout",
     "output_type": "stream",
     "text": [
      "   0      1      2   3   4   5   6     7   8   9   10  11  12   13     14  15\n",
      "0   0  30.83  0.000   0   0   9   0  1.25   0   0   1   1   0  202    0.0  -1\n",
      "1   1  58.67  4.460   0   0   8   1  3.04   0   0   6   1   0   43  560.0  -1\n",
      "2   1  24.50  0.500   0   0   8   1  1.50   0   1   0   1   0  280  824.0  -1\n",
      "3   0  27.83  1.540   0   0   9   0  3.75   0   0   5   0   0  100    3.0  -1\n",
      "4   0  20.17  5.625   0   0   9   0  1.71   0   1   0   1   2  120    0.0  -1\n"
     ]
    }
   ],
   "source": [
    "data = pd.read_csv('../../data/credit-a.csv', header=None)\n",
    "print(data.head())"
   ]
  },
  {
   "cell_type": "code",
   "execution_count": 3,
   "id": "0759b6a3",
   "metadata": {},
   "outputs": [
    {
     "name": "stdout",
     "output_type": "stream",
     "text": [
      " 1    357\n",
      "-1    296\n",
      "Name: 15, dtype: int64\n"
     ]
    }
   ],
   "source": [
    "a = data.iloc[:, -1].value_counts()\n",
    "print(a)"
   ]
  },
  {
   "cell_type": "code",
   "execution_count": 4,
   "id": "450cd1df",
   "metadata": {},
   "outputs": [],
   "source": [
    "x = data.iloc[:, :-1]\n",
    "y = data.iloc[:, -1].replace(-1, 0)\n",
    "\n",
    "model = tf.keras.Sequential()\n",
    "model.add(tf.keras.layers.Dense(4, input_shape=(15,), activation='relu'))\n",
    "model.add(tf.keras.layers.Dense(4, activation='relu'))\n",
    "model.add(tf.keras.layers.Dense(1, activation='sigmoid'))"
   ]
  },
  {
   "cell_type": "code",
   "execution_count": 5,
   "id": "98ee4844",
   "metadata": {},
   "outputs": [
    {
     "name": "stdout",
     "output_type": "stream",
     "text": [
      "Model: \"sequential\"\n",
      "_________________________________________________________________\n",
      "Layer (type)                 Output Shape              Param #   \n",
      "=================================================================\n",
      "dense (Dense)                (None, 4)                 64        \n",
      "_________________________________________________________________\n",
      "dense_1 (Dense)              (None, 4)                 20        \n",
      "_________________________________________________________________\n",
      "dense_2 (Dense)              (None, 1)                 5         \n",
      "=================================================================\n",
      "Total params: 89\n",
      "Trainable params: 89\n",
      "Non-trainable params: 0\n",
      "_________________________________________________________________\n",
      "None\n"
     ]
    }
   ],
   "source": [
    "print(model.summary())"
   ]
  },
  {
   "cell_type": "code",
   "execution_count": 6,
   "id": "19542bba",
   "metadata": {},
   "outputs": [],
   "source": [
    "model.compile(optimizer='adam',\n",
    "              loss='binary_crossentropy',\n",
    "              metrics=['acc']\n",
    "              )"
   ]
  },
  {
   "cell_type": "code",
   "execution_count": 7,
   "id": "c59996f1",
   "metadata": {},
   "outputs": [
    {
     "name": "stdout",
     "output_type": "stream",
     "text": [
      "Epoch 1/100\n",
      "21/21 [==============================] - 2s 3ms/step - loss: 19.8382 - acc: 0.6662\n",
      "Epoch 2/100\n",
      "21/21 [==============================] - 0s 3ms/step - loss: 17.2218 - acc: 0.6708\n",
      "Epoch 3/100\n",
      "21/21 [==============================] - 0s 3ms/step - loss: 14.9479 - acc: 0.6723\n",
      "Epoch 4/100\n",
      "21/21 [==============================] - 0s 3ms/step - loss: 12.3035 - acc: 0.6753\n",
      "Epoch 5/100\n",
      "21/21 [==============================] - 0s 2ms/step - loss: 9.7362 - acc: 0.6708\n",
      "Epoch 6/100\n",
      "21/21 [==============================] - 0s 3ms/step - loss: 6.9985 - acc: 0.6753\n",
      "Epoch 7/100\n",
      "21/21 [==============================] - 0s 2ms/step - loss: 4.0563 - acc: 0.6815\n",
      "Epoch 8/100\n",
      "21/21 [==============================] - 0s 2ms/step - loss: 1.3728 - acc: 0.6524\n",
      "Epoch 9/100\n",
      "21/21 [==============================] - 0s 2ms/step - loss: 1.0626 - acc: 0.6432\n",
      "Epoch 10/100\n",
      "21/21 [==============================] - 0s 3ms/step - loss: 0.8607 - acc: 0.6417\n",
      "Epoch 11/100\n",
      "21/21 [==============================] - 0s 2ms/step - loss: 0.7972 - acc: 0.6340\n",
      "Epoch 12/100\n",
      "21/21 [==============================] - 0s 2ms/step - loss: 1.1700 - acc: 0.6646\n",
      "Epoch 13/100\n",
      "21/21 [==============================] - 0s 2ms/step - loss: 0.9787 - acc: 0.6585\n",
      "Epoch 14/100\n",
      "21/21 [==============================] - 0s 2ms/step - loss: 0.7271 - acc: 0.6646\n",
      "Epoch 15/100\n",
      "21/21 [==============================] - 0s 3ms/step - loss: 0.7076 - acc: 0.6570\n",
      "Epoch 16/100\n",
      "21/21 [==============================] - 0s 3ms/step - loss: 0.6844 - acc: 0.6738\n",
      "Epoch 17/100\n",
      "21/21 [==============================] - 0s 2ms/step - loss: 0.6714 - acc: 0.6815\n",
      "Epoch 18/100\n",
      "21/21 [==============================] - 0s 2ms/step - loss: 0.6504 - acc: 0.6845\n",
      "Epoch 19/100\n",
      "21/21 [==============================] - 0s 2ms/step - loss: 0.6534 - acc: 0.6799\n",
      "Epoch 20/100\n",
      "21/21 [==============================] - 0s 2ms/step - loss: 0.6164 - acc: 0.6891\n",
      "Epoch 21/100\n",
      "21/21 [==============================] - 0s 2ms/step - loss: 0.6260 - acc: 0.6922\n",
      "Epoch 22/100\n",
      "21/21 [==============================] - 0s 3ms/step - loss: 0.6214 - acc: 0.7060\n",
      "Epoch 23/100\n",
      "21/21 [==============================] - 0s 3ms/step - loss: 0.6975 - acc: 0.6861\n",
      "Epoch 24/100\n",
      "21/21 [==============================] - 0s 2ms/step - loss: 0.6211 - acc: 0.6968\n",
      "Epoch 25/100\n",
      "21/21 [==============================] - 0s 3ms/step - loss: 0.6285 - acc: 0.6922\n",
      "Epoch 26/100\n",
      "21/21 [==============================] - 0s 3ms/step - loss: 0.7806 - acc: 0.6968\n",
      "Epoch 27/100\n",
      "21/21 [==============================] - 0s 2ms/step - loss: 0.6096 - acc: 0.6907\n",
      "Epoch 28/100\n",
      "21/21 [==============================] - 0s 2ms/step - loss: 0.7115 - acc: 0.6937\n",
      "Epoch 29/100\n",
      "21/21 [==============================] - 0s 3ms/step - loss: 0.5951 - acc: 0.7090\n",
      "Epoch 30/100\n",
      "21/21 [==============================] - 0s 2ms/step - loss: 0.7701 - acc: 0.7090\n",
      "Epoch 31/100\n",
      "21/21 [==============================] - 0s 2ms/step - loss: 1.7733 - acc: 0.6876\n",
      "Epoch 32/100\n",
      "21/21 [==============================] - 0s 2ms/step - loss: 0.9625 - acc: 0.6922\n",
      "Epoch 33/100\n",
      "21/21 [==============================] - 0s 2ms/step - loss: 0.6493 - acc: 0.6968\n",
      "Epoch 34/100\n",
      "21/21 [==============================] - 0s 3ms/step - loss: 0.5862 - acc: 0.7090\n",
      "Epoch 35/100\n",
      "21/21 [==============================] - 0s 3ms/step - loss: 0.6738 - acc: 0.7106\n",
      "Epoch 36/100\n",
      "21/21 [==============================] - 0s 2ms/step - loss: 0.5730 - acc: 0.7152\n",
      "Epoch 37/100\n",
      "21/21 [==============================] - 0s 3ms/step - loss: 0.5833 - acc: 0.7152\n",
      "Epoch 38/100\n",
      "21/21 [==============================] - 0s 3ms/step - loss: 0.5795 - acc: 0.7228\n",
      "Epoch 39/100\n",
      "21/21 [==============================] - 0s 3ms/step - loss: 0.5727 - acc: 0.7259\n",
      "Epoch 40/100\n",
      "21/21 [==============================] - 0s 2ms/step - loss: 0.5678 - acc: 0.7259\n",
      "Epoch 41/100\n",
      "21/21 [==============================] - 0s 2ms/step - loss: 0.5769 - acc: 0.7243\n",
      "Epoch 42/100\n",
      "21/21 [==============================] - 0s 3ms/step - loss: 0.8751 - acc: 0.7060\n",
      "Epoch 43/100\n",
      "21/21 [==============================] - 0s 3ms/step - loss: 1.1499 - acc: 0.6891\n",
      "Epoch 44/100\n",
      "21/21 [==============================] - 0s 3ms/step - loss: 0.6342 - acc: 0.7060\n",
      "Epoch 45/100\n",
      "21/21 [==============================] - 0s 2ms/step - loss: 0.5832 - acc: 0.7182\n",
      "Epoch 46/100\n",
      "21/21 [==============================] - 0s 3ms/step - loss: 0.5640 - acc: 0.7243\n",
      "Epoch 47/100\n",
      "21/21 [==============================] - 0s 2ms/step - loss: 0.6442 - acc: 0.7152\n",
      "Epoch 48/100\n",
      "21/21 [==============================] - 0s 2ms/step - loss: 0.8884 - acc: 0.6998\n",
      "Epoch 49/100\n",
      "21/21 [==============================] - 0s 3ms/step - loss: 0.5941 - acc: 0.7029\n",
      "Epoch 50/100\n",
      "21/21 [==============================] - 0s 2ms/step - loss: 0.5692 - acc: 0.7259\n",
      "Epoch 51/100\n",
      "21/21 [==============================] - 0s 3ms/step - loss: 0.5503 - acc: 0.7335\n",
      "Epoch 52/100\n",
      "21/21 [==============================] - 0s 2ms/step - loss: 0.5406 - acc: 0.7320\n",
      "Epoch 53/100\n",
      "21/21 [==============================] - 0s 2ms/step - loss: 0.5394 - acc: 0.7320\n",
      "Epoch 54/100\n",
      "21/21 [==============================] - 0s 2ms/step - loss: 0.5397 - acc: 0.7305\n",
      "Epoch 55/100\n",
      "21/21 [==============================] - 0s 2ms/step - loss: 0.5408 - acc: 0.7381\n",
      "Epoch 56/100\n",
      "21/21 [==============================] - 0s 2ms/step - loss: 0.5425 - acc: 0.7305\n",
      "Epoch 57/100\n",
      "21/21 [==============================] - 0s 2ms/step - loss: 0.5447 - acc: 0.7305\n",
      "Epoch 58/100\n",
      "21/21 [==============================] - 0s 2ms/step - loss: 0.5365 - acc: 0.7351\n",
      "Epoch 59/100\n",
      "21/21 [==============================] - 0s 2ms/step - loss: 0.5359 - acc: 0.7351\n",
      "Epoch 60/100\n",
      "21/21 [==============================] - 0s 2ms/step - loss: 0.5744 - acc: 0.7213\n",
      "Epoch 61/100\n",
      "21/21 [==============================] - 0s 2ms/step - loss: 0.5368 - acc: 0.7412\n",
      "Epoch 62/100\n",
      "21/21 [==============================] - 0s 3ms/step - loss: 0.5260 - acc: 0.7427\n",
      "Epoch 63/100\n",
      "21/21 [==============================] - 0s 2ms/step - loss: 0.5407 - acc: 0.7274\n",
      "Epoch 64/100\n",
      "21/21 [==============================] - 0s 2ms/step - loss: 0.6468 - acc: 0.7167\n",
      "Epoch 65/100\n",
      "21/21 [==============================] - 0s 2ms/step - loss: 0.8019 - acc: 0.7044\n",
      "Epoch 66/100\n",
      "21/21 [==============================] - 0s 2ms/step - loss: 0.5425 - acc: 0.7289\n",
      "Epoch 67/100\n",
      "21/21 [==============================] - 0s 2ms/step - loss: 0.5462 - acc: 0.7351\n",
      "Epoch 68/100\n",
      "21/21 [==============================] - 0s 2ms/step - loss: 0.5355 - acc: 0.7397\n",
      "Epoch 69/100\n",
      "21/21 [==============================] - 0s 2ms/step - loss: 0.5744 - acc: 0.7320\n",
      "Epoch 70/100\n",
      "21/21 [==============================] - 0s 3ms/step - loss: 1.0409 - acc: 0.6922\n",
      "Epoch 71/100\n",
      "21/21 [==============================] - 0s 2ms/step - loss: 0.8800 - acc: 0.6876\n",
      "Epoch 72/100\n",
      "21/21 [==============================] - 0s 2ms/step - loss: 0.7009 - acc: 0.7167\n",
      "Epoch 73/100\n",
      "21/21 [==============================] - 0s 2ms/step - loss: 0.5737 - acc: 0.7259\n",
      "Epoch 74/100\n",
      "21/21 [==============================] - 0s 2ms/step - loss: 0.7941 - acc: 0.7090\n",
      "Epoch 75/100\n",
      "21/21 [==============================] - 0s 2ms/step - loss: 0.7920 - acc: 0.6968\n",
      "Epoch 76/100\n",
      "21/21 [==============================] - 0s 2ms/step - loss: 0.5842 - acc: 0.7397\n",
      "Epoch 77/100\n",
      "21/21 [==============================] - 0s 2ms/step - loss: 0.5399 - acc: 0.7351\n",
      "Epoch 78/100\n",
      "21/21 [==============================] - 0s 3ms/step - loss: 0.5306 - acc: 0.7366\n",
      "Epoch 79/100\n",
      "21/21 [==============================] - 0s 2ms/step - loss: 0.5187 - acc: 0.7412\n",
      "Epoch 80/100\n",
      "21/21 [==============================] - 0s 2ms/step - loss: 0.5167 - acc: 0.7458\n",
      "Epoch 81/100\n",
      "21/21 [==============================] - 0s 3ms/step - loss: 0.5606 - acc: 0.7335\n",
      "Epoch 82/100\n",
      "21/21 [==============================] - 0s 3ms/step - loss: 0.6197 - acc: 0.7289\n",
      "Epoch 83/100\n",
      "21/21 [==============================] - 0s 3ms/step - loss: 0.5753 - acc: 0.7351\n",
      "Epoch 84/100\n",
      "21/21 [==============================] - 0s 2ms/step - loss: 0.5652 - acc: 0.7198\n",
      "Epoch 85/100\n",
      "21/21 [==============================] - 0s 3ms/step - loss: 0.5357 - acc: 0.7366\n",
      "Epoch 86/100\n",
      "21/21 [==============================] - 0s 2ms/step - loss: 0.5157 - acc: 0.7458\n",
      "Epoch 87/100\n"
     ]
    },
    {
     "name": "stdout",
     "output_type": "stream",
     "text": [
      "21/21 [==============================] - 0s 2ms/step - loss: 0.5588 - acc: 0.7412\n",
      "Epoch 88/100\n",
      "21/21 [==============================] - 0s 2ms/step - loss: 0.5559 - acc: 0.7381\n",
      "Epoch 89/100\n",
      "21/21 [==============================] - 0s 2ms/step - loss: 2.0853 - acc: 0.6937\n",
      "Epoch 90/100\n",
      "21/21 [==============================] - 0s 3ms/step - loss: 1.6051 - acc: 0.6891\n",
      "Epoch 91/100\n",
      "21/21 [==============================] - 0s 2ms/step - loss: 0.8575 - acc: 0.7044\n",
      "Epoch 92/100\n",
      "21/21 [==============================] - 0s 2ms/step - loss: 0.5704 - acc: 0.7228\n",
      "Epoch 93/100\n",
      "21/21 [==============================] - 0s 2ms/step - loss: 0.5251 - acc: 0.7351\n",
      "Epoch 94/100\n",
      "21/21 [==============================] - 0s 2ms/step - loss: 0.5242 - acc: 0.7381\n",
      "Epoch 95/100\n",
      "21/21 [==============================] - 0s 2ms/step - loss: 0.5223 - acc: 0.7366\n",
      "Epoch 96/100\n",
      "21/21 [==============================] - 0s 2ms/step - loss: 0.5239 - acc: 0.7412\n",
      "Epoch 97/100\n",
      "21/21 [==============================] - 0s 2ms/step - loss: 0.5157 - acc: 0.7381\n",
      "Epoch 98/100\n",
      "21/21 [==============================] - 0s 2ms/step - loss: 0.5132 - acc: 0.7427\n",
      "Epoch 99/100\n",
      "21/21 [==============================] - 0s 2ms/step - loss: 0.5229 - acc: 0.7412\n",
      "Epoch 100/100\n",
      "21/21 [==============================] - 0s 2ms/step - loss: 0.5130 - acc: 0.7427\n"
     ]
    }
   ],
   "source": [
    "history = model.fit(x, y, epochs=100)"
   ]
  },
  {
   "cell_type": "code",
   "execution_count": 8,
   "id": "9d0df3c2",
   "metadata": {},
   "outputs": [
    {
     "name": "stdout",
     "output_type": "stream",
     "text": [
      "dict_keys(['loss', 'acc'])\n"
     ]
    }
   ],
   "source": [
    "print(history.history.keys())"
   ]
  },
  {
   "cell_type": "code",
   "execution_count": 9,
   "id": "c3ef6b01",
   "metadata": {},
   "outputs": [
    {
     "data": {
      "image/png": "[encoded data removed]",
      "text/plain": [
       "<Figure size 432x288 with 1 Axes>"
      ]
     },
     "metadata": {
      "needs_background": "light"
     },
     "output_type": "display_data"
    }
   ],
   "source": [
    "plt.plot(history.epoch, history.history.get('loss'))\n",
    "plt.show()"
   ]
  },
  {
   "cell_type": "code",
   "execution_count": 10,
   "id": "0eed62d8",
   "metadata": {},
   "outputs": [
    {
     "data": {
      "image/png": "[encoded data removed]",
      "text/plain": [
       "<Figure size 432x288 with 1 Axes>"
      ]
     },
     "metadata": {
      "needs_background": "light"
     },
     "output_type": "display_data"
    }
   ],
   "source": [
    "plt.plot(history.epoch, history.history.get('acc'))\n",
    "plt.show()"
   ]
  }
 ],
 "metadata": {
  "kernelspec": {
   "display_name": "Python 3",
   "language": "python",
   "name": "python3"
  },
  "language_info": {
   "codemirror_mode": {
    "name": "ipython",
    "version": 3
   },
   "file_extension": ".py",
   "mimetype": "text/x-python",
   "name": "python",
   "nbconvert_exporter": "python",
   "pygments_lexer": "ipython3",
   "version": "3.8.8"
  }
 },
 "nbformat": 4,
 "nbformat_minor": 5
}
