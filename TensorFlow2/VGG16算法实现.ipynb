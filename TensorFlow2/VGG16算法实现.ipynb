{
 "cells": [
  {
   "cell_type": "markdown",
   "id": "db9fcf27",
   "metadata": {},
   "source": [
    "## 1.导入依赖包"
   ]
  },
  {
   "cell_type": "code",
   "execution_count": 1,
   "id": "103b130c",
   "metadata": {},
   "outputs": [],
   "source": [
    "from tensorflow import keras\n",
    "import tensorflow as tf\n",
    "import numpy as np\n",
    "import pandas as pd\n",
    "import os\n",
    "import matplotlib.pyplot as plt\n",
    "from sklearn.model_selection import train_test_split\n",
    "from tensorflow.keras.layers import Conv2D, BatchNormalization, Activation, Dense, Flatten, Dropout, MaxPool2D\n",
    "%matplotlib inline"
   ]
  },
  {
   "cell_type": "markdown",
   "id": "259128f1",
   "metadata": {},
   "source": [
    "## 2.导入数据"
   ]
  },
  {
   "cell_type": "code",
   "execution_count": 2,
   "id": "c200ac07",
   "metadata": {},
   "outputs": [
    {
     "name": "stdout",
     "output_type": "stream",
     "text": [
      "(42000, 785) (28000, 784)\n"
     ]
    }
   ],
   "source": [
    "train = pd.read_csv('../../data/fashion_train.csv')\n",
    "test = pd.read_csv('../../data/fashion_test.csv')\n",
    "print(train.shape, test.shape)"
   ]
  },
  {
   "cell_type": "markdown",
   "id": "b801914d",
   "metadata": {},
   "source": [
    "## 3.数据预处理"
   ]
  },
  {
   "cell_type": "code",
   "execution_count": 3,
   "id": "241ce36b",
   "metadata": {},
   "outputs": [
    {
     "name": "stdout",
     "output_type": "stream",
     "text": [
      "(33600, 784) (33600, 10)\n"
     ]
    }
   ],
   "source": [
    "input_shape = (28, 28, 1)\n",
    "x = np.array(train.iloc[:, 1:])\n",
    "y = keras.utils.to_categorical(np.array(train.iloc[:, 0]))\n",
    "x_train, x_val, y_train, y_val = train_test_split(x, y, test_size=0.2)\n",
    "print(x_train.shape, y_train.shape)"
   ]
  },
  {
   "cell_type": "code",
   "execution_count": 4,
   "id": "91d14494",
   "metadata": {},
   "outputs": [
    {
     "name": "stdout",
     "output_type": "stream",
     "text": [
      "(33600, 28, 28, 1) (33600, 10)\n"
     ]
    }
   ],
   "source": [
    "x_test = np.array(test.iloc[:, 0:])\n",
    "x_train = x_train.reshape(x_train.shape[0], 28, 28, 1)\n",
    "x_val = x_val.reshape(x_val.shape[0], 28, 28, 1)\n",
    "x_test = x_test.reshape(x_test.shape[0], 28, 28, 1)\n",
    "print(x_train.shape, y_train.shape)"
   ]
  },
  {
   "cell_type": "code",
   "execution_count": 5,
   "id": "664a328a",
   "metadata": {},
   "outputs": [],
   "source": [
    "x_train = x_train.astype('float32')\n",
    "x_val = x_val.astype('float32')\n",
    "x_test = x_test.astype('float32')\n",
    "x_train /= 255\n",
    "x_val /= 255\n",
    "x_test /= 255\n",
    "\n",
    "batch_size = 64\n",
    "classes = 10\n",
    "epochs = 5"
   ]
  },
  {
   "cell_type": "markdown",
   "id": "cdb3be8b",
   "metadata": {},
   "source": [
    "## 4.建立模型"
   ]
  },
  {
   "cell_type": "code",
   "execution_count": 6,
   "id": "c5cdf03e",
   "metadata": {},
   "outputs": [],
   "source": [
    "model = keras.models.Sequential([\n",
    "    Conv2D(filters=64, kernel_size=(3, 3), padding='same'),\n",
    "    BatchNormalization(),\n",
    "    Activation('relu'),\n",
    "    Conv2D(filters=64, kernel_size=(3, 3), padding='same'),\n",
    "    BatchNormalization(),\n",
    "    Activation('relu'),\n",
    "    MaxPool2D(pool_size=(2, 2), strides=2, padding='same'),\n",
    "    Dropout(0.2),\n",
    "\n",
    "    Conv2D(filters=128, kernel_size=(3, 3), padding='same'),\n",
    "    BatchNormalization(),\n",
    "    Activation('relu'),\n",
    "    Conv2D(filters=128, kernel_size=(3, 3), padding='same'),\n",
    "    BatchNormalization(),\n",
    "    Activation('relu'),\n",
    "    MaxPool2D(pool_size=(2, 2), strides=2, padding='same'),\n",
    "    Dropout(0.2),\n",
    "\n",
    "    Conv2D(filters=256, kernel_size=(3, 3), padding='same'),\n",
    "    BatchNormalization(),\n",
    "    Activation('relu'),\n",
    "    Conv2D(filters=256, kernel_size=(3, 3), padding='same'),\n",
    "    BatchNormalization(),\n",
    "    Activation('relu'),\n",
    "    Conv2D(filters=256, kernel_size=(3, 3), padding='same'),\n",
    "    BatchNormalization(),\n",
    "    Activation('relu'),\n",
    "    MaxPool2D(pool_size=(2, 2), strides=2, padding='same'),\n",
    "    Dropout(0.2),\n",
    "\n",
    "    Conv2D(filters=512, kernel_size=(3, 3), padding='same'),\n",
    "    BatchNormalization(),\n",
    "    Activation('relu'),\n",
    "    Conv2D(filters=512, kernel_size=(3, 3), padding='same'),\n",
    "    BatchNormalization(),\n",
    "    Activation('relu'),\n",
    "    Conv2D(filters=512, kernel_size=(3, 3), padding='same'),\n",
    "    BatchNormalization(),\n",
    "    Activation('relu'),\n",
    "    MaxPool2D(pool_size=(2, 2), strides=2, padding='same'),\n",
    "    Dropout(0.2),\n",
    "\n",
    "    Conv2D(filters=512, kernel_size=(3, 3), padding='same'),\n",
    "    BatchNormalization(),\n",
    "    Activation('relu'),\n",
    "    Conv2D(filters=512, kernel_size=(3, 3), padding='same'),\n",
    "    BatchNormalization(),\n",
    "    Activation('relu'),\n",
    "    Conv2D(filters=512, kernel_size=(3, 3), padding='same'),\n",
    "    BatchNormalization(),\n",
    "    Activation('relu'),\n",
    "    MaxPool2D(pool_size=(2, 2), strides=2, padding='same'),\n",
    "    Dropout(0.2),\n",
    "\n",
    "    Flatten(),\n",
    "    Dense(512, activation='relu'),\n",
    "    Dropout(0.2),\n",
    "    Dense(512, activation='relu'),\n",
    "    Dropout(0.2),\n",
    "    Dense(classes, activation='softmax'),\n",
    "])"
   ]
  },
  {
   "cell_type": "markdown",
   "id": "0cf56483",
   "metadata": {},
   "source": [
    "## 5.定义优化器、损失函数和评价指标"
   ]
  },
  {
   "cell_type": "code",
   "execution_count": 7,
   "id": "2862569d",
   "metadata": {},
   "outputs": [],
   "source": [
    "model.compile(optimizer='adam',\n",
    "              loss='categorical_crossentropy',\n",
    "              metrics=['accuracy'])"
   ]
  },
  {
   "cell_type": "markdown",
   "id": "dd0a65b8",
   "metadata": {},
   "source": [
    "## 6.断点续训"
   ]
  },
  {
   "cell_type": "code",
   "execution_count": 8,
   "id": "302bfd2a",
   "metadata": {},
   "outputs": [
    {
     "name": "stdout",
     "output_type": "stream",
     "text": [
      "model loading\n"
     ]
    }
   ],
   "source": [
    "save_path = './checkpoint/VGG16.ckpt'\n",
    "if os.path.exists(save_path + '.index'):\n",
    "    print('model loading')\n",
    "    model.load_weights(save_path)\n",
    "cp_callback = keras.callbacks.ModelCheckpoint(filepath=save_path,\n",
    "                                              save_weights_only=True,\n",
    "                                              save_best_only=True)"
   ]
  },
  {
   "cell_type": "markdown",
   "id": "5564550d",
   "metadata": {},
   "source": [
    "## 7.训练模型"
   ]
  },
  {
   "cell_type": "code",
   "execution_count": 9,
   "id": "204e567f",
   "metadata": {},
   "outputs": [
    {
     "name": "stdout",
     "output_type": "stream",
     "text": [
      "Epoch 1/5\n",
      "525/525 [==============================] - 32s 50ms/step - loss: 0.3113 - accuracy: 0.8946 - val_loss: 0.3261 - val_accuracy: 0.8952\n",
      "Epoch 2/5\n",
      "525/525 [==============================] - 26s 49ms/step - loss: 0.2895 - accuracy: 0.9008 - val_loss: 0.2916 - val_accuracy: 0.9029\n",
      "Epoch 3/5\n",
      "525/525 [==============================] - 26s 49ms/step - loss: 0.2705 - accuracy: 0.9099 - val_loss: 0.2989 - val_accuracy: 0.9012\n",
      "Epoch 4/5\n",
      "525/525 [==============================] - 26s 49ms/step - loss: 0.2536 - accuracy: 0.9147 - val_loss: 0.2846 - val_accuracy: 0.9076\n",
      "Epoch 5/5\n",
      "525/525 [==============================] - 26s 49ms/step - loss: 0.2376 - accuracy: 0.9186 - val_loss: 0.2364 - val_accuracy: 0.9227\n"
     ]
    }
   ],
   "source": [
    "history = model.fit(x_train, y_train,\n",
    "                    batch_size=batch_size,\n",
    "                    epochs=epochs,\n",
    "                    verbose=1,\n",
    "                    validation_data=(x_val, y_val),\n",
    "                    callbacks=[cp_callback])"
   ]
  },
  {
   "cell_type": "markdown",
   "id": "0bfdaca6",
   "metadata": {},
   "source": [
    "## 8.预测结果"
   ]
  },
  {
   "cell_type": "code",
   "execution_count": 10,
   "id": "cb01a374",
   "metadata": {},
   "outputs": [],
   "source": [
    "result = model.predict(x_test)\n",
    "pred = tf.argmax(result, axis=1)\n",
    "df = pd.DataFrame(pred, columns=['label'])\n",
    "df.to_csv(path_or_buf='Submission.csv', index_label='image_id')"
   ]
  },
  {
   "cell_type": "markdown",
   "id": "4ac84787",
   "metadata": {},
   "source": [
    "## 9.模型损失可视化"
   ]
  },
  {
   "cell_type": "code",
   "execution_count": 11,
   "id": "2b5dc18d",
   "metadata": {},
   "outputs": [
    {
     "name": "stdout",
     "output_type": "stream",
     "text": [
      "dict_keys(['loss', 'accuracy', 'val_loss', 'val_accuracy'])\n"
     ]
    }
   ],
   "source": [
    "print(history.history.keys())"
   ]
  },
  {
   "cell_type": "code",
   "execution_count": 12,
   "id": "c4087a75",
   "metadata": {},
   "outputs": [
    {
     "data": {
      "image/png": "[encoded data removed]",
      "text/plain": [
       "<Figure size 432x288 with 1 Axes>"
      ]
     },
     "metadata": {
      "needs_background": "light"
     },
     "output_type": "display_data"
    }
   ],
   "source": [
    "plt.plot(history.epoch, history.history.get('loss'), label='loss')\n",
    "plt.plot(history.epoch, history.history.get('val_loss'), label='val_loss')\n",
    "plt.legend()\n",
    "plt.show()"
   ]
  },
  {
   "cell_type": "markdown",
   "id": "2d64d653",
   "metadata": {},
   "source": [
    "## 10.模型准确率可视化"
   ]
  },
  {
   "cell_type": "code",
   "execution_count": 13,
   "id": "cf84720d",
   "metadata": {},
   "outputs": [
    {
     "data": {
      "image/png": "[encoded data removed]",
      "text/plain": [
       "<Figure size 432x288 with 1 Axes>"
      ]
     },
     "metadata": {
      "needs_background": "light"
     },
     "output_type": "display_data"
    }
   ],
   "source": [
    "plt.plot(history.epoch, history.history.get('accuracy'), label='acc')\n",
    "plt.plot(history.epoch, history.history.get('val_accuracy'), label='val_acc')\n",
    "plt.legend()\n",
    "plt.show()"
   ]
  }
 ],
 "metadata": {
  "kernelspec": {
   "display_name": "Python 3",
   "language": "python",
   "name": "python3"
  },
  "language_info": {
   "codemirror_mode": {
    "name": "ipython",
    "version": 3
   },
   "file_extension": ".py",
   "mimetype": "text/x-python",
   "name": "python",
   "nbconvert_exporter": "python",
   "pygments_lexer": "ipython3",
   "version": "3.8.8"
  }
 },
 "nbformat": 4,
 "nbformat_minor": 5
}
