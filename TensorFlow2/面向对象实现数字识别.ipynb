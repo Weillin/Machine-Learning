{
 "cells": [
  {
   "cell_type": "markdown",
   "id": "3169ed2c",
   "metadata": {},
   "source": [
    "### 1.导入依赖包"
   ]
  },
  {
   "cell_type": "code",
   "execution_count": 1,
   "id": "1f56b432",
   "metadata": {},
   "outputs": [],
   "source": [
    "import tensorflow as tf\n",
    "from tensorflow import keras\n",
    "from tensorflow.keras.layers import Flatten, Dense\n",
    "import numpy as np\n",
    "import time"
   ]
  },
  {
   "cell_type": "markdown",
   "id": "ca22a129",
   "metadata": {},
   "source": [
    "### 2.加载数据集"
   ]
  },
  {
   "cell_type": "code",
   "execution_count": 2,
   "id": "4d1504d4",
   "metadata": {},
   "outputs": [],
   "source": [
    "(train_x, train_y), (test_x, test_y) = keras.datasets.mnist.load_data()"
   ]
  },
  {
   "cell_type": "markdown",
   "id": "70cc6f04",
   "metadata": {},
   "source": [
    "### 3.图片归一化"
   ]
  },
  {
   "cell_type": "code",
   "execution_count": 3,
   "id": "a8948a54",
   "metadata": {},
   "outputs": [],
   "source": [
    "train_x, test_x = train_x / 255.0, test_x / 255.0"
   ]
  },
  {
   "cell_type": "markdown",
   "id": "6b317c77",
   "metadata": {},
   "source": [
    "### 4.创建模型"
   ]
  },
  {
   "cell_type": "code",
   "execution_count": 4,
   "id": "1084c526",
   "metadata": {},
   "outputs": [],
   "source": [
    "class Mnist(tf.keras.Model):\n",
    "\n",
    "    def __init__(self):\n",
    "        super(Mnist, self).__init__()\n",
    "        self.dense1 = Flatten(input_shape=(28, 28))\n",
    "        self.dense2 = Dense(100, activation='relu')\n",
    "        self.dense3 = Dense(10, activation='softmax')\n",
    "\n",
    "    def call(self, inputs):\n",
    "        x = self.dense1(inputs)\n",
    "        x = self.dense2(x)\n",
    "        x = self.dense3(x)\n",
    "        return x\n",
    "\n",
    "\n",
    "model = Mnist()"
   ]
  },
  {
   "cell_type": "markdown",
   "id": "08884aea",
   "metadata": {},
   "source": [
    "### 5.指定优化函数、损失函数、评价指标"
   ]
  },
  {
   "cell_type": "code",
   "execution_count": 5,
   "id": "74600888",
   "metadata": {},
   "outputs": [],
   "source": [
    "model.compile(optimizer='adam',\n",
    "              loss=tf.keras.losses.SparseCategoricalCrossentropy(),\n",
    "              metrics=['accuracy'])"
   ]
  },
  {
   "cell_type": "markdown",
   "id": "03a7951a",
   "metadata": {},
   "source": [
    "### 6.记录模型开始训练时间"
   ]
  },
  {
   "cell_type": "code",
   "execution_count": 6,
   "id": "aa940199",
   "metadata": {},
   "outputs": [],
   "source": [
    "start_time = time.time()"
   ]
  },
  {
   "cell_type": "markdown",
   "id": "11f58f97",
   "metadata": {},
   "source": [
    "### 7.训练模型"
   ]
  },
  {
   "cell_type": "code",
   "execution_count": 7,
   "id": "b78aea89",
   "metadata": {},
   "outputs": [
    {
     "name": "stdout",
     "output_type": "stream",
     "text": [
      "Epoch 1/10\n",
      "938/938 [==============================] - 3s 2ms/step - loss: 0.3176 - accuracy: 0.9122\n",
      "Epoch 2/10\n",
      "938/938 [==============================] - 2s 2ms/step - loss: 0.1454 - accuracy: 0.9581\n",
      "Epoch 3/10\n",
      "938/938 [==============================] - 2s 2ms/step - loss: 0.1036 - accuracy: 0.9701\n",
      "Epoch 4/10\n",
      "938/938 [==============================] - 2s 2ms/step - loss: 0.0809 - accuracy: 0.9758\n",
      "Epoch 5/10\n",
      "938/938 [==============================] - 2s 2ms/step - loss: 0.0645 - accuracy: 0.9813\n",
      "Epoch 6/10\n",
      "938/938 [==============================] - 2s 2ms/step - loss: 0.0528 - accuracy: 0.9847\n",
      "Epoch 7/10\n",
      "938/938 [==============================] - 2s 2ms/step - loss: 0.0446 - accuracy: 0.9868\n",
      "Epoch 8/10\n",
      "938/938 [==============================] - 2s 2ms/step - loss: 0.0374 - accuracy: 0.9890\n",
      "Epoch 9/10\n",
      "938/938 [==============================] - 2s 2ms/step - loss: 0.0311 - accuracy: 0.9911\n",
      "Epoch 10/10\n",
      "938/938 [==============================] - 2s 2ms/step - loss: 0.0268 - accuracy: 0.9923\n"
     ]
    },
    {
     "data": {
      "text/plain": [
       "<tensorflow.python.keras.callbacks.History at 0x2194c3948e0>"
      ]
     },
     "execution_count": 7,
     "metadata": {},
     "output_type": "execute_result"
    }
   ],
   "source": [
    "model.fit(train_x, train_y, batch_size=64, epochs=10, verbose=1, validation_freq=1)"
   ]
  },
  {
   "cell_type": "markdown",
   "id": "1a4098a3",
   "metadata": {},
   "source": [
    "### 8.记录模型训练完成时间"
   ]
  },
  {
   "cell_type": "code",
   "execution_count": 8,
   "id": "a13ad0ec",
   "metadata": {},
   "outputs": [],
   "source": [
    "end_time = time.time()"
   ]
  },
  {
   "cell_type": "markdown",
   "id": "9982914d",
   "metadata": {},
   "source": [
    "### 9.用测试集验证模型效果"
   ]
  },
  {
   "cell_type": "code",
   "execution_count": 9,
   "id": "cb79d248",
   "metadata": {},
   "outputs": [
    {
     "name": "stdout",
     "output_type": "stream",
     "text": [
      "313/313 [==============================] - 1s 1ms/step - loss: 0.0771 - accuracy: 0.9770\n",
      "time: 20.14356279373169\n",
      "0.9769999980926514\n",
      "预测值： 7\n",
      "真实值： 7\n"
     ]
    }
   ],
   "source": [
    "test_loss, test_acc = model.evaluate(test_x, test_y, verbose=1)\n",
    "predict = model.predict(test_x)\n",
    "print('time:', end_time - start_time)\n",
    "print(test_acc)\n",
    "print('预测值：', np.argmax(predict[0]))\n",
    "print('真实值：', test_y[0])"
   ]
  }
 ],
 "metadata": {
  "kernelspec": {
   "display_name": "Python 3",
   "language": "python",
   "name": "python3"
  },
  "language_info": {
   "codemirror_mode": {
    "name": "ipython",
    "version": 3
   },
   "file_extension": ".py",
   "mimetype": "text/x-python",
   "name": "python",
   "nbconvert_exporter": "python",
   "pygments_lexer": "ipython3",
   "version": "3.8.8"
  }
 },
 "nbformat": 4,
 "nbformat_minor": 5
}
