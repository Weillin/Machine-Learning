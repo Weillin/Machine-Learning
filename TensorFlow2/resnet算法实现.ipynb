{
 "cells": [
  {
   "cell_type": "markdown",
   "id": "9a48f7bd",
   "metadata": {},
   "source": [
    "## 1.导入依赖包"
   ]
  },
  {
   "cell_type": "code",
   "execution_count": 1,
   "id": "dd135abe",
   "metadata": {},
   "outputs": [],
   "source": [
    "from tensorflow import keras\n",
    "import tensorflow as tf\n",
    "import numpy as np\n",
    "import pandas as pd\n",
    "import os\n",
    "import matplotlib.pyplot as plt\n",
    "from sklearn.model_selection import train_test_split\n",
    "from tensorflow.keras.layers import Conv2D, BatchNormalization, Activation\n",
    "from tensorflow.keras import Model"
   ]
  },
  {
   "cell_type": "markdown",
   "id": "711c42f6",
   "metadata": {},
   "source": [
    "## 2.导入数据集"
   ]
  },
  {
   "cell_type": "code",
   "execution_count": 2,
   "id": "763fd9a7",
   "metadata": {},
   "outputs": [
    {
     "name": "stdout",
     "output_type": "stream",
     "text": [
      "(42000, 785) (28000, 784)\n"
     ]
    }
   ],
   "source": [
    "train = pd.read_csv('../../data/fashion_train.csv')\n",
    "test = pd.read_csv('../../data/fashion_test.csv')\n",
    "print(train.shape, test.shape)"
   ]
  },
  {
   "cell_type": "markdown",
   "id": "ebf8d1cd",
   "metadata": {},
   "source": [
    "## 3.数据预处理"
   ]
  },
  {
   "cell_type": "code",
   "execution_count": 3,
   "id": "e2e93044",
   "metadata": {},
   "outputs": [
    {
     "name": "stdout",
     "output_type": "stream",
     "text": [
      "(33600, 784) (33600, 10)\n"
     ]
    }
   ],
   "source": [
    "input_shape = (28, 28, 1)\n",
    "x = np.array(train.iloc[:, 1:])\n",
    "y = keras.utils.to_categorical(np.array(train.iloc[:, 0]))\n",
    "x_train, x_val, y_train, y_val = train_test_split(x, y, test_size=0.2)\n",
    "print(x_train.shape, y_train.shape)"
   ]
  },
  {
   "cell_type": "code",
   "execution_count": 4,
   "id": "bbf931aa",
   "metadata": {},
   "outputs": [
    {
     "name": "stdout",
     "output_type": "stream",
     "text": [
      "(33600, 28, 28, 1) (33600, 10)\n"
     ]
    }
   ],
   "source": [
    "x_test = np.array(test.iloc[:, 0:])\n",
    "x_train = x_train.reshape(x_train.shape[0], 28, 28, 1)\n",
    "x_val = x_val.reshape(x_val.shape[0], 28, 28, 1)\n",
    "x_test = x_test.reshape(x_test.shape[0], 28, 28, 1)\n",
    "print(x_train.shape, y_train.shape)"
   ]
  },
  {
   "cell_type": "code",
   "execution_count": 5,
   "id": "4e50b547",
   "metadata": {},
   "outputs": [],
   "source": [
    "x_train = x_train.astype('float32')\n",
    "x_val = x_val.astype('float32')\n",
    "x_test = x_test.astype('float32')\n",
    "x_train /= 255\n",
    "x_val /= 255\n",
    "x_test /= 255\n",
    "\n",
    "batch_size = 64\n",
    "classes = 10\n",
    "epochs = 5"
   ]
  },
  {
   "cell_type": "markdown",
   "id": "00cd6e34",
   "metadata": {},
   "source": [
    "## 4.建立模型"
   ]
  },
  {
   "cell_type": "code",
   "execution_count": 6,
   "id": "9e918334",
   "metadata": {},
   "outputs": [],
   "source": [
    "class ResnetBlock(Model):\n",
    "\n",
    "    def __init__(self, filters, strides=1, residual_path=False):\n",
    "        super(ResnetBlock, self).__init__()\n",
    "        self.filters = filters\n",
    "        self.strides = strides\n",
    "        self.residual_path = residual_path\n",
    "\n",
    "        self.c1 = Conv2D(filters, (3, 3), strides=strides, padding='same',\n",
    "                         use_bias=False)\n",
    "        self.b1 = BatchNormalization()\n",
    "        self.a1 = Activation('relu')\n",
    "\n",
    "        self.c2 = Conv2D(filters, (3, 3), strides=1, padding='same', use_bias=False)\n",
    "        self.b2 = BatchNormalization()\n",
    "\n",
    "        if residual_path:\n",
    "            self.down_c1 = Conv2D(filters, (1, 1), strides=strides,\n",
    "                                  padding='same', use_bias=False)\n",
    "            self.down_b1 = BatchNormalization()\n",
    "\n",
    "        self.a2 = Activation('relu')\n",
    "\n",
    "    def call(self, inputs):\n",
    "        residual = inputs\n",
    "        x = self.c1(inputs)\n",
    "        x = self.b1(x)\n",
    "        x = self.a1(x)\n",
    "\n",
    "        x = self.c2(x)\n",
    "        y = self.b2(x)\n",
    "\n",
    "        if self.residual_path:\n",
    "            residual = self.down_c1(inputs)\n",
    "            residual = self.down_b1(residual)\n",
    "\n",
    "        out = self.a2(y + residual)\n",
    "        return out\n",
    "\n",
    "\n",
    "block_list = [2, 2, 2, 2]\n",
    "initial_filters = 64\n",
    "num_blocks = len(block_list)\n",
    "block_list = block_list\n",
    "out_filters = initial_filters\n",
    "blocks = tf.keras.models.Sequential()\n",
    "for block_id in range(len(block_list)):\n",
    "    for layer_id in range(block_list[block_id]):\n",
    "        if block_id != 0 and layer_id == 0:\n",
    "            block = ResnetBlock(out_filters, strides=2, residual_path=True)\n",
    "        else:\n",
    "            block = ResnetBlock(out_filters, residual_path=False)\n",
    "        blocks.add(block)\n",
    "    out_filters *= 2\n",
    "\n",
    "model = tf.keras.models.Sequential([\n",
    "    Conv2D(64, (3, 3), strides=1, padding='same', use_bias=False),\n",
    "    BatchNormalization(),\n",
    "    Activation('relu'),\n",
    "    blocks,\n",
    "    tf.keras.layers.GlobalAveragePooling2D(),\n",
    "    tf.keras.layers.Dense(10, activation='softmax',\n",
    "                          kernel_regularizer=tf.keras.regularizers.l2())\n",
    "])"
   ]
  },
  {
   "cell_type": "markdown",
   "id": "e38986b4",
   "metadata": {},
   "source": [
    "## 5.定义优化器、损失函数和评价指标"
   ]
  },
  {
   "cell_type": "code",
   "execution_count": 7,
   "id": "7a89809a",
   "metadata": {},
   "outputs": [],
   "source": [
    "model.compile(optimizer='adam',\n",
    "              loss='categorical_crossentropy',\n",
    "              metrics=['accuracy'])"
   ]
  },
  {
   "cell_type": "markdown",
   "id": "7c9a8532",
   "metadata": {},
   "source": [
    "## 6.断点续训"
   ]
  },
  {
   "cell_type": "code",
   "execution_count": 8,
   "id": "234ef6b1",
   "metadata": {},
   "outputs": [
    {
     "name": "stdout",
     "output_type": "stream",
     "text": [
      "model loading\n"
     ]
    }
   ],
   "source": [
    "save_path = './checkpoint/inception.ckpt'\n",
    "if os.path.exists(save_path + '.index'):\n",
    "    print('model loading')\n",
    "    model.load_weights(save_path)\n",
    "cp_callback = keras.callbacks.ModelCheckpoint(filepath=save_path,\n",
    "                                              save_weights_only=True,\n",
    "                                              save_best_only=True)\n",
    "callback = tf.keras.callbacks.EarlyStopping(monitor='loss', patience=3)"
   ]
  },
  {
   "cell_type": "markdown",
   "id": "6a3a8f5a",
   "metadata": {},
   "source": [
    "## 7.训练模型"
   ]
  },
  {
   "cell_type": "code",
   "execution_count": 9,
   "id": "7a4a0c91",
   "metadata": {},
   "outputs": [
    {
     "name": "stdout",
     "output_type": "stream",
     "text": [
      "Epoch 1/5\n",
      "525/525 [==============================] - 123s 201ms/step - loss: 0.7257 - accuracy: 0.7829 - val_loss: 2.6478 - val_accuracy: 0.2880\n",
      "Epoch 2/5\n",
      "525/525 [==============================] - 57s 104ms/step - loss: 0.4141 - accuracy: 0.8665 - val_loss: 0.4062 - val_accuracy: 0.8625\n",
      "Epoch 3/5\n",
      "525/525 [==============================] - 36s 68ms/step - loss: 0.3327 - accuracy: 0.8921 - val_loss: 0.3956 - val_accuracy: 0.8683\n",
      "Epoch 4/5\n",
      "525/525 [==============================] - 36s 69ms/step - loss: 0.2868 - accuracy: 0.9054 - val_loss: 0.4175 - val_accuracy: 0.8513\n",
      "Epoch 5/5\n",
      "525/525 [==============================] - 38s 72ms/step - loss: 0.2542 - accuracy: 0.9162 - val_loss: 0.3553 - val_accuracy: 0.8870\n"
     ]
    }
   ],
   "source": [
    "history = model.fit(x_train, y_train,\n",
    "                    batch_size=batch_size,\n",
    "                    epochs=epochs,\n",
    "                    verbose=1,\n",
    "                    validation_data=(x_val, y_val),\n",
    "                    callbacks=[cp_callback, callback])"
   ]
  },
  {
   "cell_type": "markdown",
   "id": "4af19ed2",
   "metadata": {},
   "source": [
    "## 8.预测结果"
   ]
  },
  {
   "cell_type": "code",
   "execution_count": 10,
   "id": "da80b630",
   "metadata": {},
   "outputs": [],
   "source": [
    "result = model.predict(x_test)\n",
    "pred = tf.argmax(result, axis=1)\n",
    "df = pd.DataFrame(pred, columns=['label'])\n",
    "df.to_csv(path_or_buf='Submission.csv', index_label='image_id')"
   ]
  },
  {
   "cell_type": "markdown",
   "id": "918273f7",
   "metadata": {},
   "source": [
    "## 9.模型损失和准确率可视化"
   ]
  },
  {
   "cell_type": "code",
   "execution_count": 11,
   "id": "db796b1a",
   "metadata": {},
   "outputs": [
    {
     "name": "stdout",
     "output_type": "stream",
     "text": [
      "dict_keys(['loss', 'accuracy', 'val_loss', 'val_accuracy'])\n"
     ]
    }
   ],
   "source": [
    "print(history.history.keys())"
   ]
  },
  {
   "cell_type": "code",
   "execution_count": 12,
   "id": "07f051d5",
   "metadata": {},
   "outputs": [
    {
     "data": {
      "image/png": "[encoded data removed]",
      "text/plain": [
       "<Figure size 432x288 with 1 Axes>"
      ]
     },
     "metadata": {
      "needs_background": "light"
     },
     "output_type": "display_data"
    }
   ],
   "source": [
    "plt.plot(history.epoch, history.history.get('loss'), label='loss')\n",
    "plt.plot(history.epoch, history.history.get('val_loss'), label='val_loss')\n",
    "plt.legend()\n",
    "plt.show()"
   ]
  },
  {
   "cell_type": "code",
   "execution_count": 13,
   "id": "7922f332",
   "metadata": {},
   "outputs": [
    {
     "data": {
      "image/png": "[encoded data removed]",
      "text/plain": [
       "<Figure size 432x288 with 1 Axes>"
      ]
     },
     "metadata": {
      "needs_background": "light"
     },
     "output_type": "display_data"
    }
   ],
   "source": [
    "plt.plot(history.epoch, history.history.get('accuracy'), label='acc')\n",
    "plt.plot(history.epoch, history.history.get('val_accuracy'), label='val_acc')\n",
    "plt.legend()\n",
    "plt.show()"
   ]
  }
 ],
 "metadata": {
  "kernelspec": {
   "display_name": "Python 3",
   "language": "python",
   "name": "python3"
  },
  "language_info": {
   "codemirror_mode": {
    "name": "ipython",
    "version": 3
   },
   "file_extension": ".py",
   "mimetype": "text/x-python",
   "name": "python",
   "nbconvert_exporter": "python",
   "pygments_lexer": "ipython3",
   "version": "3.8.8"
  }
 },
 "nbformat": 4,
 "nbformat_minor": 5
}
