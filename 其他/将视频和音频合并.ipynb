{
 "cells": [
  {
   "cell_type": "code",
   "execution_count": null,
   "id": "a475caf7",
   "metadata": {},
   "outputs": [],
   "source": [
    "## 1.导入moviepy库"
   ]
  },
  {
   "cell_type": "code",
   "execution_count": null,
   "id": "3c02d233",
   "metadata": {},
   "outputs": [],
   "source": [
    "from moviepy.editor import VideoFileClip"
   ]
  },
  {
   "cell_type": "code",
   "execution_count": null,
   "id": "d1701be8",
   "metadata": {},
   "outputs": [],
   "source": [
    "## 2.提取a.mp4文件的音频"
   ]
  },
  {
   "cell_type": "code",
   "execution_count": null,
   "id": "a5f59274",
   "metadata": {},
   "outputs": [],
   "source": [
    "audio = VideoFileClip('../../data/a.mp4').audio"
   ]
  },
  {
   "cell_type": "code",
   "execution_count": null,
   "id": "a5aacaeb",
   "metadata": {},
   "outputs": [],
   "source": [
    "## 3.读取b.mp4文件"
   ]
  },
  {
   "cell_type": "code",
   "execution_count": null,
   "id": "54d294c4",
   "metadata": {},
   "outputs": [],
   "source": [
    "video = VideoFileClip('../../data/b.mp4')"
   ]
  },
  {
   "cell_type": "code",
   "execution_count": null,
   "id": "33782f5f",
   "metadata": {},
   "outputs": [],
   "source": [
    "## 4.将a.mp4文件的音频和b.mp4文件的视频进行合并(两个视频的长度必须一样)"
   ]
  },
  {
   "cell_type": "code",
   "execution_count": null,
   "id": "e1a8a61c",
   "metadata": {},
   "outputs": [],
   "source": [
    "resurl = video.set_audio(audio)"
   ]
  },
  {
   "cell_type": "code",
   "execution_count": null,
   "id": "eae92676",
   "metadata": {},
   "outputs": [],
   "source": [
    "## 5.输出新的视频文件"
   ]
  },
  {
   "cell_type": "code",
   "execution_count": null,
   "id": "8bda61c6",
   "metadata": {},
   "outputs": [],
   "source": [
    "resurl.write_videofile('../../data/out.mp4',audio_codec='aac')"
   ]
  }
 ],
 "metadata": {
  "kernelspec": {
   "display_name": "Python 3",
   "language": "python",
   "name": "python3"
  },
  "language_info": {
   "codemirror_mode": {
    "name": "ipython",
    "version": 3
   },
   "file_extension": ".py",
   "mimetype": "text/x-python",
   "name": "python",
   "nbconvert_exporter": "python",
   "pygments_lexer": "ipython3",
   "version": "3.8.8"
  }
 },
 "nbformat": 4,
 "nbformat_minor": 5
}
