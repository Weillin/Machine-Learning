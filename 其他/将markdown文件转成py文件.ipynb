{
 "cells": [
  {
   "cell_type": "code",
   "execution_count": null,
   "id": "50d0d8d8",
   "metadata": {},
   "outputs": [],
   "source": [
    "file_name = 'test.md'\n",
    "out_name = file_name.replace('md', 'py')\n",
    "\n",
    "with open(file_name, 'r', encoding='utf-8') as f:\n",
    "    text = f.read()\n",
    "    text = text.replace('```python', '')\n",
    "    text = text.replace('```', '')\n",
    "\n",
    "with open(out_name, 'w', encoding='utf-8') as f:\n",
    "    f.write(text)"
   ]
  }
 ],
 "metadata": {
  "kernelspec": {
   "display_name": "Python 3",
   "language": "python",
   "name": "python3"
  },
  "language_info": {
   "codemirror_mode": {
    "name": "ipython",
    "version": 3
   },
   "file_extension": ".py",
   "mimetype": "text/x-python",
   "name": "python",
   "nbconvert_exporter": "python",
   "pygments_lexer": "ipython3",
   "version": "3.8.8"
  }
 },
 "nbformat": 4,
 "nbformat_minor": 5
}
