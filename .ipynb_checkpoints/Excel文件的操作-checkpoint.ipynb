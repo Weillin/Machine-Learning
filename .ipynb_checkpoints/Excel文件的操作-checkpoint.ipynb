{
 "cells": [
  {
   "cell_type": "markdown",
   "metadata": {},
   "source": [
    "# 读取Excel数据"
   ]
  },
  {
   "cell_type": "code",
   "execution_count": 1,
   "metadata": {},
   "outputs": [
    {
     "name": "stdout",
     "output_type": "stream",
     "text": [
      "文件路径：./data/人口.xlsx\n",
      "表格名称：['Sheet1']\n",
      "tabel name: Sheet1\n",
      "table row: 7, table col: 3\n",
      "row info: ['城市', '人口（万）', '日期']\n",
      "col info: ['城市', '天津市', '上海市', '北京市', '重庆市', '深圳市', '成都市']\n",
      "All data: 城市\n",
      "one row: [text:'城市', text:'人口（万）', text:'日期']\n",
      "one row: [text:'城市', text:'人口（万）', text:'日期']\n",
      "one row value: 城市\n",
      "one col: [text:'城市', text:'天津市', text:'上海市', text:'北京市', text:'重庆市', text:'深圳市', text:'成都市']\n",
      "one col value: 城市\n",
      "data type: array('B', [1, 1, 1])\n"
     ]
    }
   ],
   "source": [
    "import xlrd, xlwt\n",
    "from argparse import ArgumentParser\n",
    "\n",
    "# def get_path():\n",
    "#     path = 'C:\\Users\\芳宏\\Desktop\\ML\\data/人口.xlsx'\n",
    "#     parser = ArgumentParser()\n",
    "#     parser.add_argument('--path', default=path)\n",
    "#     args = parser.parse_args()\n",
    "#     path = args.path\n",
    "#     return path\n",
    "\n",
    "def read_excel():\n",
    "    path = './data/人口.xlsx'\n",
    "    print('文件路径：{}'.format(path))\n",
    "    workbook = xlrd.open_workbook(path)\n",
    "    sheet_names = workbook.sheet_names()\n",
    "    print('表格名称：{}'.format(sheet_names))\n",
    "    sheets = workbook.sheets()\n",
    "    table = sheets[0]\n",
    "    table_name = table.name\n",
    "    print('tabel name: {}'.format(table_name))\n",
    "    table_row = table.nrows\n",
    "    table_col = table.ncols\n",
    "    print('table row: {}, table col: {}'.format(table_row, table_col))\n",
    "    row_num = 0\n",
    "    row_info = table.row_values(row_num)\n",
    "    print('row info: {}'.format(row_info))\n",
    "    col_num = 0\n",
    "    col_info = table.col_values(col_num)\n",
    "    print('col info: {}'.format(col_info))\n",
    "    cell_all = table.cell(row_num, col_num).value\n",
    "    print('All data: {}'.format(cell_all))\n",
    "    one_A1 = table.row(row_num)\n",
    "    print('one row: {}'.format(one_A1))\n",
    "    one_row = table.row(row_num)\n",
    "    print('one row: {}'.format(one_row))\n",
    "    one_row_value = table.row(row_num)[col_num].value\n",
    "    print('one row value: {}'.format(one_row_value))\n",
    "    one_col = table.col(col_num)\n",
    "    print('one col: {}'.format(one_col))\n",
    "    one_col_value = table.col(col_num)[row_num].value\n",
    "    print('one col value: {}'.format(one_col_value))\n",
    "    data_type = table.row_types(row_num)\n",
    "    print('data type: {}'.format(data_type))\n",
    "    \n",
    "if __name__ == '__main__':\n",
    "    read_excel()"
   ]
  },
  {
   "cell_type": "markdown",
   "metadata": {},
   "source": [
    "# 写入Excel数据"
   ]
  },
  {
   "cell_type": "code",
   "execution_count": 4,
   "metadata": {},
   "outputs": [
    {
     "name": "stdout",
     "output_type": "stream",
     "text": [
      "save successfully!\n"
     ]
    }
   ],
   "source": [
    "import xlwt\n",
    "\n",
    "def write_excel():\n",
    "    workbook = xlwt.Workbook()\n",
    "    sheet = workbook.add_sheet('Sheet1', cell_overwrite_ok=True)\n",
    "    row_num = 0\n",
    "    col_num = 0\n",
    "#     try:\n",
    "    sheet.write(row_num, col_num, 25)\n",
    "    sheet.write(row_num, col_num, 250)\n",
    "    workbook.save('save.xlsx')\n",
    "    print('save successfully!')\n",
    "#     except:\n",
    "#         print('save failed!')\n",
    "if __name__ == '__main__':\n",
    "    write_excel()"
   ]
  },
  {
   "cell_type": "code",
   "execution_count": 2,
   "metadata": {},
   "outputs": [
    {
     "name": "stdout",
     "output_type": "stream",
     "text": [
      "<os._wrap_close object at 0x00000256F64F01C0>\n",
      "\n",
      "Windows IP 配置\n",
      "\n",
      "\n",
      "以太网适配器 以太网:\n",
      "\n",
      "   媒体状态  . . . . . . . . . . . . : 媒体已断开连接\n",
      "   连接特定的 DNS 后缀 . . . . . . . : \n",
      "\n",
      "无线局域网适配器 WLAN:\n",
      "\n",
      "   媒体状态  . . . . . . . . . . . . : 媒体已断开连接\n",
      "   连接特定的 DNS 后缀 . . . . . . . : huawei.com\n",
      "\n",
      "无线局域网适配器 本地连接* 1:\n",
      "\n",
      "   媒体状态  . . . . . . . . . . . . : 媒体已断开连接\n",
      "   连接特定的 DNS 后缀 . . . . . . . : \n",
      "\n",
      "无线局域网适配器 本地连接* 2:\n",
      "\n",
      "   媒体状态  . . . . . . . . . . . . : 媒体已断开连接\n",
      "   连接特定的 DNS 后缀 . . . . . . . : \n",
      "\n"
     ]
    }
   ],
   "source": [
    "import os\n",
    "result = os.popen('ipconfig')\n",
    "print(result)\n",
    "context = result.read()\n",
    "print(context)\n",
    "# for line in context.splitlines():\n",
    "#     print(line)\n",
    "# result.close()"
   ]
  },
  {
   "cell_type": "code",
   "execution_count": null,
   "metadata": {},
   "outputs": [],
   "source": []
  }
 ],
 "metadata": {
  "kernelspec": {
   "display_name": "Python 3",
   "language": "python",
   "name": "python3"
  },
  "language_info": {
   "codemirror_mode": {
    "name": "ipython",
    "version": 3
   },
   "file_extension": ".py",
   "mimetype": "text/x-python",
   "name": "python",
   "nbconvert_exporter": "python",
   "pygments_lexer": "ipython3",
   "version": "3.8.5"
  }
 },
 "nbformat": 4,
 "nbformat_minor": 4
}
