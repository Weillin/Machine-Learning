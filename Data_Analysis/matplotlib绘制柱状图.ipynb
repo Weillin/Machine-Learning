{
 "cells": [
  {
   "cell_type": "markdown",
   "id": "b85b84e7",
   "metadata": {},
   "source": [
    "## 示例一：垂直柱状图"
   ]
  },
  {
   "cell_type": "code",
   "execution_count": 1,
   "id": "9ded7cc9",
   "metadata": {},
   "outputs": [
    {
     "data": {
      "image/png": "[encoded data removed]",
      "text/plain": [
       "<Figure size 576x432 with 1 Axes>"
      ]
     },
     "metadata": {
      "needs_background": "light"
     },
     "output_type": "display_data"
    }
   ],
   "source": [
    "# 1.导入依赖包\n",
    "import matplotlib.pyplot as plt\n",
    "\n",
    "# 2.设置在线显示图像\n",
    "%matplotlib inline\n",
    "\n",
    "# 3.设置字体\n",
    "plt.rcParams['font.sans-serif'] = ['KaiTi']\n",
    "\n",
    "# 4.定义Y值\n",
    "tem = [32.45, 34.344, 37.345, 41, 35]\n",
    "\n",
    "# 5.设置画布尺寸\n",
    "f, ax = plt.subplots(figsize=(8, 6))\n",
    "\n",
    "# 6.绘图\n",
    "# 参数：X， Y， 对齐方式， 颜色， 透明度\n",
    "plt.bar(range(len(tem)), tem, align='center', color='steelblue', alpha=0.8)\n",
    "\n",
    "# 7.标题\n",
    "plt.title('城市最高温度')\n",
    "\n",
    "# 8.y轴标签\n",
    "plt.ylabel('温度')\n",
    "\n",
    "# 9.x轴刻度\n",
    "# 参数： 原值， 替换标签， 旋转角度\n",
    "plt.xticks(range(len(tem)), ['深圳市','上海市','南宁市','天津市','重庆市'],rotation=0)\n",
    "\n",
    "# 10.y轴上下限\n",
    "plt.ylim([20, 43])\n",
    "\n",
    "# 11.添加数据标注\n",
    "# 参数： x坐标,  y坐标， 值， 对齐方式\n",
    "for x, y in enumerate(tem):\n",
    "    plt.text(x, y + 0.3, '%s' % round(y, 1), ha='center')\n",
    "\n",
    "# 12.保存图片\n",
    "# 参数： 图片保存路径， 去除周边空白部分， 分辨率\n",
    "f.savefig('城市最高温度1.png', bbox_inches='tight', dpi=300)\n",
    "\n",
    "# 13.显示图片\n",
    "plt.show()"
   ]
  },
  {
   "cell_type": "markdown",
   "id": "d7fbd1c7",
   "metadata": {},
   "source": [
    "## 示例二：水平柱状图"
   ]
  },
  {
   "cell_type": "code",
   "execution_count": 2,
   "id": "5959f9ea",
   "metadata": {},
   "outputs": [
    {
     "data": {
      "image/png": "[encoded data removed]",
      "text/plain": [
       "<Figure size 504x432 with 1 Axes>"
      ]
     },
     "metadata": {
      "needs_background": "light"
     },
     "output_type": "display_data"
    }
   ],
   "source": [
    "# 1.导入依赖包\n",
    "import matplotlib.pyplot as plt\n",
    "\n",
    "# 2.设置在线显示\n",
    "%matplotlib inline\n",
    "\n",
    "# 3.设置字体\n",
    "plt.rcParams['font.sans-serif'] = ['KaiTi']\n",
    "\n",
    "# 4.定义Y\n",
    "price = [35.5, 37.9, 40, 45.9, 49.34]\n",
    "\n",
    "# 5.设置画布大小\n",
    "f, ax = plt.subplots(figsize=(7, 6))\n",
    "\n",
    "# 6.绘图\n",
    "barh = plt.barh(range(len(price)), price, align='center', color='cyan', alpha=0.8)\n",
    "\n",
    "# 7.设置最上面一个柱状颜色\n",
    "barh[-1].set_color('dodgerblue')\n",
    "\n",
    "# 8.设置标题\n",
    "plt.title('城市最高温度')\n",
    "\n",
    "# 9.设置x轴坐标\n",
    "plt.xlabel('温度')\n",
    "\n",
    "# 10.设置y轴坐标\n",
    "plt.ylabel('城市')\n",
    "\n",
    "# 11.设置y轴刻度标签\n",
    "plt.yticks(range(5), ['深圳市', '上海市', '南宁市', '天津市', '重庆市'])\n",
    "\n",
    "# 12.设置x轴上下限\n",
    "plt.xlim([32, 52])\n",
    "\n",
    "# 13.隐藏上面边框\n",
    "ax.spines['top'].set_visible(False)\n",
    "\n",
    "# 14.隐藏下面边框\n",
    "ax.spines['bottom'].set_visible(False)\n",
    "\n",
    "# 15.隐藏左边边框\n",
    "ax.spines['left'].set_visible(False)\n",
    "\n",
    "# 16.隐藏右边边框\n",
    "ax.spines['right'].set_visible(False)\n",
    "\n",
    "# 17.隐藏x轴刻度\n",
    "ax.set_xticks([])\n",
    "\n",
    "# 18.添加数据标注\n",
    "for x, y in enumerate(price):\n",
    "    plt.text(y + 0.3, x, '%s' % y, va='center')\n",
    "\n",
    "# 19.保存图片\n",
    "f.savefig('城市最高温度2.png', bbox_inches='tight', dpi=300)\n",
    "\n",
    "# 20.显示图片\n",
    "plt.show()"
   ]
  }
 ],
 "metadata": {
  "kernelspec": {
   "display_name": "Python 3",
   "language": "python",
   "name": "python3"
  },
  "language_info": {
   "codemirror_mode": {
    "name": "ipython",
    "version": 3
   },
   "file_extension": ".py",
   "mimetype": "text/x-python",
   "name": "python",
   "nbconvert_exporter": "python",
   "pygments_lexer": "ipython3",
   "version": "3.8.8"
  }
 },
 "nbformat": 4,
 "nbformat_minor": 5
}
