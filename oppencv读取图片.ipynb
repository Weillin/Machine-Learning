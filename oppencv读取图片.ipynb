{
 "cells": [
  {
   "cell_type": "code",
   "execution_count": 1,
   "metadata": {},
   "outputs": [
    {
     "name": "stdout",
     "output_type": "stream",
     "text": [
      "img_type: <class 'numpy.ndarray'>\n",
      "img_shape: (1600, 2560, 3)\n",
      "img: [[[224 200 176]\n",
      "  [224 200 176]\n",
      "  [224 200 176]\n",
      "  ...\n",
      "  [212 178 149]\n",
      "  [212 178 149]\n",
      "  [212 178 149]]\n",
      "\n",
      " [[224 200 176]\n",
      "  [224 200 176]\n",
      "  [224 200 176]\n",
      "  ...\n",
      "  [213 179 150]\n",
      "  [213 179 150]\n",
      "  [213 179 150]]\n",
      "\n",
      " [[224 200 176]\n",
      "  [224 200 176]\n",
      "  [224 200 176]\n",
      "  ...\n",
      "  [214 180 151]\n",
      "  [215 181 152]\n",
      "  [215 181 152]]\n",
      "\n",
      " ...\n",
      "\n",
      " [[ 30  28  28]\n",
      "  [ 34  32  32]\n",
      "  [ 41  39  39]\n",
      "  ...\n",
      "  [ 14  13  15]\n",
      "  [ 10   9  11]\n",
      "  [  8   7   9]]\n",
      "\n",
      " [[ 33  31  31]\n",
      "  [ 34  32  32]\n",
      "  [ 36  34  34]\n",
      "  ...\n",
      "  [ 15  14  16]\n",
      "  [ 14  13  15]\n",
      "  [ 13  12  14]]\n",
      "\n",
      " [[ 37  35  35]\n",
      "  [ 35  33  33]\n",
      "  [ 35  33  33]\n",
      "  ...\n",
      "  [ 12  11  13]\n",
      "  [ 14  13  15]\n",
      "  [ 15  14  16]]]\n"
     ]
    }
   ],
   "source": [
    "import cv2\n",
    "\n",
    "def read_img(path):\n",
    "    img = cv2.imread(path)\n",
    "    return type(img), img.shape, img\n",
    "\n",
    "if __name__ == '__main__':\n",
    "    path = './data/img1.jpg'\n",
    "    img_type, img_shape, img = read_img(path)\n",
    "    print('img_type: {}'.format(img_type))\n",
    "    print('img_shape: {}'.format(img_shape))\n",
    "    print('img: {}'.format(img))"
   ]
  }
 ],
 "metadata": {
  "kernelspec": {
   "display_name": "Python 3",
   "language": "python",
   "name": "python3"
  },
  "language_info": {
   "codemirror_mode": {
    "name": "ipython",
    "version": 3
   },
   "file_extension": ".py",
   "mimetype": "text/x-python",
   "name": "python",
   "nbconvert_exporter": "python",
   "pygments_lexer": "ipython3",
   "version": "3.8.5"
  }
 },
 "nbformat": 4,
 "nbformat_minor": 4
}
